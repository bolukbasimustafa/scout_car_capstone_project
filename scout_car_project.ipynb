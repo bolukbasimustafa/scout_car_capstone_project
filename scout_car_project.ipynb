{
 "cells": [
  {
   "cell_type": "code",
   "execution_count": 1,
   "id": "3028b0ec",
   "metadata": {},
   "outputs": [],
   "source": [
    "import pandas as pd"
   ]
  },
  {
   "cell_type": "code",
   "execution_count": 38,
   "id": "cf688022",
   "metadata": {},
   "outputs": [],
   "source": [
    "scout_car = pd.read_json(\"scout_car.json\",  lines=True)\n",
    "# we have to read this file line by line\n",
    "# bu dosyayı satır satır okuyoruz"
   ]
  },
  {
   "cell_type": "code",
   "execution_count": 39,
   "id": "9848baee",
   "metadata": {},
   "outputs": [
    {
     "data": {
      "text/html": [
       "<div>\n",
       "<style scoped>\n",
       "    .dataframe tbody tr th:only-of-type {\n",
       "        vertical-align: middle;\n",
       "    }\n",
       "\n",
       "    .dataframe tbody tr th {\n",
       "        vertical-align: top;\n",
       "    }\n",
       "\n",
       "    .dataframe thead th {\n",
       "        text-align: right;\n",
       "    }\n",
       "</style>\n",
       "<table border=\"1\" class=\"dataframe\">\n",
       "  <thead>\n",
       "    <tr style=\"text-align: right;\">\n",
       "      <th></th>\n",
       "      <th>url</th>\n",
       "      <th>make_model</th>\n",
       "      <th>short_description</th>\n",
       "      <th>body_type</th>\n",
       "      <th>price</th>\n",
       "      <th>vat</th>\n",
       "      <th>km</th>\n",
       "      <th>registration</th>\n",
       "      <th>prev_owner</th>\n",
       "      <th>kW</th>\n",
       "      <th>...</th>\n",
       "      <th>description</th>\n",
       "      <th>Emission Label</th>\n",
       "      <th>Gears</th>\n",
       "      <th>Country version</th>\n",
       "      <th>Electricity consumption</th>\n",
       "      <th>Last Service Date</th>\n",
       "      <th>Other Fuel Types</th>\n",
       "      <th>Availability</th>\n",
       "      <th>Last Timing Belt Service Date</th>\n",
       "      <th>Available from</th>\n",
       "    </tr>\n",
       "  </thead>\n",
       "  <tbody>\n",
       "    <tr>\n",
       "      <th>0</th>\n",
       "      <td>https://www.autoscout24.com//offers/audi-a1-sp...</td>\n",
       "      <td>Audi A1</td>\n",
       "      <td>Sportback 1.4 TDI S-tronic Xenon Navi Klima</td>\n",
       "      <td>Sedans</td>\n",
       "      <td>15770</td>\n",
       "      <td>VAT deductible</td>\n",
       "      <td>56,013 km</td>\n",
       "      <td>01/2016</td>\n",
       "      <td>2 previous owners</td>\n",
       "      <td>NaN</td>\n",
       "      <td>...</td>\n",
       "      <td>[\\n, Sicherheit:,  , Deaktivierung für Beifahr...</td>\n",
       "      <td>NaN</td>\n",
       "      <td>NaN</td>\n",
       "      <td>NaN</td>\n",
       "      <td>NaN</td>\n",
       "      <td>NaN</td>\n",
       "      <td>NaN</td>\n",
       "      <td>NaN</td>\n",
       "      <td>NaN</td>\n",
       "      <td>NaN</td>\n",
       "    </tr>\n",
       "    <tr>\n",
       "      <th>1</th>\n",
       "      <td>https://www.autoscout24.com//offers/audi-a1-1-...</td>\n",
       "      <td>Audi A1</td>\n",
       "      <td>1.8 TFSI sport</td>\n",
       "      <td>Sedans</td>\n",
       "      <td>14500</td>\n",
       "      <td>Price negotiable</td>\n",
       "      <td>80,000 km</td>\n",
       "      <td>03/2017</td>\n",
       "      <td>None</td>\n",
       "      <td>NaN</td>\n",
       "      <td>...</td>\n",
       "      <td>[\\nLangstreckenfahrzeug daher die hohe Kilomet...</td>\n",
       "      <td>[\\n4 (Green)\\n]</td>\n",
       "      <td>[\\n7\\n]</td>\n",
       "      <td>NaN</td>\n",
       "      <td>NaN</td>\n",
       "      <td>NaN</td>\n",
       "      <td>NaN</td>\n",
       "      <td>NaN</td>\n",
       "      <td>NaN</td>\n",
       "      <td>NaN</td>\n",
       "    </tr>\n",
       "    <tr>\n",
       "      <th>2</th>\n",
       "      <td>https://www.autoscout24.com//offers/audi-a1-sp...</td>\n",
       "      <td>Audi A1</td>\n",
       "      <td>Sportback 1.6 TDI S tronic Einparkhilfe plus+m...</td>\n",
       "      <td>Sedans</td>\n",
       "      <td>14640</td>\n",
       "      <td>VAT deductible</td>\n",
       "      <td>83,450 km</td>\n",
       "      <td>02/2016</td>\n",
       "      <td>1 previous owner</td>\n",
       "      <td>NaN</td>\n",
       "      <td>...</td>\n",
       "      <td>[\\n, Fahrzeug-Nummer: AM-95365,  , Ehem. UPE 2...</td>\n",
       "      <td>[\\n4 (Green)\\n]</td>\n",
       "      <td>NaN</td>\n",
       "      <td>NaN</td>\n",
       "      <td>NaN</td>\n",
       "      <td>NaN</td>\n",
       "      <td>NaN</td>\n",
       "      <td>NaN</td>\n",
       "      <td>NaN</td>\n",
       "      <td>NaN</td>\n",
       "    </tr>\n",
       "    <tr>\n",
       "      <th>3</th>\n",
       "      <td>https://www.autoscout24.com//offers/audi-a1-1-...</td>\n",
       "      <td>Audi A1</td>\n",
       "      <td>1.4 TDi Design S tronic</td>\n",
       "      <td>Sedans</td>\n",
       "      <td>14500</td>\n",
       "      <td>None</td>\n",
       "      <td>73,000 km</td>\n",
       "      <td>08/2016</td>\n",
       "      <td>1 previous owner</td>\n",
       "      <td>NaN</td>\n",
       "      <td>...</td>\n",
       "      <td>[\\nAudi A1: , - 1e eigenaar , - Perfecte staat...</td>\n",
       "      <td>NaN</td>\n",
       "      <td>[\\n6\\n]</td>\n",
       "      <td>NaN</td>\n",
       "      <td>NaN</td>\n",
       "      <td>NaN</td>\n",
       "      <td>NaN</td>\n",
       "      <td>NaN</td>\n",
       "      <td>NaN</td>\n",
       "      <td>NaN</td>\n",
       "    </tr>\n",
       "    <tr>\n",
       "      <th>4</th>\n",
       "      <td>https://www.autoscout24.com//offers/audi-a1-sp...</td>\n",
       "      <td>Audi A1</td>\n",
       "      <td>Sportback 1.4 TDI S-Tronic S-Line Ext. admired...</td>\n",
       "      <td>Sedans</td>\n",
       "      <td>16790</td>\n",
       "      <td>None</td>\n",
       "      <td>16,200 km</td>\n",
       "      <td>05/2016</td>\n",
       "      <td>1 previous owner</td>\n",
       "      <td>NaN</td>\n",
       "      <td>...</td>\n",
       "      <td>[\\n, Technik &amp; Sicherheit:, Xenon plus, Klimaa...</td>\n",
       "      <td>NaN</td>\n",
       "      <td>NaN</td>\n",
       "      <td>[\\nGermany\\n]</td>\n",
       "      <td>NaN</td>\n",
       "      <td>NaN</td>\n",
       "      <td>NaN</td>\n",
       "      <td>NaN</td>\n",
       "      <td>NaN</td>\n",
       "      <td>NaN</td>\n",
       "    </tr>\n",
       "    <tr>\n",
       "      <th>...</th>\n",
       "      <td>...</td>\n",
       "      <td>...</td>\n",
       "      <td>...</td>\n",
       "      <td>...</td>\n",
       "      <td>...</td>\n",
       "      <td>...</td>\n",
       "      <td>...</td>\n",
       "      <td>...</td>\n",
       "      <td>...</td>\n",
       "      <td>...</td>\n",
       "      <td>...</td>\n",
       "      <td>...</td>\n",
       "      <td>...</td>\n",
       "      <td>...</td>\n",
       "      <td>...</td>\n",
       "      <td>...</td>\n",
       "      <td>...</td>\n",
       "      <td>...</td>\n",
       "      <td>...</td>\n",
       "      <td>...</td>\n",
       "      <td>...</td>\n",
       "    </tr>\n",
       "    <tr>\n",
       "      <th>15914</th>\n",
       "      <td>https://www.autoscout24.com//offers/renault-es...</td>\n",
       "      <td>Renault Espace</td>\n",
       "      <td>Blue dCi 200CV EDC Executive 4Control</td>\n",
       "      <td>Van</td>\n",
       "      <td>39950</td>\n",
       "      <td>VAT deductible</td>\n",
       "      <td>- km</td>\n",
       "      <td>-/-</td>\n",
       "      <td>None</td>\n",
       "      <td>NaN</td>\n",
       "      <td>...</td>\n",
       "      <td>[\\nVettura visionabile nella sede in Via Roma ...</td>\n",
       "      <td>NaN</td>\n",
       "      <td>[\\n6\\n]</td>\n",
       "      <td>NaN</td>\n",
       "      <td>NaN</td>\n",
       "      <td>NaN</td>\n",
       "      <td>NaN</td>\n",
       "      <td>NaN</td>\n",
       "      <td>NaN</td>\n",
       "      <td>NaN</td>\n",
       "    </tr>\n",
       "    <tr>\n",
       "      <th>15915</th>\n",
       "      <td>https://www.autoscout24.com//offers/renault-es...</td>\n",
       "      <td>Renault Espace</td>\n",
       "      <td>TCe 225 EDC GPF LIM Deluxe Pano,RFK</td>\n",
       "      <td>Van</td>\n",
       "      <td>39885</td>\n",
       "      <td>VAT deductible</td>\n",
       "      <td>9,900 km</td>\n",
       "      <td>01/2019</td>\n",
       "      <td>1 previous owner</td>\n",
       "      <td>NaN</td>\n",
       "      <td>...</td>\n",
       "      <td>[\\nDach: Panorama-Glas-Schiebedach, Lackierung...</td>\n",
       "      <td>NaN</td>\n",
       "      <td>[\\n7\\n]</td>\n",
       "      <td>[\\nGermany\\n]</td>\n",
       "      <td>NaN</td>\n",
       "      <td>NaN</td>\n",
       "      <td>[[], [], []]</td>\n",
       "      <td>\\nin 5 days from ordering\\n</td>\n",
       "      <td>NaN</td>\n",
       "      <td>NaN</td>\n",
       "    </tr>\n",
       "    <tr>\n",
       "      <th>15916</th>\n",
       "      <td>https://www.autoscout24.com//offers/renault-es...</td>\n",
       "      <td>Renault Espace</td>\n",
       "      <td>Blue dCi 200 EDC Initiale Paris Leder LED Navi...</td>\n",
       "      <td>Van</td>\n",
       "      <td>39875</td>\n",
       "      <td>VAT deductible</td>\n",
       "      <td>15 km</td>\n",
       "      <td>03/2019</td>\n",
       "      <td>1 previous owner</td>\n",
       "      <td>NaN</td>\n",
       "      <td>...</td>\n",
       "      <td>[\\n, Getriebe:,  Automatik, Technik:,  Bordcom...</td>\n",
       "      <td>NaN</td>\n",
       "      <td>[\\n6\\n]</td>\n",
       "      <td>[\\nAustria\\n]</td>\n",
       "      <td>NaN</td>\n",
       "      <td>NaN</td>\n",
       "      <td>NaN</td>\n",
       "      <td>\\nin 120 days from ordering\\n</td>\n",
       "      <td>NaN</td>\n",
       "      <td>NaN</td>\n",
       "    </tr>\n",
       "    <tr>\n",
       "      <th>15917</th>\n",
       "      <td>https://www.autoscout24.com//offers/renault-es...</td>\n",
       "      <td>Renault Espace</td>\n",
       "      <td>Blue dCi 200CV EDC Business , NUOVA DA IMMATRI...</td>\n",
       "      <td>Van</td>\n",
       "      <td>39700</td>\n",
       "      <td>VAT deductible</td>\n",
       "      <td>10 km</td>\n",
       "      <td>06/2019</td>\n",
       "      <td>None</td>\n",
       "      <td>NaN</td>\n",
       "      <td>...</td>\n",
       "      <td>[\\nDEK:[2691331], Renault Espace Blue dCi 200C...</td>\n",
       "      <td>NaN</td>\n",
       "      <td>[\\n6\\n]</td>\n",
       "      <td>NaN</td>\n",
       "      <td>NaN</td>\n",
       "      <td>NaN</td>\n",
       "      <td>NaN</td>\n",
       "      <td>NaN</td>\n",
       "      <td>NaN</td>\n",
       "      <td>NaN</td>\n",
       "    </tr>\n",
       "    <tr>\n",
       "      <th>15918</th>\n",
       "      <td>https://www.autoscout24.com//offers/renault-es...</td>\n",
       "      <td>Renault Espace</td>\n",
       "      <td>INITIALE PARIS TCe 225 EDC GPF NAVI SHZ AUX</td>\n",
       "      <td>Van</td>\n",
       "      <td>40999</td>\n",
       "      <td>VAT deductible</td>\n",
       "      <td>- km</td>\n",
       "      <td>01/2019</td>\n",
       "      <td>1 previous owner</td>\n",
       "      <td>NaN</td>\n",
       "      <td>...</td>\n",
       "      <td>[\\n, Sicherheit Airbags:,  , Seitenairbag,  , ...</td>\n",
       "      <td>[\\n4 (Green)\\n]</td>\n",
       "      <td>NaN</td>\n",
       "      <td>[\\nGermany\\n]</td>\n",
       "      <td>NaN</td>\n",
       "      <td>NaN</td>\n",
       "      <td>NaN</td>\n",
       "      <td>NaN</td>\n",
       "      <td>NaN</td>\n",
       "      <td>NaN</td>\n",
       "    </tr>\n",
       "  </tbody>\n",
       "</table>\n",
       "<p>15919 rows × 54 columns</p>\n",
       "</div>"
      ],
      "text/plain": [
       "                                                     url      make_model  \\\n",
       "0      https://www.autoscout24.com//offers/audi-a1-sp...         Audi A1   \n",
       "1      https://www.autoscout24.com//offers/audi-a1-1-...         Audi A1   \n",
       "2      https://www.autoscout24.com//offers/audi-a1-sp...         Audi A1   \n",
       "3      https://www.autoscout24.com//offers/audi-a1-1-...         Audi A1   \n",
       "4      https://www.autoscout24.com//offers/audi-a1-sp...         Audi A1   \n",
       "...                                                  ...             ...   \n",
       "15914  https://www.autoscout24.com//offers/renault-es...  Renault Espace   \n",
       "15915  https://www.autoscout24.com//offers/renault-es...  Renault Espace   \n",
       "15916  https://www.autoscout24.com//offers/renault-es...  Renault Espace   \n",
       "15917  https://www.autoscout24.com//offers/renault-es...  Renault Espace   \n",
       "15918  https://www.autoscout24.com//offers/renault-es...  Renault Espace   \n",
       "\n",
       "                                       short_description body_type  price  \\\n",
       "0            Sportback 1.4 TDI S-tronic Xenon Navi Klima    Sedans  15770   \n",
       "1                                         1.8 TFSI sport    Sedans  14500   \n",
       "2      Sportback 1.6 TDI S tronic Einparkhilfe plus+m...    Sedans  14640   \n",
       "3                                1.4 TDi Design S tronic    Sedans  14500   \n",
       "4      Sportback 1.4 TDI S-Tronic S-Line Ext. admired...    Sedans  16790   \n",
       "...                                                  ...       ...    ...   \n",
       "15914              Blue dCi 200CV EDC Executive 4Control       Van  39950   \n",
       "15915                TCe 225 EDC GPF LIM Deluxe Pano,RFK       Van  39885   \n",
       "15916  Blue dCi 200 EDC Initiale Paris Leder LED Navi...       Van  39875   \n",
       "15917  Blue dCi 200CV EDC Business , NUOVA DA IMMATRI...       Van  39700   \n",
       "15918        INITIALE PARIS TCe 225 EDC GPF NAVI SHZ AUX       Van  40999   \n",
       "\n",
       "                    vat         km registration         prev_owner  kW  ...  \\\n",
       "0        VAT deductible  56,013 km      01/2016  2 previous owners NaN  ...   \n",
       "1      Price negotiable  80,000 km      03/2017               None NaN  ...   \n",
       "2        VAT deductible  83,450 km      02/2016   1 previous owner NaN  ...   \n",
       "3                  None  73,000 km      08/2016   1 previous owner NaN  ...   \n",
       "4                  None  16,200 km      05/2016   1 previous owner NaN  ...   \n",
       "...                 ...        ...          ...                ...  ..  ...   \n",
       "15914    VAT deductible       - km          -/-               None NaN  ...   \n",
       "15915    VAT deductible   9,900 km      01/2019   1 previous owner NaN  ...   \n",
       "15916    VAT deductible      15 km      03/2019   1 previous owner NaN  ...   \n",
       "15917    VAT deductible      10 km      06/2019               None NaN  ...   \n",
       "15918    VAT deductible       - km      01/2019   1 previous owner NaN  ...   \n",
       "\n",
       "                                             description   Emission Label  \\\n",
       "0      [\\n, Sicherheit:,  , Deaktivierung für Beifahr...              NaN   \n",
       "1      [\\nLangstreckenfahrzeug daher die hohe Kilomet...  [\\n4 (Green)\\n]   \n",
       "2      [\\n, Fahrzeug-Nummer: AM-95365,  , Ehem. UPE 2...  [\\n4 (Green)\\n]   \n",
       "3      [\\nAudi A1: , - 1e eigenaar , - Perfecte staat...              NaN   \n",
       "4      [\\n, Technik & Sicherheit:, Xenon plus, Klimaa...              NaN   \n",
       "...                                                  ...              ...   \n",
       "15914  [\\nVettura visionabile nella sede in Via Roma ...              NaN   \n",
       "15915  [\\nDach: Panorama-Glas-Schiebedach, Lackierung...              NaN   \n",
       "15916  [\\n, Getriebe:,  Automatik, Technik:,  Bordcom...              NaN   \n",
       "15917  [\\nDEK:[2691331], Renault Espace Blue dCi 200C...              NaN   \n",
       "15918  [\\n, Sicherheit Airbags:,  , Seitenairbag,  , ...  [\\n4 (Green)\\n]   \n",
       "\n",
       "         Gears Country version Electricity consumption Last Service Date  \\\n",
       "0          NaN             NaN                     NaN               NaN   \n",
       "1      [\\n7\\n]             NaN                     NaN               NaN   \n",
       "2          NaN             NaN                     NaN               NaN   \n",
       "3      [\\n6\\n]             NaN                     NaN               NaN   \n",
       "4          NaN   [\\nGermany\\n]                     NaN               NaN   \n",
       "...        ...             ...                     ...               ...   \n",
       "15914  [\\n6\\n]             NaN                     NaN               NaN   \n",
       "15915  [\\n7\\n]   [\\nGermany\\n]                     NaN               NaN   \n",
       "15916  [\\n6\\n]   [\\nAustria\\n]                     NaN               NaN   \n",
       "15917  [\\n6\\n]             NaN                     NaN               NaN   \n",
       "15918      NaN   [\\nGermany\\n]                     NaN               NaN   \n",
       "\n",
       "      Other Fuel Types                   Availability  \\\n",
       "0                  NaN                            NaN   \n",
       "1                  NaN                            NaN   \n",
       "2                  NaN                            NaN   \n",
       "3                  NaN                            NaN   \n",
       "4                  NaN                            NaN   \n",
       "...                ...                            ...   \n",
       "15914              NaN                            NaN   \n",
       "15915     [[], [], []]    \\nin 5 days from ordering\\n   \n",
       "15916              NaN  \\nin 120 days from ordering\\n   \n",
       "15917              NaN                            NaN   \n",
       "15918              NaN                            NaN   \n",
       "\n",
       "      Last Timing Belt Service Date Available from  \n",
       "0                               NaN            NaN  \n",
       "1                               NaN            NaN  \n",
       "2                               NaN            NaN  \n",
       "3                               NaN            NaN  \n",
       "4                               NaN            NaN  \n",
       "...                             ...            ...  \n",
       "15914                           NaN            NaN  \n",
       "15915                           NaN            NaN  \n",
       "15916                           NaN            NaN  \n",
       "15917                           NaN            NaN  \n",
       "15918                           NaN            NaN  \n",
       "\n",
       "[15919 rows x 54 columns]"
      ]
     },
     "execution_count": 39,
     "metadata": {},
     "output_type": "execute_result"
    }
   ],
   "source": [
    "scout_car"
   ]
  },
  {
   "cell_type": "code",
   "execution_count": 40,
   "id": "365823d0",
   "metadata": {},
   "outputs": [
    {
     "data": {
      "text/html": [
       "<div>\n",
       "<style scoped>\n",
       "    .dataframe tbody tr th:only-of-type {\n",
       "        vertical-align: middle;\n",
       "    }\n",
       "\n",
       "    .dataframe tbody tr th {\n",
       "        vertical-align: top;\n",
       "    }\n",
       "\n",
       "    .dataframe thead th {\n",
       "        text-align: right;\n",
       "    }\n",
       "</style>\n",
       "<table border=\"1\" class=\"dataframe\">\n",
       "  <thead>\n",
       "    <tr style=\"text-align: right;\">\n",
       "      <th></th>\n",
       "      <th>0</th>\n",
       "      <th>1</th>\n",
       "      <th>2</th>\n",
       "      <th>3</th>\n",
       "      <th>4</th>\n",
       "      <th>5</th>\n",
       "      <th>6</th>\n",
       "      <th>7</th>\n",
       "      <th>8</th>\n",
       "      <th>9</th>\n",
       "      <th>...</th>\n",
       "      <th>15909</th>\n",
       "      <th>15910</th>\n",
       "      <th>15911</th>\n",
       "      <th>15912</th>\n",
       "      <th>15913</th>\n",
       "      <th>15914</th>\n",
       "      <th>15915</th>\n",
       "      <th>15916</th>\n",
       "      <th>15917</th>\n",
       "      <th>15918</th>\n",
       "    </tr>\n",
       "  </thead>\n",
       "  <tbody>\n",
       "    <tr>\n",
       "      <th>url</th>\n",
       "      <td>https://www.autoscout24.com//offers/audi-a1-sp...</td>\n",
       "      <td>https://www.autoscout24.com//offers/audi-a1-1-...</td>\n",
       "      <td>https://www.autoscout24.com//offers/audi-a1-sp...</td>\n",
       "      <td>https://www.autoscout24.com//offers/audi-a1-1-...</td>\n",
       "      <td>https://www.autoscout24.com//offers/audi-a1-sp...</td>\n",
       "      <td>https://www.autoscout24.com//offers/audi-a1-1-...</td>\n",
       "      <td>https://www.autoscout24.com//offers/audi-a1-sp...</td>\n",
       "      <td>https://www.autoscout24.com//offers/audi-a1-sp...</td>\n",
       "      <td>https://www.autoscout24.com//offers/audi-a1-sp...</td>\n",
       "      <td>https://www.autoscout24.com//offers/audi-a1-sp...</td>\n",
       "      <td>...</td>\n",
       "      <td>https://www.autoscout24.com//offers/renault-es...</td>\n",
       "      <td>https://www.autoscout24.com//offers/renault-es...</td>\n",
       "      <td>https://www.autoscout24.com//offers/renault-es...</td>\n",
       "      <td>https://www.autoscout24.com//offers/renault-es...</td>\n",
       "      <td>https://www.autoscout24.com//offers/renault-es...</td>\n",
       "      <td>https://www.autoscout24.com//offers/renault-es...</td>\n",
       "      <td>https://www.autoscout24.com//offers/renault-es...</td>\n",
       "      <td>https://www.autoscout24.com//offers/renault-es...</td>\n",
       "      <td>https://www.autoscout24.com//offers/renault-es...</td>\n",
       "      <td>https://www.autoscout24.com//offers/renault-es...</td>\n",
       "    </tr>\n",
       "    <tr>\n",
       "      <th>make_model</th>\n",
       "      <td>Audi A1</td>\n",
       "      <td>Audi A1</td>\n",
       "      <td>Audi A1</td>\n",
       "      <td>Audi A1</td>\n",
       "      <td>Audi A1</td>\n",
       "      <td>Audi A1</td>\n",
       "      <td>Audi A1</td>\n",
       "      <td>Audi A1</td>\n",
       "      <td>Audi A1</td>\n",
       "      <td>Audi A1</td>\n",
       "      <td>...</td>\n",
       "      <td>Renault Espace</td>\n",
       "      <td>Renault Espace</td>\n",
       "      <td>Renault Espace</td>\n",
       "      <td>Renault Espace</td>\n",
       "      <td>Renault Espace</td>\n",
       "      <td>Renault Espace</td>\n",
       "      <td>Renault Espace</td>\n",
       "      <td>Renault Espace</td>\n",
       "      <td>Renault Espace</td>\n",
       "      <td>Renault Espace</td>\n",
       "    </tr>\n",
       "    <tr>\n",
       "      <th>short_description</th>\n",
       "      <td>Sportback 1.4 TDI S-tronic Xenon Navi Klima</td>\n",
       "      <td>1.8 TFSI sport</td>\n",
       "      <td>Sportback 1.6 TDI S tronic Einparkhilfe plus+m...</td>\n",
       "      <td>1.4 TDi Design S tronic</td>\n",
       "      <td>Sportback 1.4 TDI S-Tronic S-Line Ext. admired...</td>\n",
       "      <td>1.6 TDI Sport DSG *SHZ*Xenon*Navi*Bose*PDC*</td>\n",
       "      <td>Sportback 1.6 TDI S-TRONIC S-LINE*NAVI|XENON*</td>\n",
       "      <td>Sportback 1.4 TDI admired S tronic</td>\n",
       "      <td>SPB 1.6 TDI S-tronic Metal plus + Xeno</td>\n",
       "      <td>SPORTBACK TFSI ULTRA 95 S-TRONIC AMB.</td>\n",
       "      <td>...</td>\n",
       "      <td>Limited Blue dCi 200 EDC</td>\n",
       "      <td>TCe 225 EDC INITIALE PDC SHZ BOSE KLIMA</td>\n",
       "      <td>ELYSEE ENERGY dCi 160 EDC</td>\n",
       "      <td>Blue dCi 200CV EDC Executive 4Control</td>\n",
       "      <td>INITIALE Paris TCe 225 EDC GPF ACC EU6</td>\n",
       "      <td>Blue dCi 200CV EDC Executive 4Control</td>\n",
       "      <td>TCe 225 EDC GPF LIM Deluxe Pano,RFK</td>\n",
       "      <td>Blue dCi 200 EDC Initiale Paris Leder LED Navi...</td>\n",
       "      <td>Blue dCi 200CV EDC Business , NUOVA DA IMMATRI...</td>\n",
       "      <td>INITIALE PARIS TCe 225 EDC GPF NAVI SHZ AUX</td>\n",
       "    </tr>\n",
       "    <tr>\n",
       "      <th>body_type</th>\n",
       "      <td>Sedans</td>\n",
       "      <td>Sedans</td>\n",
       "      <td>Sedans</td>\n",
       "      <td>Sedans</td>\n",
       "      <td>Sedans</td>\n",
       "      <td>Sedans</td>\n",
       "      <td>Station wagon</td>\n",
       "      <td>Compact</td>\n",
       "      <td>Sedans</td>\n",
       "      <td>Sedans</td>\n",
       "      <td>...</td>\n",
       "      <td>Van</td>\n",
       "      <td>Van</td>\n",
       "      <td>Van</td>\n",
       "      <td>Van</td>\n",
       "      <td>Van</td>\n",
       "      <td>Van</td>\n",
       "      <td>Van</td>\n",
       "      <td>Van</td>\n",
       "      <td>Van</td>\n",
       "      <td>Van</td>\n",
       "    </tr>\n",
       "    <tr>\n",
       "      <th>price</th>\n",
       "      <td>15770</td>\n",
       "      <td>14500</td>\n",
       "      <td>14640</td>\n",
       "      <td>14500</td>\n",
       "      <td>16790</td>\n",
       "      <td>15090</td>\n",
       "      <td>16422</td>\n",
       "      <td>14480</td>\n",
       "      <td>16700</td>\n",
       "      <td>17990</td>\n",
       "      <td>...</td>\n",
       "      <td>39990</td>\n",
       "      <td>39980</td>\n",
       "      <td>39980</td>\n",
       "      <td>39950</td>\n",
       "      <td>39950</td>\n",
       "      <td>39950</td>\n",
       "      <td>39885</td>\n",
       "      <td>39875</td>\n",
       "      <td>39700</td>\n",
       "      <td>40999</td>\n",
       "    </tr>\n",
       "    <tr>\n",
       "      <th>vat</th>\n",
       "      <td>VAT deductible</td>\n",
       "      <td>Price negotiable</td>\n",
       "      <td>VAT deductible</td>\n",
       "      <td>None</td>\n",
       "      <td>None</td>\n",
       "      <td>None</td>\n",
       "      <td>VAT deductible</td>\n",
       "      <td>VAT deductible</td>\n",
       "      <td>None</td>\n",
       "      <td>None</td>\n",
       "      <td>...</td>\n",
       "      <td>VAT deductible</td>\n",
       "      <td>VAT deductible</td>\n",
       "      <td>VAT deductible</td>\n",
       "      <td>VAT deductible</td>\n",
       "      <td>VAT deductible</td>\n",
       "      <td>VAT deductible</td>\n",
       "      <td>VAT deductible</td>\n",
       "      <td>VAT deductible</td>\n",
       "      <td>VAT deductible</td>\n",
       "      <td>VAT deductible</td>\n",
       "    </tr>\n",
       "    <tr>\n",
       "      <th>km</th>\n",
       "      <td>56,013 km</td>\n",
       "      <td>80,000 km</td>\n",
       "      <td>83,450 km</td>\n",
       "      <td>73,000 km</td>\n",
       "      <td>16,200 km</td>\n",
       "      <td>63,668 km</td>\n",
       "      <td>62,111 km</td>\n",
       "      <td>14,986 km</td>\n",
       "      <td>57,000 km</td>\n",
       "      <td>16,103 km</td>\n",
       "      <td>...</td>\n",
       "      <td>3,500 km</td>\n",
       "      <td>8,500 km</td>\n",
       "      <td>100 km</td>\n",
       "      <td>- km</td>\n",
       "      <td>1,000 km</td>\n",
       "      <td>- km</td>\n",
       "      <td>9,900 km</td>\n",
       "      <td>15 km</td>\n",
       "      <td>10 km</td>\n",
       "      <td>- km</td>\n",
       "    </tr>\n",
       "    <tr>\n",
       "      <th>registration</th>\n",
       "      <td>01/2016</td>\n",
       "      <td>03/2017</td>\n",
       "      <td>02/2016</td>\n",
       "      <td>08/2016</td>\n",
       "      <td>05/2016</td>\n",
       "      <td>02/2016</td>\n",
       "      <td>03/2016</td>\n",
       "      <td>02/2016</td>\n",
       "      <td>02/2016</td>\n",
       "      <td>06/2017</td>\n",
       "      <td>...</td>\n",
       "      <td>05/2019</td>\n",
       "      <td>02/2019</td>\n",
       "      <td>02/2019</td>\n",
       "      <td>-/-</td>\n",
       "      <td>04/2019</td>\n",
       "      <td>-/-</td>\n",
       "      <td>01/2019</td>\n",
       "      <td>03/2019</td>\n",
       "      <td>06/2019</td>\n",
       "      <td>01/2019</td>\n",
       "    </tr>\n",
       "    <tr>\n",
       "      <th>prev_owner</th>\n",
       "      <td>2 previous owners</td>\n",
       "      <td>None</td>\n",
       "      <td>1 previous owner</td>\n",
       "      <td>1 previous owner</td>\n",
       "      <td>1 previous owner</td>\n",
       "      <td>1 previous owner</td>\n",
       "      <td>1 previous owner</td>\n",
       "      <td>1 previous owner</td>\n",
       "      <td>1 previous owner</td>\n",
       "      <td>None</td>\n",
       "      <td>...</td>\n",
       "      <td>None</td>\n",
       "      <td>1 previous owner</td>\n",
       "      <td>1 previous owner</td>\n",
       "      <td>None</td>\n",
       "      <td>None</td>\n",
       "      <td>None</td>\n",
       "      <td>1 previous owner</td>\n",
       "      <td>1 previous owner</td>\n",
       "      <td>None</td>\n",
       "      <td>1 previous owner</td>\n",
       "    </tr>\n",
       "    <tr>\n",
       "      <th>kW</th>\n",
       "      <td>NaN</td>\n",
       "      <td>NaN</td>\n",
       "      <td>NaN</td>\n",
       "      <td>NaN</td>\n",
       "      <td>NaN</td>\n",
       "      <td>NaN</td>\n",
       "      <td>NaN</td>\n",
       "      <td>NaN</td>\n",
       "      <td>NaN</td>\n",
       "      <td>NaN</td>\n",
       "      <td>...</td>\n",
       "      <td>NaN</td>\n",
       "      <td>NaN</td>\n",
       "      <td>NaN</td>\n",
       "      <td>NaN</td>\n",
       "      <td>NaN</td>\n",
       "      <td>NaN</td>\n",
       "      <td>NaN</td>\n",
       "      <td>NaN</td>\n",
       "      <td>NaN</td>\n",
       "      <td>NaN</td>\n",
       "    </tr>\n",
       "    <tr>\n",
       "      <th>hp</th>\n",
       "      <td>66 kW</td>\n",
       "      <td>141 kW</td>\n",
       "      <td>85 kW</td>\n",
       "      <td>66 kW</td>\n",
       "      <td>66 kW</td>\n",
       "      <td>85 kW</td>\n",
       "      <td>85 kW</td>\n",
       "      <td>66 kW</td>\n",
       "      <td>85 kW</td>\n",
       "      <td>70 kW</td>\n",
       "      <td>...</td>\n",
       "      <td>147 kW</td>\n",
       "      <td>165 kW</td>\n",
       "      <td>118 kW</td>\n",
       "      <td>147 kW</td>\n",
       "      <td>165 kW</td>\n",
       "      <td>147 kW</td>\n",
       "      <td>165 kW</td>\n",
       "      <td>146 kW</td>\n",
       "      <td>147 kW</td>\n",
       "      <td>165 kW</td>\n",
       "    </tr>\n",
       "    <tr>\n",
       "      <th>Type</th>\n",
       "      <td>[, Used, , Diesel (Particulate Filter)]</td>\n",
       "      <td>[, Used, , Gasoline]</td>\n",
       "      <td>[, Used, , Diesel (Particulate Filter)]</td>\n",
       "      <td>[, Used, , Diesel (Particulate Filter)]</td>\n",
       "      <td>[, Used, , Diesel (Particulate Filter)]</td>\n",
       "      <td>[, Used, , Diesel (Particulate Filter)]</td>\n",
       "      <td>[, Used, , Diesel (Particulate Filter)]</td>\n",
       "      <td>[, Used, , Diesel (Particulate Filter)]</td>\n",
       "      <td>[, Used, , Diesel (Particulate Filter)]</td>\n",
       "      <td>[, Used, , Gasoline]</td>\n",
       "      <td>...</td>\n",
       "      <td>[, Demonstration, , Diesel (Particulate Filter)]</td>\n",
       "      <td>[, Demonstration, , Regular/Benzine E10 91]</td>\n",
       "      <td>[, Pre-registered, , Diesel (Particulate Filter)]</td>\n",
       "      <td>[, New, , Diesel (Particulate Filter)]</td>\n",
       "      <td>[, Demonstration, , Super 95]</td>\n",
       "      <td>[, New, , Diesel (Particulate Filter)]</td>\n",
       "      <td>[, Used, , Super 95 / Super Plus 98 (Particula...</td>\n",
       "      <td>[, Pre-registered, , Diesel]</td>\n",
       "      <td>[, Pre-registered, , Diesel]</td>\n",
       "      <td>[, Demonstration, , Super 95]</td>\n",
       "    </tr>\n",
       "    <tr>\n",
       "      <th>Previous Owners</th>\n",
       "      <td>\\n2\\n</td>\n",
       "      <td>NaN</td>\n",
       "      <td>\\n1\\n</td>\n",
       "      <td>\\n1\\n</td>\n",
       "      <td>\\n1\\n</td>\n",
       "      <td>\\n1\\n</td>\n",
       "      <td>\\n1\\n</td>\n",
       "      <td>\\n1\\n</td>\n",
       "      <td>\\n1\\n</td>\n",
       "      <td>NaN</td>\n",
       "      <td>...</td>\n",
       "      <td>NaN</td>\n",
       "      <td>\\n1\\n</td>\n",
       "      <td>\\n1\\n</td>\n",
       "      <td>NaN</td>\n",
       "      <td>NaN</td>\n",
       "      <td>NaN</td>\n",
       "      <td>[\\n1\\n, \\n, 7.4 l/100 km (comb), \\n, 9.2 l/100...</td>\n",
       "      <td>[\\n1\\n, \\n139 g CO2/km (comb)\\n]</td>\n",
       "      <td>NaN</td>\n",
       "      <td>\\n1\\n</td>\n",
       "    </tr>\n",
       "    <tr>\n",
       "      <th>Next Inspection</th>\n",
       "      <td>[\\n06/2021\\n, \\n99 g CO2/km (comb)\\n]</td>\n",
       "      <td>NaN</td>\n",
       "      <td>NaN</td>\n",
       "      <td>NaN</td>\n",
       "      <td>NaN</td>\n",
       "      <td>NaN</td>\n",
       "      <td>NaN</td>\n",
       "      <td>NaN</td>\n",
       "      <td>[\\n02/2020\\n, \\n97 g CO2/km (comb)\\n]</td>\n",
       "      <td>NaN</td>\n",
       "      <td>...</td>\n",
       "      <td>NaN</td>\n",
       "      <td>NaN</td>\n",
       "      <td>NaN</td>\n",
       "      <td>NaN</td>\n",
       "      <td>NaN</td>\n",
       "      <td>NaN</td>\n",
       "      <td>[\\n01/2022\\n, \\n168 g CO2/km (comb)\\n]</td>\n",
       "      <td>NaN</td>\n",
       "      <td>NaN</td>\n",
       "      <td>NaN</td>\n",
       "    </tr>\n",
       "    <tr>\n",
       "      <th>Inspection new</th>\n",
       "      <td>[\\nYes\\n, \\nEuro 6\\n]</td>\n",
       "      <td>NaN</td>\n",
       "      <td>NaN</td>\n",
       "      <td>NaN</td>\n",
       "      <td>[\\nYes\\n, \\n109 g CO2/km (comb)\\n]</td>\n",
       "      <td>NaN</td>\n",
       "      <td>[\\nYes\\n, \\n98 g CO2/km (comb)\\n]</td>\n",
       "      <td>[\\nYes\\n, \\n97 g CO2/km (comb)\\n]</td>\n",
       "      <td>NaN</td>\n",
       "      <td>NaN</td>\n",
       "      <td>...</td>\n",
       "      <td>NaN</td>\n",
       "      <td>NaN</td>\n",
       "      <td>NaN</td>\n",
       "      <td>NaN</td>\n",
       "      <td>NaN</td>\n",
       "      <td>NaN</td>\n",
       "      <td>NaN</td>\n",
       "      <td>[\\nYes\\n, \\nEuro 6d-TEMP\\n]</td>\n",
       "      <td>NaN</td>\n",
       "      <td>[\\nYes\\n, \\n153 g CO2/km (comb)\\n]</td>\n",
       "    </tr>\n",
       "    <tr>\n",
       "      <th>Warranty</th>\n",
       "      <td>[\\n, \\n, \\n4 (Green)\\n]</td>\n",
       "      <td>NaN</td>\n",
       "      <td>[\\n, \\n, \\n99 g CO2/km (comb)\\n]</td>\n",
       "      <td>NaN</td>\n",
       "      <td>[\\n, \\n, \\nEuro 6\\n]</td>\n",
       "      <td>NaN</td>\n",
       "      <td>NaN</td>\n",
       "      <td>[\\n, \\n, \\nEuro 6\\n]</td>\n",
       "      <td>[\\n12 months\\n, \\nEuro 6\\n]</td>\n",
       "      <td>\\n3 months\\n</td>\n",
       "      <td>...</td>\n",
       "      <td>\\n48 months\\n</td>\n",
       "      <td>NaN</td>\n",
       "      <td>NaN</td>\n",
       "      <td>\\n24 months\\n</td>\n",
       "      <td>NaN</td>\n",
       "      <td>\\n24 months\\n</td>\n",
       "      <td>[\\n, \\n, \\nEuro 6\\n]</td>\n",
       "      <td>[\\n, \\n, \\n4 (Green)\\n]</td>\n",
       "      <td>\\n</td>\n",
       "      <td>NaN</td>\n",
       "    </tr>\n",
       "    <tr>\n",
       "      <th>Full Service</th>\n",
       "      <td>[\\n, \\n]</td>\n",
       "      <td>NaN</td>\n",
       "      <td>NaN</td>\n",
       "      <td>[\\n, \\n, \\n99 g CO2/km (comb)\\n]</td>\n",
       "      <td>[\\n, \\n, \\n4 (Green)\\n]</td>\n",
       "      <td>[\\n, \\n, \\n92 g CO2/km (comb)\\n]</td>\n",
       "      <td>[\\n, \\n, \\nEuro 6\\n]</td>\n",
       "      <td>[\\n, \\n, \\n4 (Green)\\n]</td>\n",
       "      <td>NaN</td>\n",
       "      <td>NaN</td>\n",
       "      <td>...</td>\n",
       "      <td>NaN</td>\n",
       "      <td>[\\n, \\n, \\n153 g CO2/km (comb)\\n]</td>\n",
       "      <td>NaN</td>\n",
       "      <td>NaN</td>\n",
       "      <td>NaN</td>\n",
       "      <td>NaN</td>\n",
       "      <td>NaN</td>\n",
       "      <td>[\\n, \\n]</td>\n",
       "      <td>NaN</td>\n",
       "      <td>NaN</td>\n",
       "    </tr>\n",
       "    <tr>\n",
       "      <th>Non-smoking Vehicle</th>\n",
       "      <td>[\\n, \\n]</td>\n",
       "      <td>NaN</td>\n",
       "      <td>NaN</td>\n",
       "      <td>[\\n, \\n, \\nEuro 6\\n]</td>\n",
       "      <td>[\\n, \\n]</td>\n",
       "      <td>[\\n, \\n, \\nEuro 6\\n]</td>\n",
       "      <td>[\\n, \\n, \\n4 (Green)\\n]</td>\n",
       "      <td>NaN</td>\n",
       "      <td>NaN</td>\n",
       "      <td>NaN</td>\n",
       "      <td>...</td>\n",
       "      <td>NaN</td>\n",
       "      <td>[\\n, \\n, \\nEuro 6\\n]</td>\n",
       "      <td>[\\n, \\n, \\n123 g CO2/km (comb)\\n]</td>\n",
       "      <td>NaN</td>\n",
       "      <td>NaN</td>\n",
       "      <td>NaN</td>\n",
       "      <td>[\\n, \\n, \\n4 (Green)\\n]</td>\n",
       "      <td>[\\n, \\n]</td>\n",
       "      <td>NaN</td>\n",
       "      <td>NaN</td>\n",
       "    </tr>\n",
       "    <tr>\n",
       "      <th>null</th>\n",
       "      <td>[]</td>\n",
       "      <td>[]</td>\n",
       "      <td>[]</td>\n",
       "      <td>[]</td>\n",
       "      <td>[]</td>\n",
       "      <td>[]</td>\n",
       "      <td>[]</td>\n",
       "      <td>[]</td>\n",
       "      <td>[]</td>\n",
       "      <td>[]</td>\n",
       "      <td>...</td>\n",
       "      <td>[]</td>\n",
       "      <td>[]</td>\n",
       "      <td>[]</td>\n",
       "      <td>[]</td>\n",
       "      <td>[]</td>\n",
       "      <td>[]</td>\n",
       "      <td>[]</td>\n",
       "      <td>[]</td>\n",
       "      <td>[]</td>\n",
       "      <td>[]</td>\n",
       "    </tr>\n",
       "    <tr>\n",
       "      <th>Make</th>\n",
       "      <td>\\nAudi\\n</td>\n",
       "      <td>\\nAudi\\n</td>\n",
       "      <td>\\nAudi\\n</td>\n",
       "      <td>\\nAudi\\n</td>\n",
       "      <td>\\nAudi\\n</td>\n",
       "      <td>\\nAudi\\n</td>\n",
       "      <td>\\nAudi\\n</td>\n",
       "      <td>\\nAudi\\n</td>\n",
       "      <td>\\nAudi\\n</td>\n",
       "      <td>\\nAudi\\n</td>\n",
       "      <td>...</td>\n",
       "      <td>\\nRenault\\n</td>\n",
       "      <td>\\nRenault\\n</td>\n",
       "      <td>\\nRenault\\n</td>\n",
       "      <td>\\nRenault\\n</td>\n",
       "      <td>\\nRenault\\n</td>\n",
       "      <td>\\nRenault\\n</td>\n",
       "      <td>\\nRenault\\n</td>\n",
       "      <td>\\nRenault\\n</td>\n",
       "      <td>\\nRenault\\n</td>\n",
       "      <td>\\nRenault\\n</td>\n",
       "    </tr>\n",
       "    <tr>\n",
       "      <th>Model</th>\n",
       "      <td>[\\n, A1, \\n]</td>\n",
       "      <td>[\\n, A1, \\n]</td>\n",
       "      <td>[\\n, A1, \\n]</td>\n",
       "      <td>[\\n, A1, \\n]</td>\n",
       "      <td>[\\n, A1, \\n]</td>\n",
       "      <td>[\\n, A1, \\n]</td>\n",
       "      <td>[\\n, A1, \\n]</td>\n",
       "      <td>[\\n, A1, \\n]</td>\n",
       "      <td>[\\n, A1, \\n]</td>\n",
       "      <td>[\\n, A1, \\n]</td>\n",
       "      <td>...</td>\n",
       "      <td>[\\n, Espace, \\n]</td>\n",
       "      <td>[\\n, Espace, \\n]</td>\n",
       "      <td>[\\n, Espace, \\n]</td>\n",
       "      <td>[\\n, Espace, \\n]</td>\n",
       "      <td>[\\n, Espace, \\n]</td>\n",
       "      <td>[\\n, Espace, \\n]</td>\n",
       "      <td>[\\n, Espace, \\n]</td>\n",
       "      <td>[\\n, Espace, \\n]</td>\n",
       "      <td>[\\n, Espace, \\n]</td>\n",
       "      <td>[\\n, Espace, \\n]</td>\n",
       "    </tr>\n",
       "    <tr>\n",
       "      <th>Offer Number</th>\n",
       "      <td>[\\nLR-062483\\n]</td>\n",
       "      <td>NaN</td>\n",
       "      <td>[\\nAM-95365\\n]</td>\n",
       "      <td>NaN</td>\n",
       "      <td>[\\nC1626\\n]</td>\n",
       "      <td>[\\nJV03654\\n]</td>\n",
       "      <td>[\\n200-19\\n]</td>\n",
       "      <td>[\\n18381A-Q2\\n]</td>\n",
       "      <td>[\\n11540324\\n]</td>\n",
       "      <td>NaN</td>\n",
       "      <td>...</td>\n",
       "      <td>[\\n1-15447\\n]</td>\n",
       "      <td>[\\n1720LR8\\n]</td>\n",
       "      <td>[\\nVB1_12468\\n]</td>\n",
       "      <td>[\\n10988276\\n]</td>\n",
       "      <td>[\\nNW9766\\n]</td>\n",
       "      <td>[\\n10988301\\n]</td>\n",
       "      <td>[\\n507370_3223\\n]</td>\n",
       "      <td>[\\nEspace16\\n]</td>\n",
       "      <td>[\\n2691331\\n]</td>\n",
       "      <td>[\\nRe_30000008029\\n]</td>\n",
       "    </tr>\n",
       "    <tr>\n",
       "      <th>First Registration</th>\n",
       "      <td>[\\n, 2016, \\n]</td>\n",
       "      <td>[\\n, 2017, \\n]</td>\n",
       "      <td>[\\n, 2016, \\n]</td>\n",
       "      <td>[\\n, 2016, \\n]</td>\n",
       "      <td>[\\n, 2016, \\n]</td>\n",
       "      <td>[\\n, 2016, \\n]</td>\n",
       "      <td>[\\n, 2016, \\n]</td>\n",
       "      <td>[\\n, 2016, \\n]</td>\n",
       "      <td>[\\n, 2016, \\n]</td>\n",
       "      <td>[\\n, 2017, \\n]</td>\n",
       "      <td>...</td>\n",
       "      <td>[\\n, 2019, \\n]</td>\n",
       "      <td>[\\n, 2019, \\n]</td>\n",
       "      <td>[\\n, 2019, \\n]</td>\n",
       "      <td>NaN</td>\n",
       "      <td>[\\n, 2019, \\n]</td>\n",
       "      <td>NaN</td>\n",
       "      <td>[\\n, 2019, \\n]</td>\n",
       "      <td>[\\n, 2019, \\n]</td>\n",
       "      <td>[\\n, 2019, \\n]</td>\n",
       "      <td>[\\n, 2019, \\n]</td>\n",
       "    </tr>\n",
       "    <tr>\n",
       "      <th>Body Color</th>\n",
       "      <td>[\\n, Black, \\n]</td>\n",
       "      <td>[\\n, Red, \\n]</td>\n",
       "      <td>[\\n, Black, \\n]</td>\n",
       "      <td>[\\n, Brown, \\n]</td>\n",
       "      <td>[\\n, Black, \\n]</td>\n",
       "      <td>[\\n, White, \\n]</td>\n",
       "      <td>[\\n, White, \\n]</td>\n",
       "      <td>[\\n, Red, \\n]</td>\n",
       "      <td>[\\n, Grey, \\n]</td>\n",
       "      <td>[\\n, White, \\n]</td>\n",
       "      <td>...</td>\n",
       "      <td>[\\n, Black, \\n]</td>\n",
       "      <td>[\\n, Blue, \\n]</td>\n",
       "      <td>[\\n, White, \\n]</td>\n",
       "      <td>[\\n, Black, \\n]</td>\n",
       "      <td>[\\n, White, \\n]</td>\n",
       "      <td>[\\n, Grey, \\n]</td>\n",
       "      <td>[\\n, Grey, \\n]</td>\n",
       "      <td>[\\n, White, \\n]</td>\n",
       "      <td>[\\n, Grey, \\n]</td>\n",
       "      <td>[\\n, Grey, \\n]</td>\n",
       "    </tr>\n",
       "    <tr>\n",
       "      <th>Paint Type</th>\n",
       "      <td>[\\nMetallic\\n]</td>\n",
       "      <td>NaN</td>\n",
       "      <td>[\\nMetallic\\n]</td>\n",
       "      <td>[\\nMetallic\\n]</td>\n",
       "      <td>[\\nMetallic\\n]</td>\n",
       "      <td>[\\nMetallic\\n]</td>\n",
       "      <td>[\\nMetallic\\n]</td>\n",
       "      <td>[\\nMetallic\\n]</td>\n",
       "      <td>[\\nMetallic\\n]</td>\n",
       "      <td>NaN</td>\n",
       "      <td>...</td>\n",
       "      <td>[\\nMetallic\\n]</td>\n",
       "      <td>[\\nMetallic\\n]</td>\n",
       "      <td>[\\nMetallic\\n]</td>\n",
       "      <td>[\\nMetallic\\n]</td>\n",
       "      <td>[\\nMetallic\\n]</td>\n",
       "      <td>[\\nMetallic\\n]</td>\n",
       "      <td>[\\nMetallic\\n]</td>\n",
       "      <td>NaN</td>\n",
       "      <td>NaN</td>\n",
       "      <td>[\\nMetallic\\n]</td>\n",
       "    </tr>\n",
       "    <tr>\n",
       "      <th>Body Color Original</th>\n",
       "      <td>[\\nMythosschwarz\\n]</td>\n",
       "      <td>NaN</td>\n",
       "      <td>[\\nmythosschwarz metallic\\n]</td>\n",
       "      <td>NaN</td>\n",
       "      <td>[\\nMythosschwarz Metallic\\n]</td>\n",
       "      <td>NaN</td>\n",
       "      <td>[\\nGletscherweiss\\n]</td>\n",
       "      <td>[\\nMisanorot Perleffekt\\n]</td>\n",
       "      <td>[\\nGrigio\\n]</td>\n",
       "      <td>[\\nBlanc\\n]</td>\n",
       "      <td>...</td>\n",
       "      <td>[\\nBlack-Pearl\\n]</td>\n",
       "      <td>[\\nKosmos-Blau\\n]</td>\n",
       "      <td>[\\nPerlmutt-Weiß Metallic (Weiß)\\n]</td>\n",
       "      <td>[\\nNero\\n]</td>\n",
       "      <td>[\\nperlmutt-weiss\\n]</td>\n",
       "      <td>[\\nGrigio scuro\\n]</td>\n",
       "      <td>[\\nStahl-Grau Metallic\\n]</td>\n",
       "      <td>[\\narktis-weiß\\n]</td>\n",
       "      <td>[\\nGrigio\\n]</td>\n",
       "      <td>[\\nTitanium-Grau Metallic\\n]</td>\n",
       "    </tr>\n",
       "    <tr>\n",
       "      <th>Upholstery</th>\n",
       "      <td>[\\nCloth, Black\\n]</td>\n",
       "      <td>[\\nCloth, Grey\\n]</td>\n",
       "      <td>[\\nCloth, Black\\n]</td>\n",
       "      <td>NaN</td>\n",
       "      <td>[\\nCloth, Black\\n]</td>\n",
       "      <td>[\\nPart leather, Black\\n]</td>\n",
       "      <td>[\\nPart leather, Black\\n]</td>\n",
       "      <td>[\\nCloth, Black\\n]</td>\n",
       "      <td>[\\nCloth, Grey\\n]</td>\n",
       "      <td>NaN</td>\n",
       "      <td>...</td>\n",
       "      <td>NaN</td>\n",
       "      <td>[\\nFull leather, Other\\n]</td>\n",
       "      <td>[\\nFull leather, Grey\\n]</td>\n",
       "      <td>NaN</td>\n",
       "      <td>[\\nFull leather, Brown\\n]</td>\n",
       "      <td>NaN</td>\n",
       "      <td>[\\nCloth\\n]</td>\n",
       "      <td>[\\nFull leather, Black\\n]</td>\n",
       "      <td>[\\nPart leather\\n]</td>\n",
       "      <td>[\\nFull leather, Brown\\n]</td>\n",
       "    </tr>\n",
       "    <tr>\n",
       "      <th>Body</th>\n",
       "      <td>[\\n, Sedans, \\n]</td>\n",
       "      <td>[\\n, Sedans, \\n]</td>\n",
       "      <td>[\\n, Sedans, \\n]</td>\n",
       "      <td>[\\n, Sedans, \\n]</td>\n",
       "      <td>[\\n, Sedans, \\n]</td>\n",
       "      <td>[\\n, Sedans, \\n]</td>\n",
       "      <td>[\\n, Station wagon, \\n]</td>\n",
       "      <td>[\\n, Compact, \\n]</td>\n",
       "      <td>[\\n, Sedans, \\n]</td>\n",
       "      <td>[\\n, Sedans, \\n]</td>\n",
       "      <td>...</td>\n",
       "      <td>[\\n, Van, \\n]</td>\n",
       "      <td>[\\n, Van, \\n]</td>\n",
       "      <td>[\\n, Van, \\n]</td>\n",
       "      <td>[\\n, Van, \\n]</td>\n",
       "      <td>[\\n, Van, \\n]</td>\n",
       "      <td>[\\n, Van, \\n]</td>\n",
       "      <td>[\\n, Van, \\n]</td>\n",
       "      <td>[\\n, Van, \\n]</td>\n",
       "      <td>[\\n, Van, \\n]</td>\n",
       "      <td>[\\n, Van, \\n]</td>\n",
       "    </tr>\n",
       "    <tr>\n",
       "      <th>Nr. of Doors</th>\n",
       "      <td>[\\n5\\n]</td>\n",
       "      <td>[\\n3\\n]</td>\n",
       "      <td>[\\n4\\n]</td>\n",
       "      <td>[\\n3\\n]</td>\n",
       "      <td>[\\n5\\n]</td>\n",
       "      <td>[\\n4\\n]</td>\n",
       "      <td>[\\n4\\n]</td>\n",
       "      <td>[\\n5\\n]</td>\n",
       "      <td>[\\n5\\n]</td>\n",
       "      <td>[\\n5\\n]</td>\n",
       "      <td>...</td>\n",
       "      <td>[\\n5\\n]</td>\n",
       "      <td>[\\n5\\n]</td>\n",
       "      <td>[\\n5\\n]</td>\n",
       "      <td>[\\n5\\n]</td>\n",
       "      <td>[\\n5\\n]</td>\n",
       "      <td>[\\n5\\n]</td>\n",
       "      <td>[\\n5\\n]</td>\n",
       "      <td>[\\n5\\n]</td>\n",
       "      <td>[\\n5\\n]</td>\n",
       "      <td>[\\n5\\n]</td>\n",
       "    </tr>\n",
       "    <tr>\n",
       "      <th>Nr. of Seats</th>\n",
       "      <td>[\\n5\\n]</td>\n",
       "      <td>[\\n4\\n]</td>\n",
       "      <td>[\\n4\\n]</td>\n",
       "      <td>[\\n4\\n]</td>\n",
       "      <td>[\\n5\\n]</td>\n",
       "      <td>[\\n5\\n]</td>\n",
       "      <td>[\\n5\\n]</td>\n",
       "      <td>[\\n5\\n]</td>\n",
       "      <td>[\\n4\\n]</td>\n",
       "      <td>[\\n4\\n]</td>\n",
       "      <td>...</td>\n",
       "      <td>[\\n5\\n]</td>\n",
       "      <td>[\\n5\\n]</td>\n",
       "      <td>[\\n7\\n]</td>\n",
       "      <td>[\\n5\\n]</td>\n",
       "      <td>[\\n7\\n]</td>\n",
       "      <td>[\\n5\\n]</td>\n",
       "      <td>[\\n5\\n]</td>\n",
       "      <td>[\\n7\\n]</td>\n",
       "      <td>[\\n7\\n]</td>\n",
       "      <td>[\\n5\\n]</td>\n",
       "    </tr>\n",
       "    <tr>\n",
       "      <th>Model Code</th>\n",
       "      <td>[\\n0588/BDF\\n]</td>\n",
       "      <td>[\\n0588/BCY\\n]</td>\n",
       "      <td>NaN</td>\n",
       "      <td>NaN</td>\n",
       "      <td>[\\n0588/BDF\\n]</td>\n",
       "      <td>NaN</td>\n",
       "      <td>NaN</td>\n",
       "      <td>[\\n0588/BDF\\n]</td>\n",
       "      <td>NaN</td>\n",
       "      <td>NaN</td>\n",
       "      <td>...</td>\n",
       "      <td>NaN</td>\n",
       "      <td>[\\n3333/BHJ\\n]</td>\n",
       "      <td>[\\n3333/BDQ\\n]</td>\n",
       "      <td>NaN</td>\n",
       "      <td>NaN</td>\n",
       "      <td>NaN</td>\n",
       "      <td>[\\n0000/000\\n]</td>\n",
       "      <td>NaN</td>\n",
       "      <td>NaN</td>\n",
       "      <td>[\\n3333/BHJ\\n]</td>\n",
       "    </tr>\n",
       "    <tr>\n",
       "      <th>Gearing Type</th>\n",
       "      <td>[\\n, Automatic, \\n]</td>\n",
       "      <td>[\\n, Automatic, \\n]</td>\n",
       "      <td>[\\n, Automatic, \\n]</td>\n",
       "      <td>[\\n, Automatic, \\n]</td>\n",
       "      <td>[\\n, Automatic, \\n]</td>\n",
       "      <td>[\\n, Automatic, \\n]</td>\n",
       "      <td>[\\n, Automatic, \\n]</td>\n",
       "      <td>[\\n, Automatic, \\n]</td>\n",
       "      <td>[\\n, Automatic, \\n]</td>\n",
       "      <td>[\\n, Automatic, \\n]</td>\n",
       "      <td>...</td>\n",
       "      <td>[\\n, Automatic, \\n]</td>\n",
       "      <td>[\\n, Automatic, \\n]</td>\n",
       "      <td>[\\n, Automatic, \\n]</td>\n",
       "      <td>[\\n, Automatic, \\n]</td>\n",
       "      <td>[\\n, Automatic, \\n]</td>\n",
       "      <td>[\\n, Automatic, \\n]</td>\n",
       "      <td>[\\n, Automatic, \\n]</td>\n",
       "      <td>[\\n, Automatic, \\n]</td>\n",
       "      <td>[\\n, Automatic, \\n]</td>\n",
       "      <td>[\\n, Automatic, \\n]</td>\n",
       "    </tr>\n",
       "    <tr>\n",
       "      <th>Displacement</th>\n",
       "      <td>[\\n1,422 cc\\n]</td>\n",
       "      <td>[\\n1,798 cc\\n]</td>\n",
       "      <td>[\\n1,598 cc\\n]</td>\n",
       "      <td>[\\n1,422 cc\\n]</td>\n",
       "      <td>[\\n1,422 cc\\n]</td>\n",
       "      <td>[\\n1,598 cc\\n]</td>\n",
       "      <td>[\\n1,598 cc\\n]</td>\n",
       "      <td>[\\n1,422 cc\\n]</td>\n",
       "      <td>[\\n1,598 cc\\n]</td>\n",
       "      <td>[\\n999 cc\\n]</td>\n",
       "      <td>...</td>\n",
       "      <td>[\\n1,997 cc\\n]</td>\n",
       "      <td>[\\n1,798 cc\\n]</td>\n",
       "      <td>[\\n1,598 cc\\n]</td>\n",
       "      <td>[\\n1,997 cc\\n]</td>\n",
       "      <td>[\\n1,798 cc\\n]</td>\n",
       "      <td>[\\n1,997 cc\\n]</td>\n",
       "      <td>[\\n1,798 cc\\n]</td>\n",
       "      <td>[\\n1,997 cc\\n]</td>\n",
       "      <td>[\\n1,997 cc\\n]</td>\n",
       "      <td>[\\n1,798 cc\\n]</td>\n",
       "    </tr>\n",
       "    <tr>\n",
       "      <th>Cylinders</th>\n",
       "      <td>[\\n3\\n]</td>\n",
       "      <td>[\\n4\\n]</td>\n",
       "      <td>NaN</td>\n",
       "      <td>[\\n3\\n]</td>\n",
       "      <td>[\\n3\\n]</td>\n",
       "      <td>NaN</td>\n",
       "      <td>[\\n4\\n]</td>\n",
       "      <td>NaN</td>\n",
       "      <td>[\\n4\\n]</td>\n",
       "      <td>NaN</td>\n",
       "      <td>...</td>\n",
       "      <td>NaN</td>\n",
       "      <td>[\\n4\\n]</td>\n",
       "      <td>[\\n4\\n]</td>\n",
       "      <td>[\\n4\\n]</td>\n",
       "      <td>[\\n4\\n]</td>\n",
       "      <td>[\\n4\\n]</td>\n",
       "      <td>[\\n4\\n]</td>\n",
       "      <td>[\\n4\\n]</td>\n",
       "      <td>[\\n4\\n]</td>\n",
       "      <td>[\\n4\\n]</td>\n",
       "    </tr>\n",
       "    <tr>\n",
       "      <th>Weight</th>\n",
       "      <td>[\\n1,220 kg\\n]</td>\n",
       "      <td>[\\n1,255 kg\\n]</td>\n",
       "      <td>NaN</td>\n",
       "      <td>[\\n1,195 kg\\n]</td>\n",
       "      <td>NaN</td>\n",
       "      <td>NaN</td>\n",
       "      <td>NaN</td>\n",
       "      <td>NaN</td>\n",
       "      <td>[\\n1,275 kg\\n]</td>\n",
       "      <td>NaN</td>\n",
       "      <td>...</td>\n",
       "      <td>[\\n1,779 kg\\n]</td>\n",
       "      <td>NaN</td>\n",
       "      <td>[\\n1,734 kg\\n]</td>\n",
       "      <td>[\\n1,758 kg\\n]</td>\n",
       "      <td>NaN</td>\n",
       "      <td>[\\n1,758 kg\\n]</td>\n",
       "      <td>[\\n1,708 kg\\n]</td>\n",
       "      <td>NaN</td>\n",
       "      <td>[\\n1,758 kg\\n]</td>\n",
       "      <td>[\\n1,685 kg\\n]</td>\n",
       "    </tr>\n",
       "    <tr>\n",
       "      <th>Drive chain</th>\n",
       "      <td>[\\nfront\\n]</td>\n",
       "      <td>[\\nfront\\n]</td>\n",
       "      <td>[\\nfront\\n]</td>\n",
       "      <td>NaN</td>\n",
       "      <td>[\\nfront\\n]</td>\n",
       "      <td>NaN</td>\n",
       "      <td>[\\nfront\\n]</td>\n",
       "      <td>[\\nfront\\n]</td>\n",
       "      <td>[\\nfront\\n]</td>\n",
       "      <td>NaN</td>\n",
       "      <td>...</td>\n",
       "      <td>NaN</td>\n",
       "      <td>[\\nfront\\n]</td>\n",
       "      <td>NaN</td>\n",
       "      <td>[\\nfront\\n]</td>\n",
       "      <td>[\\nfront\\n]</td>\n",
       "      <td>[\\nfront\\n]</td>\n",
       "      <td>[\\nfront\\n]</td>\n",
       "      <td>[\\nfront\\n]</td>\n",
       "      <td>[\\nfront\\n]</td>\n",
       "      <td>[\\n4WD\\n]</td>\n",
       "    </tr>\n",
       "    <tr>\n",
       "      <th>Fuel</th>\n",
       "      <td>[\\n, Diesel (Particulate Filter), \\n]</td>\n",
       "      <td>[\\n, Gasoline, \\n]</td>\n",
       "      <td>[\\n, Diesel (Particulate Filter), \\n]</td>\n",
       "      <td>[\\n, Diesel (Particulate Filter), \\n]</td>\n",
       "      <td>[\\n, Diesel (Particulate Filter), \\n]</td>\n",
       "      <td>[\\n, Diesel (Particulate Filter), \\n]</td>\n",
       "      <td>[\\n, Diesel (Particulate Filter), \\n]</td>\n",
       "      <td>[\\n, Diesel (Particulate Filter), \\n]</td>\n",
       "      <td>[\\n, Diesel (Particulate Filter), \\n]</td>\n",
       "      <td>[\\n, Gasoline, \\n]</td>\n",
       "      <td>...</td>\n",
       "      <td>[\\n, Diesel (Particulate Filter), \\n]</td>\n",
       "      <td>[\\n, Regular/Benzine E10 91, \\n]</td>\n",
       "      <td>[\\n, Diesel (Particulate Filter), \\n]</td>\n",
       "      <td>[\\n, Diesel (Particulate Filter), \\n]</td>\n",
       "      <td>[\\n, Super 95, \\n]</td>\n",
       "      <td>[\\n, Diesel (Particulate Filter), \\n]</td>\n",
       "      <td>[\\n, Super 95 / Super Plus 98 (Particulate Fil...</td>\n",
       "      <td>[\\n, Diesel, \\n]</td>\n",
       "      <td>[\\n, Diesel, \\n]</td>\n",
       "      <td>[\\n, Super 95, \\n]</td>\n",
       "    </tr>\n",
       "    <tr>\n",
       "      <th>Consumption</th>\n",
       "      <td>[[3.8 l/100 km (comb)], [4.3 l/100 km (city)],...</td>\n",
       "      <td>[[5.6 l/100 km (comb)], [7.1 l/100 km (city)],...</td>\n",
       "      <td>[[3.8 l/100 km (comb)], [4.4 l/100 km (city)],...</td>\n",
       "      <td>[[3.8 l/100 km (comb)], [4.3 l/100 km (city)],...</td>\n",
       "      <td>[[4.1 l/100 km (comb)], [4.6 l/100 km (city)],...</td>\n",
       "      <td>[[3.5 l/100 km (comb)], [4.3 l/100 km (city)],...</td>\n",
       "      <td>[[3.7 l/100 km (comb)], [4.3 l/100 km (city)],...</td>\n",
       "      <td>[[3.7 l/100 km (comb)], [4.2 l/100 km (city)],...</td>\n",
       "      <td>[[3.7 l/100 km (comb)], [4.3 l/100 km (city)],...</td>\n",
       "      <td>NaN</td>\n",
       "      <td>...</td>\n",
       "      <td>NaN</td>\n",
       "      <td>[[6 l/100 km (comb)], [8 l/100 km (city)], [5 ...</td>\n",
       "      <td>[[4.7 l/100 km (comb)], [5.1 l/100 km (city)],...</td>\n",
       "      <td>[[5.3 l/100 km (comb)], [6.2 l/100 km (city)],...</td>\n",
       "      <td>[[6.8 l/100 km (comb)], [8.7 l/100 km (city)],...</td>\n",
       "      <td>[[5.3 l/100 km (comb)], [6.2 l/100 km (city)],...</td>\n",
       "      <td>[\\n, 7.4 l/100 km (comb), \\n, 9.2 l/100 km (ci...</td>\n",
       "      <td>[[5.3 l/100 km (comb)], [6.2 l/100 km (city)],...</td>\n",
       "      <td>[[5.3 l/100 km (comb)], [6.2 l/100 km (city)],...</td>\n",
       "      <td>[[6.8 l/100 km (comb)], [8.7 l/100 km (city)],...</td>\n",
       "    </tr>\n",
       "    <tr>\n",
       "      <th>CO2 Emission</th>\n",
       "      <td>[\\n99 g CO2/km (comb)\\n]</td>\n",
       "      <td>[\\n129 g CO2/km (comb)\\n]</td>\n",
       "      <td>[\\n99 g CO2/km (comb)\\n]</td>\n",
       "      <td>[\\n99 g CO2/km (comb)\\n]</td>\n",
       "      <td>[\\n109 g CO2/km (comb)\\n]</td>\n",
       "      <td>[\\n92 g CO2/km (comb)\\n]</td>\n",
       "      <td>[\\n98 g CO2/km (comb)\\n]</td>\n",
       "      <td>[\\n97 g CO2/km (comb)\\n]</td>\n",
       "      <td>[\\n97 g CO2/km (comb)\\n]</td>\n",
       "      <td>NaN</td>\n",
       "      <td>...</td>\n",
       "      <td>[[], [], []]</td>\n",
       "      <td>[\\n153 g CO2/km (comb)\\n]</td>\n",
       "      <td>[\\n123 g CO2/km (comb)\\n]</td>\n",
       "      <td>[\\n139 g CO2/km (comb)\\n]</td>\n",
       "      <td>[\\n153 g CO2/km (comb)\\n]</td>\n",
       "      <td>[\\n139 g CO2/km (comb)\\n]</td>\n",
       "      <td>[\\n168 g CO2/km (comb)\\n]</td>\n",
       "      <td>[\\n139 g CO2/km (comb)\\n]</td>\n",
       "      <td>[\\n139 g CO2/km (comb)\\n]</td>\n",
       "      <td>[\\n153 g CO2/km (comb)\\n]</td>\n",
       "    </tr>\n",
       "    <tr>\n",
       "      <th>Emission Class</th>\n",
       "      <td>[\\nEuro 6\\n]</td>\n",
       "      <td>[\\nEuro 6\\n]</td>\n",
       "      <td>[\\nEuro 6\\n]</td>\n",
       "      <td>[\\nEuro 6\\n]</td>\n",
       "      <td>[\\nEuro 6\\n]</td>\n",
       "      <td>[\\nEuro 6\\n]</td>\n",
       "      <td>[\\nEuro 6\\n]</td>\n",
       "      <td>[\\nEuro 6\\n]</td>\n",
       "      <td>[\\nEuro 6\\n]</td>\n",
       "      <td>NaN</td>\n",
       "      <td>...</td>\n",
       "      <td>NaN</td>\n",
       "      <td>[\\nEuro 6\\n]</td>\n",
       "      <td>[\\nEuro 6\\n]</td>\n",
       "      <td>NaN</td>\n",
       "      <td>[\\nEuro 6\\n]</td>\n",
       "      <td>NaN</td>\n",
       "      <td>NaN</td>\n",
       "      <td>[\\nEuro 6d-TEMP\\n]</td>\n",
       "      <td>[\\nEuro 6\\n]</td>\n",
       "      <td>[\\nEuro 6\\n]</td>\n",
       "    </tr>\n",
       "    <tr>\n",
       "      <th>\\nComfort &amp; Convenience\\n</th>\n",
       "      <td>[Air conditioning, Armrest, Automatic climate ...</td>\n",
       "      <td>[Air conditioning, Automatic climate control, ...</td>\n",
       "      <td>[Air conditioning, Cruise control, Electrical ...</td>\n",
       "      <td>[Air suspension, Armrest, Auxiliary heating, E...</td>\n",
       "      <td>[Air conditioning, Armrest, Automatic climate ...</td>\n",
       "      <td>[Air conditioning, Armrest, Automatic climate ...</td>\n",
       "      <td>[Air conditioning, Armrest, Automatic climate ...</td>\n",
       "      <td>[Air conditioning, Armrest, Electrical side mi...</td>\n",
       "      <td>[Air conditioning, Power windows]</td>\n",
       "      <td>NaN</td>\n",
       "      <td>...</td>\n",
       "      <td>[Air conditioning, Automatic climate control, ...</td>\n",
       "      <td>[Air conditioning, Automatic climate control, ...</td>\n",
       "      <td>[Air conditioning, Armrest, Automatic climate ...</td>\n",
       "      <td>[Air conditioning, Automatic climate control, ...</td>\n",
       "      <td>[Air conditioning, Armrest, Automatic climate ...</td>\n",
       "      <td>[Air conditioning, Automatic climate control, ...</td>\n",
       "      <td>[Air conditioning, Automatic climate control, ...</td>\n",
       "      <td>[Air conditioning, Armrest, Automatic climate ...</td>\n",
       "      <td>[Air conditioning, Automatic climate control, ...</td>\n",
       "      <td>[Air conditioning, Automatic climate control, ...</td>\n",
       "    </tr>\n",
       "    <tr>\n",
       "      <th>\\nEntertainment &amp; Media\\n</th>\n",
       "      <td>[Bluetooth, Hands-free equipment, On-board com...</td>\n",
       "      <td>[Bluetooth, Hands-free equipment, On-board com...</td>\n",
       "      <td>[MP3, On-board computer]</td>\n",
       "      <td>[Bluetooth, CD player, Hands-free equipment, M...</td>\n",
       "      <td>[Bluetooth, CD player, Hands-free equipment, M...</td>\n",
       "      <td>[Bluetooth, Hands-free equipment, On-board com...</td>\n",
       "      <td>[Bluetooth, CD player, Hands-free equipment, O...</td>\n",
       "      <td>[CD player, MP3, Radio]</td>\n",
       "      <td>[Radio]</td>\n",
       "      <td>NaN</td>\n",
       "      <td>...</td>\n",
       "      <td>[Bluetooth, Hands-free equipment, On-board com...</td>\n",
       "      <td>[Bluetooth, Hands-free equipment, On-board com...</td>\n",
       "      <td>[Bluetooth, Digital radio, Hands-free equipmen...</td>\n",
       "      <td>[Bluetooth, Digital radio, Hands-free equipmen...</td>\n",
       "      <td>[Bluetooth, Digital radio, Hands-free equipmen...</td>\n",
       "      <td>[Bluetooth, Digital radio, Hands-free equipmen...</td>\n",
       "      <td>[Bluetooth, Digital radio, Hands-free equipmen...</td>\n",
       "      <td>[Bluetooth, Hands-free equipment, On-board com...</td>\n",
       "      <td>[Bluetooth, Digital radio, Radio, USB]</td>\n",
       "      <td>[USB]</td>\n",
       "    </tr>\n",
       "    <tr>\n",
       "      <th>\\nExtras\\n</th>\n",
       "      <td>[Alloy wheels, Catalytic Converter, Voice Cont...</td>\n",
       "      <td>[Alloy wheels, Sport seats, Sport suspension, ...</td>\n",
       "      <td>[Alloy wheels, Voice Control]</td>\n",
       "      <td>[Alloy wheels, Sport seats, Voice Control]</td>\n",
       "      <td>[Alloy wheels, Sport package, Sport suspension...</td>\n",
       "      <td>[Alloy wheels, Sport package, Sport seats, Spo...</td>\n",
       "      <td>[Alloy wheels, Sport package, Sport seats, Spo...</td>\n",
       "      <td>[Alloy wheels]</td>\n",
       "      <td>[Alloy wheels]</td>\n",
       "      <td>NaN</td>\n",
       "      <td>...</td>\n",
       "      <td>[Alloy wheels, Touch screen]</td>\n",
       "      <td>[Alloy wheels]</td>\n",
       "      <td>[Alloy wheels, Touch screen, Voice Control]</td>\n",
       "      <td>[Alloy wheels, Touch screen]</td>\n",
       "      <td>[Alloy wheels, Catalytic Converter, Sport susp...</td>\n",
       "      <td>[Alloy wheels, Touch screen]</td>\n",
       "      <td>[Alloy wheels, Touch screen, Voice Control]</td>\n",
       "      <td>[Alloy wheels]</td>\n",
       "      <td>[Alloy wheels, Touch screen]</td>\n",
       "      <td>[Alloy wheels, Touch screen]</td>\n",
       "    </tr>\n",
       "    <tr>\n",
       "      <th>\\nSafety &amp; Security\\n</th>\n",
       "      <td>[ABS, Central door lock, Daytime running light...</td>\n",
       "      <td>[ABS, Central door lock, Central door lock wit...</td>\n",
       "      <td>[ABS, Central door lock, Daytime running light...</td>\n",
       "      <td>[ABS, Alarm system, Central door lock with rem...</td>\n",
       "      <td>[ABS, Central door lock, Driver-side airbag, E...</td>\n",
       "      <td>[ABS, Central door lock, Daytime running light...</td>\n",
       "      <td>[ABS, Central door lock, Daytime running light...</td>\n",
       "      <td>[ABS, Central door lock, Daytime running light...</td>\n",
       "      <td>[ABS, Central door lock, Driver-side airbag, E...</td>\n",
       "      <td>NaN</td>\n",
       "      <td>...</td>\n",
       "      <td>[ABS, Blind spot monitor, Central door lock, D...</td>\n",
       "      <td>[ABS, Adaptive headlights, Central door lock, ...</td>\n",
       "      <td>[ABS, Adaptive Cruise Control, Central door lo...</td>\n",
       "      <td>[ABS, Central door lock, Central door lock wit...</td>\n",
       "      <td>[ABS, Adaptive Cruise Control, Blind spot moni...</td>\n",
       "      <td>[ABS, Central door lock, Central door lock wit...</td>\n",
       "      <td>[ABS, Adaptive Cruise Control, Blind spot moni...</td>\n",
       "      <td>[ABS, Adaptive Cruise Control, Blind spot moni...</td>\n",
       "      <td>[ABS, Blind spot monitor, Driver-side airbag, ...</td>\n",
       "      <td>[ABS, Blind spot monitor, Daytime running ligh...</td>\n",
       "    </tr>\n",
       "    <tr>\n",
       "      <th>description</th>\n",
       "      <td>[\\n, Sicherheit:,  , Deaktivierung für Beifahr...</td>\n",
       "      <td>[\\nLangstreckenfahrzeug daher die hohe Kilomet...</td>\n",
       "      <td>[\\n, Fahrzeug-Nummer: AM-95365,  , Ehem. UPE 2...</td>\n",
       "      <td>[\\nAudi A1: , - 1e eigenaar , - Perfecte staat...</td>\n",
       "      <td>[\\n, Technik &amp; Sicherheit:, Xenon plus, Klimaa...</td>\n",
       "      <td>[\\nSichern Sie sich diesen Audi A1 1.6 TDI Spo...</td>\n",
       "      <td>[\\nREDUZIERT !!!, MwSt. ausweisbar, Nettopreis...</td>\n",
       "      <td>[\\n, Ausstattungspakete:,  Ausstattungspaket: ...</td>\n",
       "      <td>[\\nAuto in ottime condizioni. Unico proprietar...</td>\n",
       "      <td>[\\nClim automatique,Ecran multifonction couleu...</td>\n",
       "      <td>...</td>\n",
       "      <td>[\\nHallo!, Das Beratungsteam der Fa. Sonnleitn...</td>\n",
       "      <td>[\\n, Warum ist dieses Auto das Richtige für mi...</td>\n",
       "      <td>[\\n, Komfort:,  , abgedunkelte Scheiben im Fon...</td>\n",
       "      <td>[\\nVettura visionabile nella sede in Via Roma ...</td>\n",
       "      <td>[\\nFahrzeug-Nr.: NW9766., Ausstattungslinie/ -...</td>\n",
       "      <td>[\\nVettura visionabile nella sede in Via Roma ...</td>\n",
       "      <td>[\\nDach: Panorama-Glas-Schiebedach, Lackierung...</td>\n",
       "      <td>[\\n, Getriebe:,  Automatik, Technik:,  Bordcom...</td>\n",
       "      <td>[\\nDEK:[2691331], Renault Espace Blue dCi 200C...</td>\n",
       "      <td>[\\n, Sicherheit Airbags:,  , Seitenairbag,  , ...</td>\n",
       "    </tr>\n",
       "    <tr>\n",
       "      <th>Emission Label</th>\n",
       "      <td>NaN</td>\n",
       "      <td>[\\n4 (Green)\\n]</td>\n",
       "      <td>[\\n4 (Green)\\n]</td>\n",
       "      <td>NaN</td>\n",
       "      <td>NaN</td>\n",
       "      <td>[\\n4 (Green)\\n]</td>\n",
       "      <td>NaN</td>\n",
       "      <td>NaN</td>\n",
       "      <td>NaN</td>\n",
       "      <td>NaN</td>\n",
       "      <td>...</td>\n",
       "      <td>NaN</td>\n",
       "      <td>[\\n4 (Green)\\n]</td>\n",
       "      <td>[\\n4 (Green)\\n]</td>\n",
       "      <td>NaN</td>\n",
       "      <td>[\\n4 (Green)\\n]</td>\n",
       "      <td>NaN</td>\n",
       "      <td>NaN</td>\n",
       "      <td>NaN</td>\n",
       "      <td>NaN</td>\n",
       "      <td>[\\n4 (Green)\\n]</td>\n",
       "    </tr>\n",
       "    <tr>\n",
       "      <th>Gears</th>\n",
       "      <td>NaN</td>\n",
       "      <td>[\\n7\\n]</td>\n",
       "      <td>NaN</td>\n",
       "      <td>[\\n6\\n]</td>\n",
       "      <td>NaN</td>\n",
       "      <td>NaN</td>\n",
       "      <td>NaN</td>\n",
       "      <td>[\\n7\\n]</td>\n",
       "      <td>[\\n7\\n]</td>\n",
       "      <td>[\\n7\\n]</td>\n",
       "      <td>...</td>\n",
       "      <td>[\\n7\\n]</td>\n",
       "      <td>[\\n7\\n]</td>\n",
       "      <td>NaN</td>\n",
       "      <td>[\\n6\\n]</td>\n",
       "      <td>NaN</td>\n",
       "      <td>[\\n6\\n]</td>\n",
       "      <td>[\\n7\\n]</td>\n",
       "      <td>[\\n6\\n]</td>\n",
       "      <td>[\\n6\\n]</td>\n",
       "      <td>NaN</td>\n",
       "    </tr>\n",
       "    <tr>\n",
       "      <th>Country version</th>\n",
       "      <td>NaN</td>\n",
       "      <td>NaN</td>\n",
       "      <td>NaN</td>\n",
       "      <td>NaN</td>\n",
       "      <td>[\\nGermany\\n]</td>\n",
       "      <td>[\\nGermany\\n]</td>\n",
       "      <td>[\\nGermany\\n]</td>\n",
       "      <td>NaN</td>\n",
       "      <td>NaN</td>\n",
       "      <td>NaN</td>\n",
       "      <td>...</td>\n",
       "      <td>[\\nAustria\\n]</td>\n",
       "      <td>NaN</td>\n",
       "      <td>[\\nGermany\\n]</td>\n",
       "      <td>NaN</td>\n",
       "      <td>NaN</td>\n",
       "      <td>NaN</td>\n",
       "      <td>[\\nGermany\\n]</td>\n",
       "      <td>[\\nAustria\\n]</td>\n",
       "      <td>NaN</td>\n",
       "      <td>[\\nGermany\\n]</td>\n",
       "    </tr>\n",
       "    <tr>\n",
       "      <th>Electricity consumption</th>\n",
       "      <td>NaN</td>\n",
       "      <td>NaN</td>\n",
       "      <td>NaN</td>\n",
       "      <td>NaN</td>\n",
       "      <td>NaN</td>\n",
       "      <td>NaN</td>\n",
       "      <td>NaN</td>\n",
       "      <td>NaN</td>\n",
       "      <td>NaN</td>\n",
       "      <td>NaN</td>\n",
       "      <td>...</td>\n",
       "      <td>NaN</td>\n",
       "      <td>NaN</td>\n",
       "      <td>NaN</td>\n",
       "      <td>NaN</td>\n",
       "      <td>NaN</td>\n",
       "      <td>NaN</td>\n",
       "      <td>NaN</td>\n",
       "      <td>NaN</td>\n",
       "      <td>NaN</td>\n",
       "      <td>NaN</td>\n",
       "    </tr>\n",
       "    <tr>\n",
       "      <th>Last Service Date</th>\n",
       "      <td>NaN</td>\n",
       "      <td>NaN</td>\n",
       "      <td>NaN</td>\n",
       "      <td>NaN</td>\n",
       "      <td>NaN</td>\n",
       "      <td>NaN</td>\n",
       "      <td>NaN</td>\n",
       "      <td>NaN</td>\n",
       "      <td>NaN</td>\n",
       "      <td>NaN</td>\n",
       "      <td>...</td>\n",
       "      <td>NaN</td>\n",
       "      <td>NaN</td>\n",
       "      <td>NaN</td>\n",
       "      <td>NaN</td>\n",
       "      <td>NaN</td>\n",
       "      <td>NaN</td>\n",
       "      <td>NaN</td>\n",
       "      <td>NaN</td>\n",
       "      <td>NaN</td>\n",
       "      <td>NaN</td>\n",
       "    </tr>\n",
       "    <tr>\n",
       "      <th>Other Fuel Types</th>\n",
       "      <td>NaN</td>\n",
       "      <td>NaN</td>\n",
       "      <td>NaN</td>\n",
       "      <td>NaN</td>\n",
       "      <td>NaN</td>\n",
       "      <td>NaN</td>\n",
       "      <td>NaN</td>\n",
       "      <td>NaN</td>\n",
       "      <td>NaN</td>\n",
       "      <td>NaN</td>\n",
       "      <td>...</td>\n",
       "      <td>NaN</td>\n",
       "      <td>NaN</td>\n",
       "      <td>NaN</td>\n",
       "      <td>NaN</td>\n",
       "      <td>NaN</td>\n",
       "      <td>NaN</td>\n",
       "      <td>[[], [], []]</td>\n",
       "      <td>NaN</td>\n",
       "      <td>NaN</td>\n",
       "      <td>NaN</td>\n",
       "    </tr>\n",
       "    <tr>\n",
       "      <th>Availability</th>\n",
       "      <td>NaN</td>\n",
       "      <td>NaN</td>\n",
       "      <td>NaN</td>\n",
       "      <td>NaN</td>\n",
       "      <td>NaN</td>\n",
       "      <td>NaN</td>\n",
       "      <td>NaN</td>\n",
       "      <td>NaN</td>\n",
       "      <td>NaN</td>\n",
       "      <td>NaN</td>\n",
       "      <td>...</td>\n",
       "      <td>NaN</td>\n",
       "      <td>NaN</td>\n",
       "      <td>NaN</td>\n",
       "      <td>NaN</td>\n",
       "      <td>NaN</td>\n",
       "      <td>NaN</td>\n",
       "      <td>\\nin 5 days from ordering\\n</td>\n",
       "      <td>\\nin 120 days from ordering\\n</td>\n",
       "      <td>NaN</td>\n",
       "      <td>NaN</td>\n",
       "    </tr>\n",
       "    <tr>\n",
       "      <th>Last Timing Belt Service Date</th>\n",
       "      <td>NaN</td>\n",
       "      <td>NaN</td>\n",
       "      <td>NaN</td>\n",
       "      <td>NaN</td>\n",
       "      <td>NaN</td>\n",
       "      <td>NaN</td>\n",
       "      <td>NaN</td>\n",
       "      <td>NaN</td>\n",
       "      <td>NaN</td>\n",
       "      <td>NaN</td>\n",
       "      <td>...</td>\n",
       "      <td>NaN</td>\n",
       "      <td>NaN</td>\n",
       "      <td>NaN</td>\n",
       "      <td>NaN</td>\n",
       "      <td>NaN</td>\n",
       "      <td>NaN</td>\n",
       "      <td>NaN</td>\n",
       "      <td>NaN</td>\n",
       "      <td>NaN</td>\n",
       "      <td>NaN</td>\n",
       "    </tr>\n",
       "    <tr>\n",
       "      <th>Available from</th>\n",
       "      <td>NaN</td>\n",
       "      <td>NaN</td>\n",
       "      <td>NaN</td>\n",
       "      <td>NaN</td>\n",
       "      <td>NaN</td>\n",
       "      <td>NaN</td>\n",
       "      <td>NaN</td>\n",
       "      <td>NaN</td>\n",
       "      <td>NaN</td>\n",
       "      <td>NaN</td>\n",
       "      <td>...</td>\n",
       "      <td>NaN</td>\n",
       "      <td>NaN</td>\n",
       "      <td>NaN</td>\n",
       "      <td>NaN</td>\n",
       "      <td>NaN</td>\n",
       "      <td>NaN</td>\n",
       "      <td>NaN</td>\n",
       "      <td>NaN</td>\n",
       "      <td>NaN</td>\n",
       "      <td>NaN</td>\n",
       "    </tr>\n",
       "  </tbody>\n",
       "</table>\n",
       "<p>54 rows × 15919 columns</p>\n",
       "</div>"
      ],
      "text/plain": [
       "                                                                           0      \\\n",
       "url                            https://www.autoscout24.com//offers/audi-a1-sp...   \n",
       "make_model                                                               Audi A1   \n",
       "short_description                    Sportback 1.4 TDI S-tronic Xenon Navi Klima   \n",
       "body_type                                                                 Sedans   \n",
       "price                                                                      15770   \n",
       "vat                                                               VAT deductible   \n",
       "km                                                                     56,013 km   \n",
       "registration                                                             01/2016   \n",
       "prev_owner                                                     2 previous owners   \n",
       "kW                                                                           NaN   \n",
       "hp                                                                         66 kW   \n",
       "Type                                     [, Used, , Diesel (Particulate Filter)]   \n",
       "Previous Owners                                                            \\n2\\n   \n",
       "Next Inspection                            [\\n06/2021\\n, \\n99 g CO2/km (comb)\\n]   \n",
       "Inspection new                                             [\\nYes\\n, \\nEuro 6\\n]   \n",
       "Warranty                                                 [\\n, \\n, \\n4 (Green)\\n]   \n",
       "Full Service                                                            [\\n, \\n]   \n",
       "Non-smoking Vehicle                                                     [\\n, \\n]   \n",
       "null                                                                          []   \n",
       "Make                                                                    \\nAudi\\n   \n",
       "Model                                                               [\\n, A1, \\n]   \n",
       "Offer Number                                                     [\\nLR-062483\\n]   \n",
       "First Registration                                                [\\n, 2016, \\n]   \n",
       "Body Color                                                       [\\n, Black, \\n]   \n",
       "Paint Type                                                        [\\nMetallic\\n]   \n",
       "Body Color Original                                          [\\nMythosschwarz\\n]   \n",
       "Upholstery                                                    [\\nCloth, Black\\n]   \n",
       "Body                                                            [\\n, Sedans, \\n]   \n",
       "Nr. of Doors                                                             [\\n5\\n]   \n",
       "Nr. of Seats                                                             [\\n5\\n]   \n",
       "Model Code                                                        [\\n0588/BDF\\n]   \n",
       "Gearing Type                                                 [\\n, Automatic, \\n]   \n",
       "Displacement                                                      [\\n1,422 cc\\n]   \n",
       "Cylinders                                                                [\\n3\\n]   \n",
       "Weight                                                            [\\n1,220 kg\\n]   \n",
       "Drive chain                                                          [\\nfront\\n]   \n",
       "Fuel                                       [\\n, Diesel (Particulate Filter), \\n]   \n",
       "Consumption                    [[3.8 l/100 km (comb)], [4.3 l/100 km (city)],...   \n",
       "CO2 Emission                                            [\\n99 g CO2/km (comb)\\n]   \n",
       "Emission Class                                                      [\\nEuro 6\\n]   \n",
       "\\nComfort & Convenience\\n      [Air conditioning, Armrest, Automatic climate ...   \n",
       "\\nEntertainment & Media\\n      [Bluetooth, Hands-free equipment, On-board com...   \n",
       "\\nExtras\\n                     [Alloy wheels, Catalytic Converter, Voice Cont...   \n",
       "\\nSafety & Security\\n          [ABS, Central door lock, Daytime running light...   \n",
       "description                    [\\n, Sicherheit:,  , Deaktivierung für Beifahr...   \n",
       "Emission Label                                                               NaN   \n",
       "Gears                                                                        NaN   \n",
       "Country version                                                              NaN   \n",
       "Electricity consumption                                                      NaN   \n",
       "Last Service Date                                                            NaN   \n",
       "Other Fuel Types                                                             NaN   \n",
       "Availability                                                                 NaN   \n",
       "Last Timing Belt Service Date                                                NaN   \n",
       "Available from                                                               NaN   \n",
       "\n",
       "                                                                           1      \\\n",
       "url                            https://www.autoscout24.com//offers/audi-a1-1-...   \n",
       "make_model                                                               Audi A1   \n",
       "short_description                                                 1.8 TFSI sport   \n",
       "body_type                                                                 Sedans   \n",
       "price                                                                      14500   \n",
       "vat                                                             Price negotiable   \n",
       "km                                                                     80,000 km   \n",
       "registration                                                             03/2017   \n",
       "prev_owner                                                                  None   \n",
       "kW                                                                           NaN   \n",
       "hp                                                                        141 kW   \n",
       "Type                                                        [, Used, , Gasoline]   \n",
       "Previous Owners                                                              NaN   \n",
       "Next Inspection                                                              NaN   \n",
       "Inspection new                                                               NaN   \n",
       "Warranty                                                                     NaN   \n",
       "Full Service                                                                 NaN   \n",
       "Non-smoking Vehicle                                                          NaN   \n",
       "null                                                                          []   \n",
       "Make                                                                    \\nAudi\\n   \n",
       "Model                                                               [\\n, A1, \\n]   \n",
       "Offer Number                                                                 NaN   \n",
       "First Registration                                                [\\n, 2017, \\n]   \n",
       "Body Color                                                         [\\n, Red, \\n]   \n",
       "Paint Type                                                                   NaN   \n",
       "Body Color Original                                                          NaN   \n",
       "Upholstery                                                     [\\nCloth, Grey\\n]   \n",
       "Body                                                            [\\n, Sedans, \\n]   \n",
       "Nr. of Doors                                                             [\\n3\\n]   \n",
       "Nr. of Seats                                                             [\\n4\\n]   \n",
       "Model Code                                                        [\\n0588/BCY\\n]   \n",
       "Gearing Type                                                 [\\n, Automatic, \\n]   \n",
       "Displacement                                                      [\\n1,798 cc\\n]   \n",
       "Cylinders                                                                [\\n4\\n]   \n",
       "Weight                                                            [\\n1,255 kg\\n]   \n",
       "Drive chain                                                          [\\nfront\\n]   \n",
       "Fuel                                                          [\\n, Gasoline, \\n]   \n",
       "Consumption                    [[5.6 l/100 km (comb)], [7.1 l/100 km (city)],...   \n",
       "CO2 Emission                                           [\\n129 g CO2/km (comb)\\n]   \n",
       "Emission Class                                                      [\\nEuro 6\\n]   \n",
       "\\nComfort & Convenience\\n      [Air conditioning, Automatic climate control, ...   \n",
       "\\nEntertainment & Media\\n      [Bluetooth, Hands-free equipment, On-board com...   \n",
       "\\nExtras\\n                     [Alloy wheels, Sport seats, Sport suspension, ...   \n",
       "\\nSafety & Security\\n          [ABS, Central door lock, Central door lock wit...   \n",
       "description                    [\\nLangstreckenfahrzeug daher die hohe Kilomet...   \n",
       "Emission Label                                                   [\\n4 (Green)\\n]   \n",
       "Gears                                                                    [\\n7\\n]   \n",
       "Country version                                                              NaN   \n",
       "Electricity consumption                                                      NaN   \n",
       "Last Service Date                                                            NaN   \n",
       "Other Fuel Types                                                             NaN   \n",
       "Availability                                                                 NaN   \n",
       "Last Timing Belt Service Date                                                NaN   \n",
       "Available from                                                               NaN   \n",
       "\n",
       "                                                                           2      \\\n",
       "url                            https://www.autoscout24.com//offers/audi-a1-sp...   \n",
       "make_model                                                               Audi A1   \n",
       "short_description              Sportback 1.6 TDI S tronic Einparkhilfe plus+m...   \n",
       "body_type                                                                 Sedans   \n",
       "price                                                                      14640   \n",
       "vat                                                               VAT deductible   \n",
       "km                                                                     83,450 km   \n",
       "registration                                                             02/2016   \n",
       "prev_owner                                                      1 previous owner   \n",
       "kW                                                                           NaN   \n",
       "hp                                                                         85 kW   \n",
       "Type                                     [, Used, , Diesel (Particulate Filter)]   \n",
       "Previous Owners                                                            \\n1\\n   \n",
       "Next Inspection                                                              NaN   \n",
       "Inspection new                                                               NaN   \n",
       "Warranty                                        [\\n, \\n, \\n99 g CO2/km (comb)\\n]   \n",
       "Full Service                                                                 NaN   \n",
       "Non-smoking Vehicle                                                          NaN   \n",
       "null                                                                          []   \n",
       "Make                                                                    \\nAudi\\n   \n",
       "Model                                                               [\\n, A1, \\n]   \n",
       "Offer Number                                                      [\\nAM-95365\\n]   \n",
       "First Registration                                                [\\n, 2016, \\n]   \n",
       "Body Color                                                       [\\n, Black, \\n]   \n",
       "Paint Type                                                        [\\nMetallic\\n]   \n",
       "Body Color Original                                 [\\nmythosschwarz metallic\\n]   \n",
       "Upholstery                                                    [\\nCloth, Black\\n]   \n",
       "Body                                                            [\\n, Sedans, \\n]   \n",
       "Nr. of Doors                                                             [\\n4\\n]   \n",
       "Nr. of Seats                                                             [\\n4\\n]   \n",
       "Model Code                                                                   NaN   \n",
       "Gearing Type                                                 [\\n, Automatic, \\n]   \n",
       "Displacement                                                      [\\n1,598 cc\\n]   \n",
       "Cylinders                                                                    NaN   \n",
       "Weight                                                                       NaN   \n",
       "Drive chain                                                          [\\nfront\\n]   \n",
       "Fuel                                       [\\n, Diesel (Particulate Filter), \\n]   \n",
       "Consumption                    [[3.8 l/100 km (comb)], [4.4 l/100 km (city)],...   \n",
       "CO2 Emission                                            [\\n99 g CO2/km (comb)\\n]   \n",
       "Emission Class                                                      [\\nEuro 6\\n]   \n",
       "\\nComfort & Convenience\\n      [Air conditioning, Cruise control, Electrical ...   \n",
       "\\nEntertainment & Media\\n                               [MP3, On-board computer]   \n",
       "\\nExtras\\n                                         [Alloy wheels, Voice Control]   \n",
       "\\nSafety & Security\\n          [ABS, Central door lock, Daytime running light...   \n",
       "description                    [\\n, Fahrzeug-Nummer: AM-95365,  , Ehem. UPE 2...   \n",
       "Emission Label                                                   [\\n4 (Green)\\n]   \n",
       "Gears                                                                        NaN   \n",
       "Country version                                                              NaN   \n",
       "Electricity consumption                                                      NaN   \n",
       "Last Service Date                                                            NaN   \n",
       "Other Fuel Types                                                             NaN   \n",
       "Availability                                                                 NaN   \n",
       "Last Timing Belt Service Date                                                NaN   \n",
       "Available from                                                               NaN   \n",
       "\n",
       "                                                                           3      \\\n",
       "url                            https://www.autoscout24.com//offers/audi-a1-1-...   \n",
       "make_model                                                               Audi A1   \n",
       "short_description                                        1.4 TDi Design S tronic   \n",
       "body_type                                                                 Sedans   \n",
       "price                                                                      14500   \n",
       "vat                                                                         None   \n",
       "km                                                                     73,000 km   \n",
       "registration                                                             08/2016   \n",
       "prev_owner                                                      1 previous owner   \n",
       "kW                                                                           NaN   \n",
       "hp                                                                         66 kW   \n",
       "Type                                     [, Used, , Diesel (Particulate Filter)]   \n",
       "Previous Owners                                                            \\n1\\n   \n",
       "Next Inspection                                                              NaN   \n",
       "Inspection new                                                               NaN   \n",
       "Warranty                                                                     NaN   \n",
       "Full Service                                    [\\n, \\n, \\n99 g CO2/km (comb)\\n]   \n",
       "Non-smoking Vehicle                                         [\\n, \\n, \\nEuro 6\\n]   \n",
       "null                                                                          []   \n",
       "Make                                                                    \\nAudi\\n   \n",
       "Model                                                               [\\n, A1, \\n]   \n",
       "Offer Number                                                                 NaN   \n",
       "First Registration                                                [\\n, 2016, \\n]   \n",
       "Body Color                                                       [\\n, Brown, \\n]   \n",
       "Paint Type                                                        [\\nMetallic\\n]   \n",
       "Body Color Original                                                          NaN   \n",
       "Upholstery                                                                   NaN   \n",
       "Body                                                            [\\n, Sedans, \\n]   \n",
       "Nr. of Doors                                                             [\\n3\\n]   \n",
       "Nr. of Seats                                                             [\\n4\\n]   \n",
       "Model Code                                                                   NaN   \n",
       "Gearing Type                                                 [\\n, Automatic, \\n]   \n",
       "Displacement                                                      [\\n1,422 cc\\n]   \n",
       "Cylinders                                                                [\\n3\\n]   \n",
       "Weight                                                            [\\n1,195 kg\\n]   \n",
       "Drive chain                                                                  NaN   \n",
       "Fuel                                       [\\n, Diesel (Particulate Filter), \\n]   \n",
       "Consumption                    [[3.8 l/100 km (comb)], [4.3 l/100 km (city)],...   \n",
       "CO2 Emission                                            [\\n99 g CO2/km (comb)\\n]   \n",
       "Emission Class                                                      [\\nEuro 6\\n]   \n",
       "\\nComfort & Convenience\\n      [Air suspension, Armrest, Auxiliary heating, E...   \n",
       "\\nEntertainment & Media\\n      [Bluetooth, CD player, Hands-free equipment, M...   \n",
       "\\nExtras\\n                            [Alloy wheels, Sport seats, Voice Control]   \n",
       "\\nSafety & Security\\n          [ABS, Alarm system, Central door lock with rem...   \n",
       "description                    [\\nAudi A1: , - 1e eigenaar , - Perfecte staat...   \n",
       "Emission Label                                                               NaN   \n",
       "Gears                                                                    [\\n6\\n]   \n",
       "Country version                                                              NaN   \n",
       "Electricity consumption                                                      NaN   \n",
       "Last Service Date                                                            NaN   \n",
       "Other Fuel Types                                                             NaN   \n",
       "Availability                                                                 NaN   \n",
       "Last Timing Belt Service Date                                                NaN   \n",
       "Available from                                                               NaN   \n",
       "\n",
       "                                                                           4      \\\n",
       "url                            https://www.autoscout24.com//offers/audi-a1-sp...   \n",
       "make_model                                                               Audi A1   \n",
       "short_description              Sportback 1.4 TDI S-Tronic S-Line Ext. admired...   \n",
       "body_type                                                                 Sedans   \n",
       "price                                                                      16790   \n",
       "vat                                                                         None   \n",
       "km                                                                     16,200 km   \n",
       "registration                                                             05/2016   \n",
       "prev_owner                                                      1 previous owner   \n",
       "kW                                                                           NaN   \n",
       "hp                                                                         66 kW   \n",
       "Type                                     [, Used, , Diesel (Particulate Filter)]   \n",
       "Previous Owners                                                            \\n1\\n   \n",
       "Next Inspection                                                              NaN   \n",
       "Inspection new                                [\\nYes\\n, \\n109 g CO2/km (comb)\\n]   \n",
       "Warranty                                                    [\\n, \\n, \\nEuro 6\\n]   \n",
       "Full Service                                             [\\n, \\n, \\n4 (Green)\\n]   \n",
       "Non-smoking Vehicle                                                     [\\n, \\n]   \n",
       "null                                                                          []   \n",
       "Make                                                                    \\nAudi\\n   \n",
       "Model                                                               [\\n, A1, \\n]   \n",
       "Offer Number                                                         [\\nC1626\\n]   \n",
       "First Registration                                                [\\n, 2016, \\n]   \n",
       "Body Color                                                       [\\n, Black, \\n]   \n",
       "Paint Type                                                        [\\nMetallic\\n]   \n",
       "Body Color Original                                 [\\nMythosschwarz Metallic\\n]   \n",
       "Upholstery                                                    [\\nCloth, Black\\n]   \n",
       "Body                                                            [\\n, Sedans, \\n]   \n",
       "Nr. of Doors                                                             [\\n5\\n]   \n",
       "Nr. of Seats                                                             [\\n5\\n]   \n",
       "Model Code                                                        [\\n0588/BDF\\n]   \n",
       "Gearing Type                                                 [\\n, Automatic, \\n]   \n",
       "Displacement                                                      [\\n1,422 cc\\n]   \n",
       "Cylinders                                                                [\\n3\\n]   \n",
       "Weight                                                                       NaN   \n",
       "Drive chain                                                          [\\nfront\\n]   \n",
       "Fuel                                       [\\n, Diesel (Particulate Filter), \\n]   \n",
       "Consumption                    [[4.1 l/100 km (comb)], [4.6 l/100 km (city)],...   \n",
       "CO2 Emission                                           [\\n109 g CO2/km (comb)\\n]   \n",
       "Emission Class                                                      [\\nEuro 6\\n]   \n",
       "\\nComfort & Convenience\\n      [Air conditioning, Armrest, Automatic climate ...   \n",
       "\\nEntertainment & Media\\n      [Bluetooth, CD player, Hands-free equipment, M...   \n",
       "\\nExtras\\n                     [Alloy wheels, Sport package, Sport suspension...   \n",
       "\\nSafety & Security\\n          [ABS, Central door lock, Driver-side airbag, E...   \n",
       "description                    [\\n, Technik & Sicherheit:, Xenon plus, Klimaa...   \n",
       "Emission Label                                                               NaN   \n",
       "Gears                                                                        NaN   \n",
       "Country version                                                    [\\nGermany\\n]   \n",
       "Electricity consumption                                                      NaN   \n",
       "Last Service Date                                                            NaN   \n",
       "Other Fuel Types                                                             NaN   \n",
       "Availability                                                                 NaN   \n",
       "Last Timing Belt Service Date                                                NaN   \n",
       "Available from                                                               NaN   \n",
       "\n",
       "                                                                           5      \\\n",
       "url                            https://www.autoscout24.com//offers/audi-a1-1-...   \n",
       "make_model                                                               Audi A1   \n",
       "short_description                    1.6 TDI Sport DSG *SHZ*Xenon*Navi*Bose*PDC*   \n",
       "body_type                                                                 Sedans   \n",
       "price                                                                      15090   \n",
       "vat                                                                         None   \n",
       "km                                                                     63,668 km   \n",
       "registration                                                             02/2016   \n",
       "prev_owner                                                      1 previous owner   \n",
       "kW                                                                           NaN   \n",
       "hp                                                                         85 kW   \n",
       "Type                                     [, Used, , Diesel (Particulate Filter)]   \n",
       "Previous Owners                                                            \\n1\\n   \n",
       "Next Inspection                                                              NaN   \n",
       "Inspection new                                                               NaN   \n",
       "Warranty                                                                     NaN   \n",
       "Full Service                                    [\\n, \\n, \\n92 g CO2/km (comb)\\n]   \n",
       "Non-smoking Vehicle                                         [\\n, \\n, \\nEuro 6\\n]   \n",
       "null                                                                          []   \n",
       "Make                                                                    \\nAudi\\n   \n",
       "Model                                                               [\\n, A1, \\n]   \n",
       "Offer Number                                                       [\\nJV03654\\n]   \n",
       "First Registration                                                [\\n, 2016, \\n]   \n",
       "Body Color                                                       [\\n, White, \\n]   \n",
       "Paint Type                                                        [\\nMetallic\\n]   \n",
       "Body Color Original                                                          NaN   \n",
       "Upholstery                                             [\\nPart leather, Black\\n]   \n",
       "Body                                                            [\\n, Sedans, \\n]   \n",
       "Nr. of Doors                                                             [\\n4\\n]   \n",
       "Nr. of Seats                                                             [\\n5\\n]   \n",
       "Model Code                                                                   NaN   \n",
       "Gearing Type                                                 [\\n, Automatic, \\n]   \n",
       "Displacement                                                      [\\n1,598 cc\\n]   \n",
       "Cylinders                                                                    NaN   \n",
       "Weight                                                                       NaN   \n",
       "Drive chain                                                                  NaN   \n",
       "Fuel                                       [\\n, Diesel (Particulate Filter), \\n]   \n",
       "Consumption                    [[3.5 l/100 km (comb)], [4.3 l/100 km (city)],...   \n",
       "CO2 Emission                                            [\\n92 g CO2/km (comb)\\n]   \n",
       "Emission Class                                                      [\\nEuro 6\\n]   \n",
       "\\nComfort & Convenience\\n      [Air conditioning, Armrest, Automatic climate ...   \n",
       "\\nEntertainment & Media\\n      [Bluetooth, Hands-free equipment, On-board com...   \n",
       "\\nExtras\\n                     [Alloy wheels, Sport package, Sport seats, Spo...   \n",
       "\\nSafety & Security\\n          [ABS, Central door lock, Daytime running light...   \n",
       "description                    [\\nSichern Sie sich diesen Audi A1 1.6 TDI Spo...   \n",
       "Emission Label                                                   [\\n4 (Green)\\n]   \n",
       "Gears                                                                        NaN   \n",
       "Country version                                                    [\\nGermany\\n]   \n",
       "Electricity consumption                                                      NaN   \n",
       "Last Service Date                                                            NaN   \n",
       "Other Fuel Types                                                             NaN   \n",
       "Availability                                                                 NaN   \n",
       "Last Timing Belt Service Date                                                NaN   \n",
       "Available from                                                               NaN   \n",
       "\n",
       "                                                                           6      \\\n",
       "url                            https://www.autoscout24.com//offers/audi-a1-sp...   \n",
       "make_model                                                               Audi A1   \n",
       "short_description                  Sportback 1.6 TDI S-TRONIC S-LINE*NAVI|XENON*   \n",
       "body_type                                                          Station wagon   \n",
       "price                                                                      16422   \n",
       "vat                                                               VAT deductible   \n",
       "km                                                                     62,111 km   \n",
       "registration                                                             03/2016   \n",
       "prev_owner                                                      1 previous owner   \n",
       "kW                                                                           NaN   \n",
       "hp                                                                         85 kW   \n",
       "Type                                     [, Used, , Diesel (Particulate Filter)]   \n",
       "Previous Owners                                                            \\n1\\n   \n",
       "Next Inspection                                                              NaN   \n",
       "Inspection new                                 [\\nYes\\n, \\n98 g CO2/km (comb)\\n]   \n",
       "Warranty                                                                     NaN   \n",
       "Full Service                                                [\\n, \\n, \\nEuro 6\\n]   \n",
       "Non-smoking Vehicle                                      [\\n, \\n, \\n4 (Green)\\n]   \n",
       "null                                                                          []   \n",
       "Make                                                                    \\nAudi\\n   \n",
       "Model                                                               [\\n, A1, \\n]   \n",
       "Offer Number                                                        [\\n200-19\\n]   \n",
       "First Registration                                                [\\n, 2016, \\n]   \n",
       "Body Color                                                       [\\n, White, \\n]   \n",
       "Paint Type                                                        [\\nMetallic\\n]   \n",
       "Body Color Original                                         [\\nGletscherweiss\\n]   \n",
       "Upholstery                                             [\\nPart leather, Black\\n]   \n",
       "Body                                                     [\\n, Station wagon, \\n]   \n",
       "Nr. of Doors                                                             [\\n4\\n]   \n",
       "Nr. of Seats                                                             [\\n5\\n]   \n",
       "Model Code                                                                   NaN   \n",
       "Gearing Type                                                 [\\n, Automatic, \\n]   \n",
       "Displacement                                                      [\\n1,598 cc\\n]   \n",
       "Cylinders                                                                [\\n4\\n]   \n",
       "Weight                                                                       NaN   \n",
       "Drive chain                                                          [\\nfront\\n]   \n",
       "Fuel                                       [\\n, Diesel (Particulate Filter), \\n]   \n",
       "Consumption                    [[3.7 l/100 km (comb)], [4.3 l/100 km (city)],...   \n",
       "CO2 Emission                                            [\\n98 g CO2/km (comb)\\n]   \n",
       "Emission Class                                                      [\\nEuro 6\\n]   \n",
       "\\nComfort & Convenience\\n      [Air conditioning, Armrest, Automatic climate ...   \n",
       "\\nEntertainment & Media\\n      [Bluetooth, CD player, Hands-free equipment, O...   \n",
       "\\nExtras\\n                     [Alloy wheels, Sport package, Sport seats, Spo...   \n",
       "\\nSafety & Security\\n          [ABS, Central door lock, Daytime running light...   \n",
       "description                    [\\nREDUZIERT !!!, MwSt. ausweisbar, Nettopreis...   \n",
       "Emission Label                                                               NaN   \n",
       "Gears                                                                        NaN   \n",
       "Country version                                                    [\\nGermany\\n]   \n",
       "Electricity consumption                                                      NaN   \n",
       "Last Service Date                                                            NaN   \n",
       "Other Fuel Types                                                             NaN   \n",
       "Availability                                                                 NaN   \n",
       "Last Timing Belt Service Date                                                NaN   \n",
       "Available from                                                               NaN   \n",
       "\n",
       "                                                                           7      \\\n",
       "url                            https://www.autoscout24.com//offers/audi-a1-sp...   \n",
       "make_model                                                               Audi A1   \n",
       "short_description                             Sportback 1.4 TDI admired S tronic   \n",
       "body_type                                                                Compact   \n",
       "price                                                                      14480   \n",
       "vat                                                               VAT deductible   \n",
       "km                                                                     14,986 km   \n",
       "registration                                                             02/2016   \n",
       "prev_owner                                                      1 previous owner   \n",
       "kW                                                                           NaN   \n",
       "hp                                                                         66 kW   \n",
       "Type                                     [, Used, , Diesel (Particulate Filter)]   \n",
       "Previous Owners                                                            \\n1\\n   \n",
       "Next Inspection                                                              NaN   \n",
       "Inspection new                                 [\\nYes\\n, \\n97 g CO2/km (comb)\\n]   \n",
       "Warranty                                                    [\\n, \\n, \\nEuro 6\\n]   \n",
       "Full Service                                             [\\n, \\n, \\n4 (Green)\\n]   \n",
       "Non-smoking Vehicle                                                          NaN   \n",
       "null                                                                          []   \n",
       "Make                                                                    \\nAudi\\n   \n",
       "Model                                                               [\\n, A1, \\n]   \n",
       "Offer Number                                                     [\\n18381A-Q2\\n]   \n",
       "First Registration                                                [\\n, 2016, \\n]   \n",
       "Body Color                                                         [\\n, Red, \\n]   \n",
       "Paint Type                                                        [\\nMetallic\\n]   \n",
       "Body Color Original                                   [\\nMisanorot Perleffekt\\n]   \n",
       "Upholstery                                                    [\\nCloth, Black\\n]   \n",
       "Body                                                           [\\n, Compact, \\n]   \n",
       "Nr. of Doors                                                             [\\n5\\n]   \n",
       "Nr. of Seats                                                             [\\n5\\n]   \n",
       "Model Code                                                        [\\n0588/BDF\\n]   \n",
       "Gearing Type                                                 [\\n, Automatic, \\n]   \n",
       "Displacement                                                      [\\n1,422 cc\\n]   \n",
       "Cylinders                                                                    NaN   \n",
       "Weight                                                                       NaN   \n",
       "Drive chain                                                          [\\nfront\\n]   \n",
       "Fuel                                       [\\n, Diesel (Particulate Filter), \\n]   \n",
       "Consumption                    [[3.7 l/100 km (comb)], [4.2 l/100 km (city)],...   \n",
       "CO2 Emission                                            [\\n97 g CO2/km (comb)\\n]   \n",
       "Emission Class                                                      [\\nEuro 6\\n]   \n",
       "\\nComfort & Convenience\\n      [Air conditioning, Armrest, Electrical side mi...   \n",
       "\\nEntertainment & Media\\n                                [CD player, MP3, Radio]   \n",
       "\\nExtras\\n                                                        [Alloy wheels]   \n",
       "\\nSafety & Security\\n          [ABS, Central door lock, Daytime running light...   \n",
       "description                    [\\n, Ausstattungspakete:,  Ausstattungspaket: ...   \n",
       "Emission Label                                                               NaN   \n",
       "Gears                                                                    [\\n7\\n]   \n",
       "Country version                                                              NaN   \n",
       "Electricity consumption                                                      NaN   \n",
       "Last Service Date                                                            NaN   \n",
       "Other Fuel Types                                                             NaN   \n",
       "Availability                                                                 NaN   \n",
       "Last Timing Belt Service Date                                                NaN   \n",
       "Available from                                                               NaN   \n",
       "\n",
       "                                                                           8      \\\n",
       "url                            https://www.autoscout24.com//offers/audi-a1-sp...   \n",
       "make_model                                                               Audi A1   \n",
       "short_description                         SPB 1.6 TDI S-tronic Metal plus + Xeno   \n",
       "body_type                                                                 Sedans   \n",
       "price                                                                      16700   \n",
       "vat                                                                         None   \n",
       "km                                                                     57,000 km   \n",
       "registration                                                             02/2016   \n",
       "prev_owner                                                      1 previous owner   \n",
       "kW                                                                           NaN   \n",
       "hp                                                                         85 kW   \n",
       "Type                                     [, Used, , Diesel (Particulate Filter)]   \n",
       "Previous Owners                                                            \\n1\\n   \n",
       "Next Inspection                            [\\n02/2020\\n, \\n97 g CO2/km (comb)\\n]   \n",
       "Inspection new                                                               NaN   \n",
       "Warranty                                             [\\n12 months\\n, \\nEuro 6\\n]   \n",
       "Full Service                                                                 NaN   \n",
       "Non-smoking Vehicle                                                          NaN   \n",
       "null                                                                          []   \n",
       "Make                                                                    \\nAudi\\n   \n",
       "Model                                                               [\\n, A1, \\n]   \n",
       "Offer Number                                                      [\\n11540324\\n]   \n",
       "First Registration                                                [\\n, 2016, \\n]   \n",
       "Body Color                                                        [\\n, Grey, \\n]   \n",
       "Paint Type                                                        [\\nMetallic\\n]   \n",
       "Body Color Original                                                 [\\nGrigio\\n]   \n",
       "Upholstery                                                     [\\nCloth, Grey\\n]   \n",
       "Body                                                            [\\n, Sedans, \\n]   \n",
       "Nr. of Doors                                                             [\\n5\\n]   \n",
       "Nr. of Seats                                                             [\\n4\\n]   \n",
       "Model Code                                                                   NaN   \n",
       "Gearing Type                                                 [\\n, Automatic, \\n]   \n",
       "Displacement                                                      [\\n1,598 cc\\n]   \n",
       "Cylinders                                                                [\\n4\\n]   \n",
       "Weight                                                            [\\n1,275 kg\\n]   \n",
       "Drive chain                                                          [\\nfront\\n]   \n",
       "Fuel                                       [\\n, Diesel (Particulate Filter), \\n]   \n",
       "Consumption                    [[3.7 l/100 km (comb)], [4.3 l/100 km (city)],...   \n",
       "CO2 Emission                                            [\\n97 g CO2/km (comb)\\n]   \n",
       "Emission Class                                                      [\\nEuro 6\\n]   \n",
       "\\nComfort & Convenience\\n                      [Air conditioning, Power windows]   \n",
       "\\nEntertainment & Media\\n                                                [Radio]   \n",
       "\\nExtras\\n                                                        [Alloy wheels]   \n",
       "\\nSafety & Security\\n          [ABS, Central door lock, Driver-side airbag, E...   \n",
       "description                    [\\nAuto in ottime condizioni. Unico proprietar...   \n",
       "Emission Label                                                               NaN   \n",
       "Gears                                                                    [\\n7\\n]   \n",
       "Country version                                                              NaN   \n",
       "Electricity consumption                                                      NaN   \n",
       "Last Service Date                                                            NaN   \n",
       "Other Fuel Types                                                             NaN   \n",
       "Availability                                                                 NaN   \n",
       "Last Timing Belt Service Date                                                NaN   \n",
       "Available from                                                               NaN   \n",
       "\n",
       "                                                                           9      \\\n",
       "url                            https://www.autoscout24.com//offers/audi-a1-sp...   \n",
       "make_model                                                               Audi A1   \n",
       "short_description                          SPORTBACK TFSI ULTRA 95 S-TRONIC AMB.   \n",
       "body_type                                                                 Sedans   \n",
       "price                                                                      17990   \n",
       "vat                                                                         None   \n",
       "km                                                                     16,103 km   \n",
       "registration                                                             06/2017   \n",
       "prev_owner                                                                  None   \n",
       "kW                                                                           NaN   \n",
       "hp                                                                         70 kW   \n",
       "Type                                                        [, Used, , Gasoline]   \n",
       "Previous Owners                                                              NaN   \n",
       "Next Inspection                                                              NaN   \n",
       "Inspection new                                                               NaN   \n",
       "Warranty                                                            \\n3 months\\n   \n",
       "Full Service                                                                 NaN   \n",
       "Non-smoking Vehicle                                                          NaN   \n",
       "null                                                                          []   \n",
       "Make                                                                    \\nAudi\\n   \n",
       "Model                                                               [\\n, A1, \\n]   \n",
       "Offer Number                                                                 NaN   \n",
       "First Registration                                                [\\n, 2017, \\n]   \n",
       "Body Color                                                       [\\n, White, \\n]   \n",
       "Paint Type                                                                   NaN   \n",
       "Body Color Original                                                  [\\nBlanc\\n]   \n",
       "Upholstery                                                                   NaN   \n",
       "Body                                                            [\\n, Sedans, \\n]   \n",
       "Nr. of Doors                                                             [\\n5\\n]   \n",
       "Nr. of Seats                                                             [\\n4\\n]   \n",
       "Model Code                                                                   NaN   \n",
       "Gearing Type                                                 [\\n, Automatic, \\n]   \n",
       "Displacement                                                        [\\n999 cc\\n]   \n",
       "Cylinders                                                                    NaN   \n",
       "Weight                                                                       NaN   \n",
       "Drive chain                                                                  NaN   \n",
       "Fuel                                                          [\\n, Gasoline, \\n]   \n",
       "Consumption                                                                  NaN   \n",
       "CO2 Emission                                                                 NaN   \n",
       "Emission Class                                                               NaN   \n",
       "\\nComfort & Convenience\\n                                                    NaN   \n",
       "\\nEntertainment & Media\\n                                                    NaN   \n",
       "\\nExtras\\n                                                                   NaN   \n",
       "\\nSafety & Security\\n                                                        NaN   \n",
       "description                    [\\nClim automatique,Ecran multifonction couleu...   \n",
       "Emission Label                                                               NaN   \n",
       "Gears                                                                    [\\n7\\n]   \n",
       "Country version                                                              NaN   \n",
       "Electricity consumption                                                      NaN   \n",
       "Last Service Date                                                            NaN   \n",
       "Other Fuel Types                                                             NaN   \n",
       "Availability                                                                 NaN   \n",
       "Last Timing Belt Service Date                                                NaN   \n",
       "Available from                                                               NaN   \n",
       "\n",
       "                               ...  \\\n",
       "url                            ...   \n",
       "make_model                     ...   \n",
       "short_description              ...   \n",
       "body_type                      ...   \n",
       "price                          ...   \n",
       "vat                            ...   \n",
       "km                             ...   \n",
       "registration                   ...   \n",
       "prev_owner                     ...   \n",
       "kW                             ...   \n",
       "hp                             ...   \n",
       "Type                           ...   \n",
       "Previous Owners                ...   \n",
       "Next Inspection                ...   \n",
       "Inspection new                 ...   \n",
       "Warranty                       ...   \n",
       "Full Service                   ...   \n",
       "Non-smoking Vehicle            ...   \n",
       "null                           ...   \n",
       "Make                           ...   \n",
       "Model                          ...   \n",
       "Offer Number                   ...   \n",
       "First Registration             ...   \n",
       "Body Color                     ...   \n",
       "Paint Type                     ...   \n",
       "Body Color Original            ...   \n",
       "Upholstery                     ...   \n",
       "Body                           ...   \n",
       "Nr. of Doors                   ...   \n",
       "Nr. of Seats                   ...   \n",
       "Model Code                     ...   \n",
       "Gearing Type                   ...   \n",
       "Displacement                   ...   \n",
       "Cylinders                      ...   \n",
       "Weight                         ...   \n",
       "Drive chain                    ...   \n",
       "Fuel                           ...   \n",
       "Consumption                    ...   \n",
       "CO2 Emission                   ...   \n",
       "Emission Class                 ...   \n",
       "\\nComfort & Convenience\\n      ...   \n",
       "\\nEntertainment & Media\\n      ...   \n",
       "\\nExtras\\n                     ...   \n",
       "\\nSafety & Security\\n          ...   \n",
       "description                    ...   \n",
       "Emission Label                 ...   \n",
       "Gears                          ...   \n",
       "Country version                ...   \n",
       "Electricity consumption        ...   \n",
       "Last Service Date              ...   \n",
       "Other Fuel Types               ...   \n",
       "Availability                   ...   \n",
       "Last Timing Belt Service Date  ...   \n",
       "Available from                 ...   \n",
       "\n",
       "                                                                           15909  \\\n",
       "url                            https://www.autoscout24.com//offers/renault-es...   \n",
       "make_model                                                        Renault Espace   \n",
       "short_description                                       Limited Blue dCi 200 EDC   \n",
       "body_type                                                                    Van   \n",
       "price                                                                      39990   \n",
       "vat                                                               VAT deductible   \n",
       "km                                                                      3,500 km   \n",
       "registration                                                             05/2019   \n",
       "prev_owner                                                                  None   \n",
       "kW                                                                           NaN   \n",
       "hp                                                                        147 kW   \n",
       "Type                            [, Demonstration, , Diesel (Particulate Filter)]   \n",
       "Previous Owners                                                              NaN   \n",
       "Next Inspection                                                              NaN   \n",
       "Inspection new                                                               NaN   \n",
       "Warranty                                                           \\n48 months\\n   \n",
       "Full Service                                                                 NaN   \n",
       "Non-smoking Vehicle                                                          NaN   \n",
       "null                                                                          []   \n",
       "Make                                                                 \\nRenault\\n   \n",
       "Model                                                           [\\n, Espace, \\n]   \n",
       "Offer Number                                                       [\\n1-15447\\n]   \n",
       "First Registration                                                [\\n, 2019, \\n]   \n",
       "Body Color                                                       [\\n, Black, \\n]   \n",
       "Paint Type                                                        [\\nMetallic\\n]   \n",
       "Body Color Original                                            [\\nBlack-Pearl\\n]   \n",
       "Upholstery                                                                   NaN   \n",
       "Body                                                               [\\n, Van, \\n]   \n",
       "Nr. of Doors                                                             [\\n5\\n]   \n",
       "Nr. of Seats                                                             [\\n5\\n]   \n",
       "Model Code                                                                   NaN   \n",
       "Gearing Type                                                 [\\n, Automatic, \\n]   \n",
       "Displacement                                                      [\\n1,997 cc\\n]   \n",
       "Cylinders                                                                    NaN   \n",
       "Weight                                                            [\\n1,779 kg\\n]   \n",
       "Drive chain                                                                  NaN   \n",
       "Fuel                                       [\\n, Diesel (Particulate Filter), \\n]   \n",
       "Consumption                                                                  NaN   \n",
       "CO2 Emission                                                        [[], [], []]   \n",
       "Emission Class                                                               NaN   \n",
       "\\nComfort & Convenience\\n      [Air conditioning, Automatic climate control, ...   \n",
       "\\nEntertainment & Media\\n      [Bluetooth, Hands-free equipment, On-board com...   \n",
       "\\nExtras\\n                                          [Alloy wheels, Touch screen]   \n",
       "\\nSafety & Security\\n          [ABS, Blind spot monitor, Central door lock, D...   \n",
       "description                    [\\nHallo!, Das Beratungsteam der Fa. Sonnleitn...   \n",
       "Emission Label                                                               NaN   \n",
       "Gears                                                                    [\\n7\\n]   \n",
       "Country version                                                    [\\nAustria\\n]   \n",
       "Electricity consumption                                                      NaN   \n",
       "Last Service Date                                                            NaN   \n",
       "Other Fuel Types                                                             NaN   \n",
       "Availability                                                                 NaN   \n",
       "Last Timing Belt Service Date                                                NaN   \n",
       "Available from                                                               NaN   \n",
       "\n",
       "                                                                           15910  \\\n",
       "url                            https://www.autoscout24.com//offers/renault-es...   \n",
       "make_model                                                        Renault Espace   \n",
       "short_description                        TCe 225 EDC INITIALE PDC SHZ BOSE KLIMA   \n",
       "body_type                                                                    Van   \n",
       "price                                                                      39980   \n",
       "vat                                                               VAT deductible   \n",
       "km                                                                      8,500 km   \n",
       "registration                                                             02/2019   \n",
       "prev_owner                                                      1 previous owner   \n",
       "kW                                                                           NaN   \n",
       "hp                                                                        165 kW   \n",
       "Type                                 [, Demonstration, , Regular/Benzine E10 91]   \n",
       "Previous Owners                                                            \\n1\\n   \n",
       "Next Inspection                                                              NaN   \n",
       "Inspection new                                                               NaN   \n",
       "Warranty                                                                     NaN   \n",
       "Full Service                                   [\\n, \\n, \\n153 g CO2/km (comb)\\n]   \n",
       "Non-smoking Vehicle                                         [\\n, \\n, \\nEuro 6\\n]   \n",
       "null                                                                          []   \n",
       "Make                                                                 \\nRenault\\n   \n",
       "Model                                                           [\\n, Espace, \\n]   \n",
       "Offer Number                                                       [\\n1720LR8\\n]   \n",
       "First Registration                                                [\\n, 2019, \\n]   \n",
       "Body Color                                                        [\\n, Blue, \\n]   \n",
       "Paint Type                                                        [\\nMetallic\\n]   \n",
       "Body Color Original                                            [\\nKosmos-Blau\\n]   \n",
       "Upholstery                                             [\\nFull leather, Other\\n]   \n",
       "Body                                                               [\\n, Van, \\n]   \n",
       "Nr. of Doors                                                             [\\n5\\n]   \n",
       "Nr. of Seats                                                             [\\n5\\n]   \n",
       "Model Code                                                        [\\n3333/BHJ\\n]   \n",
       "Gearing Type                                                 [\\n, Automatic, \\n]   \n",
       "Displacement                                                      [\\n1,798 cc\\n]   \n",
       "Cylinders                                                                [\\n4\\n]   \n",
       "Weight                                                                       NaN   \n",
       "Drive chain                                                          [\\nfront\\n]   \n",
       "Fuel                                            [\\n, Regular/Benzine E10 91, \\n]   \n",
       "Consumption                    [[6 l/100 km (comb)], [8 l/100 km (city)], [5 ...   \n",
       "CO2 Emission                                           [\\n153 g CO2/km (comb)\\n]   \n",
       "Emission Class                                                      [\\nEuro 6\\n]   \n",
       "\\nComfort & Convenience\\n      [Air conditioning, Automatic climate control, ...   \n",
       "\\nEntertainment & Media\\n      [Bluetooth, Hands-free equipment, On-board com...   \n",
       "\\nExtras\\n                                                        [Alloy wheels]   \n",
       "\\nSafety & Security\\n          [ABS, Adaptive headlights, Central door lock, ...   \n",
       "description                    [\\n, Warum ist dieses Auto das Richtige für mi...   \n",
       "Emission Label                                                   [\\n4 (Green)\\n]   \n",
       "Gears                                                                    [\\n7\\n]   \n",
       "Country version                                                              NaN   \n",
       "Electricity consumption                                                      NaN   \n",
       "Last Service Date                                                            NaN   \n",
       "Other Fuel Types                                                             NaN   \n",
       "Availability                                                                 NaN   \n",
       "Last Timing Belt Service Date                                                NaN   \n",
       "Available from                                                               NaN   \n",
       "\n",
       "                                                                           15911  \\\n",
       "url                            https://www.autoscout24.com//offers/renault-es...   \n",
       "make_model                                                        Renault Espace   \n",
       "short_description                                      ELYSEE ENERGY dCi 160 EDC   \n",
       "body_type                                                                    Van   \n",
       "price                                                                      39980   \n",
       "vat                                                               VAT deductible   \n",
       "km                                                                        100 km   \n",
       "registration                                                             02/2019   \n",
       "prev_owner                                                      1 previous owner   \n",
       "kW                                                                           NaN   \n",
       "hp                                                                        118 kW   \n",
       "Type                           [, Pre-registered, , Diesel (Particulate Filter)]   \n",
       "Previous Owners                                                            \\n1\\n   \n",
       "Next Inspection                                                              NaN   \n",
       "Inspection new                                                               NaN   \n",
       "Warranty                                                                     NaN   \n",
       "Full Service                                                                 NaN   \n",
       "Non-smoking Vehicle                            [\\n, \\n, \\n123 g CO2/km (comb)\\n]   \n",
       "null                                                                          []   \n",
       "Make                                                                 \\nRenault\\n   \n",
       "Model                                                           [\\n, Espace, \\n]   \n",
       "Offer Number                                                     [\\nVB1_12468\\n]   \n",
       "First Registration                                                [\\n, 2019, \\n]   \n",
       "Body Color                                                       [\\n, White, \\n]   \n",
       "Paint Type                                                        [\\nMetallic\\n]   \n",
       "Body Color Original                          [\\nPerlmutt-Weiß Metallic (Weiß)\\n]   \n",
       "Upholstery                                              [\\nFull leather, Grey\\n]   \n",
       "Body                                                               [\\n, Van, \\n]   \n",
       "Nr. of Doors                                                             [\\n5\\n]   \n",
       "Nr. of Seats                                                             [\\n7\\n]   \n",
       "Model Code                                                        [\\n3333/BDQ\\n]   \n",
       "Gearing Type                                                 [\\n, Automatic, \\n]   \n",
       "Displacement                                                      [\\n1,598 cc\\n]   \n",
       "Cylinders                                                                [\\n4\\n]   \n",
       "Weight                                                            [\\n1,734 kg\\n]   \n",
       "Drive chain                                                                  NaN   \n",
       "Fuel                                       [\\n, Diesel (Particulate Filter), \\n]   \n",
       "Consumption                    [[4.7 l/100 km (comb)], [5.1 l/100 km (city)],...   \n",
       "CO2 Emission                                           [\\n123 g CO2/km (comb)\\n]   \n",
       "Emission Class                                                      [\\nEuro 6\\n]   \n",
       "\\nComfort & Convenience\\n      [Air conditioning, Armrest, Automatic climate ...   \n",
       "\\nEntertainment & Media\\n      [Bluetooth, Digital radio, Hands-free equipmen...   \n",
       "\\nExtras\\n                           [Alloy wheels, Touch screen, Voice Control]   \n",
       "\\nSafety & Security\\n          [ABS, Adaptive Cruise Control, Central door lo...   \n",
       "description                    [\\n, Komfort:,  , abgedunkelte Scheiben im Fon...   \n",
       "Emission Label                                                   [\\n4 (Green)\\n]   \n",
       "Gears                                                                        NaN   \n",
       "Country version                                                    [\\nGermany\\n]   \n",
       "Electricity consumption                                                      NaN   \n",
       "Last Service Date                                                            NaN   \n",
       "Other Fuel Types                                                             NaN   \n",
       "Availability                                                                 NaN   \n",
       "Last Timing Belt Service Date                                                NaN   \n",
       "Available from                                                               NaN   \n",
       "\n",
       "                                                                           15912  \\\n",
       "url                            https://www.autoscout24.com//offers/renault-es...   \n",
       "make_model                                                        Renault Espace   \n",
       "short_description                          Blue dCi 200CV EDC Executive 4Control   \n",
       "body_type                                                                    Van   \n",
       "price                                                                      39950   \n",
       "vat                                                               VAT deductible   \n",
       "km                                                                          - km   \n",
       "registration                                                                 -/-   \n",
       "prev_owner                                                                  None   \n",
       "kW                                                                           NaN   \n",
       "hp                                                                        147 kW   \n",
       "Type                                      [, New, , Diesel (Particulate Filter)]   \n",
       "Previous Owners                                                              NaN   \n",
       "Next Inspection                                                              NaN   \n",
       "Inspection new                                                               NaN   \n",
       "Warranty                                                           \\n24 months\\n   \n",
       "Full Service                                                                 NaN   \n",
       "Non-smoking Vehicle                                                          NaN   \n",
       "null                                                                          []   \n",
       "Make                                                                 \\nRenault\\n   \n",
       "Model                                                           [\\n, Espace, \\n]   \n",
       "Offer Number                                                      [\\n10988276\\n]   \n",
       "First Registration                                                           NaN   \n",
       "Body Color                                                       [\\n, Black, \\n]   \n",
       "Paint Type                                                        [\\nMetallic\\n]   \n",
       "Body Color Original                                                   [\\nNero\\n]   \n",
       "Upholstery                                                                   NaN   \n",
       "Body                                                               [\\n, Van, \\n]   \n",
       "Nr. of Doors                                                             [\\n5\\n]   \n",
       "Nr. of Seats                                                             [\\n5\\n]   \n",
       "Model Code                                                                   NaN   \n",
       "Gearing Type                                                 [\\n, Automatic, \\n]   \n",
       "Displacement                                                      [\\n1,997 cc\\n]   \n",
       "Cylinders                                                                [\\n4\\n]   \n",
       "Weight                                                            [\\n1,758 kg\\n]   \n",
       "Drive chain                                                          [\\nfront\\n]   \n",
       "Fuel                                       [\\n, Diesel (Particulate Filter), \\n]   \n",
       "Consumption                    [[5.3 l/100 km (comb)], [6.2 l/100 km (city)],...   \n",
       "CO2 Emission                                           [\\n139 g CO2/km (comb)\\n]   \n",
       "Emission Class                                                               NaN   \n",
       "\\nComfort & Convenience\\n      [Air conditioning, Automatic climate control, ...   \n",
       "\\nEntertainment & Media\\n      [Bluetooth, Digital radio, Hands-free equipmen...   \n",
       "\\nExtras\\n                                          [Alloy wheels, Touch screen]   \n",
       "\\nSafety & Security\\n          [ABS, Central door lock, Central door lock wit...   \n",
       "description                    [\\nVettura visionabile nella sede in Via Roma ...   \n",
       "Emission Label                                                               NaN   \n",
       "Gears                                                                    [\\n6\\n]   \n",
       "Country version                                                              NaN   \n",
       "Electricity consumption                                                      NaN   \n",
       "Last Service Date                                                            NaN   \n",
       "Other Fuel Types                                                             NaN   \n",
       "Availability                                                                 NaN   \n",
       "Last Timing Belt Service Date                                                NaN   \n",
       "Available from                                                               NaN   \n",
       "\n",
       "                                                                           15913  \\\n",
       "url                            https://www.autoscout24.com//offers/renault-es...   \n",
       "make_model                                                        Renault Espace   \n",
       "short_description                         INITIALE Paris TCe 225 EDC GPF ACC EU6   \n",
       "body_type                                                                    Van   \n",
       "price                                                                      39950   \n",
       "vat                                                               VAT deductible   \n",
       "km                                                                      1,000 km   \n",
       "registration                                                             04/2019   \n",
       "prev_owner                                                                  None   \n",
       "kW                                                                           NaN   \n",
       "hp                                                                        165 kW   \n",
       "Type                                               [, Demonstration, , Super 95]   \n",
       "Previous Owners                                                              NaN   \n",
       "Next Inspection                                                              NaN   \n",
       "Inspection new                                                               NaN   \n",
       "Warranty                                                                     NaN   \n",
       "Full Service                                                                 NaN   \n",
       "Non-smoking Vehicle                                                          NaN   \n",
       "null                                                                          []   \n",
       "Make                                                                 \\nRenault\\n   \n",
       "Model                                                           [\\n, Espace, \\n]   \n",
       "Offer Number                                                        [\\nNW9766\\n]   \n",
       "First Registration                                                [\\n, 2019, \\n]   \n",
       "Body Color                                                       [\\n, White, \\n]   \n",
       "Paint Type                                                        [\\nMetallic\\n]   \n",
       "Body Color Original                                         [\\nperlmutt-weiss\\n]   \n",
       "Upholstery                                             [\\nFull leather, Brown\\n]   \n",
       "Body                                                               [\\n, Van, \\n]   \n",
       "Nr. of Doors                                                             [\\n5\\n]   \n",
       "Nr. of Seats                                                             [\\n7\\n]   \n",
       "Model Code                                                                   NaN   \n",
       "Gearing Type                                                 [\\n, Automatic, \\n]   \n",
       "Displacement                                                      [\\n1,798 cc\\n]   \n",
       "Cylinders                                                                [\\n4\\n]   \n",
       "Weight                                                                       NaN   \n",
       "Drive chain                                                          [\\nfront\\n]   \n",
       "Fuel                                                          [\\n, Super 95, \\n]   \n",
       "Consumption                    [[6.8 l/100 km (comb)], [8.7 l/100 km (city)],...   \n",
       "CO2 Emission                                           [\\n153 g CO2/km (comb)\\n]   \n",
       "Emission Class                                                      [\\nEuro 6\\n]   \n",
       "\\nComfort & Convenience\\n      [Air conditioning, Armrest, Automatic climate ...   \n",
       "\\nEntertainment & Media\\n      [Bluetooth, Digital radio, Hands-free equipmen...   \n",
       "\\nExtras\\n                     [Alloy wheels, Catalytic Converter, Sport susp...   \n",
       "\\nSafety & Security\\n          [ABS, Adaptive Cruise Control, Blind spot moni...   \n",
       "description                    [\\nFahrzeug-Nr.: NW9766., Ausstattungslinie/ -...   \n",
       "Emission Label                                                   [\\n4 (Green)\\n]   \n",
       "Gears                                                                        NaN   \n",
       "Country version                                                              NaN   \n",
       "Electricity consumption                                                      NaN   \n",
       "Last Service Date                                                            NaN   \n",
       "Other Fuel Types                                                             NaN   \n",
       "Availability                                                                 NaN   \n",
       "Last Timing Belt Service Date                                                NaN   \n",
       "Available from                                                               NaN   \n",
       "\n",
       "                                                                           15914  \\\n",
       "url                            https://www.autoscout24.com//offers/renault-es...   \n",
       "make_model                                                        Renault Espace   \n",
       "short_description                          Blue dCi 200CV EDC Executive 4Control   \n",
       "body_type                                                                    Van   \n",
       "price                                                                      39950   \n",
       "vat                                                               VAT deductible   \n",
       "km                                                                          - km   \n",
       "registration                                                                 -/-   \n",
       "prev_owner                                                                  None   \n",
       "kW                                                                           NaN   \n",
       "hp                                                                        147 kW   \n",
       "Type                                      [, New, , Diesel (Particulate Filter)]   \n",
       "Previous Owners                                                              NaN   \n",
       "Next Inspection                                                              NaN   \n",
       "Inspection new                                                               NaN   \n",
       "Warranty                                                           \\n24 months\\n   \n",
       "Full Service                                                                 NaN   \n",
       "Non-smoking Vehicle                                                          NaN   \n",
       "null                                                                          []   \n",
       "Make                                                                 \\nRenault\\n   \n",
       "Model                                                           [\\n, Espace, \\n]   \n",
       "Offer Number                                                      [\\n10988301\\n]   \n",
       "First Registration                                                           NaN   \n",
       "Body Color                                                        [\\n, Grey, \\n]   \n",
       "Paint Type                                                        [\\nMetallic\\n]   \n",
       "Body Color Original                                           [\\nGrigio scuro\\n]   \n",
       "Upholstery                                                                   NaN   \n",
       "Body                                                               [\\n, Van, \\n]   \n",
       "Nr. of Doors                                                             [\\n5\\n]   \n",
       "Nr. of Seats                                                             [\\n5\\n]   \n",
       "Model Code                                                                   NaN   \n",
       "Gearing Type                                                 [\\n, Automatic, \\n]   \n",
       "Displacement                                                      [\\n1,997 cc\\n]   \n",
       "Cylinders                                                                [\\n4\\n]   \n",
       "Weight                                                            [\\n1,758 kg\\n]   \n",
       "Drive chain                                                          [\\nfront\\n]   \n",
       "Fuel                                       [\\n, Diesel (Particulate Filter), \\n]   \n",
       "Consumption                    [[5.3 l/100 km (comb)], [6.2 l/100 km (city)],...   \n",
       "CO2 Emission                                           [\\n139 g CO2/km (comb)\\n]   \n",
       "Emission Class                                                               NaN   \n",
       "\\nComfort & Convenience\\n      [Air conditioning, Automatic climate control, ...   \n",
       "\\nEntertainment & Media\\n      [Bluetooth, Digital radio, Hands-free equipmen...   \n",
       "\\nExtras\\n                                          [Alloy wheels, Touch screen]   \n",
       "\\nSafety & Security\\n          [ABS, Central door lock, Central door lock wit...   \n",
       "description                    [\\nVettura visionabile nella sede in Via Roma ...   \n",
       "Emission Label                                                               NaN   \n",
       "Gears                                                                    [\\n6\\n]   \n",
       "Country version                                                              NaN   \n",
       "Electricity consumption                                                      NaN   \n",
       "Last Service Date                                                            NaN   \n",
       "Other Fuel Types                                                             NaN   \n",
       "Availability                                                                 NaN   \n",
       "Last Timing Belt Service Date                                                NaN   \n",
       "Available from                                                               NaN   \n",
       "\n",
       "                                                                           15915  \\\n",
       "url                            https://www.autoscout24.com//offers/renault-es...   \n",
       "make_model                                                        Renault Espace   \n",
       "short_description                            TCe 225 EDC GPF LIM Deluxe Pano,RFK   \n",
       "body_type                                                                    Van   \n",
       "price                                                                      39885   \n",
       "vat                                                               VAT deductible   \n",
       "km                                                                      9,900 km   \n",
       "registration                                                             01/2019   \n",
       "prev_owner                                                      1 previous owner   \n",
       "kW                                                                           NaN   \n",
       "hp                                                                        165 kW   \n",
       "Type                           [, Used, , Super 95 / Super Plus 98 (Particula...   \n",
       "Previous Owners                [\\n1\\n, \\n, 7.4 l/100 km (comb), \\n, 9.2 l/100...   \n",
       "Next Inspection                           [\\n01/2022\\n, \\n168 g CO2/km (comb)\\n]   \n",
       "Inspection new                                                               NaN   \n",
       "Warranty                                                    [\\n, \\n, \\nEuro 6\\n]   \n",
       "Full Service                                                                 NaN   \n",
       "Non-smoking Vehicle                                      [\\n, \\n, \\n4 (Green)\\n]   \n",
       "null                                                                          []   \n",
       "Make                                                                 \\nRenault\\n   \n",
       "Model                                                           [\\n, Espace, \\n]   \n",
       "Offer Number                                                   [\\n507370_3223\\n]   \n",
       "First Registration                                                [\\n, 2019, \\n]   \n",
       "Body Color                                                        [\\n, Grey, \\n]   \n",
       "Paint Type                                                        [\\nMetallic\\n]   \n",
       "Body Color Original                                    [\\nStahl-Grau Metallic\\n]   \n",
       "Upholstery                                                           [\\nCloth\\n]   \n",
       "Body                                                               [\\n, Van, \\n]   \n",
       "Nr. of Doors                                                             [\\n5\\n]   \n",
       "Nr. of Seats                                                             [\\n5\\n]   \n",
       "Model Code                                                        [\\n0000/000\\n]   \n",
       "Gearing Type                                                 [\\n, Automatic, \\n]   \n",
       "Displacement                                                      [\\n1,798 cc\\n]   \n",
       "Cylinders                                                                [\\n4\\n]   \n",
       "Weight                                                            [\\n1,708 kg\\n]   \n",
       "Drive chain                                                          [\\nfront\\n]   \n",
       "Fuel                           [\\n, Super 95 / Super Plus 98 (Particulate Fil...   \n",
       "Consumption                    [\\n, 7.4 l/100 km (comb), \\n, 9.2 l/100 km (ci...   \n",
       "CO2 Emission                                           [\\n168 g CO2/km (comb)\\n]   \n",
       "Emission Class                                                               NaN   \n",
       "\\nComfort & Convenience\\n      [Air conditioning, Automatic climate control, ...   \n",
       "\\nEntertainment & Media\\n      [Bluetooth, Digital radio, Hands-free equipmen...   \n",
       "\\nExtras\\n                           [Alloy wheels, Touch screen, Voice Control]   \n",
       "\\nSafety & Security\\n          [ABS, Adaptive Cruise Control, Blind spot moni...   \n",
       "description                    [\\nDach: Panorama-Glas-Schiebedach, Lackierung...   \n",
       "Emission Label                                                               NaN   \n",
       "Gears                                                                    [\\n7\\n]   \n",
       "Country version                                                    [\\nGermany\\n]   \n",
       "Electricity consumption                                                      NaN   \n",
       "Last Service Date                                                            NaN   \n",
       "Other Fuel Types                                                    [[], [], []]   \n",
       "Availability                                         \\nin 5 days from ordering\\n   \n",
       "Last Timing Belt Service Date                                                NaN   \n",
       "Available from                                                               NaN   \n",
       "\n",
       "                                                                           15916  \\\n",
       "url                            https://www.autoscout24.com//offers/renault-es...   \n",
       "make_model                                                        Renault Espace   \n",
       "short_description              Blue dCi 200 EDC Initiale Paris Leder LED Navi...   \n",
       "body_type                                                                    Van   \n",
       "price                                                                      39875   \n",
       "vat                                                               VAT deductible   \n",
       "km                                                                         15 km   \n",
       "registration                                                             03/2019   \n",
       "prev_owner                                                      1 previous owner   \n",
       "kW                                                                           NaN   \n",
       "hp                                                                        146 kW   \n",
       "Type                                                [, Pre-registered, , Diesel]   \n",
       "Previous Owners                                 [\\n1\\n, \\n139 g CO2/km (comb)\\n]   \n",
       "Next Inspection                                                              NaN   \n",
       "Inspection new                                       [\\nYes\\n, \\nEuro 6d-TEMP\\n]   \n",
       "Warranty                                                 [\\n, \\n, \\n4 (Green)\\n]   \n",
       "Full Service                                                            [\\n, \\n]   \n",
       "Non-smoking Vehicle                                                     [\\n, \\n]   \n",
       "null                                                                          []   \n",
       "Make                                                                 \\nRenault\\n   \n",
       "Model                                                           [\\n, Espace, \\n]   \n",
       "Offer Number                                                      [\\nEspace16\\n]   \n",
       "First Registration                                                [\\n, 2019, \\n]   \n",
       "Body Color                                                       [\\n, White, \\n]   \n",
       "Paint Type                                                                   NaN   \n",
       "Body Color Original                                            [\\narktis-weiß\\n]   \n",
       "Upholstery                                             [\\nFull leather, Black\\n]   \n",
       "Body                                                               [\\n, Van, \\n]   \n",
       "Nr. of Doors                                                             [\\n5\\n]   \n",
       "Nr. of Seats                                                             [\\n7\\n]   \n",
       "Model Code                                                                   NaN   \n",
       "Gearing Type                                                 [\\n, Automatic, \\n]   \n",
       "Displacement                                                      [\\n1,997 cc\\n]   \n",
       "Cylinders                                                                [\\n4\\n]   \n",
       "Weight                                                                       NaN   \n",
       "Drive chain                                                          [\\nfront\\n]   \n",
       "Fuel                                                            [\\n, Diesel, \\n]   \n",
       "Consumption                    [[5.3 l/100 km (comb)], [6.2 l/100 km (city)],...   \n",
       "CO2 Emission                                           [\\n139 g CO2/km (comb)\\n]   \n",
       "Emission Class                                                [\\nEuro 6d-TEMP\\n]   \n",
       "\\nComfort & Convenience\\n      [Air conditioning, Armrest, Automatic climate ...   \n",
       "\\nEntertainment & Media\\n      [Bluetooth, Hands-free equipment, On-board com...   \n",
       "\\nExtras\\n                                                        [Alloy wheels]   \n",
       "\\nSafety & Security\\n          [ABS, Adaptive Cruise Control, Blind spot moni...   \n",
       "description                    [\\n, Getriebe:,  Automatik, Technik:,  Bordcom...   \n",
       "Emission Label                                                               NaN   \n",
       "Gears                                                                    [\\n6\\n]   \n",
       "Country version                                                    [\\nAustria\\n]   \n",
       "Electricity consumption                                                      NaN   \n",
       "Last Service Date                                                            NaN   \n",
       "Other Fuel Types                                                             NaN   \n",
       "Availability                                       \\nin 120 days from ordering\\n   \n",
       "Last Timing Belt Service Date                                                NaN   \n",
       "Available from                                                               NaN   \n",
       "\n",
       "                                                                           15917  \\\n",
       "url                            https://www.autoscout24.com//offers/renault-es...   \n",
       "make_model                                                        Renault Espace   \n",
       "short_description              Blue dCi 200CV EDC Business , NUOVA DA IMMATRI...   \n",
       "body_type                                                                    Van   \n",
       "price                                                                      39700   \n",
       "vat                                                               VAT deductible   \n",
       "km                                                                         10 km   \n",
       "registration                                                             06/2019   \n",
       "prev_owner                                                                  None   \n",
       "kW                                                                           NaN   \n",
       "hp                                                                        147 kW   \n",
       "Type                                                [, Pre-registered, , Diesel]   \n",
       "Previous Owners                                                              NaN   \n",
       "Next Inspection                                                              NaN   \n",
       "Inspection new                                                               NaN   \n",
       "Warranty                                                                      \\n   \n",
       "Full Service                                                                 NaN   \n",
       "Non-smoking Vehicle                                                          NaN   \n",
       "null                                                                          []   \n",
       "Make                                                                 \\nRenault\\n   \n",
       "Model                                                           [\\n, Espace, \\n]   \n",
       "Offer Number                                                       [\\n2691331\\n]   \n",
       "First Registration                                                [\\n, 2019, \\n]   \n",
       "Body Color                                                        [\\n, Grey, \\n]   \n",
       "Paint Type                                                                   NaN   \n",
       "Body Color Original                                                 [\\nGrigio\\n]   \n",
       "Upholstery                                                    [\\nPart leather\\n]   \n",
       "Body                                                               [\\n, Van, \\n]   \n",
       "Nr. of Doors                                                             [\\n5\\n]   \n",
       "Nr. of Seats                                                             [\\n7\\n]   \n",
       "Model Code                                                                   NaN   \n",
       "Gearing Type                                                 [\\n, Automatic, \\n]   \n",
       "Displacement                                                      [\\n1,997 cc\\n]   \n",
       "Cylinders                                                                [\\n4\\n]   \n",
       "Weight                                                            [\\n1,758 kg\\n]   \n",
       "Drive chain                                                          [\\nfront\\n]   \n",
       "Fuel                                                            [\\n, Diesel, \\n]   \n",
       "Consumption                    [[5.3 l/100 km (comb)], [6.2 l/100 km (city)],...   \n",
       "CO2 Emission                                           [\\n139 g CO2/km (comb)\\n]   \n",
       "Emission Class                                                      [\\nEuro 6\\n]   \n",
       "\\nComfort & Convenience\\n      [Air conditioning, Automatic climate control, ...   \n",
       "\\nEntertainment & Media\\n                 [Bluetooth, Digital radio, Radio, USB]   \n",
       "\\nExtras\\n                                          [Alloy wheels, Touch screen]   \n",
       "\\nSafety & Security\\n          [ABS, Blind spot monitor, Driver-side airbag, ...   \n",
       "description                    [\\nDEK:[2691331], Renault Espace Blue dCi 200C...   \n",
       "Emission Label                                                               NaN   \n",
       "Gears                                                                    [\\n6\\n]   \n",
       "Country version                                                              NaN   \n",
       "Electricity consumption                                                      NaN   \n",
       "Last Service Date                                                            NaN   \n",
       "Other Fuel Types                                                             NaN   \n",
       "Availability                                                                 NaN   \n",
       "Last Timing Belt Service Date                                                NaN   \n",
       "Available from                                                               NaN   \n",
       "\n",
       "                                                                           15918  \n",
       "url                            https://www.autoscout24.com//offers/renault-es...  \n",
       "make_model                                                        Renault Espace  \n",
       "short_description                    INITIALE PARIS TCe 225 EDC GPF NAVI SHZ AUX  \n",
       "body_type                                                                    Van  \n",
       "price                                                                      40999  \n",
       "vat                                                               VAT deductible  \n",
       "km                                                                          - km  \n",
       "registration                                                             01/2019  \n",
       "prev_owner                                                      1 previous owner  \n",
       "kW                                                                           NaN  \n",
       "hp                                                                        165 kW  \n",
       "Type                                               [, Demonstration, , Super 95]  \n",
       "Previous Owners                                                            \\n1\\n  \n",
       "Next Inspection                                                              NaN  \n",
       "Inspection new                                [\\nYes\\n, \\n153 g CO2/km (comb)\\n]  \n",
       "Warranty                                                                     NaN  \n",
       "Full Service                                                                 NaN  \n",
       "Non-smoking Vehicle                                                          NaN  \n",
       "null                                                                          []  \n",
       "Make                                                                 \\nRenault\\n  \n",
       "Model                                                           [\\n, Espace, \\n]  \n",
       "Offer Number                                                [\\nRe_30000008029\\n]  \n",
       "First Registration                                                [\\n, 2019, \\n]  \n",
       "Body Color                                                        [\\n, Grey, \\n]  \n",
       "Paint Type                                                        [\\nMetallic\\n]  \n",
       "Body Color Original                                 [\\nTitanium-Grau Metallic\\n]  \n",
       "Upholstery                                             [\\nFull leather, Brown\\n]  \n",
       "Body                                                               [\\n, Van, \\n]  \n",
       "Nr. of Doors                                                             [\\n5\\n]  \n",
       "Nr. of Seats                                                             [\\n5\\n]  \n",
       "Model Code                                                        [\\n3333/BHJ\\n]  \n",
       "Gearing Type                                                 [\\n, Automatic, \\n]  \n",
       "Displacement                                                      [\\n1,798 cc\\n]  \n",
       "Cylinders                                                                [\\n4\\n]  \n",
       "Weight                                                            [\\n1,685 kg\\n]  \n",
       "Drive chain                                                            [\\n4WD\\n]  \n",
       "Fuel                                                          [\\n, Super 95, \\n]  \n",
       "Consumption                    [[6.8 l/100 km (comb)], [8.7 l/100 km (city)],...  \n",
       "CO2 Emission                                           [\\n153 g CO2/km (comb)\\n]  \n",
       "Emission Class                                                      [\\nEuro 6\\n]  \n",
       "\\nComfort & Convenience\\n      [Air conditioning, Automatic climate control, ...  \n",
       "\\nEntertainment & Media\\n                                                  [USB]  \n",
       "\\nExtras\\n                                          [Alloy wheels, Touch screen]  \n",
       "\\nSafety & Security\\n          [ABS, Blind spot monitor, Daytime running ligh...  \n",
       "description                    [\\n, Sicherheit Airbags:,  , Seitenairbag,  , ...  \n",
       "Emission Label                                                   [\\n4 (Green)\\n]  \n",
       "Gears                                                                        NaN  \n",
       "Country version                                                    [\\nGermany\\n]  \n",
       "Electricity consumption                                                      NaN  \n",
       "Last Service Date                                                            NaN  \n",
       "Other Fuel Types                                                             NaN  \n",
       "Availability                                                                 NaN  \n",
       "Last Timing Belt Service Date                                                NaN  \n",
       "Available from                                                               NaN  \n",
       "\n",
       "[54 rows x 15919 columns]"
      ]
     },
     "execution_count": 40,
     "metadata": {},
     "output_type": "execute_result"
    }
   ],
   "source": [
    "scout_car.T"
   ]
  },
  {
   "cell_type": "code",
   "execution_count": 41,
   "id": "7a8af92b",
   "metadata": {},
   "outputs": [
    {
     "data": {
      "text/plain": [
       "(15919, 54)"
      ]
     },
     "execution_count": 41,
     "metadata": {},
     "output_type": "execute_result"
    }
   ],
   "source": [
    "scout_car.shape"
   ]
  },
  {
   "cell_type": "code",
   "execution_count": 42,
   "id": "497cdcb1",
   "metadata": {},
   "outputs": [
    {
     "name": "stdout",
     "output_type": "stream",
     "text": [
      "<class 'pandas.core.frame.DataFrame'>\n",
      "RangeIndex: 15919 entries, 0 to 15918\n",
      "Data columns (total 54 columns):\n",
      " #   Column                         Non-Null Count  Dtype  \n",
      "---  ------                         --------------  -----  \n",
      " 0   url                            15919 non-null  object \n",
      " 1   make_model                     15919 non-null  object \n",
      " 2   short_description              15873 non-null  object \n",
      " 3   body_type                      15859 non-null  object \n",
      " 4   price                          15919 non-null  int64  \n",
      " 5   vat                            11406 non-null  object \n",
      " 6   km                             15919 non-null  object \n",
      " 7   registration                   15919 non-null  object \n",
      " 8   prev_owner                     9091 non-null   object \n",
      " 9   kW                             0 non-null      float64\n",
      " 10  hp                             15919 non-null  object \n",
      " 11  Type                           15917 non-null  object \n",
      " 12  Previous Owners                9279 non-null   object \n",
      " 13  Next Inspection                3535 non-null   object \n",
      " 14  Inspection new                 3932 non-null   object \n",
      " 15  Warranty                       10499 non-null  object \n",
      " 16  Full Service                   8215 non-null   object \n",
      " 17  Non-smoking Vehicle            7177 non-null   object \n",
      " 18  null                           15919 non-null  object \n",
      " 19  Make                           15919 non-null  object \n",
      " 20  Model                          15919 non-null  object \n",
      " 21  Offer Number                   12744 non-null  object \n",
      " 22  First Registration             14322 non-null  object \n",
      " 23  Body Color                     15322 non-null  object \n",
      " 24  Paint Type                     10147 non-null  object \n",
      " 25  Body Color Original            12160 non-null  object \n",
      " 26  Upholstery                     12199 non-null  object \n",
      " 27  Body                           15859 non-null  object \n",
      " 28  Nr. of Doors                   15707 non-null  object \n",
      " 29  Nr. of Seats                   14942 non-null  object \n",
      " 30  Model Code                     4978 non-null   object \n",
      " 31  Gearing Type                   15919 non-null  object \n",
      " 32  Displacement                   15423 non-null  object \n",
      " 33  Cylinders                      10239 non-null  object \n",
      " 34  Weight                         8945 non-null   object \n",
      " 35  Drive chain                    9061 non-null   object \n",
      " 36  Fuel                           15919 non-null  object \n",
      " 37  Consumption                    14013 non-null  object \n",
      " 38  CO2 Emission                   14111 non-null  object \n",
      " 39  Emission Class                 12898 non-null  object \n",
      " 40  \n",
      "Comfort & Convenience\n",
      "        14999 non-null  object \n",
      " 41  \n",
      "Entertainment & Media\n",
      "        14545 non-null  object \n",
      " 42  \n",
      "Extras\n",
      "                       12957 non-null  object \n",
      " 43  \n",
      "Safety & Security\n",
      "            14937 non-null  object \n",
      " 44  description                    15919 non-null  object \n",
      " 45  Emission Label                 3985 non-null   object \n",
      " 46  Gears                          11207 non-null  object \n",
      " 47  Country version                7586 non-null   object \n",
      " 48  Electricity consumption        137 non-null    object \n",
      " 49  Last Service Date              566 non-null    object \n",
      " 50  Other Fuel Types               880 non-null    object \n",
      " 51  Availability                   635 non-null    object \n",
      " 52  Last Timing Belt Service Date  16 non-null     object \n",
      " 53  Available from                 272 non-null    object \n",
      "dtypes: float64(1), int64(1), object(52)\n",
      "memory usage: 6.6+ MB\n"
     ]
    }
   ],
   "source": [
    "scout_car.info()"
   ]
  },
  {
   "cell_type": "code",
   "execution_count": 43,
   "id": "703085a4",
   "metadata": {},
   "outputs": [
    {
     "data": {
      "text/plain": [
       "url                                0.000000\n",
       "make_model                         0.000000\n",
       "short_description                  0.288963\n",
       "body_type                          0.376908\n",
       "price                              0.000000\n",
       "vat                               28.349771\n",
       "km                                 0.000000\n",
       "registration                       0.000000\n",
       "prev_owner                        42.892141\n",
       "kW                               100.000000\n",
       "hp                                 0.000000\n",
       "Type                               0.012564\n",
       "Previous Owners                   41.711163\n",
       "Next Inspection                   77.793831\n",
       "Inspection new                    75.299956\n",
       "Warranty                          34.047365\n",
       "Full Service                      48.395000\n",
       "Non-smoking Vehicle               54.915510\n",
       "null                               0.000000\n",
       "Make                               0.000000\n",
       "Model                              0.000000\n",
       "Offer Number                      19.944720\n",
       "First Registration                10.032037\n",
       "Body Color                         3.750236\n",
       "Paint Type                        36.258559\n",
       "Body Color Original               23.613292\n",
       "Upholstery                        23.368302\n",
       "Body                               0.376908\n",
       "Nr. of Doors                       1.331742\n",
       "Nr. of Seats                       6.137320\n",
       "Model Code                        68.729192\n",
       "Gearing Type                       0.000000\n",
       "Displacement                       3.115774\n",
       "Cylinders                         35.680633\n",
       "Weight                            43.809285\n",
       "Drive chain                       43.080596\n",
       "Fuel                               0.000000\n",
       "Consumption                       11.973114\n",
       "CO2 Emission                      11.357497\n",
       "Emission Class                    18.977323\n",
       "\\nComfort & Convenience\\n          5.779257\n",
       "\\nEntertainment & Media\\n          8.631195\n",
       "\\nExtras\\n                        18.606696\n",
       "\\nSafety & Security\\n              6.168729\n",
       "description                        0.000000\n",
       "Emission Label                    74.967021\n",
       "Gears                             29.599849\n",
       "Country version                   52.346253\n",
       "Electricity consumption           99.139393\n",
       "Last Service Date                 96.444500\n",
       "Other Fuel Types                  94.472015\n",
       "Availability                      96.011056\n",
       "Last Timing Belt Service Date     99.899491\n",
       "Available from                    98.291350\n",
       "dtype: float64"
      ]
     },
     "execution_count": 43,
     "metadata": {},
     "output_type": "execute_result"
    }
   ],
   "source": [
    "scout_car.isnull().sum()/len(scout_car)*100 \n",
    "# Calculating null ratio for each column \n",
    "# her sütun için nan oranı hesaplama"
   ]
  },
  {
   "cell_type": "markdown",
   "id": "5ca6fe54",
   "metadata": {},
   "source": [
    "Columns with the null value percentage above than 90 will be dropped. ( null oranı %90 üzerinde olanları silelim)"
   ]
  },
  {
   "cell_type": "code",
   "execution_count": 44,
   "id": "f56302f8",
   "metadata": {},
   "outputs": [],
   "source": [
    "def show_perc_nans(df, limit):\n",
    "    perc_nans = df.isnull().sum()/len(df)*100\n",
    "    return perc_nans.loc[lambda x : x >= limit]"
   ]
  },
  {
   "cell_type": "code",
   "execution_count": 45,
   "id": "5e004bb3",
   "metadata": {},
   "outputs": [
    {
     "data": {
      "text/plain": [
       "kW                               100.000000\n",
       "Electricity consumption           99.139393\n",
       "Last Service Date                 96.444500\n",
       "Other Fuel Types                  94.472015\n",
       "Availability                      96.011056\n",
       "Last Timing Belt Service Date     99.899491\n",
       "Available from                    98.291350\n",
       "dtype: float64"
      ]
     },
     "execution_count": 45,
     "metadata": {},
     "output_type": "execute_result"
    }
   ],
   "source": [
    "show_perc_nans(scout_car,90)"
   ]
  },
  {
   "cell_type": "code",
   "execution_count": 46,
   "id": "f73bbd44",
   "metadata": {},
   "outputs": [
    {
     "data": {
      "text/plain": [
       "Index(['kW', 'Electricity consumption', 'Last Service Date',\n",
       "       'Other Fuel Types', 'Availability', 'Last Timing Belt Service Date',\n",
       "       'Available from'],\n",
       "      dtype='object')"
      ]
     },
     "execution_count": 46,
     "metadata": {},
     "output_type": "execute_result"
    }
   ],
   "source": [
    "show_perc_nans(scout_car,90).index"
   ]
  },
  {
   "cell_type": "code",
   "execution_count": 47,
   "id": "aebb78ab",
   "metadata": {},
   "outputs": [],
   "source": [
    "scout_car.drop(show_perc_nans(scout_car,90).index, axis=1, inplace= True)"
   ]
  },
  {
   "cell_type": "code",
   "execution_count": 48,
   "id": "4f22d63c",
   "metadata": {},
   "outputs": [
    {
     "data": {
      "text/plain": [
       "(15919, 47)"
      ]
     },
     "execution_count": 48,
     "metadata": {},
     "output_type": "execute_result"
    }
   ],
   "source": [
    "scout_car.shape\n",
    "# Columns with the null value percentage above than 90 dropped.\n",
    "# % 90 orandan fazla nan olan sütunlar silindi"
   ]
  },
  {
   "cell_type": "markdown",
   "id": "2a42cfed",
   "metadata": {},
   "source": [
    "***"
   ]
  },
  {
   "cell_type": "markdown",
   "id": "90572137",
   "metadata": {},
   "source": [
    "# Examining and Cleaning Columns"
   ]
  },
  {
   "cell_type": "markdown",
   "id": "c6eea04c",
   "metadata": {},
   "source": [
    "## column : url"
   ]
  },
  {
   "cell_type": "code",
   "execution_count": 50,
   "id": "2f4194dd",
   "metadata": {},
   "outputs": [
    {
     "data": {
      "text/plain": [
       "https://www.autoscout24.com//offers/audi-a1-sportback-1-4-tdi-s-tronic-xenon-navi-klima-diesel-black-bdab349a-caa5-41b0-98eb-c1345b84445e                  1\n",
       "https://www.autoscout24.com//offers/opel-insignia-bus-inno-2-0-cdti-aut-navi-bi-xe-led-e6-diesel-black-8710b253-dd98-4ed0-9d46-cbad2d79532b                1\n",
       "https://www.autoscout24.com//offers/opel-insignia-sport-tourer-opel-sport-tourer-1-6-cdti-136-ch-a-c-diesel-silver-10b7463b-9f56-4348-af35-df3432b2b585    1\n",
       "https://www.autoscout24.com//offers/opel-insignia-2-0cdti-st-business-innovation-navi-bt-diesel-black-ba5a3368-dedc-4e51-9127-3976b26e93c2                 1\n",
       "https://www.autoscout24.com//offers/opel-insignia-sport-tourer-opel-sport-tourer-1-6-cdti-136-ch-a-c-diesel-silver-7b52f054-78d3-4d5e-9370-8a7d081d7edd    1\n",
       "                                                                                                                                                          ..\n",
       "https://www.autoscout24.com//offers/audi-a3-sb-30-1-6-tdi-business-116cv-s-tronic-diesel-black-cf50f7b1-4d7b-466f-93a2-4e11ec0b4107                        1\n",
       "https://www.autoscout24.com//offers/audi-a3-sb-30-1-6-tdi-business-116cv-s-tronic-diesel-grey-3f47eb34-15c4-4763-860d-78fcbbd2c9ff                         1\n",
       "https://www.autoscout24.com//offers/audi-a3-sb-30-1-6-tdi-business-116cv-s-tronic-diesel-silver-f7a4bc95-b2ef-4bac-9497-6bcbcd05db0b                       1\n",
       "https://www.autoscout24.com//offers/audi-a3-sb-30-1-6-tdi-business-116cv-s-tronic-diesel-silver-1c94c7a2-67b5-49ca-ae42-42a6800fb3f5                       1\n",
       "https://www.autoscout24.com//offers/renault-espace-initiale-paris-tce-225-edc-gpf-navi-shz-aux-gasoline-grey-0bd690d9-7e93-4cab-bc5a-9d5b63402481          1\n",
       "Name: url, Length: 15919, dtype: int64"
      ]
     },
     "execution_count": 50,
     "metadata": {},
     "output_type": "execute_result"
    }
   ],
   "source": [
    "scout_car.url.value_counts()"
   ]
  },
  {
   "cell_type": "markdown",
   "id": "d344c2ba",
   "metadata": {},
   "source": [
    "\"url\" column consists of same url so it will be dropped ( url sütununun tamamı aynı url den oluşuyor bu sütunuda silelim)"
   ]
  },
  {
   "cell_type": "code",
   "execution_count": 51,
   "id": "86a82460",
   "metadata": {},
   "outputs": [],
   "source": [
    "scout_car = scout_car.drop(\"url\", axis=1)"
   ]
  },
  {
   "cell_type": "code",
   "execution_count": 52,
   "id": "0901bd2c",
   "metadata": {},
   "outputs": [
    {
     "data": {
      "text/plain": [
       "(15919, 46)"
      ]
     },
     "execution_count": 52,
     "metadata": {},
     "output_type": "execute_result"
    }
   ],
   "source": [
    "scout_car.shape"
   ]
  },
  {
   "cell_type": "markdown",
   "id": "7432f835",
   "metadata": {},
   "source": [
    "***"
   ]
  },
  {
   "cell_type": "markdown",
   "id": "b536324e",
   "metadata": {},
   "source": [
    "## column : make_model"
   ]
  },
  {
   "cell_type": "code",
   "execution_count": 53,
   "id": "429b59e5",
   "metadata": {},
   "outputs": [
    {
     "data": {
      "text/plain": [
       "Audi A3           3097\n",
       "Audi A1           2614\n",
       "Opel Insignia     2598\n",
       "Opel Astra        2526\n",
       "Opel Corsa        2219\n",
       "Renault Clio      1839\n",
       "Renault Espace     991\n",
       "Renault Duster      34\n",
       "Audi A2              1\n",
       "Name: make_model, dtype: int64"
      ]
     },
     "execution_count": 53,
     "metadata": {},
     "output_type": "execute_result"
    }
   ],
   "source": [
    "scout_car.make_model.value_counts()"
   ]
  },
  {
   "cell_type": "markdown",
   "id": "cbd0a219",
   "metadata": {},
   "source": [
    "\"make_model\" column will be renamed as \"Brand_Model\". (\"make_model\" sütununun adını \"Brand_Model\" olarak değiştirilecek)"
   ]
  },
  {
   "cell_type": "code",
   "execution_count": 54,
   "id": "799ca871",
   "metadata": {},
   "outputs": [],
   "source": [
    "scout_car = scout_car.rename(columns= {\"make_model\":\"Brand_Model\"} )"
   ]
  },
  {
   "cell_type": "code",
   "execution_count": 55,
   "id": "5e46ce18",
   "metadata": {},
   "outputs": [
    {
     "data": {
      "text/plain": [
       "Audi A3           3097\n",
       "Audi A1           2614\n",
       "Opel Insignia     2598\n",
       "Opel Astra        2526\n",
       "Opel Corsa        2219\n",
       "Renault Clio      1839\n",
       "Renault Espace     991\n",
       "Renault Duster      34\n",
       "Audi A2              1\n",
       "Name: Brand_Model, dtype: int64"
      ]
     },
     "execution_count": 55,
     "metadata": {},
     "output_type": "execute_result"
    }
   ],
   "source": [
    "scout_car.Brand_Model.value_counts()"
   ]
  },
  {
   "cell_type": "markdown",
   "id": "c91cd162",
   "metadata": {},
   "source": [
    "***"
   ]
  },
  {
   "cell_type": "markdown",
   "id": "fd678c91",
   "metadata": {},
   "source": [
    "## column : short_description"
   ]
  },
  {
   "cell_type": "code",
   "execution_count": 56,
   "id": "549682af",
   "metadata": {},
   "outputs": [
    {
     "data": {
      "text/plain": [
       "SPB 1.6 TDI 116 CV S tronic Sport                 64\n",
       "None                                              46\n",
       "1.4 66kW (90CV) Selective                         40\n",
       "MOVE KLIMA CD USB ALLWETTER BLUETOOTH             38\n",
       "SPB 30 TDI S tronic Business                      35\n",
       "                                                  ..\n",
       "K Sports Tourer Business **Navi*Voll**             1\n",
       "1.0 Turbo ecoFLEX Automatic Elective Park Navi     1\n",
       "1.6 CDTI Business *Navi*Automatik*Spurh.*          1\n",
       "1.6 136 CV Automatica Navi E 6 Garanzia Full       1\n",
       "TCe 225 EDC GPF LIM Deluxe Pano,RFK                1\n",
       "Name: short_description, Length: 10002, dtype: int64"
      ]
     },
     "execution_count": 56,
     "metadata": {},
     "output_type": "execute_result"
    }
   ],
   "source": [
    "scout_car.short_description.value_counts(dropna=False)"
   ]
  },
  {
   "cell_type": "markdown",
   "id": "4a4268c2",
   "metadata": {},
   "source": [
    "***"
   ]
  },
  {
   "cell_type": "markdown",
   "id": "d0f7dc0d",
   "metadata": {},
   "source": [
    "## column : body_type"
   ]
  },
  {
   "cell_type": "code",
   "execution_count": 57,
   "id": "b3ab9875",
   "metadata": {},
   "outputs": [
    {
     "data": {
      "text/plain": [
       "Sedans           7903\n",
       "Station wagon    3553\n",
       "Compact          3153\n",
       "Van               783\n",
       "Other             290\n",
       "Transporter        88\n",
       "None               60\n",
       "Off-Road           56\n",
       "Coupe              25\n",
       "Convertible         8\n",
       "Name: body_type, dtype: int64"
      ]
     },
     "execution_count": 57,
     "metadata": {},
     "output_type": "execute_result"
    }
   ],
   "source": [
    "scout_car.body_type.value_counts(dropna=False)"
   ]
  },
  {
   "cell_type": "markdown",
   "id": "e2d392de",
   "metadata": {},
   "source": [
    "***"
   ]
  },
  {
   "cell_type": "markdown",
   "id": "70310607",
   "metadata": {},
   "source": [
    "## column : Body"
   ]
  },
  {
   "cell_type": "code",
   "execution_count": 58,
   "id": "252afb69",
   "metadata": {},
   "outputs": [
    {
     "data": {
      "text/plain": [
       "[\\n, Sedans, \\n]           7903\n",
       "[\\n, Station wagon, \\n]    3553\n",
       "[\\n, Compact, \\n]          3153\n",
       "[\\n, Van, \\n]               783\n",
       "[\\n, Other, \\n]             290\n",
       "[\\n, Transporter, \\n]        88\n",
       "NaN                          60\n",
       "[\\n, Off-Road, \\n]           56\n",
       "[\\n, Coupe, \\n]              25\n",
       "[\\n, Convertible, \\n]         8\n",
       "Name: Body, dtype: int64"
      ]
     },
     "execution_count": 58,
     "metadata": {},
     "output_type": "execute_result"
    }
   ],
   "source": [
    "scout_car.Body.value_counts(dropna=False)"
   ]
  },
  {
   "cell_type": "code",
   "execution_count": 78,
   "id": "64167351",
   "metadata": {},
   "outputs": [],
   "source": [
    "scout_car.Body = scout_car.Body.dropna().astype(str).str.findall('[A-z][ A-z-]+').apply(lambda x : x[1])"
   ]
  },
  {
   "cell_type": "code",
   "execution_count": 79,
   "id": "e4b45736",
   "metadata": {},
   "outputs": [
    {
     "data": {
      "text/plain": [
       "Sedans           7903\n",
       "Station wagon    3553\n",
       "Compact          3153\n",
       "Van               783\n",
       "Other             290\n",
       "Transporter        88\n",
       "NaN                60\n",
       "Off-Road           56\n",
       "Coupe              25\n",
       "Convertible         8\n",
       "Name: Body, dtype: int64"
      ]
     },
     "execution_count": 79,
     "metadata": {},
     "output_type": "execute_result"
    }
   ],
   "source": [
    "scout_car.Body.value_counts(dropna=False)"
   ]
  },
  {
   "cell_type": "markdown",
   "id": "74facf9f",
   "metadata": {},
   "source": [
    "body_type sütunu ile Body sütunu değerleri aynı. Body sütununu drop yapalım"
   ]
  },
  {
   "cell_type": "code",
   "execution_count": 80,
   "id": "5fb56f7b",
   "metadata": {},
   "outputs": [],
   "source": [
    "scout_car.drop(\"Body\", axis=1, inplace=True)"
   ]
  },
  {
   "cell_type": "markdown",
   "id": "2cba4f5b",
   "metadata": {},
   "source": [
    "***"
   ]
  },
  {
   "cell_type": "markdown",
   "id": "d234e8ec",
   "metadata": {},
   "source": [
    "## column : price"
   ]
  },
  {
   "cell_type": "code",
   "execution_count": 82,
   "id": "b3a41e87",
   "metadata": {},
   "outputs": [
    {
     "data": {
      "text/plain": [
       "14990    154\n",
       "15990    151\n",
       "10990    139\n",
       "15900    106\n",
       "17990    102\n",
       "        ... \n",
       "17559      1\n",
       "17560      1\n",
       "17570      1\n",
       "17575      1\n",
       "39875      1\n",
       "Name: price, Length: 2956, dtype: int64"
      ]
     },
     "execution_count": 82,
     "metadata": {},
     "output_type": "execute_result"
    }
   ],
   "source": [
    "scout_car.price.value_counts(dropna=False)"
   ]
  },
  {
   "cell_type": "markdown",
   "id": "7cc4fce7",
   "metadata": {},
   "source": [
    "***"
   ]
  },
  {
   "cell_type": "markdown",
   "id": "b4cccd28",
   "metadata": {},
   "source": [
    "## column : vat"
   ]
  },
  {
   "cell_type": "code",
   "execution_count": 84,
   "id": "56e18b4c",
   "metadata": {},
   "outputs": [
    {
     "data": {
      "text/plain": [
       "VAT deductible      10980\n",
       "None                 4513\n",
       "Price negotiable      426\n",
       "Name: vat, dtype: int64"
      ]
     },
     "execution_count": 84,
     "metadata": {},
     "output_type": "execute_result"
    }
   ],
   "source": [
    "scout_car.vat.value_counts(dropna=False)"
   ]
  },
  {
   "cell_type": "markdown",
   "id": "dac117e4",
   "metadata": {},
   "source": [
    "***"
   ]
  },
  {
   "cell_type": "markdown",
   "id": "d779b509",
   "metadata": {},
   "source": [
    "## column : km"
   ]
  },
  {
   "cell_type": "code",
   "execution_count": 86,
   "id": "ab7f78a2",
   "metadata": {},
   "outputs": [
    {
     "data": {
      "text/plain": [
       "10 km        1045\n",
       "- km         1024\n",
       "1 km          367\n",
       "5 km          170\n",
       "50 km         148\n",
       "             ... \n",
       "67,469 km       1\n",
       "43,197 km       1\n",
       "10,027 km       1\n",
       "35,882 km       1\n",
       "57 km           1\n",
       "Name: km, Length: 6690, dtype: int64"
      ]
     },
     "execution_count": 86,
     "metadata": {},
     "output_type": "execute_result"
    }
   ],
   "source": [
    "scout_car.km.value_counts(dropna=False)"
   ]
  },
  {
   "cell_type": "code",
   "execution_count": 87,
   "id": "7edaf31f",
   "metadata": {},
   "outputs": [],
   "source": [
    "scout_car.km = scout_car.km.astype(str).str.replace(\",\",\".\").str.replace(\"k\",\"\").str.replace(\"m\",\"\")"
   ]
  },
  {
   "cell_type": "code",
   "execution_count": 89,
   "id": "68b89df0",
   "metadata": {},
   "outputs": [
    {
     "data": {
      "text/plain": [
       "10         1045\n",
       "-          1024\n",
       "1           367\n",
       "5           170\n",
       "50          148\n",
       "           ... \n",
       "67.469        1\n",
       "43.197        1\n",
       "10.027        1\n",
       "35.882        1\n",
       "57            1\n",
       "Name: km, Length: 6690, dtype: int64"
      ]
     },
     "execution_count": 89,
     "metadata": {},
     "output_type": "execute_result"
    }
   ],
   "source": [
    "scout_car.km.value_counts(dropna=False)"
   ]
  },
  {
   "cell_type": "markdown",
   "id": "a2e165ef",
   "metadata": {},
   "source": [
    "***"
   ]
  },
  {
   "cell_type": "markdown",
   "id": "978a70ff",
   "metadata": {},
   "source": [
    "## column : registration"
   ]
  },
  {
   "cell_type": "code",
   "execution_count": 91,
   "id": "e12d93e5",
   "metadata": {},
   "outputs": [
    {
     "data": {
      "text/plain": [
       "-/-        1597\n",
       "03/2018     695\n",
       "02/2019     585\n",
       "05/2018     572\n",
       "03/2019     543\n",
       "01/2019     541\n",
       "04/2018     541\n",
       "02/2018     539\n",
       "03/2016     536\n",
       "04/2016     532\n",
       "06/2018     532\n",
       "01/2018     511\n",
       "04/2019     506\n",
       "02/2016     472\n",
       "03/2017     471\n",
       "05/2016     459\n",
       "06/2016     452\n",
       "05/2019     440\n",
       "06/2017     409\n",
       "05/2017     404\n",
       "07/2018     396\n",
       "04/2017     380\n",
       "01/2016     376\n",
       "02/2017     368\n",
       "01/2017     306\n",
       "08/2018     285\n",
       "06/2019     224\n",
       "07/2017     215\n",
       "11/2017     180\n",
       "07/2016     176\n",
       "10/2016     160\n",
       "10/2017     154\n",
       "09/2017     149\n",
       "11/2016     142\n",
       "09/2018     141\n",
       "09/2016     141\n",
       "12/2016     134\n",
       "12/2017     123\n",
       "08/2017     114\n",
       "11/2018     110\n",
       "12/2018     103\n",
       "10/2018      97\n",
       "08/2016      94\n",
       "07/2019       6\n",
       "09/2019       5\n",
       "08/2019       1\n",
       "11/2019       1\n",
       "12/2019       1\n",
       "Name: registration, dtype: int64"
      ]
     },
     "execution_count": 91,
     "metadata": {},
     "output_type": "execute_result"
    }
   ],
   "source": [
    "scout_car.registration.value_counts(dropna=False)"
   ]
  },
  {
   "cell_type": "markdown",
   "id": "18b44023",
   "metadata": {},
   "source": [
    "***"
   ]
  },
  {
   "cell_type": "markdown",
   "id": "7ceffa28",
   "metadata": {},
   "source": [
    "## column : prev_owner"
   ]
  },
  {
   "cell_type": "code",
   "execution_count": 93,
   "id": "bf5e33d0",
   "metadata": {},
   "outputs": [
    {
     "data": {
      "text/plain": [
       "1 previous owner     8294\n",
       "None                 6828\n",
       "2 previous owners     778\n",
       "3 previous owners      17\n",
       "4 previous owners       2\n",
       "Name: prev_owner, dtype: int64"
      ]
     },
     "execution_count": 93,
     "metadata": {},
     "output_type": "execute_result"
    }
   ],
   "source": [
    "scout_car.prev_owner.value_counts(dropna=False)"
   ]
  },
  {
   "cell_type": "code",
   "execution_count": 97,
   "id": "86d9b182",
   "metadata": {},
   "outputs": [],
   "source": [
    "scout_car.prev_owner = scout_car.prev_owner.dropna().astype(str).str.findall('[0-9]+').apply(lambda x : x[0])"
   ]
  },
  {
   "cell_type": "code",
   "execution_count": 98,
   "id": "2a3839c6",
   "metadata": {},
   "outputs": [
    {
     "data": {
      "text/plain": [
       "1      8294\n",
       "NaN    6828\n",
       "2       778\n",
       "3        17\n",
       "4         2\n",
       "Name: prev_owner, dtype: int64"
      ]
     },
     "execution_count": 98,
     "metadata": {},
     "output_type": "execute_result"
    }
   ],
   "source": [
    "scout_car.prev_owner.value_counts(dropna=False)"
   ]
  },
  {
   "cell_type": "markdown",
   "id": "e8d4a97c",
   "metadata": {},
   "source": [
    "***"
   ]
  },
  {
   "cell_type": "markdown",
   "id": "e363e4bb",
   "metadata": {},
   "source": [
    "## column : Previous Owners"
   ]
  },
  {
   "cell_type": "code",
   "execution_count": 101,
   "id": "3bad6ec1",
   "metadata": {},
   "outputs": [
    {
     "data": {
      "text/plain": [
       "\\n1\\n                                                                                        8101\n",
       "NaN                                                                                          6640\n",
       "\\n2\\n                                                                                         766\n",
       "\\n0\\n                                                                                         163\n",
       "\\n3\\n                                                                                          17\n",
       "                                                                                             ... \n",
       "[\\n1\\n, \\n111 g CO2/km (comb)\\n]                                                                1\n",
       "[\\n1\\n, \\nEuro 6\\n]                                                                             1\n",
       "[\\n2\\n, \\n119 g CO2/km (comb)\\n]                                                                1\n",
       "[\\n1\\n, \\n, 6.6 l/100 km (comb), \\n, 8.1 l/100 km (city), \\n, 5.7 l/100 km (country), \\n]       1\n",
       "[\\n2\\n, \\n137 g CO2/km (comb)\\n]                                                                1\n",
       "Name: Previous Owners, Length: 103, dtype: int64"
      ]
     },
     "execution_count": 101,
     "metadata": {},
     "output_type": "execute_result"
    }
   ],
   "source": [
    "scout_car[\"Previous Owners\"].value_counts(dropna=False)"
   ]
  },
  {
   "cell_type": "code",
   "execution_count": 104,
   "id": "b9b92040",
   "metadata": {},
   "outputs": [],
   "source": [
    "scout_car[\"Previous Owners\"] = scout_car[\"Previous Owners\"].dropna().astype(str).str.findall('[0-9]+').apply(lambda x : x[0])"
   ]
  },
  {
   "cell_type": "code",
   "execution_count": 105,
   "id": "bbe805aa",
   "metadata": {},
   "outputs": [
    {
     "data": {
      "text/plain": [
       "1      8294\n",
       "NaN    6640\n",
       "2       778\n",
       "0       188\n",
       "3        17\n",
       "4         2\n",
       "Name: Previous Owners, dtype: int64"
      ]
     },
     "execution_count": 105,
     "metadata": {},
     "output_type": "execute_result"
    }
   ],
   "source": [
    "scout_car[\"Previous Owners\"].value_counts(dropna=False)"
   ]
  },
  {
   "cell_type": "code",
   "execution_count": null,
   "id": "d76ab0d7",
   "metadata": {},
   "outputs": [],
   "source": [
    "prew_owner sütunu ile Previous Owners sütunu değerleri aynı. Previous Owners sütununu silelim"
   ]
  },
  {
   "cell_type": "code",
   "execution_count": 106,
   "id": "3c8a7fe5",
   "metadata": {},
   "outputs": [],
   "source": [
    "scout_car.drop(\"Previous Owners\", axis=1, inplace=True)"
   ]
  },
  {
   "cell_type": "code",
   "execution_count": 107,
   "id": "a778b7da",
   "metadata": {},
   "outputs": [
    {
     "data": {
      "text/plain": [
       "(15919, 44)"
      ]
     },
     "execution_count": 107,
     "metadata": {},
     "output_type": "execute_result"
    }
   ],
   "source": [
    "scout_car.shape"
   ]
  },
  {
   "cell_type": "markdown",
   "id": "1c84ce1e",
   "metadata": {},
   "source": [
    "***"
   ]
  },
  {
   "cell_type": "markdown",
   "id": "dace230b",
   "metadata": {},
   "source": [
    "## column : hp"
   ]
  },
  {
   "cell_type": "code",
   "execution_count": 108,
   "id": "69420d5d",
   "metadata": {},
   "outputs": [
    {
     "data": {
      "text/plain": [
       "85 kW     2542\n",
       "66 kW     2122\n",
       "81 kW     1402\n",
       "100 kW    1308\n",
       "110 kW    1112\n",
       "          ... \n",
       "84 kW        1\n",
       "195 kW       1\n",
       "44 kW        1\n",
       "239 kW       1\n",
       "9 kW         1\n",
       "Name: hp, Length: 81, dtype: int64"
      ]
     },
     "execution_count": 108,
     "metadata": {},
     "output_type": "execute_result"
    }
   ],
   "source": [
    "scout_car.hp.value_counts(dropna=False)"
   ]
  },
  {
   "cell_type": "code",
   "execution_count": 109,
   "id": "b78150de",
   "metadata": {},
   "outputs": [],
   "source": [
    "scout_car.hp = scout_car.hp.dropna().astype(str).str.replace(\"k\",\"\").str.replace(\"W\",\"\")"
   ]
  },
  {
   "cell_type": "code",
   "execution_count": 110,
   "id": "d848e4ac",
   "metadata": {},
   "outputs": [
    {
     "data": {
      "text/plain": [
       "85      2542\n",
       "66      2122\n",
       "81      1402\n",
       "100     1308\n",
       "110     1112\n",
       "        ... \n",
       "84         1\n",
       "195        1\n",
       "44         1\n",
       "239        1\n",
       "9          1\n",
       "Name: hp, Length: 81, dtype: int64"
      ]
     },
     "execution_count": 110,
     "metadata": {},
     "output_type": "execute_result"
    }
   ],
   "source": [
    "scout_car.hp.value_counts(dropna=False)"
   ]
  },
  {
   "cell_type": "markdown",
   "id": "a6e42368",
   "metadata": {},
   "source": [
    "***"
   ]
  },
  {
   "cell_type": "markdown",
   "id": "070d25e5",
   "metadata": {},
   "source": [
    "## column : Type"
   ]
  },
  {
   "cell_type": "code",
   "execution_count": 112,
   "id": "a5d6591b",
   "metadata": {},
   "outputs": [
    {
     "data": {
      "text/plain": [
       "[, Used, , Diesel (Particulate Filter)]                                                                                 3475\n",
       "[, Used, , Diesel]                                                                                                      2516\n",
       "[, Used, , Gasoline]                                                                                                    2367\n",
       "[, Used, , Super 95]                                                                                                    1818\n",
       "[, Pre-registered, , Super 95]                                                                                           500\n",
       "                                                                                                                        ... \n",
       "[, New, , Regular/Benzine 91 / Super 95 / Super Plus 98 / Regular/Benzine E10 91 / Super Plus E10 98 / Super E10 95]       1\n",
       "[, Used, , Super 95 / Super Plus 98 / Super E10 95 / Super Plus E10 98 (Particulate Filter)]                               1\n",
       "[, Demonstration, , Super Plus 98]                                                                                         1\n",
       "[, New, , Super Plus E10 98]                                                                                               1\n",
       "[, Demonstration, , Regular/Benzine E10 91]                                                                                1\n",
       "Name: Type, Length: 169, dtype: int64"
      ]
     },
     "execution_count": 112,
     "metadata": {},
     "output_type": "execute_result"
    }
   ],
   "source": [
    "scout_car.Type.value_counts()"
   ]
  },
  {
   "cell_type": "code",
   "execution_count": 114,
   "id": "bc6b9861",
   "metadata": {},
   "outputs": [],
   "source": [
    "import re\n",
    "scout_car.Type = scout_car.Type.astype(\"str\").str.findall(r'[a-z-]+', re.IGNORECASE).apply(lambda x : x[0])"
   ]
  },
  {
   "cell_type": "code",
   "execution_count": 115,
   "id": "f34c6220",
   "metadata": {},
   "outputs": [
    {
     "data": {
      "text/plain": [
       "Used              11096\n",
       "New                1650\n",
       "Pre-registered     1364\n",
       "Employee           1011\n",
       "Demonstration       796\n",
       "nan                   2\n",
       "Name: Type, dtype: int64"
      ]
     },
     "execution_count": 115,
     "metadata": {},
     "output_type": "execute_result"
    }
   ],
   "source": [
    "scout_car.Type.value_counts()"
   ]
  },
  {
   "cell_type": "markdown",
   "id": "e4bd0867",
   "metadata": {},
   "source": [
    "***"
   ]
  },
  {
   "cell_type": "markdown",
   "id": "b06714b6",
   "metadata": {},
   "source": [
    "## column : Next Inspection"
   ]
  },
  {
   "cell_type": "code",
   "execution_count": 116,
   "id": "626cbcb2",
   "metadata": {},
   "outputs": [
    {
     "data": {
      "text/plain": [
       "NaN                                       12384\n",
       "\\n04/2022\\n                                  62\n",
       "\\n03/2021\\n                                  38\n",
       "\\n03/2022\\n                                  36\n",
       "\\n06/2021\\n                                  34\n",
       "                                          ...  \n",
       "[\\n12/2018\\n, \\n97 g CO2/km (comb)\\n]         1\n",
       "[\\n03/2022\\n, \\n1 (No sticker)\\n]             1\n",
       "[\\n05/2021\\n, \\n93 g CO2/km (comb)\\n]         1\n",
       "[\\n06/2021\\n, \\n93 g CO2/km (comb)\\n]         1\n",
       "[\\n01/2022\\n, \\n168 g CO2/km (comb)\\n]        1\n",
       "Name: Next Inspection, Length: 1400, dtype: int64"
      ]
     },
     "execution_count": 116,
     "metadata": {},
     "output_type": "execute_result"
    }
   ],
   "source": [
    "scout_car[\"Next Inspection\"].value_counts(dropna=False)"
   ]
  },
  {
   "cell_type": "code",
   "execution_count": 118,
   "id": "3c19f620",
   "metadata": {},
   "outputs": [],
   "source": [
    "scout_car[\"Next Inspection\"] = scout_car[\"Next Inspection\"].dropna().astype(\"str\").str.findall(r'[0-9/]+').apply(lambda x : x[0]).str.replace(\"/\",\"-\")"
   ]
  },
  {
   "cell_type": "code",
   "execution_count": 119,
   "id": "dd52b926",
   "metadata": {},
   "outputs": [
    {
     "data": {
      "text/plain": [
       "NaN        12384\n",
       "06-2021      471\n",
       "03-2021      210\n",
       "05-2021      180\n",
       "04-2021      171\n",
       "           ...  \n",
       "05-2014        1\n",
       "04-2016        1\n",
       "01-1955        1\n",
       "01-2018        1\n",
       "11-2022        1\n",
       "Name: Next Inspection, Length: 78, dtype: int64"
      ]
     },
     "execution_count": 119,
     "metadata": {},
     "output_type": "execute_result"
    }
   ],
   "source": [
    "scout_car[\"Next Inspection\"].value_counts(dropna=False)"
   ]
  },
  {
   "cell_type": "markdown",
   "id": "6aa22eac",
   "metadata": {},
   "source": [
    "***"
   ]
  },
  {
   "cell_type": "markdown",
   "id": "f5debfea",
   "metadata": {},
   "source": [
    "## column : Inspection new"
   ]
  },
  {
   "cell_type": "code",
   "execution_count": 121,
   "id": "38176c2b",
   "metadata": {},
   "outputs": [
    {
     "data": {
      "text/plain": [
       "NaN                                                                                            11987\n",
       "[\\nYes\\n, \\nEuro 6\\n]                                                                            523\n",
       "\\nYes\\n                                                                                          362\n",
       "[\\nYes\\n, \\n102 g CO2/km (comb)\\n]                                                               174\n",
       "[\\nYes\\n, \\n4 (Green)\\n]                                                                         166\n",
       "                                                                                               ...  \n",
       "[\\nYes\\n, \\n, 6 l/100 km (comb), \\n, 8 l/100 km (city), \\n, 4.9 l/100 km (country), \\n]            1\n",
       "[\\nYes\\n, \\n, 6.8 l/100 km (comb), \\n, 8.5 l/100 km (city), \\n, 6.1 l/100 km (country), \\n]        1\n",
       "[\\nYes\\n, \\n, 4.1 l/100 km (comb), \\n, 7.5 l/100 km (city), \\n, 5.2 l/100 km (country), \\n]        1\n",
       "[\\nYes\\n, \\n, 5.2 l/100 km (comb), \\n, 6.8 l/100 km (city), \\n, 4.3 l/100 km (country), \\n]        1\n",
       "[\\nYes\\n, \\n172 g CO2/km (comb)\\n]                                                                 1\n",
       "Name: Inspection new, Length: 203, dtype: int64"
      ]
     },
     "execution_count": 121,
     "metadata": {},
     "output_type": "execute_result"
    }
   ],
   "source": [
    "scout_car[\"Inspection new\"].value_counts(dropna=False)"
   ]
  },
  {
   "cell_type": "code",
   "execution_count": 122,
   "id": "b375535a",
   "metadata": {},
   "outputs": [],
   "source": [
    "scout_car[\"Inspection new\"] = scout_car[\"Inspection new\"].dropna().astype(\"str\").str.findall(r'[a-z-]+', re.IGNORECASE).apply(lambda x : x[0]).str.replace(\"n\",\"\")"
   ]
  },
  {
   "cell_type": "code",
   "execution_count": 123,
   "id": "42bdb56b",
   "metadata": {},
   "outputs": [
    {
     "data": {
      "text/plain": [
       "NaN    11987\n",
       "Yes     3932\n",
       "Name: Inspection new, dtype: int64"
      ]
     },
     "execution_count": 123,
     "metadata": {},
     "output_type": "execute_result"
    }
   ],
   "source": [
    "scout_car[\"Inspection new\"].value_counts(dropna=False)"
   ]
  },
  {
   "cell_type": "markdown",
   "id": "5db6bed9",
   "metadata": {},
   "source": [
    "***"
   ]
  },
  {
   "cell_type": "markdown",
   "id": "d82df505",
   "metadata": {},
   "source": [
    "## column : Warranty"
   ]
  },
  {
   "cell_type": "code",
   "execution_count": 125,
   "id": "505404a8",
   "metadata": {},
   "outputs": [
    {
     "data": {
      "text/plain": [
       "NaN                                                                                                5420\n",
       "[\\n, \\n, \\nEuro 6\\n]                                                                               1868\n",
       "\\n12 months\\n                                                                                      1177\n",
       "\\n                                                                                                  979\n",
       "\\n24 months\\n                                                                                       566\n",
       "                                                                                                   ... \n",
       "[\\n72 months\\n, \\n125 g CO2/km (comb)\\n]                                                              1\n",
       "[\\n60 months\\n, \\n14 g CO2/km (comb)\\n]                                                               1\n",
       "[\\n24 months\\n, \\n121 g CO2/km (comb)\\n]                                                              1\n",
       "[\\n12 months\\n, \\nEuro 6d\\n]                                                                          1\n",
       "[\\n36 months\\n, \\n, 7.4 l/100 km (comb), \\n, 9.6 l/100 km (city), \\n, 6 l/100 km (country), \\n]       1\n",
       "Name: Warranty, Length: 516, dtype: int64"
      ]
     },
     "execution_count": 125,
     "metadata": {},
     "output_type": "execute_result"
    }
   ],
   "source": [
    "scout_car[\"Warranty\"].value_counts(dropna=False)"
   ]
  },
  {
   "cell_type": "markdown",
   "id": "8a696ebb",
   "metadata": {},
   "source": [
    "nan ve anlamsız veri yoğunluğu nedeniyle sütunu silelim"
   ]
  },
  {
   "cell_type": "code",
   "execution_count": 127,
   "id": "123595d7",
   "metadata": {},
   "outputs": [],
   "source": [
    "scout_car.drop(\"Warranty\", axis=1, inplace=True)"
   ]
  },
  {
   "cell_type": "code",
   "execution_count": 128,
   "id": "43fce1ee",
   "metadata": {},
   "outputs": [
    {
     "data": {
      "text/plain": [
       "(15919, 43)"
      ]
     },
     "execution_count": 128,
     "metadata": {},
     "output_type": "execute_result"
    }
   ],
   "source": [
    "scout_car.shape"
   ]
  },
  {
   "cell_type": "markdown",
   "id": "f198d1e7",
   "metadata": {},
   "source": [
    "***"
   ]
  },
  {
   "cell_type": "markdown",
   "id": "21f9eca0",
   "metadata": {},
   "source": [
    "## column : Full Service"
   ]
  },
  {
   "cell_type": "code",
   "execution_count": 129,
   "id": "a64ad74a",
   "metadata": {},
   "outputs": [
    {
     "data": {
      "text/plain": [
       "NaN                                                                                           7704\n",
       "[\\n, \\n, \\n4 (Green)\\n]                                                                       2235\n",
       "[\\n, \\n, \\nEuro 6\\n]                                                                          2097\n",
       "[\\n, \\n]                                                                                      1702\n",
       "[\\n, \\n, \\nEuro 6d-TEMP\\n]                                                                     399\n",
       "                                                                                              ... \n",
       "[\\n, \\n, \\n80 g CO2/km (comb)\\n]                                                                 1\n",
       "[\\n, \\n, \\n84 g CO2/km (comb)\\n]                                                                 1\n",
       "[\\n, \\n, \\n, 6 l/100 km (comb), \\n, 8 l/100 km (city), \\n, 4.9 l/100 km (country), \\n]           1\n",
       "[\\n, \\n, \\n, 4.9 l/100 km (comb), \\n, 6.2 l/100 km (city), \\n, 4.1 l/100 km (country), \\n]       1\n",
       "[\\n, \\n, \\nEuro 4\\n]                                                                             1\n",
       "Name: Full Service, Length: 123, dtype: int64"
      ]
     },
     "execution_count": 129,
     "metadata": {},
     "output_type": "execute_result"
    }
   ],
   "source": [
    "scout_car[\"Full Service\"].value_counts(dropna=False)"
   ]
  },
  {
   "cell_type": "markdown",
   "id": "1c27b2ac",
   "metadata": {},
   "source": [
    "en cok bulunan nan ve 4üncü sıradaki anlamsız veri toplamda 9500 civarında. kalan veriler arasındada anlamlı bir veri bütünlüğü yok. bu satırı silelim"
   ]
  },
  {
   "cell_type": "code",
   "execution_count": 130,
   "id": "cb378fb3",
   "metadata": {},
   "outputs": [],
   "source": [
    "scout_car.drop(\"Full Service\", axis=1, inplace=True)"
   ]
  },
  {
   "cell_type": "markdown",
   "id": "abe9a60b",
   "metadata": {},
   "source": [
    "***"
   ]
  },
  {
   "cell_type": "markdown",
   "id": "c88c6cdb",
   "metadata": {},
   "source": [
    "## column : Non-smoking Vehicle"
   ]
  },
  {
   "cell_type": "code",
   "execution_count": 131,
   "id": "c5976d16",
   "metadata": {},
   "outputs": [
    {
     "data": {
      "text/plain": [
       "NaN                                                                                           8742\n",
       "[\\n, \\n]                                                                                      3647\n",
       "[\\n, \\n, \\n4 (Green)\\n]                                                                       1240\n",
       "[\\n, \\n, \\nEuro 6\\n]                                                                          1127\n",
       "[\\n, \\n, \\nEuro 6d-TEMP\\n]                                                                     345\n",
       "                                                                                              ... \n",
       "[\\n, \\n, \\n, 5.6 l/100 km (comb), \\n, 7.3 l/100 km (city), \\n, 4.7 l/100 km (country), \\n]       1\n",
       "[\\n, \\n, \\n122 g CO2/km (comb)\\n]                                                                1\n",
       "[\\n, \\n, \\n158 g CO2/km (comb)\\n]                                                                1\n",
       "[\\n, \\n, \\n150 g CO2/km (comb)\\n]                                                                1\n",
       "[\\n, \\n, \\n175 g CO2/km (comb)\\n]                                                                1\n",
       "Name: Non-smoking Vehicle, Length: 95, dtype: int64"
      ]
     },
     "execution_count": 131,
     "metadata": {},
     "output_type": "execute_result"
    }
   ],
   "source": [
    "scout_car[\"Non-smoking Vehicle\"].value_counts(dropna=False)"
   ]
  },
  {
   "cell_type": "markdown",
   "id": "e43655d1",
   "metadata": {},
   "source": [
    "en cok bulunan iki verini (nan ve anlamsız) toplamda 12000 üzerinde. kalan veriler arasındada anlamlı bir veri bütünlüğü yok. bu satırı silelim"
   ]
  },
  {
   "cell_type": "code",
   "execution_count": 133,
   "id": "90a570a0",
   "metadata": {},
   "outputs": [],
   "source": [
    "scout_car = scout_car.drop(\"Non-smoking Vehicle\", axis=1)"
   ]
  },
  {
   "cell_type": "code",
   "execution_count": 134,
   "id": "f2638bb8",
   "metadata": {},
   "outputs": [
    {
     "data": {
      "text/plain": [
       "(15919, 41)"
      ]
     },
     "execution_count": 134,
     "metadata": {},
     "output_type": "execute_result"
    }
   ],
   "source": [
    "scout_car.shape"
   ]
  },
  {
   "cell_type": "markdown",
   "id": "c2f3136f",
   "metadata": {},
   "source": [
    "***"
   ]
  },
  {
   "cell_type": "markdown",
   "id": "c840e820",
   "metadata": {},
   "source": [
    "## column : null"
   ]
  },
  {
   "cell_type": "code",
   "execution_count": 136,
   "id": "ed97e5fe",
   "metadata": {},
   "outputs": [
    {
     "data": {
      "text/plain": [
       "[]    15919\n",
       "Name: null, dtype: int64"
      ]
     },
     "execution_count": 136,
     "metadata": {},
     "output_type": "execute_result"
    }
   ],
   "source": [
    "scout_car.null.value_counts()"
   ]
  },
  {
   "cell_type": "markdown",
   "id": "d8015a28",
   "metadata": {},
   "source": [
    " null sütununun tamamı [] anlamsız elemandan oluşuyor bu sütunuda silelim"
   ]
  },
  {
   "cell_type": "code",
   "execution_count": 137,
   "id": "be7eab36",
   "metadata": {},
   "outputs": [],
   "source": [
    "scout_car.drop(\"null\", axis=1, inplace=True)"
   ]
  },
  {
   "cell_type": "code",
   "execution_count": 138,
   "id": "cf168140",
   "metadata": {},
   "outputs": [
    {
     "data": {
      "text/plain": [
       "(15919, 40)"
      ]
     },
     "execution_count": 138,
     "metadata": {},
     "output_type": "execute_result"
    }
   ],
   "source": [
    "scout_car.shape"
   ]
  },
  {
   "cell_type": "markdown",
   "id": "0c9f2278",
   "metadata": {},
   "source": [
    "***"
   ]
  },
  {
   "cell_type": "markdown",
   "id": "31a4dc3d",
   "metadata": {},
   "source": [
    "## column : Make"
   ]
  },
  {
   "cell_type": "code",
   "execution_count": 141,
   "id": "89f893b6",
   "metadata": {},
   "outputs": [
    {
     "data": {
      "text/plain": [
       "\\nOpel\\n       7343\n",
       "\\nAudi\\n       5712\n",
       "\\nRenault\\n    2864\n",
       "Name: Make, dtype: int64"
      ]
     },
     "execution_count": 141,
     "metadata": {},
     "output_type": "execute_result"
    }
   ],
   "source": [
    "scout_car.Make.value_counts()"
   ]
  },
  {
   "cell_type": "code",
   "execution_count": 142,
   "id": "da431aed",
   "metadata": {},
   "outputs": [],
   "source": [
    "scout_car.Make = scout_car.Make.str.replace(\"\\n\",\"\")"
   ]
  },
  {
   "cell_type": "code",
   "execution_count": 143,
   "id": "8c77eaaf",
   "metadata": {},
   "outputs": [
    {
     "data": {
      "text/plain": [
       "Opel       7343\n",
       "Audi       5712\n",
       "Renault    2864\n",
       "Name: Make, dtype: int64"
      ]
     },
     "execution_count": 143,
     "metadata": {},
     "output_type": "execute_result"
    }
   ],
   "source": [
    "scout_car.Make.value_counts()"
   ]
  },
  {
   "cell_type": "markdown",
   "id": "ebcf143e",
   "metadata": {},
   "source": [
    "\"Make\" sütununun adını \"Brand\" olarak değiştirelim"
   ]
  },
  {
   "cell_type": "code",
   "execution_count": 144,
   "id": "521a6841",
   "metadata": {},
   "outputs": [],
   "source": [
    "scout_car = scout_car.rename(columns= {\"Make\":\"Brand\"} )"
   ]
  },
  {
   "cell_type": "markdown",
   "id": "196c4404",
   "metadata": {},
   "source": [
    "***"
   ]
  },
  {
   "cell_type": "markdown",
   "id": "3a06323c",
   "metadata": {},
   "source": [
    "## column : Model"
   ]
  },
  {
   "cell_type": "code",
   "execution_count": 147,
   "id": "f6ab3115",
   "metadata": {},
   "outputs": [
    {
     "data": {
      "text/plain": [
       "[\\n, A3, \\n]          3097\n",
       "[\\n, A1, \\n]          2614\n",
       "[\\n, Insignia, \\n]    2598\n",
       "[\\n, Astra, \\n]       2526\n",
       "[\\n, Corsa, \\n]       2219\n",
       "[\\n, Clio, \\n]        1839\n",
       "[\\n, Espace, \\n]       991\n",
       "[\\n, Duster, \\n]        34\n",
       "[\\n, A2, \\n]             1\n",
       "Name: Model, dtype: int64"
      ]
     },
     "execution_count": 147,
     "metadata": {},
     "output_type": "execute_result"
    }
   ],
   "source": [
    "scout_car.Model.value_counts(dropna=False)"
   ]
  },
  {
   "cell_type": "code",
   "execution_count": 148,
   "id": "99e4b6ac",
   "metadata": {},
   "outputs": [],
   "source": [
    "scout_car.Model = scout_car.Model.apply(lambda x : x[1])"
   ]
  },
  {
   "cell_type": "code",
   "execution_count": 149,
   "id": "d147dd65",
   "metadata": {},
   "outputs": [
    {
     "data": {
      "text/plain": [
       "A3          3097\n",
       "A1          2614\n",
       "Insignia    2598\n",
       "Astra       2526\n",
       "Corsa       2219\n",
       "Clio        1839\n",
       "Espace       991\n",
       "Duster        34\n",
       "A2             1\n",
       "Name: Model, dtype: int64"
      ]
     },
     "execution_count": 149,
     "metadata": {},
     "output_type": "execute_result"
    }
   ],
   "source": [
    "scout_car.Model.value_counts(dropna=False)"
   ]
  },
  {
   "cell_type": "markdown",
   "id": "10e0ce51",
   "metadata": {},
   "source": [
    "***"
   ]
  },
  {
   "cell_type": "markdown",
   "id": "abafe696",
   "metadata": {},
   "source": [
    "## column : Offer Number"
   ]
  },
  {
   "cell_type": "code",
   "execution_count": 151,
   "id": "7f790478",
   "metadata": {},
   "outputs": [
    {
     "data": {
      "text/plain": [
       "NaN                                               3175\n",
       "[\\nLT67679\\n]                                       27\n",
       "[\\nUN89904\\n]                                       27\n",
       "[\\nXJ38068\\n]                                       27\n",
       "[\\nJV03654\\n]                                       27\n",
       "                                                  ... \n",
       "[\\n160_dcbb6c3e-a6da-43a3-8754-ccd994cec93b\\n]       1\n",
       "[\\n6701576\\n]                                        1\n",
       "[\\n6701569\\n]                                        1\n",
       "[\\n158121\\n]                                         1\n",
       "[\\nRe_30000008029\\n]                                 1\n",
       "Name: Offer Number, Length: 11441, dtype: int64"
      ]
     },
     "execution_count": 151,
     "metadata": {},
     "output_type": "execute_result"
    }
   ],
   "source": [
    "scout_car[\"Offer Number\"].value_counts(dropna=False)"
   ]
  },
  {
   "cell_type": "code",
   "execution_count": 152,
   "id": "5b4872e8",
   "metadata": {},
   "outputs": [],
   "source": [
    "scout_car[\"Offer Number\"] = scout_car[\"Offer Number\"].dropna().astype(\"str\").str.findall(r'[a-z0-9-_]+', re.IGNORECASE).apply(lambda x : x[0]).str.replace(\"n\",\"\")"
   ]
  },
  {
   "cell_type": "code",
   "execution_count": 153,
   "id": "57574b48",
   "metadata": {},
   "outputs": [
    {
     "data": {
      "text/plain": [
       "JB                                           154\n",
       "LUK                                           56\n",
       "EX                                            37\n",
       "LT67679                                       27\n",
       "HM53619                                       27\n",
       "                                            ... \n",
       "6508-46                                        1\n",
       "GW2652                                         1\n",
       "207-29493                                      1\n",
       "2913_58294036-7024-4faf-af96-5fec5a1fd22f      1\n",
       "Re_30000008029                                 1\n",
       "Name: Offer Number, Length: 11049, dtype: int64"
      ]
     },
     "execution_count": 153,
     "metadata": {},
     "output_type": "execute_result"
    }
   ],
   "source": [
    "scout_car[\"Offer Number\"].value_counts()"
   ]
  },
  {
   "cell_type": "markdown",
   "id": "082e3c13",
   "metadata": {},
   "source": [
    "***"
   ]
  },
  {
   "cell_type": "markdown",
   "id": "4854abfa",
   "metadata": {},
   "source": [
    "## column : First Registration"
   ]
  },
  {
   "cell_type": "code",
   "execution_count": 155,
   "id": "f56fdce4",
   "metadata": {},
   "outputs": [
    {
     "data": {
      "text/plain": [
       "[\\n, 2018, \\n]    4522\n",
       "[\\n, 2016, \\n]    3674\n",
       "[\\n, 2017, \\n]    3273\n",
       "[\\n, 2019, \\n]    2853\n",
       "NaN               1597\n",
       "Name: First Registration, dtype: int64"
      ]
     },
     "execution_count": 155,
     "metadata": {},
     "output_type": "execute_result"
    }
   ],
   "source": [
    "scout_car[\"First Registration\"].value_counts(dropna=False)"
   ]
  },
  {
   "cell_type": "code",
   "execution_count": 156,
   "id": "a140fafa",
   "metadata": {},
   "outputs": [],
   "source": [
    "scout_car[\"First Registration\"] = scout_car[\"First Registration\"].dropna().astype(\"str\").str.findall(r'[0-9]+').apply(lambda x : x[0])"
   ]
  },
  {
   "cell_type": "code",
   "execution_count": 157,
   "id": "24ce265a",
   "metadata": {},
   "outputs": [
    {
     "data": {
      "text/plain": [
       "2018    4522\n",
       "2016    3674\n",
       "2017    3273\n",
       "2019    2853\n",
       "NaN     1597\n",
       "Name: First Registration, dtype: int64"
      ]
     },
     "execution_count": 157,
     "metadata": {},
     "output_type": "execute_result"
    }
   ],
   "source": [
    "scout_car[\"First Registration\"].value_counts(dropna=False)"
   ]
  },
  {
   "cell_type": "markdown",
   "id": "90ec8536",
   "metadata": {},
   "source": [
    "***"
   ]
  },
  {
   "cell_type": "markdown",
   "id": "bf30e5f5",
   "metadata": {},
   "source": [
    "## column : Body Color"
   ]
  },
  {
   "cell_type": "code",
   "execution_count": 159,
   "id": "b787f36d",
   "metadata": {},
   "outputs": [
    {
     "data": {
      "text/plain": [
       "[\\n, Black, \\n]     3745\n",
       "[\\n, Grey, \\n]      3505\n",
       "[\\n, White, \\n]     3406\n",
       "[\\n, Silver, \\n]    1647\n",
       "[\\n, Blue, \\n]      1431\n",
       "[\\n, Red, \\n]        957\n",
       "NaN                  597\n",
       "[\\n, Brown, \\n]      289\n",
       "[\\n, Green, \\n]      154\n",
       "[\\n, Beige, \\n]      108\n",
       "[\\n, Yellow, \\n]      51\n",
       "[\\n, Violet, \\n]      18\n",
       "[\\n, Bronze, \\n]       6\n",
       "[\\n, Orange, \\n]       3\n",
       "[\\n, Gold, \\n]         2\n",
       "Name: Body Color, dtype: int64"
      ]
     },
     "execution_count": 159,
     "metadata": {},
     "output_type": "execute_result"
    }
   ],
   "source": [
    "scout_car[\"Body Color\"].value_counts(dropna=False)"
   ]
  },
  {
   "cell_type": "code",
   "execution_count": 160,
   "id": "689da429",
   "metadata": {},
   "outputs": [],
   "source": [
    "scout_car[\"Body Color\"] = scout_car[\"Body Color\"].dropna().astype(\"str\").str.findall('[a-z]+', re.IGNORECASE).apply(lambda x: x[1])"
   ]
  },
  {
   "cell_type": "code",
   "execution_count": 161,
   "id": "8b9e6491",
   "metadata": {},
   "outputs": [
    {
     "data": {
      "text/plain": [
       "Black     3745\n",
       "Grey      3505\n",
       "White     3406\n",
       "Silver    1647\n",
       "Blue      1431\n",
       "Red        957\n",
       "NaN        597\n",
       "Brown      289\n",
       "Green      154\n",
       "Beige      108\n",
       "Yellow      51\n",
       "Violet      18\n",
       "Bronze       6\n",
       "Orange       3\n",
       "Gold         2\n",
       "Name: Body Color, dtype: int64"
      ]
     },
     "execution_count": 161,
     "metadata": {},
     "output_type": "execute_result"
    }
   ],
   "source": [
    "scout_car[\"Body Color\"].value_counts(dropna=False)"
   ]
  },
  {
   "cell_type": "markdown",
   "id": "52e9ae1b",
   "metadata": {},
   "source": [
    "***"
   ]
  },
  {
   "cell_type": "markdown",
   "id": "eb9dc251",
   "metadata": {},
   "source": [
    "## column : Paint Type"
   ]
  },
  {
   "cell_type": "code",
   "execution_count": 163,
   "id": "af5b3350",
   "metadata": {},
   "outputs": [
    {
     "data": {
      "text/plain": [
       "[\\nMetallic\\n]       9794\n",
       "NaN                  5772\n",
       "[\\nUni/basic\\n]       347\n",
       "[\\nPerl effect\\n]       6\n",
       "Name: Paint Type, dtype: int64"
      ]
     },
     "execution_count": 163,
     "metadata": {},
     "output_type": "execute_result"
    }
   ],
   "source": [
    "scout_car[\"Paint Type\"].value_counts(dropna=False)"
   ]
  },
  {
   "cell_type": "code",
   "execution_count": 164,
   "id": "ee946958",
   "metadata": {},
   "outputs": [],
   "source": [
    "scout_car[\"Paint Type\"] = scout_car[\"Paint Type\"].dropna().astype(\"str\").str.findall('[a-z/ ]+', re.IGNORECASE).apply(lambda x: x[0]).str.replace(\"n\",\"\",1)"
   ]
  },
  {
   "cell_type": "code",
   "execution_count": 165,
   "id": "0c8690d4",
   "metadata": {},
   "outputs": [
    {
     "data": {
      "text/plain": [
       "Metallic       9794\n",
       "NaN            5772\n",
       "Uni/basic       347\n",
       "Perl effect       6\n",
       "Name: Paint Type, dtype: int64"
      ]
     },
     "execution_count": 165,
     "metadata": {},
     "output_type": "execute_result"
    }
   ],
   "source": [
    "scout_car[\"Paint Type\"].value_counts(dropna=False)"
   ]
  },
  {
   "cell_type": "markdown",
   "id": "c41f9d23",
   "metadata": {},
   "source": [
    "***"
   ]
  },
  {
   "cell_type": "markdown",
   "id": "f69fdcce",
   "metadata": {},
   "source": [
    "## column : Body Color Original"
   ]
  },
  {
   "cell_type": "code",
   "execution_count": 166,
   "id": "9403e392",
   "metadata": {},
   "outputs": [
    {
     "data": {
      "text/plain": [
       "NaN                                    3759\n",
       "[\\nOnyx Schwarz\\n]                      338\n",
       "[\\nBianco\\n]                            282\n",
       "[\\nMythosschwarz Metallic\\n]            238\n",
       "[\\nBrillantschwarz\\n]                   216\n",
       "                                       ... \n",
       "[\\nRouge-Braun (G0Y)\\n]                   1\n",
       "[\\nVARI COLRI DISPONIBILI\\n]              1\n",
       "[\\nKokosnussbraun Metallic\\n]             1\n",
       "[\\nFarbe frei wählbar\\n]                  1\n",
       "[\\nPerlmutt-Weiß Metallic (Weiß)\\n]       1\n",
       "Name: Body Color Original, Length: 1928, dtype: int64"
      ]
     },
     "execution_count": 166,
     "metadata": {},
     "output_type": "execute_result"
    }
   ],
   "source": [
    "scout_car[\"Body Color Original\"].value_counts(dropna=False)"
   ]
  },
  {
   "cell_type": "code",
   "execution_count": 167,
   "id": "07aae6b4",
   "metadata": {},
   "outputs": [],
   "source": [
    "scout_car[\"Body Color Original\"] = scout_car[\"Body Color Original\"].dropna().astype(\"str\").str.findall('[a-z-)(äß0 ]+', re.IGNORECASE).apply(lambda x: x[0]).str.replace(\"n\",\"\",1)"
   ]
  },
  {
   "cell_type": "code",
   "execution_count": 168,
   "id": "bd4537c0",
   "metadata": {},
   "outputs": [
    {
     "data": {
      "text/plain": [
       "NaN                              3759\n",
       "Onyx Schwarz                      339\n",
       "Bianco                            284\n",
       "Mythosschwarz Metallic            247\n",
       "Argon Silber                      228\n",
       "                                 ... \n",
       "Kokusnussbraun                      1\n",
       "Smaragd-Gr                          1\n",
       "PLATA PERLA                         1\n",
       "GR-                                 1\n",
       "Perlmutt-Weiß Metallic (Weiß)       1\n",
       "Name: Body Color Original, Length: 1778, dtype: int64"
      ]
     },
     "execution_count": 168,
     "metadata": {},
     "output_type": "execute_result"
    }
   ],
   "source": [
    "scout_car[\"Body Color Original\"].value_counts(dropna=False)"
   ]
  },
  {
   "cell_type": "markdown",
   "id": "4ff91272",
   "metadata": {},
   "source": [
    "***"
   ]
  },
  {
   "cell_type": "markdown",
   "id": "214925df",
   "metadata": {},
   "source": [
    "## column : Upholstery"
   ]
  },
  {
   "cell_type": "code",
   "execution_count": 171,
   "id": "a1c26a44",
   "metadata": {},
   "outputs": [
    {
     "data": {
      "text/plain": [
       "[\\nCloth, Black\\n]           5821\n",
       "NaN                          3720\n",
       "[\\nPart leather, Black\\n]    1121\n",
       "[\\nCloth\\n]                  1005\n",
       "[\\nCloth, Grey\\n]             891\n",
       "[\\nCloth, Other\\n]            639\n",
       "[\\nFull leather, Black\\n]     575\n",
       "[\\nBlack\\n]                   491\n",
       "[\\nGrey\\n]                    273\n",
       "[\\nOther, Other\\n]            182\n",
       "[\\nPart leather\\n]            140\n",
       "[\\nFull leather\\n]            139\n",
       "[\\nFull leather, Brown\\n]     116\n",
       "[\\nPart leather, Grey\\n]      116\n",
       "[\\nOther, Black\\n]            110\n",
       "[\\nFull leather, Other\\n]      72\n",
       "[\\nFull leather, Grey\\n]       67\n",
       "[\\nPart leather, Other\\n]      65\n",
       "[\\nOther\\n]                    56\n",
       "[\\nPart leather, Brown\\n]      50\n",
       "[\\nalcantara, Black\\n]         47\n",
       "[\\nVelour, Black\\n]            36\n",
       "[\\nFull leather, Beige\\n]      36\n",
       "[\\nCloth, Brown\\n]             28\n",
       "[\\nVelour\\n]                   16\n",
       "[\\nOther, Grey\\n]              15\n",
       "[\\nCloth, Beige\\n]             13\n",
       "[\\nBrown\\n]                    12\n",
       "[\\nCloth, Blue\\n]              12\n",
       "[\\nVelour, Grey\\n]              8\n",
       "[\\nCloth, White\\n]              8\n",
       "[\\nalcantara, Grey\\n]           6\n",
       "[\\nCloth, Red\\n]                5\n",
       "[\\nOther, Yellow\\n]             4\n",
       "[\\nPart leather, Red\\n]         3\n",
       "[\\nBeige\\n]                     3\n",
       "[\\nPart leather, White\\n]       2\n",
       "[\\nFull leather, Blue\\n]        2\n",
       "[\\nalcantara, Other\\n]          2\n",
       "[\\nalcantara\\n]                 2\n",
       "[\\nWhite\\n]                     2\n",
       "[\\nPart leather, Beige\\n]       2\n",
       "[\\nBlue\\n]                      2\n",
       "[\\nCloth, Orange\\n]             1\n",
       "[\\nFull leather, Red\\n]         1\n",
       "[\\nOther, Brown\\n]              1\n",
       "[\\nFull leather, White\\n]       1\n",
       "Name: Upholstery, dtype: int64"
      ]
     },
     "execution_count": 171,
     "metadata": {},
     "output_type": "execute_result"
    }
   ],
   "source": [
    "scout_car[\"Upholstery\"].value_counts(dropna=False)"
   ]
  },
  {
   "cell_type": "code",
   "execution_count": 172,
   "id": "d40d80f7",
   "metadata": {},
   "outputs": [],
   "source": [
    "def listeAyırma(x):\n",
    "    if len(x)>0:\n",
    "        if len(x)==1:\n",
    "            return x[0]\n",
    "        elif len(x)==3:\n",
    "            return str(x[0])+\",\"+str(x[1])+\",\"+str(x[2])\n",
    "        else:\n",
    "            return str(x[0])+\",\"+str(x[1])"
   ]
  },
  {
   "cell_type": "code",
   "execution_count": 173,
   "id": "1c223a5f",
   "metadata": {},
   "outputs": [],
   "source": [
    "scout_car[\"Upholstery\"] = scout_car[\"Upholstery\"].dropna().astype(\"str\").str.findall('[aA-Z][a-z ]+').apply(listeAyırma)"
   ]
  },
  {
   "cell_type": "code",
   "execution_count": 174,
   "id": "12013616",
   "metadata": {},
   "outputs": [
    {
     "data": {
      "text/plain": [
       "Cloth,Black           5821\n",
       "Part leather,Black    1121\n",
       "Cloth                 1005\n",
       "Cloth,Grey             891\n",
       "Cloth,Other            639\n",
       "Full leather,Black     575\n",
       "Black                  491\n",
       "Grey                   273\n",
       "Other,Other            182\n",
       "Part leather           140\n",
       "Full leather           139\n",
       "Part leather,Grey      116\n",
       "Full leather,Brown     116\n",
       "Other,Black            110\n",
       "Full leather,Other      72\n",
       "Full leather,Grey       67\n",
       "Part leather,Other      65\n",
       "Other                   56\n",
       "Part leather,Brown      50\n",
       "alcantara,Black         47\n",
       "Full leather,Beige      36\n",
       "Velour,Black            36\n",
       "Cloth,Brown             28\n",
       "Velour                  16\n",
       "Other,Grey              15\n",
       "Cloth,Beige             13\n",
       "Brown                   12\n",
       "Cloth,Blue              12\n",
       "Cloth,White              8\n",
       "Velour,Grey              8\n",
       "alcantara,Grey           6\n",
       "Cloth,Red                5\n",
       "Other,Yellow             4\n",
       "Beige                    3\n",
       "Part leather,Red         3\n",
       "alcantara                2\n",
       "Part leather,White       2\n",
       "Blue                     2\n",
       "White                    2\n",
       "Part leather,Beige       2\n",
       "alcantara,Other          2\n",
       "Full leather,Blue        2\n",
       "Other,Brown              1\n",
       "Cloth,Orange             1\n",
       "Full leather,Red         1\n",
       "Full leather,White       1\n",
       "Name: Upholstery, dtype: int64"
      ]
     },
     "execution_count": 174,
     "metadata": {},
     "output_type": "execute_result"
    }
   ],
   "source": [
    "scout_car[\"Upholstery\"].value_counts()"
   ]
  },
  {
   "cell_type": "markdown",
   "id": "0e3b873a",
   "metadata": {},
   "source": [
    "***"
   ]
  },
  {
   "cell_type": "markdown",
   "id": "0bd7bbd3",
   "metadata": {},
   "source": [
    "## column : Nr. of Doors"
   ]
  },
  {
   "cell_type": "code",
   "execution_count": 176,
   "id": "231ad860",
   "metadata": {},
   "outputs": [
    {
     "data": {
      "text/plain": [
       "[\\n5\\n]    11575\n",
       "[\\n4\\n]     3079\n",
       "[\\n3\\n]      832\n",
       "[\\n2\\n]      219\n",
       "NaN          212\n",
       "[\\n1\\n]        1\n",
       "[\\n7\\n]        1\n",
       "Name: Nr. of Doors, dtype: int64"
      ]
     },
     "execution_count": 176,
     "metadata": {},
     "output_type": "execute_result"
    }
   ],
   "source": [
    "scout_car[\"Nr. of Doors\"].value_counts(dropna=False)"
   ]
  },
  {
   "cell_type": "code",
   "execution_count": 177,
   "id": "5527ba74",
   "metadata": {},
   "outputs": [],
   "source": [
    "scout_car[\"Nr. of Doors\"] = scout_car[\"Nr. of Doors\"].dropna().astype(str).str.findall('[0-9]+').apply(lambda x : x[0])"
   ]
  },
  {
   "cell_type": "code",
   "execution_count": 178,
   "id": "0935415e",
   "metadata": {},
   "outputs": [
    {
     "data": {
      "text/plain": [
       "5      11575\n",
       "4       3079\n",
       "3        832\n",
       "2        219\n",
       "NaN      212\n",
       "1          1\n",
       "7          1\n",
       "Name: Nr. of Doors, dtype: int64"
      ]
     },
     "execution_count": 178,
     "metadata": {},
     "output_type": "execute_result"
    }
   ],
   "source": [
    "scout_car[\"Nr. of Doors\"].value_counts(dropna=False)"
   ]
  },
  {
   "cell_type": "markdown",
   "id": "7a6706b5",
   "metadata": {},
   "source": [
    "***"
   ]
  },
  {
   "cell_type": "markdown",
   "id": "6840b1f7",
   "metadata": {},
   "source": [
    "## column : Nr. of Seats"
   ]
  },
  {
   "cell_type": "code",
   "execution_count": 180,
   "id": "5c28b6af",
   "metadata": {},
   "outputs": [
    {
     "data": {
      "text/plain": [
       "[\\n5\\n]    13336\n",
       "[\\n4\\n]     1125\n",
       "NaN          977\n",
       "[\\n7\\n]      362\n",
       "[\\n2\\n]      116\n",
       "[\\n6\\n]        2\n",
       "[\\n3\\n]        1\n",
       "Name: Nr. of Seats, dtype: int64"
      ]
     },
     "execution_count": 180,
     "metadata": {},
     "output_type": "execute_result"
    }
   ],
   "source": [
    "scout_car[\"Nr. of Seats\"].value_counts(dropna=False)"
   ]
  },
  {
   "cell_type": "code",
   "execution_count": 181,
   "id": "470cb33c",
   "metadata": {},
   "outputs": [],
   "source": [
    "scout_car[\"Nr. of Seats\"] = scout_car[\"Nr. of Seats\"].dropna().astype(str).str.findall('[0-9]').apply(lambda x : x[0])"
   ]
  },
  {
   "cell_type": "code",
   "execution_count": 182,
   "id": "e5c017e3",
   "metadata": {},
   "outputs": [
    {
     "data": {
      "text/plain": [
       "5      13336\n",
       "4       1125\n",
       "NaN      977\n",
       "7        362\n",
       "2        116\n",
       "6          2\n",
       "3          1\n",
       "Name: Nr. of Seats, dtype: int64"
      ]
     },
     "execution_count": 182,
     "metadata": {},
     "output_type": "execute_result"
    }
   ],
   "source": [
    "scout_car[\"Nr. of Seats\"].value_counts(dropna=False)"
   ]
  },
  {
   "cell_type": "markdown",
   "id": "d46b6a84",
   "metadata": {},
   "source": [
    "***"
   ]
  },
  {
   "cell_type": "markdown",
   "id": "089bbb30",
   "metadata": {},
   "source": [
    "## column : Model Code"
   ]
  },
  {
   "cell_type": "code",
   "execution_count": 183,
   "id": "8b9d95c6",
   "metadata": {},
   "outputs": [
    {
     "data": {
      "text/plain": [
       "NaN               10941\n",
       "[\\n0035/BCB\\n]      268\n",
       "[\\n0588/BNO\\n]      245\n",
       "[\\n0588/BDB\\n]      206\n",
       "[\\n0588/BHX\\n]      188\n",
       "                  ...  \n",
       "[\\n0035/AVN\\n]        1\n",
       "[\\n0035/BEM\\n]        1\n",
       "[\\n0035/BAG\\n]        1\n",
       "[\\n0035/BAA\\n]        1\n",
       "[\\n3333/BKG\\n]        1\n",
       "Name: Model Code, Length: 233, dtype: int64"
      ]
     },
     "execution_count": 183,
     "metadata": {},
     "output_type": "execute_result"
    }
   ],
   "source": [
    "scout_car[\"Model Code\"].value_counts(dropna=False)"
   ]
  },
  {
   "cell_type": "code",
   "execution_count": 184,
   "id": "5fedda5a",
   "metadata": {},
   "outputs": [],
   "source": [
    "scout_car[\"Model Code\"] = scout_car[\"Model Code\"].dropna().astype(str).str.findall('[0-9/A-Z]+').apply(lambda x : x[0])"
   ]
  },
  {
   "cell_type": "code",
   "execution_count": 185,
   "id": "4e994e0c",
   "metadata": {},
   "outputs": [
    {
     "data": {
      "text/plain": [
       "NaN         10941\n",
       "0035/BCB      268\n",
       "0588/BNO      245\n",
       "0588/BDB      206\n",
       "0588/BHX      188\n",
       "            ...  \n",
       "0035/AVN        1\n",
       "0035/BEM        1\n",
       "0035/BAG        1\n",
       "0035/BAA        1\n",
       "3333/BKG        1\n",
       "Name: Model Code, Length: 233, dtype: int64"
      ]
     },
     "execution_count": 185,
     "metadata": {},
     "output_type": "execute_result"
    }
   ],
   "source": [
    "scout_car[\"Model Code\"].value_counts(dropna=False)"
   ]
  },
  {
   "cell_type": "markdown",
   "id": "44ee65db",
   "metadata": {},
   "source": [
    "***"
   ]
  },
  {
   "cell_type": "markdown",
   "id": "d3946542",
   "metadata": {},
   "source": [
    "## column : Gearing Type"
   ]
  },
  {
   "cell_type": "code",
   "execution_count": 187,
   "id": "a65ed360",
   "metadata": {},
   "outputs": [
    {
     "data": {
      "text/plain": [
       "[\\n, Manual, \\n]            8153\n",
       "[\\n, Automatic, \\n]         7297\n",
       "[\\n, Semi-automatic, \\n]     469\n",
       "Name: Gearing Type, dtype: int64"
      ]
     },
     "execution_count": 187,
     "metadata": {},
     "output_type": "execute_result"
    }
   ],
   "source": [
    "scout_car[\"Gearing Type\"].value_counts(dropna=False)"
   ]
  },
  {
   "cell_type": "code",
   "execution_count": 188,
   "id": "dea2333f",
   "metadata": {},
   "outputs": [],
   "source": [
    "scout_car[\"Gearing Type\"] = scout_car[\"Gearing Type\"].astype(str).str.findall('[A-Z-]+', re.IGNORECASE).apply(lambda x : x[1])"
   ]
  },
  {
   "cell_type": "code",
   "execution_count": 189,
   "id": "1bc8a83e",
   "metadata": {},
   "outputs": [
    {
     "data": {
      "text/plain": [
       "Manual            8153\n",
       "Automatic         7297\n",
       "Semi-automatic     469\n",
       "Name: Gearing Type, dtype: int64"
      ]
     },
     "execution_count": 189,
     "metadata": {},
     "output_type": "execute_result"
    }
   ],
   "source": [
    "scout_car[\"Gearing Type\"].value_counts(dropna=False)"
   ]
  },
  {
   "cell_type": "markdown",
   "id": "c47bf5be",
   "metadata": {},
   "source": [
    "***"
   ]
  },
  {
   "cell_type": "markdown",
   "id": "253de42a",
   "metadata": {},
   "source": [
    "## column : Displacement"
   ]
  },
  {
   "cell_type": "code",
   "execution_count": 190,
   "id": "a6a686af",
   "metadata": {},
   "outputs": [
    {
     "data": {
      "text/plain": [
       "[\\n1,598 cc\\n]    4761\n",
       "[\\n999 cc\\n]      2438\n",
       "[\\n1,398 cc\\n]    1314\n",
       "[\\n1,399 cc\\n]     749\n",
       "[\\n1,229 cc\\n]     677\n",
       "                  ... \n",
       "[\\n122 cc\\n]         1\n",
       "[\\n1,198 cc\\n]       1\n",
       "[\\n1,195 cc\\n]       1\n",
       "[\\n2,967 cc\\n]       1\n",
       "[\\n1,800 cc\\n]       1\n",
       "Name: Displacement, Length: 78, dtype: int64"
      ]
     },
     "execution_count": 190,
     "metadata": {},
     "output_type": "execute_result"
    }
   ],
   "source": [
    "scout_car[\"Displacement\"].value_counts(dropna=False)"
   ]
  },
  {
   "cell_type": "code",
   "execution_count": 191,
   "id": "c6c56daa",
   "metadata": {},
   "outputs": [],
   "source": [
    "scout_car[\"Displacement\"] = scout_car[\"Displacement\"].dropna().astype(str).str.findall('[0-9,]+').apply(lambda x : x[0].replace(\",\",\".\"))"
   ]
  },
  {
   "cell_type": "code",
   "execution_count": 203,
   "id": "546e47ba",
   "metadata": {},
   "outputs": [],
   "source": [
    "scout_car.rename(columns={\"Displacement\": \"Displacement(cc)\"}, inplace=True)\n",
    "# sütun değerlerinde yer alan cc silindi. sütun ismine ekledik "
   ]
  },
  {
   "cell_type": "code",
   "execution_count": 204,
   "id": "7cc9cc5f",
   "metadata": {},
   "outputs": [
    {
     "data": {
      "text/plain": [
       "1.598    4761\n",
       "999      2438\n",
       "1.398    1314\n",
       "1.399     749\n",
       "1.229     677\n",
       "         ... \n",
       "122         1\n",
       "1.198       1\n",
       "1.195       1\n",
       "2.967       1\n",
       "1.800       1\n",
       "Name: Displacement(cc), Length: 78, dtype: int64"
      ]
     },
     "execution_count": 204,
     "metadata": {},
     "output_type": "execute_result"
    }
   ],
   "source": [
    "scout_car[\"Displacement(cc)\"].value_counts(dropna=False)"
   ]
  },
  {
   "cell_type": "markdown",
   "id": "9cf327bd",
   "metadata": {},
   "source": [
    "***"
   ]
  },
  {
   "cell_type": "markdown",
   "id": "4eaaea34",
   "metadata": {},
   "source": [
    "## column : Cylinders"
   ]
  },
  {
   "cell_type": "code",
   "execution_count": 194,
   "id": "ae36edb7",
   "metadata": {},
   "outputs": [
    {
     "data": {
      "text/plain": [
       "[\\n4\\n]    8105\n",
       "NaN        5680\n",
       "[\\n3\\n]    2104\n",
       "[\\n5\\n]      22\n",
       "[\\n6\\n]       3\n",
       "[\\n8\\n]       2\n",
       "[\\n2\\n]       2\n",
       "[\\n1\\n]       1\n",
       "Name: Cylinders, dtype: int64"
      ]
     },
     "execution_count": 194,
     "metadata": {},
     "output_type": "execute_result"
    }
   ],
   "source": [
    "scout_car[\"Cylinders\"].value_counts(dropna=False)"
   ]
  },
  {
   "cell_type": "code",
   "execution_count": 195,
   "id": "55f0eece",
   "metadata": {},
   "outputs": [],
   "source": [
    "scout_car.Cylinders = scout_car.Cylinders.dropna().astype(str).str.findall('\\d').apply(lambda x : x[0])"
   ]
  },
  {
   "cell_type": "code",
   "execution_count": 196,
   "id": "4afcf684",
   "metadata": {},
   "outputs": [
    {
     "data": {
      "text/plain": [
       "4      8105\n",
       "NaN    5680\n",
       "3      2104\n",
       "5        22\n",
       "6         3\n",
       "8         2\n",
       "2         2\n",
       "1         1\n",
       "Name: Cylinders, dtype: int64"
      ]
     },
     "execution_count": 196,
     "metadata": {},
     "output_type": "execute_result"
    }
   ],
   "source": [
    "scout_car[\"Cylinders\"].value_counts(dropna=False)"
   ]
  },
  {
   "cell_type": "markdown",
   "id": "9b487f73",
   "metadata": {},
   "source": [
    "***"
   ]
  },
  {
   "cell_type": "markdown",
   "id": "148ce791",
   "metadata": {},
   "source": [
    "# columnn : Weight"
   ]
  },
  {
   "cell_type": "code",
   "execution_count": 197,
   "id": "d9b95aaa",
   "metadata": {},
   "outputs": [
    {
     "data": {
      "text/plain": [
       "NaN               6974\n",
       "[\\n1,163 kg\\n]     574\n",
       "[\\n1,360 kg\\n]     356\n",
       "[\\n1,165 kg\\n]     301\n",
       "[\\n1,335 kg\\n]     242\n",
       "                  ... \n",
       "[\\n1,960 kg\\n]       1\n",
       "[\\n1,258 kg\\n]       1\n",
       "[\\n1,167 kg\\n]       1\n",
       "[\\n1,331 kg\\n]       1\n",
       "[\\n2,037 kg\\n]       1\n",
       "Name: Weight, Length: 435, dtype: int64"
      ]
     },
     "execution_count": 197,
     "metadata": {},
     "output_type": "execute_result"
    }
   ],
   "source": [
    "scout_car[\"Weight\"].value_counts(dropna=False)"
   ]
  },
  {
   "cell_type": "code",
   "execution_count": 198,
   "id": "bb42238d",
   "metadata": {},
   "outputs": [],
   "source": [
    "scout_car[\"Weight\"] = scout_car[\"Weight\"].dropna().astype(str).str.findall('[0-9,]+').apply(lambda x : x[0].replace(\",\",\".\"))"
   ]
  },
  {
   "cell_type": "code",
   "execution_count": 201,
   "id": "0faf9449",
   "metadata": {},
   "outputs": [],
   "source": [
    "scout_car.rename(columns={\"Weight\": \"Weight(kg)\"}, inplace=True)\n",
    "# sütun değerlerinde yer alan kg silindi. sütun ismine ekledik "
   ]
  },
  {
   "cell_type": "code",
   "execution_count": 205,
   "id": "2597b1fb",
   "metadata": {},
   "outputs": [
    {
     "data": {
      "text/plain": [
       "NaN      6974\n",
       "1.163     574\n",
       "1.360     356\n",
       "1.165     301\n",
       "1.335     242\n",
       "         ... \n",
       "1.960       1\n",
       "1.258       1\n",
       "1.167       1\n",
       "1.331       1\n",
       "2.037       1\n",
       "Name: Weight(kg), Length: 435, dtype: int64"
      ]
     },
     "execution_count": 205,
     "metadata": {},
     "output_type": "execute_result"
    }
   ],
   "source": [
    "scout_car[\"Weight(kg)\"].value_counts(dropna=False)"
   ]
  },
  {
   "cell_type": "markdown",
   "id": "7a3c22f8",
   "metadata": {},
   "source": [
    "***"
   ]
  },
  {
   "cell_type": "markdown",
   "id": "9ddd8d31",
   "metadata": {},
   "source": [
    "## column : Drive chain"
   ]
  },
  {
   "cell_type": "code",
   "execution_count": 207,
   "id": "4e33732a",
   "metadata": {},
   "outputs": [
    {
     "data": {
      "text/plain": [
       "[\\nfront\\n]    8886\n",
       "NaN            6858\n",
       "[\\n4WD\\n]       171\n",
       "[\\nrear\\n]        4\n",
       "Name: Drive chain, dtype: int64"
      ]
     },
     "execution_count": 207,
     "metadata": {},
     "output_type": "execute_result"
    }
   ],
   "source": [
    "scout_car[\"Drive chain\"].value_counts(dropna=False)"
   ]
  },
  {
   "cell_type": "code",
   "execution_count": 208,
   "id": "9a8edcb1",
   "metadata": {},
   "outputs": [],
   "source": [
    "scout_car[\"Drive chain\"] = scout_car[\"Drive chain\"].dropna().astype(str).str.findall(r'[0-9a-z]+', re.IGNORECASE).apply(lambda x : x[0].replace(\"n\",\"\",1))"
   ]
  },
  {
   "cell_type": "code",
   "execution_count": 209,
   "id": "108fabc7",
   "metadata": {},
   "outputs": [
    {
     "data": {
      "text/plain": [
       "front    8886\n",
       "NaN      6858\n",
       "4WD       171\n",
       "rear        4\n",
       "Name: Drive chain, dtype: int64"
      ]
     },
     "execution_count": 209,
     "metadata": {},
     "output_type": "execute_result"
    }
   ],
   "source": [
    "scout_car[\"Drive chain\"].value_counts(dropna=False)"
   ]
  },
  {
   "cell_type": "markdown",
   "id": "a9dc2c28",
   "metadata": {},
   "source": [
    "***"
   ]
  },
  {
   "cell_type": "markdown",
   "id": "be3bfc3a",
   "metadata": {},
   "source": [
    "## column : Fuel"
   ]
  },
  {
   "cell_type": "code",
   "execution_count": 212,
   "id": "79983fcd",
   "metadata": {},
   "outputs": [
    {
     "data": {
      "text/plain": [
       "[\\n, Diesel (Particulate Filter), \\n]                                                                                  4315\n",
       "[\\n, Super 95, \\n]                                                                                                     3338\n",
       "[\\n, Gasoline, \\n]                                                                                                     3175\n",
       "[\\n, Diesel, \\n]                                                                                                       2984\n",
       "[\\n, Super 95 / Regular/Benzine 91, \\n]                                                                                 424\n",
       "                                                                                                                       ... \n",
       "[\\n, Regular/Benzine 91 / Super 95 / Regular/Benzine E10 91, \\n]                                                          1\n",
       "[\\n, Super Plus 98 / Super E10 95, \\n]                                                                                    1\n",
       "[\\n, Regular/Benzine 91 / Super 95 / Regular/Benzine E10 91 / Super E10 95 / Super Plus 98 / Super Plus E10 98, \\n]       1\n",
       "[\\n, Regular/Benzine 91 / Super Plus 98 / Regular/Benzine E10 91 / Super 95 / Super E10 95 / Super Plus E10 98, \\n]       1\n",
       "[\\n, Super Plus 98 / Super 95 / Super Plus E10 98, \\n]                                                                    1\n",
       "Name: Fuel, Length: 77, dtype: int64"
      ]
     },
     "execution_count": 212,
     "metadata": {},
     "output_type": "execute_result"
    }
   ],
   "source": [
    "scout_car[\"Fuel\"].value_counts(dropna=False)"
   ]
  },
  {
   "cell_type": "code",
   "execution_count": 213,
   "id": "51dda23c",
   "metadata": {},
   "outputs": [],
   "source": [
    "scout_car[\"Fuel\"] = scout_car[\"Fuel\"].dropna().astype(str).str.findall(r'[a-z() ]+', re.IGNORECASE).apply(lambda x : x[2])"
   ]
  },
  {
   "cell_type": "code",
   "execution_count": 214,
   "id": "92b11829",
   "metadata": {},
   "outputs": [
    {
     "data": {
      "text/plain": [
       "Super                            4368\n",
       "Diesel (Particulate Filter)      4315\n",
       "Gasoline                         3175\n",
       "Diesel                           2984\n",
       "Regular                           503\n",
       "Super E                           409\n",
       "Gasoline (Particulate Filter)      77\n",
       "CNG                                33\n",
       "LPG                                16\n",
       "Super Plus                         11\n",
       "Liquid petroleum gas (LPG)         10\n",
       "Others                              5\n",
       "Electric                            5\n",
       "CNG (Particulate Filter)            3\n",
       "Super Plus E                        2\n",
       "Others (Particulate Filter)         1\n",
       "Biogas                              1\n",
       "Domestic gas H                      1\n",
       "Name: Fuel, dtype: int64"
      ]
     },
     "execution_count": 214,
     "metadata": {},
     "output_type": "execute_result"
    }
   ],
   "source": [
    "scout_car[\"Fuel\"].value_counts(dropna=False)"
   ]
  },
  {
   "cell_type": "markdown",
   "id": "0547c7b5",
   "metadata": {},
   "source": [
    "***"
   ]
  },
  {
   "cell_type": "markdown",
   "id": "f5455f35",
   "metadata": {},
   "source": [
    "## column : Consumption"
   ]
  },
  {
   "cell_type": "code",
   "execution_count": 216,
   "id": "67ad2aef",
   "metadata": {},
   "outputs": [
    {
     "data": {
      "text/plain": [
       "NaN                                                                                   1906\n",
       "[[3.9 l/100 km (comb)], [4.1 l/100 km (city)], [3.7 l/100 km (country)]]               304\n",
       "[[4.2 l/100 km (comb)], [5 l/100 km (city)], [3.7 l/100 km (country)]]                 276\n",
       "[[5.4 l/100 km (comb)], [6.8 l/100 km (city)], [4.5 l/100 km (country)]]               257\n",
       "[[3.8 l/100 km (comb)], [4.3 l/100 km (city)], [3.5 l/100 km (country)]]               253\n",
       "                                                                                      ... \n",
       "[[4.2 l/100 km (comb)], [5.3 l/100 km (city)], [3.6 l/100 km (country)]]                 1\n",
       "[\\n, 5.1 l/100 km (comb), \\n, 6.4 l/100 km (city), \\n, 4.3 l/100 km (country), \\n]       1\n",
       "[[4.6 l/100 km (comb)], [5.4 l/100 km (city)], [6.7 l/100 km (country)]]                 1\n",
       "[\\n, 6.3 l/100 km (comb), \\n, \\n, \\n]                                                    1\n",
       "[\\n, 7.4 l/100 km (comb), \\n, 9.6 l/100 km (city), \\n, 6 l/100 km (country), \\n]         1\n",
       "Name: Consumption, Length: 882, dtype: int64"
      ]
     },
     "execution_count": 216,
     "metadata": {},
     "output_type": "execute_result"
    }
   ],
   "source": [
    "scout_car[\"Consumption\"].value_counts(dropna=False)"
   ]
  },
  {
   "cell_type": "code",
   "execution_count": 217,
   "id": "c35e9198",
   "metadata": {},
   "outputs": [],
   "source": [
    "scout_car[\"Combined Fuel\"] = scout_car[\"Consumption\"].dropna().astype(str).str.findall('[0-9.]+').apply(lambda x : x[0])\n",
    "scout_car[\"City Fuel\"] = scout_car[\"Consumption\"].dropna().astype(str).str.findall('[0-9.]+').apply(lambda x : str(x[2:3]).replace(\"['\",\"\").replace(\"']\",\"\"))\n",
    "scout_car[\"Country Fuel\"] = scout_car[\"Consumption\"].dropna().astype(str).str.findall('[0-9.]+').apply(lambda x : x[-2])\n",
    "\n",
    "# Consumption sütun içeriğinde yer alan ayrı değrler için birer sütun oluşturduk"
   ]
  },
  {
   "cell_type": "code",
   "execution_count": 218,
   "id": "62f61ecf",
   "metadata": {},
   "outputs": [],
   "source": [
    "del scout_car[\"Consumption\"]\n",
    "# Consumption sütunu sildik"
   ]
  },
  {
   "cell_type": "code",
   "execution_count": 220,
   "id": "c447468a",
   "metadata": {},
   "outputs": [
    {
     "data": {
      "text/plain": [
       "NaN    1906\n",
       "5.4     770\n",
       "3.9     733\n",
       "4       714\n",
       "5.1     661\n",
       "       ... \n",
       "33        1\n",
       "50        1\n",
       "1         1\n",
       "46        1\n",
       "11        1\n",
       "Name: Combined Fuel, Length: 73, dtype: int64"
      ]
     },
     "execution_count": 220,
     "metadata": {},
     "output_type": "execute_result"
    }
   ],
   "source": [
    "scout_car[\"Combined Fuel\"].value_counts(dropna=False)"
   ]
  },
  {
   "cell_type": "code",
   "execution_count": 221,
   "id": "f5edb80a",
   "metadata": {},
   "outputs": [
    {
     "data": {
      "text/plain": [
       "NaN     1906\n",
       "5        663\n",
       "5.8      634\n",
       "4.5      578\n",
       "4.3      535\n",
       "        ... \n",
       "10.5       1\n",
       "64         1\n",
       "9          1\n",
       "19.9       1\n",
       "9.7        1\n",
       "Name: City Fuel, Length: 89, dtype: int64"
      ]
     },
     "execution_count": 221,
     "metadata": {},
     "output_type": "execute_result"
    }
   ],
   "source": [
    "scout_car[\"City Fuel\"].value_counts(dropna=False)"
   ]
  },
  {
   "cell_type": "code",
   "execution_count": 222,
   "id": "71c89900",
   "metadata": {},
   "outputs": [
    {
     "data": {
      "text/plain": [
       "NaN     1906\n",
       "4.2     1190\n",
       "3.7     1089\n",
       "4.4      905\n",
       "4.5      857\n",
       "        ... \n",
       "42         1\n",
       "1          1\n",
       "46         1\n",
       "6.8        1\n",
       "10.3       1\n",
       "Name: Country Fuel, Length: 68, dtype: int64"
      ]
     },
     "execution_count": 222,
     "metadata": {},
     "output_type": "execute_result"
    }
   ],
   "source": [
    "scout_car[\"Country Fuel\"].value_counts(dropna=False)"
   ]
  },
  {
   "cell_type": "markdown",
   "id": "6e657844",
   "metadata": {},
   "source": [
    "***"
   ]
  },
  {
   "cell_type": "markdown",
   "id": "bc176359",
   "metadata": {},
   "source": [
    "## column : CO2 Emission"
   ]
  },
  {
   "cell_type": "code",
   "execution_count": 223,
   "id": "01baeb4a",
   "metadata": {},
   "outputs": [
    {
     "data": {
      "text/plain": [
       "NaN                            1808\n",
       "[\\n120 g CO2/km (comb)\\n]       740\n",
       "[[], [], []]                    628\n",
       "[\\n99 g CO2/km (comb)\\n]        545\n",
       "[\\n97 g CO2/km (comb)\\n]        537\n",
       "                               ... \n",
       "[\\n14 g CO2/km (comb)\\n]          1\n",
       "[\\n1,060 g CO2/km (comb)\\n]       1\n",
       "[\\n51 g CO2/km (comb)\\n]          1\n",
       "[\\n165 g CO2/km (comb)\\n]         1\n",
       "[\\n193 g CO2/km (comb)\\n]         1\n",
       "Name: CO2 Emission, Length: 124, dtype: int64"
      ]
     },
     "execution_count": 223,
     "metadata": {},
     "output_type": "execute_result"
    }
   ],
   "source": [
    "scout_car[\"CO2 Emission\"].value_counts(dropna=False)"
   ]
  },
  {
   "cell_type": "code",
   "execution_count": 224,
   "id": "5bc7bcc6",
   "metadata": {},
   "outputs": [],
   "source": [
    "scout_car[\"CO2 Emission\"] = scout_car[\"CO2 Emission\"].dropna().astype(str).str.findall('[0-9,]+').apply(lambda x : x[0].replace(\",\",\".\"))"
   ]
  },
  {
   "cell_type": "code",
   "execution_count": 225,
   "id": "22213967",
   "metadata": {},
   "outputs": [
    {
     "data": {
      "text/plain": [
       "NaN      1808\n",
       "120       740\n",
       ".         628\n",
       "99        545\n",
       "97        537\n",
       "         ... \n",
       "14          1\n",
       "1.060       1\n",
       "51          1\n",
       "165         1\n",
       "193         1\n",
       "Name: CO2 Emission, Length: 124, dtype: int64"
      ]
     },
     "execution_count": 225,
     "metadata": {},
     "output_type": "execute_result"
    }
   ],
   "source": [
    "scout_car[\"CO2 Emission\"].value_counts(dropna=False)"
   ]
  },
  {
   "cell_type": "code",
   "execution_count": 227,
   "id": "94752c26",
   "metadata": {},
   "outputs": [
    {
     "name": "stderr",
     "output_type": "stream",
     "text": [
      "C:\\Users\\honor\\AppData\\Local\\Temp\\ipykernel_9284\\2520844314.py:2: SettingWithCopyWarning: \n",
      "A value is trying to be set on a copy of a slice from a DataFrame\n",
      "\n",
      "See the caveats in the documentation: https://pandas.pydata.org/pandas-docs/stable/user_guide/indexing.html#returning-a-view-versus-a-copy\n",
      "  scout_car[\"CO2 Emission\"][scout_car[\"CO2 Emission\"]==\".\"]= np.nan\n"
     ]
    }
   ],
   "source": [
    "import numpy as np\n",
    "scout_car[\"CO2 Emission\"][scout_car[\"CO2 Emission\"]==\".\"]= np.nan\n",
    "# nokta (.) olarak yer alan değerleri nan yaptık"
   ]
  },
  {
   "cell_type": "code",
   "execution_count": 228,
   "id": "1563b2bb",
   "metadata": {},
   "outputs": [
    {
     "data": {
      "text/plain": [
       "NaN      2436\n",
       "120       740\n",
       "99        545\n",
       "97        537\n",
       "104       501\n",
       "         ... \n",
       "14          1\n",
       "1.060       1\n",
       "51          1\n",
       "165         1\n",
       "193         1\n",
       "Name: CO2 Emission, Length: 123, dtype: int64"
      ]
     },
     "execution_count": 228,
     "metadata": {},
     "output_type": "execute_result"
    }
   ],
   "source": [
    "scout_car[\"CO2 Emission\"].value_counts(dropna=False)"
   ]
  },
  {
   "cell_type": "markdown",
   "id": "f7448007",
   "metadata": {},
   "source": [
    "***"
   ]
  },
  {
   "cell_type": "markdown",
   "id": "c79a2f7d",
   "metadata": {},
   "source": [
    "## column : Emission Class"
   ]
  },
  {
   "cell_type": "code",
   "execution_count": 229,
   "id": "b89f578e",
   "metadata": {},
   "outputs": [
    {
     "data": {
      "text/plain": [
       "[\\nEuro 6\\n]          10139\n",
       "NaN                    3021\n",
       "[\\nEuro 6d-TEMP\\n]     1845\n",
       "[[], [], []]            607\n",
       "[\\nEuro 6c\\n]           127\n",
       "[\\nEuro 5\\n]             78\n",
       "[\\nEuro 6d\\n]            62\n",
       "[\\nEuro 4\\n]             40\n",
       "Name: Emission Class, dtype: int64"
      ]
     },
     "execution_count": 229,
     "metadata": {},
     "output_type": "execute_result"
    }
   ],
   "source": [
    "scout_car[\"Emission Class\"].value_counts(dropna=False)"
   ]
  },
  {
   "cell_type": "code",
   "execution_count": 230,
   "id": "134ea4f9",
   "metadata": {},
   "outputs": [],
   "source": [
    "scout_car[\"Emission Class\"] = scout_car[\"Emission Class\"].dropna().astype(str).str.findall('[A-Z0-9 ]+', re.IGNORECASE).apply(lambda x : x[0].replace(\"n\",\"\").replace(\"c\",\"\").replace(\"d\",\"\"))"
   ]
  },
  {
   "cell_type": "code",
   "execution_count": 231,
   "id": "f247ac28",
   "metadata": {},
   "outputs": [
    {
     "data": {
      "text/plain": [
       "Euro 6    12173\n",
       "            607\n",
       "Euro 5       78\n",
       "Euro 4       40\n",
       "Name: Emission Class, dtype: int64"
      ]
     },
     "execution_count": 231,
     "metadata": {},
     "output_type": "execute_result"
    }
   ],
   "source": [
    "scout_car[\"Emission Class\"].value_counts()"
   ]
  },
  {
   "cell_type": "code",
   "execution_count": 232,
   "id": "cd8c5574",
   "metadata": {},
   "outputs": [
    {
     "name": "stderr",
     "output_type": "stream",
     "text": [
      "C:\\Users\\honor\\AppData\\Local\\Temp\\ipykernel_9284\\3643171757.py:1: SettingWithCopyWarning: \n",
      "A value is trying to be set on a copy of a slice from a DataFrame\n",
      "\n",
      "See the caveats in the documentation: https://pandas.pydata.org/pandas-docs/stable/user_guide/indexing.html#returning-a-view-versus-a-copy\n",
      "  scout_car[\"Emission Class\"][scout_car[\"Emission Class\"]==(\"\")]=np.nan\n"
     ]
    }
   ],
   "source": [
    "scout_car[\"Emission Class\"][scout_car[\"Emission Class\"]==(\"\")]=np.nan\n",
    "\n",
    "# boşluk olarak yer alan değerler nan yapıldı"
   ]
  },
  {
   "cell_type": "code",
   "execution_count": 233,
   "id": "4147621a",
   "metadata": {},
   "outputs": [
    {
     "data": {
      "text/plain": [
       "Euro 6    12173\n",
       "NaN        3021\n",
       "            607\n",
       "Euro 5       78\n",
       "Euro 4       40\n",
       "Name: Emission Class, dtype: int64"
      ]
     },
     "execution_count": 233,
     "metadata": {},
     "output_type": "execute_result"
    }
   ],
   "source": [
    "scout_car[\"Emission Class\"].value_counts(dropna=False)"
   ]
  },
  {
   "cell_type": "markdown",
   "id": "b7a3183d",
   "metadata": {},
   "source": [
    "***"
   ]
  },
  {
   "cell_type": "markdown",
   "id": "c7687503",
   "metadata": {},
   "source": [
    "## columns : \"\\nComfort & Convenience\\n\", \"\\nEntertainment & Media\\n\", \"\\nExtras\\n\", \"\\nSafety & Security\\n\"\""
   ]
  },
  {
   "cell_type": "code",
   "execution_count": 234,
   "id": "9a173171",
   "metadata": {},
   "outputs": [],
   "source": [
    "scout_car.rename(columns={\"\\nComfort & Convenience\\n\":\"Comfort & Convenience\", \n",
    "                  \"\\nEntertainment & Media\\n\": \"Entertainment & Media\",\n",
    "                  \"\\nExtras\\n\":\"Extras\",\n",
    "                  \"\\nSafety & Security\\n\":\"Safety & Security\"\n",
    "                 }, inplace=True)\n",
    "\n",
    "# sütun isimlerindeki fazlalıkları temizledik"
   ]
  },
  {
   "cell_type": "code",
   "execution_count": 235,
   "id": "53288d62",
   "metadata": {},
   "outputs": [
    {
     "data": {
      "text/plain": [
       "NaN                                                                                                                                                                                                                                                                                                                                                                                                                                                                                                                          920\n",
       "[Air conditioning, Electrical side mirrors, Hill Holder, Power windows]                                                                                                                                                                                                                                                                                                                                                                                                                                                      216\n",
       "[Air conditioning, Electrical side mirrors, Power windows]                                                                                                                                                                                                                                                                                                                                                                                                                                                                   134\n",
       "[Air conditioning, Power windows]                                                                                                                                                                                                                                                                                                                                                                                                                                                                                            130\n",
       "[Air conditioning, Armrest, Automatic climate control, Cruise control, Electrical side mirrors, Leather steering wheel, Light sensor, Lumbar support, Multi-function steering wheel, Navigation system, Park Distance Control, Parking assist system sensors front, Parking assist system sensors rear, Power windows, Rain sensor, Seat heating, Start-stop system]                                                                                                                                                         105\n",
       "                                                                                                                                                                                                                                                                                                                                                                                                                                                                                                                            ... \n",
       "[Air conditioning, Cruise control, Electrical side mirrors, Hill Holder, Leather steering wheel, Light sensor, Multi-function steering wheel, Navigation system, Park Distance Control, Parking assist system sensors rear, Power windows, Rain sensor, Split rear seats, Start-stop system, Tinted windows]                                                                                                                                                                                                                   1\n",
       "[Air conditioning, Armrest, Automatic climate control, Cruise control, Electrical side mirrors, Heated steering wheel, Hill Holder, Leather steering wheel, Light sensor, Lumbar support, Multi-function steering wheel, Navigation system, Park Distance Control, Parking assist system camera, Parking assist system sensors front, Parking assist system sensors rear, Power windows, Rain sensor, Seat heating, Sunroof]                                                                                                   1\n",
       "[Air conditioning, Armrest, Cruise control, Electrical side mirrors, Heated steering wheel, Hill Holder, Leather steering wheel, Light sensor, Multi-function steering wheel, Park Distance Control, Parking assist system camera, Parking assist system sensors front, Parking assist system sensors rear, Power windows, Rain sensor, Seat heating, Split rear seats, Start-stop system, Tinted windows]                                                                                                                     1\n",
       "[Air conditioning, Automatic climate control, Cruise control, Electrical side mirrors, Leather steering wheel, Light sensor, Multi-function steering wheel, Park Distance Control, Parking assist system sensors front, Parking assist system sensors rear, Power windows, Rain sensor, Seat heating]                                                                                                                                                                                                                          1\n",
       "[Air conditioning, Automatic climate control, Cruise control, Electrically heated windshield, Electrical side mirrors, Electric tailgate, Heads-up display, Heated steering wheel, Hill Holder, Keyless central door lock, Leather steering wheel, Light sensor, Lumbar support, Navigation system, Park Distance Control, Parking assist system camera, Parking assist system self-steering, Parking assist system sensors front, Parking assist system sensors rear, Power windows, Rain sensor, Seat heating, Sunroof]      1\n",
       "Name: Comfort & Convenience, Length: 6199, dtype: int64"
      ]
     },
     "execution_count": 235,
     "metadata": {},
     "output_type": "execute_result"
    }
   ],
   "source": [
    "scout_car[\"Comfort & Convenience\"].value_counts(dropna=False)"
   ]
  },
  {
   "cell_type": "code",
   "execution_count": 236,
   "id": "8131f66f",
   "metadata": {},
   "outputs": [
    {
     "name": "stderr",
     "output_type": "stream",
     "text": [
      "C:\\Users\\honor\\AppData\\Local\\Temp\\ipykernel_9284\\1277126948.py:1: FutureWarning: The default value of regex will change from True to False in a future version. In addition, single character regular expressions will *not* be treated as literal strings when regex=True.\n",
      "  scout_car[\"Comfort & Convenience\"] = scout_car[\"Comfort & Convenience\"].dropna().astype(str).str.replace(\"[\",\"\").str.replace(\"]\",\"\")\n"
     ]
    }
   ],
   "source": [
    "scout_car[\"Comfort & Convenience\"] = scout_car[\"Comfort & Convenience\"].dropna().astype(str).str.replace(\"[\",\"\").str.replace(\"]\",\"\")"
   ]
  },
  {
   "cell_type": "code",
   "execution_count": 237,
   "id": "ce18ac53",
   "metadata": {},
   "outputs": [
    {
     "data": {
      "text/plain": [
       "NaN                                                                                                                                                                                                                                                                                                                                                                                                                                                                                                                                                                      920\n",
       "'Air conditioning', 'Electrical side mirrors', 'Hill Holder', 'Power windows'                                                                                                                                                                                                                                                                                                                                                                                                                                                                                            216\n",
       "'Air conditioning', 'Electrical side mirrors', 'Power windows'                                                                                                                                                                                                                                                                                                                                                                                                                                                                                                           134\n",
       "'Air conditioning', 'Power windows'                                                                                                                                                                                                                                                                                                                                                                                                                                                                                                                                      130\n",
       "'Air conditioning', 'Armrest', 'Automatic climate control', 'Cruise control', 'Electrical side mirrors', 'Leather steering wheel', 'Light sensor', 'Lumbar support', 'Multi-function steering wheel', 'Navigation system', 'Park Distance Control', 'Parking assist system sensors front', 'Parking assist system sensors rear', 'Power windows', 'Rain sensor', 'Seat heating', 'Start-stop system'                                                                                                                                                                     105\n",
       "                                                                                                                                                                                                                                                                                                                                                                                                                                                                                                                                                                        ... \n",
       "'Air conditioning', 'Cruise control', 'Electrical side mirrors', 'Hill Holder', 'Leather steering wheel', 'Light sensor', 'Multi-function steering wheel', 'Navigation system', 'Park Distance Control', 'Parking assist system sensors rear', 'Power windows', 'Rain sensor', 'Split rear seats', 'Start-stop system', 'Tinted windows'                                                                                                                                                                                                                                   1\n",
       "'Air conditioning', 'Armrest', 'Automatic climate control', 'Cruise control', 'Electrical side mirrors', 'Heated steering wheel', 'Hill Holder', 'Leather steering wheel', 'Light sensor', 'Lumbar support', 'Multi-function steering wheel', 'Navigation system', 'Park Distance Control', 'Parking assist system camera', 'Parking assist system sensors front', 'Parking assist system sensors rear', 'Power windows', 'Rain sensor', 'Seat heating', 'Sunroof'                                                                                                         1\n",
       "'Air conditioning', 'Armrest', 'Cruise control', 'Electrical side mirrors', 'Heated steering wheel', 'Hill Holder', 'Leather steering wheel', 'Light sensor', 'Multi-function steering wheel', 'Park Distance Control', 'Parking assist system camera', 'Parking assist system sensors front', 'Parking assist system sensors rear', 'Power windows', 'Rain sensor', 'Seat heating', 'Split rear seats', 'Start-stop system', 'Tinted windows'                                                                                                                             1\n",
       "'Air conditioning', 'Automatic climate control', 'Cruise control', 'Electrical side mirrors', 'Leather steering wheel', 'Light sensor', 'Multi-function steering wheel', 'Park Distance Control', 'Parking assist system sensors front', 'Parking assist system sensors rear', 'Power windows', 'Rain sensor', 'Seat heating'                                                                                                                                                                                                                                              1\n",
       "'Air conditioning', 'Automatic climate control', 'Cruise control', 'Electrically heated windshield', 'Electrical side mirrors', 'Electric tailgate', 'Heads-up display', 'Heated steering wheel', 'Hill Holder', 'Keyless central door lock', 'Leather steering wheel', 'Light sensor', 'Lumbar support', 'Navigation system', 'Park Distance Control', 'Parking assist system camera', 'Parking assist system self-steering', 'Parking assist system sensors front', 'Parking assist system sensors rear', 'Power windows', 'Rain sensor', 'Seat heating', 'Sunroof'      1\n",
       "Name: Comfort & Convenience, Length: 6199, dtype: int64"
      ]
     },
     "execution_count": 237,
     "metadata": {},
     "output_type": "execute_result"
    }
   ],
   "source": [
    "scout_car[\"Comfort & Convenience\"].value_counts(dropna=False)"
   ]
  },
  {
   "cell_type": "code",
   "execution_count": null,
   "id": "4e49efc6",
   "metadata": {},
   "outputs": [],
   "source": []
  },
  {
   "cell_type": "code",
   "execution_count": 238,
   "id": "83863b9b",
   "metadata": {},
   "outputs": [
    {
     "data": {
      "text/plain": [
       "NaN                                                                                                           1374\n",
       "[Bluetooth, Hands-free equipment, On-board computer, Radio, USB]                                              1282\n",
       "[Bluetooth, Hands-free equipment, MP3, On-board computer, Radio, USB]                                          982\n",
       "[Bluetooth, CD player, Hands-free equipment, MP3, On-board computer, Radio, USB]                               783\n",
       "[On-board computer, Radio]                                                                                     487\n",
       "                                                                                                              ... \n",
       "[Bluetooth, CD player, Digital radio, Hands-free equipment, Radio]                                               1\n",
       "[CD player, Hands-free equipment, MP3, Radio, USB]                                                               1\n",
       "[MP3, Radio, Sound system, USB]                                                                                  1\n",
       "[Bluetooth, MP3, On-board computer, Radio, Television, USB]                                                      1\n",
       "[Bluetooth, CD player, Hands-free equipment, MP3, On-board computer, Radio, Sound system, Television, USB]       1\n",
       "Name: Entertainment & Media, Length: 347, dtype: int64"
      ]
     },
     "execution_count": 238,
     "metadata": {},
     "output_type": "execute_result"
    }
   ],
   "source": [
    "scout_car[\"Entertainment & Media\"].value_counts(dropna=False)"
   ]
  },
  {
   "cell_type": "code",
   "execution_count": 239,
   "id": "1c21e00b",
   "metadata": {},
   "outputs": [
    {
     "name": "stderr",
     "output_type": "stream",
     "text": [
      "C:\\Users\\honor\\AppData\\Local\\Temp\\ipykernel_9284\\2852387877.py:1: FutureWarning: The default value of regex will change from True to False in a future version. In addition, single character regular expressions will *not* be treated as literal strings when regex=True.\n",
      "  scout_car[\"Entertainment & Media\"] = scout_car[\"Entertainment & Media\"].dropna().astype(str).str.replace(\"[\",\"\").str.replace(\"]\",\"\")\n"
     ]
    }
   ],
   "source": [
    "scout_car[\"Entertainment & Media\"] = scout_car[\"Entertainment & Media\"].dropna().astype(str).str.replace(\"[\",\"\").str.replace(\"]\",\"\")"
   ]
  },
  {
   "cell_type": "code",
   "execution_count": 240,
   "id": "da4b0a53",
   "metadata": {},
   "outputs": [
    {
     "data": {
      "text/plain": [
       "NaN                                                                                                                           1374\n",
       "'Bluetooth', 'Hands-free equipment', 'On-board computer', 'Radio', 'USB'                                                      1282\n",
       "'Bluetooth', 'Hands-free equipment', 'MP3', 'On-board computer', 'Radio', 'USB'                                                982\n",
       "'Bluetooth', 'CD player', 'Hands-free equipment', 'MP3', 'On-board computer', 'Radio', 'USB'                                   783\n",
       "'On-board computer', 'Radio'                                                                                                   487\n",
       "                                                                                                                              ... \n",
       "'Bluetooth', 'CD player', 'Digital radio', 'Hands-free equipment', 'Radio'                                                       1\n",
       "'CD player', 'Hands-free equipment', 'MP3', 'Radio', 'USB'                                                                       1\n",
       "'MP3', 'Radio', 'Sound system', 'USB'                                                                                            1\n",
       "'Bluetooth', 'MP3', 'On-board computer', 'Radio', 'Television', 'USB'                                                            1\n",
       "'Bluetooth', 'CD player', 'Hands-free equipment', 'MP3', 'On-board computer', 'Radio', 'Sound system', 'Television', 'USB'       1\n",
       "Name: Entertainment & Media, Length: 347, dtype: int64"
      ]
     },
     "execution_count": 240,
     "metadata": {},
     "output_type": "execute_result"
    }
   ],
   "source": [
    "scout_car[\"Entertainment & Media\"].value_counts(dropna=False)"
   ]
  },
  {
   "cell_type": "code",
   "execution_count": null,
   "id": "a3fd41de",
   "metadata": {},
   "outputs": [],
   "source": []
  },
  {
   "cell_type": "code",
   "execution_count": 241,
   "id": "0d68b6c7",
   "metadata": {},
   "outputs": [
    {
     "data": {
      "text/plain": [
       "[Alloy wheels]                                                                                                     3245\n",
       "NaN                                                                                                                2962\n",
       "[Alloy wheels, Touch screen]                                                                                        697\n",
       "[Alloy wheels, Voice Control]                                                                                       577\n",
       "[Alloy wheels, Touch screen, Voice Control]                                                                         541\n",
       "                                                                                                                   ... \n",
       "[Alloy wheels, Catalytic Converter, Shift paddles, Sport package, Sport seats, Sport suspension, Voice Control]       1\n",
       "[Alloy wheels, Catalytic Converter, Roof rack, Sport package, Sport seats, Trailer hitch]                             1\n",
       "[Alloy wheels, Catalytic Converter, Ski bag, Sport package, Voice Control]                                            1\n",
       "[Catalytic Converter, Roof rack, Sport seats, Sport suspension]                                                       1\n",
       "[Alloy wheels, Shift paddles, Ski bag, Sport seats, Sport suspension, Touch screen, Voice Control]                    1\n",
       "Name: Extras, Length: 660, dtype: int64"
      ]
     },
     "execution_count": 241,
     "metadata": {},
     "output_type": "execute_result"
    }
   ],
   "source": [
    "scout_car[\"Extras\"].value_counts(dropna=False)"
   ]
  },
  {
   "cell_type": "code",
   "execution_count": 242,
   "id": "c8395664",
   "metadata": {},
   "outputs": [
    {
     "name": "stderr",
     "output_type": "stream",
     "text": [
      "C:\\Users\\honor\\AppData\\Local\\Temp\\ipykernel_9284\\4239780875.py:1: FutureWarning: The default value of regex will change from True to False in a future version. In addition, single character regular expressions will *not* be treated as literal strings when regex=True.\n",
      "  scout_car[\"Extras\"] = scout_car[\"Extras\"].dropna().astype(str).str.replace(\"[\",\"\").str.replace(\"]\",\"\")\n"
     ]
    }
   ],
   "source": [
    "scout_car[\"Extras\"] = scout_car[\"Extras\"].dropna().astype(str).str.replace(\"[\",\"\").str.replace(\"]\",\"\")"
   ]
  },
  {
   "cell_type": "code",
   "execution_count": 243,
   "id": "6863cfcd",
   "metadata": {},
   "outputs": [
    {
     "data": {
      "text/plain": [
       "'Alloy wheels'                                                                                                                 3245\n",
       "NaN                                                                                                                            2962\n",
       "'Alloy wheels', 'Touch screen'                                                                                                  697\n",
       "'Alloy wheels', 'Voice Control'                                                                                                 577\n",
       "'Alloy wheels', 'Touch screen', 'Voice Control'                                                                                 541\n",
       "                                                                                                                               ... \n",
       "'Alloy wheels', 'Catalytic Converter', 'Shift paddles', 'Sport package', 'Sport seats', 'Sport suspension', 'Voice Control'       1\n",
       "'Alloy wheels', 'Catalytic Converter', 'Roof rack', 'Sport package', 'Sport seats', 'Trailer hitch'                               1\n",
       "'Alloy wheels', 'Catalytic Converter', 'Ski bag', 'Sport package', 'Voice Control'                                                1\n",
       "'Catalytic Converter', 'Roof rack', 'Sport seats', 'Sport suspension'                                                             1\n",
       "'Alloy wheels', 'Shift paddles', 'Ski bag', 'Sport seats', 'Sport suspension', 'Touch screen', 'Voice Control'                    1\n",
       "Name: Extras, Length: 660, dtype: int64"
      ]
     },
     "execution_count": 243,
     "metadata": {},
     "output_type": "execute_result"
    }
   ],
   "source": [
    "scout_car[\"Extras\"].value_counts(dropna=False)"
   ]
  },
  {
   "cell_type": "code",
   "execution_count": null,
   "id": "7b83d522",
   "metadata": {},
   "outputs": [],
   "source": []
  },
  {
   "cell_type": "code",
   "execution_count": 244,
   "id": "44ce34ac",
   "metadata": {},
   "outputs": [
    {
     "data": {
      "text/plain": [
       "NaN                                                                                                                                                                                                                                                                                                                                                                                  982\n",
       "[ABS, Central door lock, Daytime running lights, Driver-side airbag, Electronic stability control, Fog lights, Immobilizer, Isofix, Passenger-side airbag, Power steering, Side airbag, Tire pressure monitoring system, Traction control]                                                                                                                                           538\n",
       "[ABS, Central door lock, Daytime running lights, Driver-side airbag, Electronic stability control, Immobilizer, Isofix, Passenger-side airbag, Power steering, Side airbag, Tire pressure monitoring system, Traction control]                                                                                                                                                       480\n",
       "[ABS, Central door lock, Daytime running lights, Driver-side airbag, Electronic stability control, Immobilizer, Isofix, Passenger-side airbag, Power steering, Side airbag, Tire pressure monitoring system, Traction control, Xenon headlights]                                                                                                                                     275\n",
       "[ABS, Central door lock, Daytime running lights, Driver-side airbag, Electronic stability control, Fog lights, Immobilizer, Isofix, LED Daytime Running Lights, Passenger-side airbag, Power steering, Side airbag, Tire pressure monitoring system, Traction control]                                                                                                               272\n",
       "                                                                                                                                                                                                                                                                                                                                                                                    ... \n",
       "[ABS, Central door lock, Electronic stability control, Immobilizer, Isofix, Passenger-side airbag, Power steering, Side airbag]                                                                                                                                                                                                                                                        1\n",
       "[ABS, Adaptive Cruise Control, Central door lock, Daytime running lights, Driver-side airbag, Electronic stability control, Emergency brake assistant, Immobilizer, Isofix, Passenger-side airbag, Power steering, Side airbag, Tire pressure monitoring system, Traction control]                                                                                                     1\n",
       "[ABS, Adaptive Cruise Control, Alarm system, Central door lock, Driver-side airbag, Electronic stability control, Fog lights, Immobilizer, Isofix, Lane departure warning system, LED Daytime Running Lights, Passenger-side airbag, Power steering, Side airbag, Tire pressure monitoring system, Traction control, Xenon headlights]                                                 1\n",
       "[ABS, Adaptive Cruise Control, Central door lock, Daytime running lights, Driver-side airbag, Electronic stability control, Fog lights, Immobilizer, Isofix, Power steering, Tire pressure monitoring system, Traction control]                                                                                                                                                        1\n",
       "[ABS, Adaptive Cruise Control, Central door lock, Daytime running lights, Driver-side airbag, Electronic stability control, Emergency brake assistant, Fog lights, Immobilizer, Isofix, Lane departure warning system, LED Daytime Running Lights, LED Headlights, Passenger-side airbag, Power steering, Side airbag, Tire pressure monitoring system, Traffic sign recognition]      1\n",
       "Name: Safety & Security, Length: 4444, dtype: int64"
      ]
     },
     "execution_count": 244,
     "metadata": {},
     "output_type": "execute_result"
    }
   ],
   "source": [
    "scout_car[\"Safety & Security\"].value_counts(dropna=False)"
   ]
  },
  {
   "cell_type": "code",
   "execution_count": 245,
   "id": "391fdec1",
   "metadata": {},
   "outputs": [
    {
     "name": "stderr",
     "output_type": "stream",
     "text": [
      "C:\\Users\\honor\\AppData\\Local\\Temp\\ipykernel_9284\\3835687313.py:1: FutureWarning: The default value of regex will change from True to False in a future version. In addition, single character regular expressions will *not* be treated as literal strings when regex=True.\n",
      "  scout_car[\"Safety & Security\"] = scout_car[\"Safety & Security\"].dropna().astype(str).str.replace(\"[\",\"\").str.replace(\"]\",\"\")\n"
     ]
    }
   ],
   "source": [
    "scout_car[\"Safety & Security\"] = scout_car[\"Safety & Security\"].dropna().astype(str).str.replace(\"[\",\"\").str.replace(\"]\",\"\")"
   ]
  },
  {
   "cell_type": "code",
   "execution_count": 246,
   "id": "f2c98a1a",
   "metadata": {},
   "outputs": [
    {
     "data": {
      "text/plain": [
       "NaN                                                                                                                                                                                                                                                                                                                                                                                                                    982\n",
       "'ABS', 'Central door lock', 'Daytime running lights', 'Driver-side airbag', 'Electronic stability control', 'Fog lights', 'Immobilizer', 'Isofix', 'Passenger-side airbag', 'Power steering', 'Side airbag', 'Tire pressure monitoring system', 'Traction control'                                                                                                                                                     538\n",
       "'ABS', 'Central door lock', 'Daytime running lights', 'Driver-side airbag', 'Electronic stability control', 'Immobilizer', 'Isofix', 'Passenger-side airbag', 'Power steering', 'Side airbag', 'Tire pressure monitoring system', 'Traction control'                                                                                                                                                                   480\n",
       "'ABS', 'Central door lock', 'Daytime running lights', 'Driver-side airbag', 'Electronic stability control', 'Immobilizer', 'Isofix', 'Passenger-side airbag', 'Power steering', 'Side airbag', 'Tire pressure monitoring system', 'Traction control', 'Xenon headlights'                                                                                                                                               275\n",
       "'ABS', 'Central door lock', 'Daytime running lights', 'Driver-side airbag', 'Electronic stability control', 'Fog lights', 'Immobilizer', 'Isofix', 'LED Daytime Running Lights', 'Passenger-side airbag', 'Power steering', 'Side airbag', 'Tire pressure monitoring system', 'Traction control'                                                                                                                       272\n",
       "                                                                                                                                                                                                                                                                                                                                                                                                                      ... \n",
       "'ABS', 'Central door lock', 'Electronic stability control', 'Immobilizer', 'Isofix', 'Passenger-side airbag', 'Power steering', 'Side airbag'                                                                                                                                                                                                                                                                            1\n",
       "'ABS', 'Adaptive Cruise Control', 'Central door lock', 'Daytime running lights', 'Driver-side airbag', 'Electronic stability control', 'Emergency brake assistant', 'Immobilizer', 'Isofix', 'Passenger-side airbag', 'Power steering', 'Side airbag', 'Tire pressure monitoring system', 'Traction control'                                                                                                             1\n",
       "'ABS', 'Adaptive Cruise Control', 'Alarm system', 'Central door lock', 'Driver-side airbag', 'Electronic stability control', 'Fog lights', 'Immobilizer', 'Isofix', 'Lane departure warning system', 'LED Daytime Running Lights', 'Passenger-side airbag', 'Power steering', 'Side airbag', 'Tire pressure monitoring system', 'Traction control', 'Xenon headlights'                                                   1\n",
       "'ABS', 'Adaptive Cruise Control', 'Central door lock', 'Daytime running lights', 'Driver-side airbag', 'Electronic stability control', 'Fog lights', 'Immobilizer', 'Isofix', 'Power steering', 'Tire pressure monitoring system', 'Traction control'                                                                                                                                                                    1\n",
       "'ABS', 'Adaptive Cruise Control', 'Central door lock', 'Daytime running lights', 'Driver-side airbag', 'Electronic stability control', 'Emergency brake assistant', 'Fog lights', 'Immobilizer', 'Isofix', 'Lane departure warning system', 'LED Daytime Running Lights', 'LED Headlights', 'Passenger-side airbag', 'Power steering', 'Side airbag', 'Tire pressure monitoring system', 'Traffic sign recognition'      1\n",
       "Name: Safety & Security, Length: 4444, dtype: int64"
      ]
     },
     "execution_count": 246,
     "metadata": {},
     "output_type": "execute_result"
    }
   ],
   "source": [
    "scout_car[\"Safety & Security\"].value_counts(dropna=False)"
   ]
  },
  {
   "cell_type": "markdown",
   "id": "c917f3ea",
   "metadata": {},
   "source": [
    "****"
   ]
  },
  {
   "cell_type": "markdown",
   "id": "11ef4683",
   "metadata": {},
   "source": [
    "## column : description"
   ]
  },
  {
   "cell_type": "code",
   "execution_count": 248,
   "id": "d866274b",
   "metadata": {},
   "outputs": [
    {
     "data": {
      "text/plain": [
       "[]                                                                                                                                                                                                                                                                                                                                                                                                                                                                                                                                                                                                                                                                                                                                                                                                                                                                                                                                                                                                                                                                                                                                                                                                                                                                                                                                                                                                                                                                                                                                                                                                                                                                                                                                                                                                                                                                                                                                                                                                                                                                                                                                                                                                                                                                                                                                                                                                                                                                                                                                                                                                                                                                                        636\n",
       "[\\n, \\n]                                                                                                                                                                                                                                                                                                                                                                                                                                                                                                                                                                                                                                                                                                                                                                                                                                                                                                                                                                                                                                                                                                                                                                                                                                                                                                                                                                                                                                                                                                                                                                                                                                                                                                                                                                                                                                                                                                                                                                                                                                                                                                                                                                                                                                                                                                                                                                                                                                                                                                                                                                                                                                                                                   30\n",
       "[\\n, Fahrzeugbeschreibung,  Sichern Sie sich diesen Renault Clio 1.6 TCE Energy Sport Trophy zum Top-Preis inklusive dem , AUTOHERO-RUNDUM-SORGLOS-PAKET,  , Infos:,  1.Hand, deutsche Auslieferung, Unfallfrei, scheckheftgepflegt,  , Highlights,  , Audio-Navigationssystem R-Link Evolution mit Touchscreen und Carminat TomTom,  , Sportsitze ,  , Sportfahrwerk,  , Scheinwerfer Full-LED , Komfort,  , Geschwindigkeits-Regelanlage (Tempomat) ,  , Klimaanlage,  , Einparkhilfe hinten,  , Multifunktionslenkrad (Sport/Leder) mit Schaltwippen/-tasten ,  , Fensterheber elektr. mit Impulsgeber links/rechts vorn,  , Zentralverriegelung / Startanlage Handsfree Entry & Drive ,  , Berganfahr-Assistent (HSA) , Multimedia,  , Audiosystem: Radio R & GO (Bluetooth, DAB-Tuner),  , Bordcomputer,  , Freisprecheinrichtung Bluetooth ,  , USB-Anschluss inkl. AUX-IN-Anschluss (Plug & Music) , Licht und Sicht,  , Außenspiegel elektr. verstell- und heizbar ,  , Licht- und Regensensor ,  , Tagfahrlicht LED ,  , Nebelscheinwerfer LED ,  , Coming-Home-Lichtfunktion ,  , Heckleuchten LED , Sicherheit,  , Isofix-Aufnahmen für Kindersitz ,  , Seitenairbag vorn,  , Wegfahrsperre,  , Differentialsperre,  , Bremsassistent ,  , Elektron. Stabilitäts-Programm (ESP),  , Anti-Blockier-System (ABS),  , Anti-Submarining-Airbag im Fond,  , Airbag Fahrer-/Beifahrerseite ,  , Differentialsperre ,  , Reifendruck-Kontrollsystem ,  , Untersteuerungskontrolle (USC) ,  , Antischlupfregelung (ASR) , Weiteres,  , Start/Stop-Anlage ,  , Servolenkung geschwindigkeitsabhängig,  , R.S. Drive (Fahrmodusschalter) ,  , Gepäckraumabdeckung / Rollo ,  , Heckdiffusor ,  , LM-Felgen ,  , Heckspoiler (Renault Sport) ,  , Pedale Aluminium ,  , Energierückgewinnung (Energy Smart Management) , ...]                                                                                                                                                                                                                                                                                                                                                                                                                                                                                                                                                                                                                                                                                                                                                                                                                                                              27\n",
       "[\\nPosibilidad de prueba del vehículo hasta 5 días. Consultar condiciones. PVP para particulares. Varias unidades y colores disponibles. Precios publicados para vehículos industriales (furgonetas) válidos para compradores autónomos o empresas, consultar condiciones para particulares. Las imágenes y kilómetros pueden no corresponder con el modelo anunciado. Para confirmar póngase en contacto con nuestro departamento comercial. Consulta las excepcionales condiciones de financiación que tenemos disponibles. Precio de venta final IVA y gastos de transferencia incluidos. Horario de atención al cliente: Lunes a Viernes de 09:00 a 18:00.\\n]                                                                                                                                                                                                                                                                                                                                                                                                                                                                                                                                                                                                                                                                                                                                                                                                                                                                                                                                                                                                                                                                                                                                                                                                                                                                                                                                                                                                                                                                                                                                                                                                                                                                                                                                                                                                                                                                                                                                                                                                                          27\n",
       "[\\nSichern Sie sich diesen RENAULT CLIO 1.2 LIMITED zum Top-Preis inklusive dem, AUTOHERO-RUNDUM-SORGLOS-PAKET,  , Infos:,  2.Hand, mindestens 12 Monate gültige HU und AU, deutsche Ausführung, unfallfrei ,  , Highlights,  , Audio-Navigationssystem mit Touchscreen-Farbdisplay, Komfort,  , Klimaanlage ,  , Multifunktionslenkrad in Leder ,  , Berganfahr-Assistent (HSA),  , Fensterheber elektrisch vorn ,  , Geschwindigkeits-Regelanlage (Tempomat) ,  , Heckscheibe heizbar ,  , Sitz vorn links höhenverstellbar,  , Sitz vorn rechts umklappbar ,  , Stau-/Ablagefach im Laderaumboden ,  , Zentralverriegelung mit Fernbedienung , Multimedia,  , Radio R&GO,  , Bluetooth Freisprechanlage ,  , USB-/AUX-Schnittstelle ,  , Bordcomputer,  , Licht und Sicht,  , Tagfahrlicht LED ,  , Außenspiegel elektrisch verstell- und heizbar, Sicherheit,  , Airbag für Fahrer und Beifahrer,  , Beifahrerairbag deaktivierbar ,  , Seitenairbags vorn ,  , Kopfairbagsystem,  , Anti-Blockier-System (ABS),  , Elektronische Bremskraftverteilung ,  , Elektronische Stabilitäts-Programm (ESP) ,  , Reifen-Reparaturkit ,  , Reifendruck-Kontrollsystem ,  , Untersteuerungskontrolle (USC) ,  , ISOFIX Kindersitzverankerung , Weiteres,  , Dachreling silber ,  , Look-Paket Chrom (außen) ,  , Look-Paket Grau (innen) ,  , R&GO-Paket ,  , Style-Paket ,  Ihr , AUTOHERO-RUNDUM-SORGLOS-PAKET,  beinhaltet:, Kostenlose Lieferung in Ihre Nähe, Optische & technische Aufbereitung, Mindestens 12 Monate gültige HU und AU, 1-Jahr-Premium-Garantie, Zulassung inklusive , 14-Tage-Rückgaberecht, Markenunabhängige Inzahlungnahme , Individuelle Finanzierungen zu fairen Konditionen,  , HIER GEHT ES ZUR 360° - ANSICHT DES FAHRZEUGES:, :, https://www.autohero.com/de/renault-clio-1-2-limited/id/30f99516-8785-47e7-a4a3-6cdac4d8e633/,  , Haftungsausschluss, :, Für Angaben vom Verkäufer, des Herstellers oder von Datenbankabfragen übernimmt Autohero keine Haftung. Änderungen, Zwischenverkauf und Irrtümer sind vorbehalten.\\n]                                                                                                                                                                                                                                                                                                                                                                                                                                                                                                                                                                                                                                27\n",
       "                                                                                                                                                                                                                                                                                                                                                                                                                                                                                                                                                                                                                                                                                                                                                                                                                                                                                                                                                                                                                                                                                                                                                                                                                                                                                                                                                                                                                                                                                                                                                                                                                                                                                                                                                                                                                                                                                                                                                                                                                                                                                                                                                                                                                                                                                                                                                                                                                                                                                                                                                                                                                                                                                         ... \n",
       "[\\nPratica 67374, Airbag fullsize per conducente e passeggero, Alzacristalli elettrici ant. e post. con funzione attivaz. a pressione, Assetto dinamico, Audi drive select, Inserti in micrometallic argento, Kit riparazione pneumatici, Pacchetto di navigazione, Piano di copertura del vano bagagli estraibile, Presa AUX-IN, Proiettori allo Xenon Plus con reg. aut. prof. fari, Lavafari, Rivestimenti dei sedili in tessuto, Serbatoio AdBlue, Sistema controllo pressione pneumatici, Sistema di ancoraggio ISOFIX e 3° punto di ancoraggio Top Tether sui sedili post. laterali, Sistema di informazioni per il conducente con display monocromatico, Tappetini anteriori e posteriori, Versione Business, Volante sportivo multifunzionale in pelle 3 razze, ABS, EBV (Ripartitore elettronico della forza frenante), Airbag laterali anteriori integrati negli schienali dei sedili, Airbag per la testa, Airbag per le ginocchia (lato conducente), Appoggiatesta anteriori (2) e posteriori (3) regolabili, Radio MMI plus, Interfaccia Bluetooth, Appoggiabraccia centrale anteriore, Cambio manuale, Cerchi in lega 7 J x 16\" a 5 razze a stella, Chiusura centralizzata con telecomando, Regolatore di velocità, ESC - Sistema elettronico di controllo della stabilizzazione con bloccaggio trasversale elettronico, ASR - Dispositivo di controllo della trazione, EDS (Dispositivo antislittamento in partenza), Filtro anti particolato, Cinture di sicurezza con pretensionatore, Specchietti retrovisivi esterni riscaldabili e ripiegabili elettricamente, Schienale del sedile posteriore ribaltabile (divisibile in rapporto 40:60 o ribaltabile completam.), Sistema di ausilio al parcheggio posteriore, Servosterzo elettromeccanico, Tergilunotto\\n]                                                                                                                                                                                                                                                                                                                                                                                                                                                                                                                                                                                                                                                                                                                                                                                                                                                                                                          1\n",
       "[\\n, Getriebe:,  Schaltgetriebe, Technik:,  Bordcomputer, Start-Stop-Automatik, Assistenten:,  Regensensor, Lichtsensor, Berganfahrassistent, Komfort:,  Servolenkung, Zentralverriegelung, Elektrischer Fensterheber, Sitzheizung, Elektrische Aussenspiegel, Teilbare Ruecksitzlehne, Tempomat, Park Distance Control, Multifunktionslenkrad, Innenspiegel autom. abblendbar, Mittelarmlehne, Innenraumfilter, Lenksaeule einstellbar, Sportsitze, Klimaautomatik-2-Zonen, Sicht:,  Xenon Scheinwerfer, Colorverglasung, Scheinwerferreinigung, Aussenspiegel beheizbar, Privacyverglasung, Sicherheit:,  ABS, Airbag, Beifahrer-Airbag, Wegfahrsperre, Seitenairbags, ESP, Antriebsschlupfregelung, Reifendruckkontrolle, Traktionskontrolle, Kopfairbag, Knieairbag, Kindersitzbefestigung, Pannenkit, Entertainment:,  CD, Radio, AUX-In, USB-Anschluss, MP3, Bluetooth, Freisprecheinrichtung, Umwelt:,  Grüne Umweltplakette, , Energieeffizienzklasse B, Qualität:,  Garantie, Scheckheftgepflegt, HUAU neu, Nichtraucherfahrzeug, Sonstiges:,  Metallic, Alufelgen, Dachreling, Gepaeckraumabdeckung, Stossfaenger in Wagenfarbe, Sportfahrwerk, Weiteres:,  Connectivity-Paket inkl. Bluetooth-Schnittstelle, Klimaautomatik 2-Zonen, Optik-Paket schwarz Audi exclusive, Einparkhilfe (APS), Verglasung hinten abgedunkelt, Sitzheizung vorn, Dachreling (Aluminium), Soundsystem DSP / Audi Sound-System, Ablage- und Gepäckraum-Paket, Audi music interface, Scheibenwaschdüsen heizbar, Vorbereitung Navigationssystem, Adaptives Bremslicht, Anfahr-Assistent (hold assist), Antriebsart: Frontantrieb, Audi Drive Select, Außenspiegel Wagenfarbe, Blinkleuchten LED in Außenspiegel integriert, Bremsanlage mit Rekuperation - Bremsenergierückgewinnung, Bremsassistent, Dachspoiler, Dekoreinlagen Aluminium Mistral, Einstiegsleisten Aluminium, Elektron. Differentialsperre (EDS), Elektron. Stabilitätskontrolle (ESC), Elektron. Stabilitäts-Programm, Euro 6, Fahrer-Informations-System (FIS), Fensterheber elektrisch vorn und hinten, Frontscheibe Akustikglas, Fußmatten Velours, Getriebe 6-Gang, Heckscheibe heizbar, Interieur Aluminium-Optik, Isofix-Aufnahmen für Kindersitz, Kopfstützen hinten, Multi-Media-Interface MMI, Parkbremse elektro-mechanisch, Polster: Stoff Rallye, Servolenkung elektro-mechanisch, Sitze vorn mit ausziehbarer Oberschenkelauflage, Sitzhöhenverstellung, Sport/Lederlenkrad, Sport-Fahrwerk, Start/Stop-Anlage, Telefon-Vorbereitung mit Bluetooth-Schnittstelle, Wagenheber, Wärmeschutzverglasung, Xenon Plus, ZV mit Fernbedienung, ... Änderungen, Zwischenverkauf und Irrtümer vorbehalten.,  by CG360.de\\n]      1\n",
       "[\\n, Getriebe, 6-Gang, Licht und Sicht, Xenon-Scheinwerfer Plus (Abblend- und Fernlicht), Technik und Sicherheit, Fahrerairbag, Airbag Fahrer-/Beifahrerseite, Seitenairbag vorn, Kopfairbags, Anti-Blockier-System (ABS), Elektron. Stabilitätskontrolle (ESC), Elektron. Differentialsperre (EDS), Zentralverriegelung mit Fernbedienung, Schließ-/Startsystem Advanced Key (Komfortschlüssel), Servolenkung elektro-mechanisch, Geschwindigkeits-Regelanlage (Tempomat), Elektronische Wegfahrsperre, Bordcomputer, Reifendruck-Kontrollsystem, Assistenzsysteme, Fahrassistenz-System: Anfahr-Assistent (hold assist), Multimedia, Multi-Media-Interface MMI Basic Plus / MMI Radio Plus, Audi Smartphone Interface, Komfort, Komfort-Klimaautomatik 2-Zonen, Einparkhilfe hinten (APS), Fensterheber elektrisch, Licht- und Regensensor, Außenspiegel elektr. verstellbar beide, Scheibenwaschdüsen und Außenspiegel beheizt, Wärmeschutzverglasung grün getönt, Innenausstattung, Sitzheizung vorn, Lenkrad (Sport/Leder - 3-Speichen) mit Multifunktion, Mittelarmlehne vorn, Rücksitzlehne geteilt/klappbar, Aussenausstattung, LM-Felgen, Pakete, Komfort-Paket, Sonstiges, Rußpartikelfilter, Scheckheftgepflegt, Nichtraucherfahrzeug, Weitere Informationen, Schadstoffklasse: EURO 6D-TEMP, Connectivity-Paket, Glanz-Paket, LM-Felgen 7.5x17 (5-Speichen Y-Design), Progressivlenkung, Antriebs-Schlupfregelung (ASR), Elektron. Stabilitäts-Programm (ESP), Getriebe 6-Gang, Lenkrad (Sport - 3-Speichen), Parkbremse elektro-mechanisch, Sitze vorn höhenverstellbar, Vorrüstung Mobiltelefon/Handy mit Bluetooth-Schnittstelle, Audi music interface, Außenspiegel elektr. verstell- und heizbar beide, Vorbereitung Navigationssystem, Irrtümer und Änderungen vorbehalten., Die im Internet angebotene Ausstattung ist kein Vertragsbestandteil., Die Ausstattung muss vor Ort geprüft werden., Das angebotene Fahrzeug kann von einer Rückrufaktion betroffen sein. Co2 Angaben können abweichen., \\n]                                                                                                                                                                                                                                                                                                                                                                                                                                                                                                                                                                                                                                                                  1\n",
       "[\\n, Aluminium-Gussräder im 5-Speichen-Stern-Design Größe 7 J x 16 mit Reifen 205/55 R 16, Dachreling eloxiert, Einparkhilfe hinten, Fahrerinformationssystem mit Farbdisplay, Lederlenkrad im 3-Speichen-Design mit Multifunktion plus, Ablage-/Gepäckraumpaket mit erweitertem USB-Buchsen-Angebot, Lichtpaket, Reifen 16', Anlaufvariante RdW, Vorbereitung für Anhängevorrichtung, Audi sound system, Reifen 205/55 R16 91W, Xenon plus, Allwetterlicht, Kopfstützen hinten (3 Stück), MMI Radio plus, Zentralverriegelung mit Funkschlüssel, Bluetooth-Schnittstelle, Innenspiegel abblendbar, elektronische Stabilisierungskontrolle (ESC), Airbags, 6-Gang-Schaltgetriebe, Seitenairbags vorn und Kopfairbagsystem, elektromechanische Servolenkung, Leuchtweitenregulierung automatisch-statisch, Scheibenwaschdüsen beheizbar vorn, Reifendruck-Kontrollanzeige, Tagfahrlicht, Start-Stop-System, AUX-IN-Anschluss, Kindersitzverankerung ISOFIX und Top Tether für die äußeren Fondsitze, Sitzbezüge in Stoff Index, Wärmeschutzverglasung, Akustikfrontscheibe, Außenspiegel links asphärisch, Außen-Sound Standard, Außenspiegel rechts (großes Sichtfeld) konvex, elektromechanische Parkbremse, Dachhimmel in Stoff felsgrau, Kraftstoffsystem Otto-Einspritzer, Linkslenker, Reifenreparaturset, Heckleuchten, Scheibenwaschanlage, Entriegelung Hintersitz Standard, Waschwasserstandsanzeige, Abgaskonzept EU6 AG/H/I, Frontantrieb, A3, Außenspiegelgehäuse in Wagenfarbe, Ohne erweitertem Sicherheitssystem, Geschwindigkeitsbegrenzungsanlage, Dachkantenspoiler, Heckscheibenwischer, Sportback, Kindersicherung manuell, Ohne Kamerasysteme/Umfeldsensorik, 4-Zyl. Ottomotor 1 5 L/110KW TSI Grundmotor ist: TJ7/N09/T9F, Nebelschlussleuchten, Nichtraucherausführung, Radstand, Doppeltonfanfare, Serienfahrwerk, 4 Türen, Modellbezeichnung gemäß neuer Leistungskennzeichnung, Warnleuchten, Zierleisten schwarz, Nichtraucherfahrzeug, Irrtümer Änderungen und Zwischenverkauf vorbehalten, sehr guter Zustand, Komfortklima, Aussenspiegel heizbar, elektrische Aussenspiegel, geteilte Rückbank, Scheckheft gepflegt, Fahrersitz höhenverstellbar, Beifahrersitz höhenverstellbar, \\n]                                                                                                                                                                                                                                                                                                                                                                                                                                                                        1\n",
       "[\\nDEK:[2691331], Renault Espace Blue dCi 200CV EDC Business, Nuova da Immatricolare, COLORE: Grigio Titanio, INTERNO: Pelle+Tessuto, TRASMISSIONE: Cambio Automatico EDC, ---, ACCESSORI: , 7 Posti, , , Cerchi in Lega 17, Navigatore con Display 8.7, Clima Automatico, Sensori di Parcheggio Anteriori e Posteriori con Retrocamera, Fari Full LED Pure Vision, Cruise Control, Renault Multisense, ---, Listino Nuovo 44.300 Euro, Prezzo Gruppo Carmeli: 39.700 Euro (Esclusa IPT e Messa in Strada), IVA Esposta, In caso di Adesione alla PROMO GRUPPO CARMELI puoi Averla a 36.000 Euro, Contattaci per scoprire tutti i vantaggi della PROMO GRUPPO CARMELI, ____________________________________, Gruppo Carmeli S.p.A. è Concessionaria e Service ufficiale dei Marchi Renault, Dacia, Nissan, Mercedes e Smart per la provincia di Brescia e Bergamo ed opera nel mercato dell’auto da più di 40 anni., Nelle sedi di Brescia (Nissan e Renault-Dacia Autospazio), di Coccaglio (Renault-Dacia e Nissan) e di Bergamo (Nissan) oltre a tutta la gamma di veicoli dei Marchi rappresentati, propone anche 2.000 auto a Km Zero e Aziendali di tutte le marche., Offriamo Servizi:, -VALUTAZIONE e PERMUTA del tuo USATO, -ACQUISTO con pagamento immediato del tuo USATO, -FINANZIAMENTI e LEASING agevolati, -NOLEGGIO A LUNGO TERMINE di veicoli di tutte le marche, -PACCHETTI ASSICURATIVI su misura con possibilità di garanzia del valore a Nuovo, ____________________________________, Sebbene sia stato fatto ogni ragionevole sforzo per assicurare l'esattezza delle informazioni riportate, vi potrebbero essere involontarie incongruenze riguardanti le immagini e la descrizione degli accessori, che pertanto non rappresentano vincolo contrattuale. Per ulteriori informazioni sulle condizioni economiche ti invitiamo a contattarci., \\n]                                                                                                                                                                                                                                                                                                                                                                                                                                                                                                                                                                                                                                                                                                                                                                                                                   1\n",
       "Name: description, Length: 12874, dtype: int64"
      ]
     },
     "execution_count": 248,
     "metadata": {},
     "output_type": "execute_result"
    }
   ],
   "source": [
    "scout_car[\"description\"].value_counts(dropna=False)"
   ]
  },
  {
   "cell_type": "code",
   "execution_count": 249,
   "id": "d20c081d",
   "metadata": {},
   "outputs": [
    {
     "name": "stderr",
     "output_type": "stream",
     "text": [
      "C:\\Users\\honor\\AppData\\Local\\Temp\\ipykernel_9284\\2118161638.py:1: FutureWarning: The default value of regex will change from True to False in a future version. In addition, single character regular expressions will *not* be treated as literal strings when regex=True.\n",
      "  scout_car[\"description\"] = scout_car[\"description\"].dropna().astype(str).str.replace(\"[\",\"\").str.replace(\"]\",\"\").str.replace(r\"\\\\n\",\"\")\n",
      "C:\\Users\\honor\\AppData\\Local\\Temp\\ipykernel_9284\\2118161638.py:1: FutureWarning: The default value of regex will change from True to False in a future version.\n",
      "  scout_car[\"description\"] = scout_car[\"description\"].dropna().astype(str).str.replace(\"[\",\"\").str.replace(\"]\",\"\").str.replace(r\"\\\\n\",\"\")\n"
     ]
    }
   ],
   "source": [
    "scout_car[\"description\"] = scout_car[\"description\"].dropna().astype(str).str.replace(\"[\",\"\").str.replace(\"]\",\"\").str.replace(r\"\\\\n\",\"\")"
   ]
  },
  {
   "cell_type": "code",
   "execution_count": 250,
   "id": "f5ef49fe",
   "metadata": {},
   "outputs": [
    {
     "data": {
      "text/plain": [
       "                                                                                                                                                                                                                                                                                                                                                                                                                                                                                                                                                                                                                                                                                                                                                                                                                                                                                                                                                                                                                                                                                                                                                                                                                                                                                                                                                                                                                                                                                                                                                                                                                                                                                                                                                                                                                                                                                                                                                                                                                                                                                                                                                                                                                                                                                                                                                                                                                                                                                                                                                                                                                                                                                                                                                                                                                                                                                           636\n",
       "'', ''                                                                                                                                                                                                                                                                                                                                                                                                                                                                                                                                                                                                                                                                                                                                                                                                                                                                                                                                                                                                                                                                                                                                                                                                                                                                                                                                                                                                                                                                                                                                                                                                                                                                                                                                                                                                                                                                                                                                                                                                                                                                                                                                                                                                                                                                                                                                                                                                                                                                                                                                                                                                                                                                                                                                                                                                                                                                                      30\n",
       "'', 'Fahrzeugbeschreibung', ' Sichern Sie sich diesen Renault Clio 1.6 TCE Energy Sport Trophy zum Top-Preis inklusive dem ', 'AUTOHERO-RUNDUM-SORGLOS-PAKET', ' ', 'Infos:', ' 1.Hand, deutsche Auslieferung, Unfallfrei, scheckheftgepflegt', ' ', 'Highlights', ' ', 'Audio-Navigationssystem R-Link Evolution mit Touchscreen und Carminat TomTom', ' ', 'Sportsitze ', ' ', 'Sportfahrwerk', ' ', 'Scheinwerfer Full-LED ', 'Komfort', ' ', 'Geschwindigkeits-Regelanlage (Tempomat) ', ' ', 'Klimaanlage', ' ', 'Einparkhilfe hinten', ' ', 'Multifunktionslenkrad (Sport/Leder) mit Schaltwippen/-tasten ', ' ', 'Fensterheber elektr. mit Impulsgeber links/rechts vorn', ' ', 'Zentralverriegelung / Startanlage Handsfree Entry & Drive ', ' ', 'Berganfahr-Assistent (HSA) ', 'Multimedia', ' ', 'Audiosystem: Radio R & GO (Bluetooth, DAB-Tuner)', ' ', 'Bordcomputer', ' ', 'Freisprecheinrichtung Bluetooth ', ' ', 'USB-Anschluss inkl. AUX-IN-Anschluss (Plug & Music) ', 'Licht und Sicht', ' ', 'Außenspiegel elektr. verstell- und heizbar ', ' ', 'Licht- und Regensensor ', ' ', 'Tagfahrlicht LED ', ' ', 'Nebelscheinwerfer LED ', ' ', 'Coming-Home-Lichtfunktion ', ' ', 'Heckleuchten LED ', 'Sicherheit', ' ', 'Isofix-Aufnahmen für Kindersitz ', ' ', 'Seitenairbag vorn', ' ', 'Wegfahrsperre', ' ', 'Differentialsperre', ' ', 'Bremsassistent ', ' ', 'Elektron. Stabilitäts-Programm (ESP)', ' ', 'Anti-Blockier-System (ABS)', ' ', 'Anti-Submarining-Airbag im Fond', ' ', 'Airbag Fahrer-/Beifahrerseite ', ' ', 'Differentialsperre ', ' ', 'Reifendruck-Kontrollsystem ', ' ', 'Untersteuerungskontrolle (USC) ', ' ', 'Antischlupfregelung (ASR) ', 'Weiteres', ' ', 'Start/Stop-Anlage ', ' ', 'Servolenkung geschwindigkeitsabhängig', ' ', 'R.S. Drive (Fahrmodusschalter) ', ' ', 'Gepäckraumabdeckung / Rollo ', ' ', 'Heckdiffusor ', ' ', 'LM-Felgen ', ' ', 'Heckspoiler (Renault Sport) ', ' ', 'Pedale Aluminium ', ' ', 'Energierückgewinnung (Energy Smart Management) ', ' ', 'Elektr. Bremskraftverteilung ', ' ', 'Reifen-Reparaturkit ', ' ', 'Sitzbezug / Polsterung: Stoff ', ' Ihr ', 'AUTOHERO-RUNDUM-SORGLOS-PAKET', ' beinhaltet:', 'Kostenlose Lieferung in Ihre Nähe', 'Optische & technische Aufbereitung', 'Mindestens 12 Monate gültige HU und AU', '1-Jahr-Premium-Garantie', 'Zulassung inklusive ', '14-Tage-Rückgaberecht', 'Markenunabhängige Inzahlungnahme ', 'Individuelle Finanzierungen zu fairen Konditionen', ' ', 'HIER GEHT ES ZUR 360° - ANSICHT DES FAHRZEUGES:', ':', 'https://www.autohero.com/de/renault-clio-1-6-tce-energy-renault-sport-trophy/id/f7ca29bf-e005-453f-bbc9-8c6fe892dec6/', ' ', 'Haftungsausschluss', ':', 'Für Angaben vom Verkäufer, des Herstellers oder von Datenbankabfragen übernimmt Autohero keine Haftung. Änderungen, Zwischenverkauf und Irrtümer sind vorbehalten.'     27\n",
       "'Posibilidad de prueba del vehículo hasta 5 días. Consultar condiciones. PVP para particulares. Varias unidades y colores disponibles. Precios publicados para vehículos industriales (furgonetas) válidos para compradores autónomos o empresas, consultar condiciones para particulares. Las imágenes y kilómetros pueden no corresponder con el modelo anunciado. Para confirmar póngase en contacto con nuestro departamento comercial. Consulta las excepcionales condiciones de financiación que tenemos disponibles. Precio de venta final IVA y gastos de transferencia incluidos. Horario de atención al cliente: Lunes a Viernes de 09:00 a 18:00.'                                                                                                                                                                                                                                                                                                                                                                                                                                                                                                                                                                                                                                                                                                                                                                                                                                                                                                                                                                                                                                                                                                                                                                                                                                                                                                                                                                                                                                                                                                                                                                                                                                                                                                                                                                                                                                                                                                                                                                                                                                                                                                                                                                                                                               27\n",
       "'Sichern Sie sich diesen RENAULT CLIO 1.2 LIMITED zum Top-Preis inklusive dem', 'AUTOHERO-RUNDUM-SORGLOS-PAKET', ' ', 'Infos:', ' 2.Hand, mindestens 12 Monate gültige HU und AU, deutsche Ausführung, unfallfrei ', ' ', 'Highlights', ' ', 'Audio-Navigationssystem mit Touchscreen-Farbdisplay', 'Komfort', ' ', 'Klimaanlage ', ' ', 'Multifunktionslenkrad in Leder ', ' ', 'Berganfahr-Assistent (HSA)', ' ', 'Fensterheber elektrisch vorn ', ' ', 'Geschwindigkeits-Regelanlage (Tempomat) ', ' ', 'Heckscheibe heizbar ', ' ', 'Sitz vorn links höhenverstellbar', ' ', 'Sitz vorn rechts umklappbar ', ' ', 'Stau-/Ablagefach im Laderaumboden ', ' ', 'Zentralverriegelung mit Fernbedienung ', 'Multimedia', ' ', 'Radio R&GO', ' ', 'Bluetooth Freisprechanlage ', ' ', 'USB-/AUX-Schnittstelle ', ' ', 'Bordcomputer', ' ', 'Licht und Sicht', ' ', 'Tagfahrlicht LED ', ' ', 'Außenspiegel elektrisch verstell- und heizbar', 'Sicherheit', ' ', 'Airbag für Fahrer und Beifahrer', ' ', 'Beifahrerairbag deaktivierbar ', ' ', 'Seitenairbags vorn ', ' ', 'Kopfairbagsystem', ' ', 'Anti-Blockier-System (ABS)', ' ', 'Elektronische Bremskraftverteilung ', ' ', 'Elektronische Stabilitäts-Programm (ESP) ', ' ', 'Reifen-Reparaturkit ', ' ', 'Reifendruck-Kontrollsystem ', ' ', 'Untersteuerungskontrolle (USC) ', ' ', 'ISOFIX Kindersitzverankerung ', 'Weiteres', ' ', 'Dachreling silber ', ' ', 'Look-Paket Chrom (außen) ', ' ', 'Look-Paket Grau (innen) ', ' ', 'R&GO-Paket ', ' ', 'Style-Paket ', ' Ihr ', 'AUTOHERO-RUNDUM-SORGLOS-PAKET', ' beinhaltet:', 'Kostenlose Lieferung in Ihre Nähe', 'Optische & technische Aufbereitung', 'Mindestens 12 Monate gültige HU und AU', '1-Jahr-Premium-Garantie', 'Zulassung inklusive ', '14-Tage-Rückgaberecht', 'Markenunabhängige Inzahlungnahme ', 'Individuelle Finanzierungen zu fairen Konditionen', ' ', 'HIER GEHT ES ZUR 360° - ANSICHT DES FAHRZEUGES:', ':', 'https://www.autohero.com/de/renault-clio-1-2-limited/id/30f99516-8785-47e7-a4a3-6cdac4d8e633/', ' ', 'Haftungsausschluss', ':', 'Für Angaben vom Verkäufer, des Herstellers oder von Datenbankabfragen übernimmt Autohero keine Haftung. Änderungen, Zwischenverkauf und Irrtümer sind vorbehalten.'                                                                                                                                                                                                                                                                                                                                                                                                                                                                                                                                                                                                                                   27\n",
       "                                                                                                                                                                                                                                                                                                                                                                                                                                                                                                                                                                                                                                                                                                                                                                                                                                                                                                                                                                                                                                                                                                                                                                                                                                                                                                                                                                                                                                                                                                                                                                                                                                                                                                                                                                                                                                                                                                                                                                                                                                                                                                                                                                                                                                                                                                                                                                                                                                                                                                                                                                                                                                                                                                                                                                                                                                                                                          ... \n",
       "'Pratica\\xa067374', 'Airbag fullsize per conducente e passeggero, Alzacristalli elettrici ant. e post. con funzione attivaz. a pressione, Assetto dinamico, Audi drive select, Inserti in micrometallic argento, Kit riparazione pneumatici, Pacchetto di navigazione, Piano di copertura del vano bagagli estraibile, Presa AUX-IN, Proiettori allo Xenon Plus con reg. aut. prof. fari, Lavafari, Rivestimenti dei sedili in tessuto, Serbatoio AdBlue, Sistema controllo pressione pneumatici, Sistema di ancoraggio ISOFIX e 3° punto di ancoraggio Top Tether sui sedili post. laterali, Sistema di informazioni per il conducente con display monocromatico, Tappetini anteriori e posteriori, Versione Business, Volante sportivo multifunzionale in pelle 3 razze, ABS, EBV (Ripartitore elettronico della forza frenante), Airbag laterali anteriori integrati negli schienali dei sedili, Airbag per la testa, Airbag per le ginocchia (lato conducente), Appoggiatesta anteriori (2) e posteriori (3) regolabili, Radio MMI plus, Interfaccia Bluetooth, Appoggiabraccia centrale anteriore, Cambio manuale, Cerchi in lega 7 J x 16\" a 5 razze a stella, Chiusura centralizzata con telecomando, Regolatore di velocità, ESC - Sistema elettronico di controllo della stabilizzazione con bloccaggio trasversale elettronico, ASR - Dispositivo di controllo della trazione, EDS (Dispositivo antislittamento in partenza), Filtro anti particolato, Cinture di sicurezza con pretensionatore, Specchietti retrovisivi esterni riscaldabili e ripiegabili elettricamente, Schienale del sedile posteriore ribaltabile (divisibile in rapporto 40:60 o ribaltabile completam.), Sistema di ausilio al parcheggio posteriore, Servosterzo elettromeccanico, Tergilunotto'                                                                                                                                                                                                                                                                                                                                                                                                                                                                                                                                                                                                                                                                                                                                                                                                                                                                                                                                                                                                                                                                                                          1\n",
       "'', 'Getriebe:', ' Schaltgetriebe', 'Technik:', ' Bordcomputer, Start-Stop-Automatik', 'Assistenten:', ' Regensensor, Lichtsensor, Berganfahrassistent', 'Komfort:', ' Servolenkung, Zentralverriegelung, Elektrischer Fensterheber, Sitzheizung, Elektrische Aussenspiegel, Teilbare Ruecksitzlehne, Tempomat, Park Distance Control, Multifunktionslenkrad, Innenspiegel autom. abblendbar, Mittelarmlehne, Innenraumfilter, Lenksaeule einstellbar, Sportsitze, Klimaautomatik-2-Zonen', 'Sicht:', ' Xenon Scheinwerfer, Colorverglasung, Scheinwerferreinigung, Aussenspiegel beheizbar, Privacyverglasung', 'Sicherheit:', ' ABS, Airbag, Beifahrer-Airbag, Wegfahrsperre, Seitenairbags, ESP, Antriebsschlupfregelung, Reifendruckkontrolle, Traktionskontrolle, Kopfairbag, Knieairbag, Kindersitzbefestigung, Pannenkit', 'Entertainment:', ' CD, Radio, AUX-In, USB-Anschluss, MP3, Bluetooth, Freisprecheinrichtung', 'Umwelt:', ' Grüne Umweltplakette, ', 'Energieeffizienzklasse B', 'Qualität:', ' Garantie, Scheckheftgepflegt, HUAU neu, Nichtraucherfahrzeug', 'Sonstiges:', ' Metallic, Alufelgen, Dachreling, Gepaeckraumabdeckung, Stossfaenger in Wagenfarbe, Sportfahrwerk', 'Weiteres:', ' Connectivity-Paket inkl. Bluetooth-Schnittstelle, Klimaautomatik 2-Zonen, Optik-Paket schwarz Audi exclusive, Einparkhilfe (APS), Verglasung hinten abgedunkelt, Sitzheizung vorn, Dachreling (Aluminium), Soundsystem DSP / Audi Sound-System, Ablage- und Gepäckraum-Paket, Audi music interface, Scheibenwaschdüsen heizbar, Vorbereitung Navigationssystem, Adaptives Bremslicht, Anfahr-Assistent (hold assist), Antriebsart: Frontantrieb, Audi Drive Select, Außenspiegel Wagenfarbe, Blinkleuchten LED in Außenspiegel integriert, Bremsanlage mit Rekuperation - Bremsenergierückgewinnung, Bremsassistent, Dachspoiler, Dekoreinlagen Aluminium Mistral, Einstiegsleisten Aluminium, Elektron. Differentialsperre (EDS), Elektron. Stabilitätskontrolle (ESC), Elektron. Stabilitäts-Programm, Euro 6, Fahrer-Informations-System (FIS), Fensterheber elektrisch vorn und hinten, Frontscheibe Akustikglas, Fußmatten Velours, Getriebe 6-Gang, Heckscheibe heizbar, Interieur Aluminium-Optik, Isofix-Aufnahmen für Kindersitz, Kopfstützen hinten, Multi-Media-Interface MMI, Parkbremse elektro-mechanisch, Polster: Stoff Rallye, Servolenkung elektro-mechanisch, Sitze vorn mit ausziehbarer Oberschenkelauflage, Sitzhöhenverstellung, Sport/Lederlenkrad, Sport-Fahrwerk, Start/Stop-Anlage, Telefon-Vorbereitung mit Bluetooth-Schnittstelle, Wagenheber, Wärmeschutzverglasung, Xenon Plus, ZV mit Fernbedienung', '... Änderungen, Zwischenverkauf und Irrtümer vorbehalten.', ' by CG360.de'                                                                                                                                                         1\n",
       "'', 'Getriebe', '6-Gang', 'Licht und Sicht', 'Xenon-Scheinwerfer Plus (Abblend- und Fernlicht)', 'Technik und Sicherheit', 'Fahrerairbag', 'Airbag Fahrer-/Beifahrerseite', 'Seitenairbag vorn', 'Kopfairbags', 'Anti-Blockier-System (ABS)', 'Elektron. Stabilitätskontrolle (ESC)', 'Elektron. Differentialsperre (EDS)', 'Zentralverriegelung mit Fernbedienung', 'Schließ-/Startsystem Advanced Key (Komfortschlüssel)', 'Servolenkung elektro-mechanisch', 'Geschwindigkeits-Regelanlage (Tempomat)', 'Elektronische Wegfahrsperre', 'Bordcomputer', 'Reifendruck-Kontrollsystem', 'Assistenzsysteme', 'Fahrassistenz-System: Anfahr-Assistent (hold assist)', 'Multimedia', 'Multi-Media-Interface MMI Basic Plus / MMI Radio Plus', 'Audi Smartphone Interface', 'Komfort', 'Komfort-Klimaautomatik 2-Zonen', 'Einparkhilfe hinten (APS)', 'Fensterheber elektrisch', 'Licht- und Regensensor', 'Außenspiegel elektr. verstellbar beide', 'Scheibenwaschdüsen und Außenspiegel beheizt', 'Wärmeschutzverglasung grün getönt', 'Innenausstattung', 'Sitzheizung vorn', 'Lenkrad (Sport/Leder - 3-Speichen) mit Multifunktion', 'Mittelarmlehne vorn', 'Rücksitzlehne geteilt/klappbar', 'Aussenausstattung', 'LM-Felgen', 'Pakete', 'Komfort-Paket', 'Sonstiges', 'Rußpartikelfilter', 'Scheckheftgepflegt', 'Nichtraucherfahrzeug', 'Weitere Informationen', 'Schadstoffklasse: EURO 6D-TEMP', 'Connectivity-Paket', 'Glanz-Paket', 'LM-Felgen 7.5x17 (5-Speichen Y-Design)', 'Progressivlenkung', 'Antriebs-Schlupfregelung (ASR)', 'Elektron. Stabilitäts-Programm (ESP)', 'Getriebe 6-Gang', 'Lenkrad (Sport - 3-Speichen)', 'Parkbremse elektro-mechanisch', 'Sitze vorn höhenverstellbar', 'Vorrüstung Mobiltelefon/Handy mit Bluetooth-Schnittstelle', 'Audi music interface', 'Außenspiegel elektr. verstell- und heizbar beide', 'Vorbereitung Navigationssystem', 'Irrtümer und Änderungen vorbehalten.', 'Die im Internet angebotene Ausstattung ist kein Vertragsbestandteil.', 'Die Ausstattung muss vor Ort geprüft werden.', 'Das angebotene Fahrzeug kann von einer Rückrufaktion betroffen sein. Co2 Angaben können abweichen.', ''                                                                                                                                                                                                                                                                                                                                                                                                                                                                                                                                                                                                                                                                                                                                   1\n",
       "'', 'Aluminium-Gussräder im 5-Speichen-Stern-Design Größe 7 J x 16 mit Reifen 205/55 R 16', 'Dachreling eloxiert', 'Einparkhilfe hinten', 'Fahrerinformationssystem mit Farbdisplay', 'Lederlenkrad im 3-Speichen-Design mit Multifunktion plus', 'Ablage-/Gepäckraumpaket mit erweitertem USB-Buchsen-Angebot', 'Lichtpaket', \"Reifen 16'\", 'Anlaufvariante RdW', 'Vorbereitung für Anhängevorrichtung', 'Audi sound system', 'Reifen 205/55 R16 91W', 'Xenon plus', 'Allwetterlicht', 'Kopfstützen hinten (3 Stück)', 'MMI Radio plus', 'Zentralverriegelung mit Funkschlüssel', 'Bluetooth-Schnittstelle', 'Innenspiegel abblendbar', 'elektronische Stabilisierungskontrolle (ESC)', 'Airbags', '6-Gang-Schaltgetriebe', 'Seitenairbags vorn und Kopfairbagsystem', 'elektromechanische Servolenkung', 'Leuchtweitenregulierung automatisch-statisch', 'Scheibenwaschdüsen beheizbar vorn', 'Reifendruck-Kontrollanzeige', 'Tagfahrlicht', 'Start-Stop-System', 'AUX-IN-Anschluss', 'Kindersitzverankerung ISOFIX und Top Tether für die äußeren Fondsitze', 'Sitzbezüge in Stoff Index', 'Wärmeschutzverglasung', 'Akustikfrontscheibe', 'Außenspiegel links asphärisch', 'Außen-Sound Standard', 'Außenspiegel rechts (großes Sichtfeld) konvex', 'elektromechanische Parkbremse', 'Dachhimmel in Stoff felsgrau', 'Kraftstoffsystem Otto-Einspritzer', 'Linkslenker', 'Reifenreparaturset', 'Heckleuchten', 'Scheibenwaschanlage', 'Entriegelung Hintersitz Standard', 'Waschwasserstandsanzeige', 'Abgaskonzept EU6 AG/H/I', 'Frontantrieb', 'A3', 'Außenspiegelgehäuse in Wagenfarbe', 'Ohne erweitertem Sicherheitssystem', 'Geschwindigkeitsbegrenzungsanlage', 'Dachkantenspoiler', 'Heckscheibenwischer', 'Sportback', 'Kindersicherung manuell', 'Ohne Kamerasysteme/Umfeldsensorik', '4-Zyl. Ottomotor 1 5 L/110KW TSI Grundmotor ist: TJ7/N09/T9F', 'Nebelschlussleuchten', 'Nichtraucherausführung', 'Radstand', 'Doppeltonfanfare', 'Serienfahrwerk', '4 Türen', 'Modellbezeichnung gemäß neuer Leistungskennzeichnung', 'Warnleuchten', 'Zierleisten schwarz', 'Nichtraucherfahrzeug', 'Irrtümer Änderungen und Zwischenverkauf vorbehalten', 'sehr guter Zustand', 'Komfortklima', 'Aussenspiegel heizbar', 'elektrische Aussenspiegel', 'geteilte Rückbank', 'Scheckheft gepflegt', 'Fahrersitz höhenverstellbar', 'Beifahrersitz höhenverstellbar', ''                                                                                                                                                                                                                                                                                                                                                                                                                                                                                                                 1\n",
       "'DEK:2691331', 'Renault Espace Blue dCi 200CV EDC Business', 'Nuova da Immatricolare', 'COLORE: Grigio Titanio', 'INTERNO: Pelle+Tessuto', 'TRASMISSIONE: Cambio Automatico EDC', '---', 'ACCESSORI: ', '7 Posti', ', ', 'Cerchi in Lega 17, Navigatore con Display 8.7, Clima Automatico, Sensori di Parcheggio Anteriori e Posteriori con Retrocamera, Fari Full LED Pure Vision, Cruise Control, Renault Multisense', '---', 'Listino Nuovo 44.300 Euro', 'Prezzo Gruppo Carmeli: 39.700 Euro (Esclusa IPT e Messa in Strada)', 'IVA Esposta', 'In caso di Adesione alla PROMO GRUPPO CARMELI puoi Averla a 36.000 Euro', 'Contattaci per scoprire tutti i vantaggi della PROMO GRUPPO CARMELI', '____________________________________', 'Gruppo Carmeli S.p.A. è Concessionaria e Service ufficiale dei Marchi Renault, Dacia, Nissan, Mercedes e Smart per la provincia di Brescia e Bergamo ed opera nel mercato dell’auto da più di 40 anni.', 'Nelle sedi di Brescia (Nissan e Renault-Dacia Autospazio), di Coccaglio (Renault-Dacia e Nissan) e di Bergamo (Nissan) oltre a tutta la gamma di veicoli dei Marchi rappresentati, propone anche 2.000 auto a Km Zero e Aziendali di tutte le marche.', 'Offriamo Servizi:', '-VALUTAZIONE e PERMUTA del tuo USATO', '-ACQUISTO con pagamento immediato del tuo USATO', '-FINANZIAMENTI e LEASING agevolati', '-NOLEGGIO A LUNGO TERMINE di veicoli di tutte le marche', '-PACCHETTI ASSICURATIVI su misura con possibilità di garanzia del valore a Nuovo', '____________________________________', \"Sebbene sia stato fatto ogni ragionevole sforzo per assicurare l'esattezza delle informazioni riportate, vi potrebbero essere involontarie incongruenze riguardanti le immagini e la descrizione degli accessori, che pertanto non rappresentano vincolo contrattuale. Per ulteriori informazioni sulle condizioni economiche ti invitiamo a contattarci.\", ''                                                                                                                                                                                                                                                                                                                                                                                                                                                                                                                                                                                                                                                                                                                                                                                                                                                                                                                                                                  1\n",
       "Name: description, Length: 12874, dtype: int64"
      ]
     },
     "execution_count": 250,
     "metadata": {},
     "output_type": "execute_result"
    }
   ],
   "source": [
    "scout_car[\"description\"].value_counts(dropna=False)"
   ]
  },
  {
   "cell_type": "markdown",
   "id": "e1041477",
   "metadata": {},
   "source": [
    "***"
   ]
  },
  {
   "cell_type": "markdown",
   "id": "cc431527",
   "metadata": {},
   "source": [
    "## column : Emission Label"
   ]
  },
  {
   "cell_type": "code",
   "execution_count": 252,
   "id": "7f65793e",
   "metadata": {},
   "outputs": [
    {
     "data": {
      "text/plain": [
       "NaN                     11934\n",
       "[\\n4 (Green)\\n]          3553\n",
       "[\\n1 (No sticker)\\n]      381\n",
       "[[], [], []]               40\n",
       "[\\n5 (Blue)\\n]              8\n",
       "[\\n3 (Yellow)\\n]            2\n",
       "[\\n2 (Red)\\n]               1\n",
       "Name: Emission Label, dtype: int64"
      ]
     },
     "execution_count": 252,
     "metadata": {},
     "output_type": "execute_result"
    }
   ],
   "source": [
    "scout_car[\"Emission Label\"].value_counts(dropna=False)"
   ]
  },
  {
   "cell_type": "code",
   "execution_count": 253,
   "id": "c2c67b21",
   "metadata": {},
   "outputs": [],
   "source": [
    "scout_car[\"Emission Label\"] = scout_car[\"Emission Label\"].dropna().astype(str).str.findall('[A-Z][a-z]+').apply(listeAyırma)"
   ]
  },
  {
   "cell_type": "code",
   "execution_count": 254,
   "id": "8e1af887",
   "metadata": {},
   "outputs": [
    {
     "data": {
      "text/plain": [
       "NaN       11934\n",
       "Green      3553\n",
       "No          381\n",
       "None         40\n",
       "Blue          8\n",
       "Yellow        2\n",
       "Red           1\n",
       "Name: Emission Label, dtype: int64"
      ]
     },
     "execution_count": 254,
     "metadata": {},
     "output_type": "execute_result"
    }
   ],
   "source": [
    "scout_car[\"Emission Label\"].value_counts(dropna=False)"
   ]
  },
  {
   "cell_type": "markdown",
   "id": "0feee088",
   "metadata": {},
   "source": [
    "***"
   ]
  },
  {
   "cell_type": "markdown",
   "id": "17380544",
   "metadata": {},
   "source": [
    "## column :  Gears"
   ]
  },
  {
   "cell_type": "code",
   "execution_count": 255,
   "id": "fb9bd6a6",
   "metadata": {},
   "outputs": [
    {
     "data": {
      "text/plain": [
       "[\\n6\\n]     5822\n",
       "[\\n5\\n]     3239\n",
       "[\\n7\\n]     1908\n",
       "[\\n8\\n]      224\n",
       "[\\n9\\n]        6\n",
       "[\\n1\\n]        2\n",
       "[\\n3\\n]        2\n",
       "[\\n4\\n]        2\n",
       "[\\n2\\n]        1\n",
       "[\\n50\\n]       1\n",
       "Name: Gears, dtype: int64"
      ]
     },
     "execution_count": 255,
     "metadata": {},
     "output_type": "execute_result"
    }
   ],
   "source": [
    "scout_car.Gears.value_counts()"
   ]
  },
  {
   "cell_type": "code",
   "execution_count": 256,
   "id": "e150c827",
   "metadata": {},
   "outputs": [],
   "source": [
    "scout_car.Gears = scout_car.Gears.dropna().astype(str).str.findall('[0-9]+').apply(lambda x : x[0])"
   ]
  },
  {
   "cell_type": "code",
   "execution_count": 257,
   "id": "b3f595e1",
   "metadata": {},
   "outputs": [
    {
     "data": {
      "text/plain": [
       "6     5822\n",
       "5     3239\n",
       "7     1908\n",
       "8      224\n",
       "9        6\n",
       "1        2\n",
       "3        2\n",
       "4        2\n",
       "2        1\n",
       "50       1\n",
       "Name: Gears, dtype: int64"
      ]
     },
     "execution_count": 257,
     "metadata": {},
     "output_type": "execute_result"
    }
   ],
   "source": [
    "scout_car.Gears.value_counts()"
   ]
  },
  {
   "cell_type": "markdown",
   "id": "4d5d060c",
   "metadata": {},
   "source": [
    "***"
   ]
  },
  {
   "cell_type": "markdown",
   "id": "71c64ef5",
   "metadata": {},
   "source": [
    "## column : Country version"
   ]
  },
  {
   "cell_type": "code",
   "execution_count": null,
   "id": "68a84ff4",
   "metadata": {},
   "outputs": [],
   "source": [
    "scout_car[\"Country version\"].value_counts(dropna=False)"
   ]
  },
  {
   "cell_type": "code",
   "execution_count": 258,
   "id": "c455b2ed",
   "metadata": {},
   "outputs": [],
   "source": [
    "scout_car[\"Country version\"] = scout_car[\"Country version\"].dropna().astype(str).str.findall('[A-Z][a-z]+').apply(lambda x : x[0])"
   ]
  },
  {
   "cell_type": "code",
   "execution_count": 259,
   "id": "9ce06640",
   "metadata": {},
   "outputs": [
    {
     "data": {
      "text/plain": [
       "NaN            8333\n",
       "Germany        4502\n",
       "Italy          1038\n",
       "European        507\n",
       "Netherlands     464\n",
       "Spain           325\n",
       "Belgium         314\n",
       "Austria         208\n",
       "Czech            52\n",
       "Poland           49\n",
       "France           38\n",
       "Denmark          33\n",
       "Hungary          28\n",
       "Japan             8\n",
       "Slovakia          4\n",
       "Croatia           4\n",
       "Sweden            3\n",
       "Romania           2\n",
       "Bulgaria          2\n",
       "Luxembourg        1\n",
       "Switzerland       1\n",
       "Slovenia          1\n",
       "Egypt             1\n",
       "Serbia            1\n",
       "Name: Country version, dtype: int64"
      ]
     },
     "execution_count": 259,
     "metadata": {},
     "output_type": "execute_result"
    }
   ],
   "source": [
    "scout_car[\"Country version\"].value_counts(dropna=False)"
   ]
  },
  {
   "cell_type": "markdown",
   "id": "6f48f1e1",
   "metadata": {},
   "source": [
    "***"
   ]
  },
  {
   "cell_type": "code",
   "execution_count": 260,
   "id": "9fcba7a3",
   "metadata": {},
   "outputs": [
    {
     "data": {
      "text/html": [
       "<div>\n",
       "<style scoped>\n",
       "    .dataframe tbody tr th:only-of-type {\n",
       "        vertical-align: middle;\n",
       "    }\n",
       "\n",
       "    .dataframe tbody tr th {\n",
       "        vertical-align: top;\n",
       "    }\n",
       "\n",
       "    .dataframe thead th {\n",
       "        text-align: right;\n",
       "    }\n",
       "</style>\n",
       "<table border=\"1\" class=\"dataframe\">\n",
       "  <thead>\n",
       "    <tr style=\"text-align: right;\">\n",
       "      <th></th>\n",
       "      <th>0</th>\n",
       "      <th>1</th>\n",
       "      <th>2</th>\n",
       "      <th>3</th>\n",
       "      <th>4</th>\n",
       "      <th>5</th>\n",
       "      <th>6</th>\n",
       "      <th>7</th>\n",
       "      <th>8</th>\n",
       "      <th>9</th>\n",
       "      <th>...</th>\n",
       "      <th>15909</th>\n",
       "      <th>15910</th>\n",
       "      <th>15911</th>\n",
       "      <th>15912</th>\n",
       "      <th>15913</th>\n",
       "      <th>15914</th>\n",
       "      <th>15915</th>\n",
       "      <th>15916</th>\n",
       "      <th>15917</th>\n",
       "      <th>15918</th>\n",
       "    </tr>\n",
       "  </thead>\n",
       "  <tbody>\n",
       "    <tr>\n",
       "      <th>Brand_Model</th>\n",
       "      <td>Audi A1</td>\n",
       "      <td>Audi A1</td>\n",
       "      <td>Audi A1</td>\n",
       "      <td>Audi A1</td>\n",
       "      <td>Audi A1</td>\n",
       "      <td>Audi A1</td>\n",
       "      <td>Audi A1</td>\n",
       "      <td>Audi A1</td>\n",
       "      <td>Audi A1</td>\n",
       "      <td>Audi A1</td>\n",
       "      <td>...</td>\n",
       "      <td>Renault Espace</td>\n",
       "      <td>Renault Espace</td>\n",
       "      <td>Renault Espace</td>\n",
       "      <td>Renault Espace</td>\n",
       "      <td>Renault Espace</td>\n",
       "      <td>Renault Espace</td>\n",
       "      <td>Renault Espace</td>\n",
       "      <td>Renault Espace</td>\n",
       "      <td>Renault Espace</td>\n",
       "      <td>Renault Espace</td>\n",
       "    </tr>\n",
       "    <tr>\n",
       "      <th>short_description</th>\n",
       "      <td>Sportback 1.4 TDI S-tronic Xenon Navi Klima</td>\n",
       "      <td>1.8 TFSI sport</td>\n",
       "      <td>Sportback 1.6 TDI S tronic Einparkhilfe plus+m...</td>\n",
       "      <td>1.4 TDi Design S tronic</td>\n",
       "      <td>Sportback 1.4 TDI S-Tronic S-Line Ext. admired...</td>\n",
       "      <td>1.6 TDI Sport DSG *SHZ*Xenon*Navi*Bose*PDC*</td>\n",
       "      <td>Sportback 1.6 TDI S-TRONIC S-LINE*NAVI|XENON*</td>\n",
       "      <td>Sportback 1.4 TDI admired S tronic</td>\n",
       "      <td>SPB 1.6 TDI S-tronic Metal plus + Xeno</td>\n",
       "      <td>SPORTBACK TFSI ULTRA 95 S-TRONIC AMB.</td>\n",
       "      <td>...</td>\n",
       "      <td>Limited Blue dCi 200 EDC</td>\n",
       "      <td>TCe 225 EDC INITIALE PDC SHZ BOSE KLIMA</td>\n",
       "      <td>ELYSEE ENERGY dCi 160 EDC</td>\n",
       "      <td>Blue dCi 200CV EDC Executive 4Control</td>\n",
       "      <td>INITIALE Paris TCe 225 EDC GPF ACC EU6</td>\n",
       "      <td>Blue dCi 200CV EDC Executive 4Control</td>\n",
       "      <td>TCe 225 EDC GPF LIM Deluxe Pano,RFK</td>\n",
       "      <td>Blue dCi 200 EDC Initiale Paris Leder LED Navi...</td>\n",
       "      <td>Blue dCi 200CV EDC Business , NUOVA DA IMMATRI...</td>\n",
       "      <td>INITIALE PARIS TCe 225 EDC GPF NAVI SHZ AUX</td>\n",
       "    </tr>\n",
       "    <tr>\n",
       "      <th>body_type</th>\n",
       "      <td>Sedans</td>\n",
       "      <td>Sedans</td>\n",
       "      <td>Sedans</td>\n",
       "      <td>Sedans</td>\n",
       "      <td>Sedans</td>\n",
       "      <td>Sedans</td>\n",
       "      <td>Station wagon</td>\n",
       "      <td>Compact</td>\n",
       "      <td>Sedans</td>\n",
       "      <td>Sedans</td>\n",
       "      <td>...</td>\n",
       "      <td>Van</td>\n",
       "      <td>Van</td>\n",
       "      <td>Van</td>\n",
       "      <td>Van</td>\n",
       "      <td>Van</td>\n",
       "      <td>Van</td>\n",
       "      <td>Van</td>\n",
       "      <td>Van</td>\n",
       "      <td>Van</td>\n",
       "      <td>Van</td>\n",
       "    </tr>\n",
       "    <tr>\n",
       "      <th>price</th>\n",
       "      <td>15770</td>\n",
       "      <td>14500</td>\n",
       "      <td>14640</td>\n",
       "      <td>14500</td>\n",
       "      <td>16790</td>\n",
       "      <td>15090</td>\n",
       "      <td>16422</td>\n",
       "      <td>14480</td>\n",
       "      <td>16700</td>\n",
       "      <td>17990</td>\n",
       "      <td>...</td>\n",
       "      <td>39990</td>\n",
       "      <td>39980</td>\n",
       "      <td>39980</td>\n",
       "      <td>39950</td>\n",
       "      <td>39950</td>\n",
       "      <td>39950</td>\n",
       "      <td>39885</td>\n",
       "      <td>39875</td>\n",
       "      <td>39700</td>\n",
       "      <td>40999</td>\n",
       "    </tr>\n",
       "    <tr>\n",
       "      <th>vat</th>\n",
       "      <td>VAT deductible</td>\n",
       "      <td>Price negotiable</td>\n",
       "      <td>VAT deductible</td>\n",
       "      <td>None</td>\n",
       "      <td>None</td>\n",
       "      <td>None</td>\n",
       "      <td>VAT deductible</td>\n",
       "      <td>VAT deductible</td>\n",
       "      <td>None</td>\n",
       "      <td>None</td>\n",
       "      <td>...</td>\n",
       "      <td>VAT deductible</td>\n",
       "      <td>VAT deductible</td>\n",
       "      <td>VAT deductible</td>\n",
       "      <td>VAT deductible</td>\n",
       "      <td>VAT deductible</td>\n",
       "      <td>VAT deductible</td>\n",
       "      <td>VAT deductible</td>\n",
       "      <td>VAT deductible</td>\n",
       "      <td>VAT deductible</td>\n",
       "      <td>VAT deductible</td>\n",
       "    </tr>\n",
       "    <tr>\n",
       "      <th>km</th>\n",
       "      <td>56.013</td>\n",
       "      <td>80.000</td>\n",
       "      <td>83.450</td>\n",
       "      <td>73.000</td>\n",
       "      <td>16.200</td>\n",
       "      <td>63.668</td>\n",
       "      <td>62.111</td>\n",
       "      <td>14.986</td>\n",
       "      <td>57.000</td>\n",
       "      <td>16.103</td>\n",
       "      <td>...</td>\n",
       "      <td>3.500</td>\n",
       "      <td>8.500</td>\n",
       "      <td>100</td>\n",
       "      <td>-</td>\n",
       "      <td>1.000</td>\n",
       "      <td>-</td>\n",
       "      <td>9.900</td>\n",
       "      <td>15</td>\n",
       "      <td>10</td>\n",
       "      <td>-</td>\n",
       "    </tr>\n",
       "    <tr>\n",
       "      <th>registration</th>\n",
       "      <td>01/2016</td>\n",
       "      <td>03/2017</td>\n",
       "      <td>02/2016</td>\n",
       "      <td>08/2016</td>\n",
       "      <td>05/2016</td>\n",
       "      <td>02/2016</td>\n",
       "      <td>03/2016</td>\n",
       "      <td>02/2016</td>\n",
       "      <td>02/2016</td>\n",
       "      <td>06/2017</td>\n",
       "      <td>...</td>\n",
       "      <td>05/2019</td>\n",
       "      <td>02/2019</td>\n",
       "      <td>02/2019</td>\n",
       "      <td>-/-</td>\n",
       "      <td>04/2019</td>\n",
       "      <td>-/-</td>\n",
       "      <td>01/2019</td>\n",
       "      <td>03/2019</td>\n",
       "      <td>06/2019</td>\n",
       "      <td>01/2019</td>\n",
       "    </tr>\n",
       "    <tr>\n",
       "      <th>prev_owner</th>\n",
       "      <td>2</td>\n",
       "      <td>NaN</td>\n",
       "      <td>1</td>\n",
       "      <td>1</td>\n",
       "      <td>1</td>\n",
       "      <td>1</td>\n",
       "      <td>1</td>\n",
       "      <td>1</td>\n",
       "      <td>1</td>\n",
       "      <td>NaN</td>\n",
       "      <td>...</td>\n",
       "      <td>NaN</td>\n",
       "      <td>1</td>\n",
       "      <td>1</td>\n",
       "      <td>NaN</td>\n",
       "      <td>NaN</td>\n",
       "      <td>NaN</td>\n",
       "      <td>1</td>\n",
       "      <td>1</td>\n",
       "      <td>NaN</td>\n",
       "      <td>1</td>\n",
       "    </tr>\n",
       "    <tr>\n",
       "      <th>hp</th>\n",
       "      <td>66</td>\n",
       "      <td>141</td>\n",
       "      <td>85</td>\n",
       "      <td>66</td>\n",
       "      <td>66</td>\n",
       "      <td>85</td>\n",
       "      <td>85</td>\n",
       "      <td>66</td>\n",
       "      <td>85</td>\n",
       "      <td>70</td>\n",
       "      <td>...</td>\n",
       "      <td>147</td>\n",
       "      <td>165</td>\n",
       "      <td>118</td>\n",
       "      <td>147</td>\n",
       "      <td>165</td>\n",
       "      <td>147</td>\n",
       "      <td>165</td>\n",
       "      <td>146</td>\n",
       "      <td>147</td>\n",
       "      <td>165</td>\n",
       "    </tr>\n",
       "    <tr>\n",
       "      <th>Type</th>\n",
       "      <td>Used</td>\n",
       "      <td>Used</td>\n",
       "      <td>Used</td>\n",
       "      <td>Used</td>\n",
       "      <td>Used</td>\n",
       "      <td>Used</td>\n",
       "      <td>Used</td>\n",
       "      <td>Used</td>\n",
       "      <td>Used</td>\n",
       "      <td>Used</td>\n",
       "      <td>...</td>\n",
       "      <td>Demonstration</td>\n",
       "      <td>Demonstration</td>\n",
       "      <td>Pre-registered</td>\n",
       "      <td>New</td>\n",
       "      <td>Demonstration</td>\n",
       "      <td>New</td>\n",
       "      <td>Used</td>\n",
       "      <td>Pre-registered</td>\n",
       "      <td>Pre-registered</td>\n",
       "      <td>Demonstration</td>\n",
       "    </tr>\n",
       "    <tr>\n",
       "      <th>Next Inspection</th>\n",
       "      <td>06-2021</td>\n",
       "      <td>NaN</td>\n",
       "      <td>NaN</td>\n",
       "      <td>NaN</td>\n",
       "      <td>NaN</td>\n",
       "      <td>NaN</td>\n",
       "      <td>NaN</td>\n",
       "      <td>NaN</td>\n",
       "      <td>02-2020</td>\n",
       "      <td>NaN</td>\n",
       "      <td>...</td>\n",
       "      <td>NaN</td>\n",
       "      <td>NaN</td>\n",
       "      <td>NaN</td>\n",
       "      <td>NaN</td>\n",
       "      <td>NaN</td>\n",
       "      <td>NaN</td>\n",
       "      <td>01-2022</td>\n",
       "      <td>NaN</td>\n",
       "      <td>NaN</td>\n",
       "      <td>NaN</td>\n",
       "    </tr>\n",
       "    <tr>\n",
       "      <th>Inspection new</th>\n",
       "      <td>Yes</td>\n",
       "      <td>NaN</td>\n",
       "      <td>NaN</td>\n",
       "      <td>NaN</td>\n",
       "      <td>Yes</td>\n",
       "      <td>NaN</td>\n",
       "      <td>Yes</td>\n",
       "      <td>Yes</td>\n",
       "      <td>NaN</td>\n",
       "      <td>NaN</td>\n",
       "      <td>...</td>\n",
       "      <td>NaN</td>\n",
       "      <td>NaN</td>\n",
       "      <td>NaN</td>\n",
       "      <td>NaN</td>\n",
       "      <td>NaN</td>\n",
       "      <td>NaN</td>\n",
       "      <td>NaN</td>\n",
       "      <td>Yes</td>\n",
       "      <td>NaN</td>\n",
       "      <td>Yes</td>\n",
       "    </tr>\n",
       "    <tr>\n",
       "      <th>Brand</th>\n",
       "      <td>Audi</td>\n",
       "      <td>Audi</td>\n",
       "      <td>Audi</td>\n",
       "      <td>Audi</td>\n",
       "      <td>Audi</td>\n",
       "      <td>Audi</td>\n",
       "      <td>Audi</td>\n",
       "      <td>Audi</td>\n",
       "      <td>Audi</td>\n",
       "      <td>Audi</td>\n",
       "      <td>...</td>\n",
       "      <td>Renault</td>\n",
       "      <td>Renault</td>\n",
       "      <td>Renault</td>\n",
       "      <td>Renault</td>\n",
       "      <td>Renault</td>\n",
       "      <td>Renault</td>\n",
       "      <td>Renault</td>\n",
       "      <td>Renault</td>\n",
       "      <td>Renault</td>\n",
       "      <td>Renault</td>\n",
       "    </tr>\n",
       "    <tr>\n",
       "      <th>Model</th>\n",
       "      <td>A1</td>\n",
       "      <td>A1</td>\n",
       "      <td>A1</td>\n",
       "      <td>A1</td>\n",
       "      <td>A1</td>\n",
       "      <td>A1</td>\n",
       "      <td>A1</td>\n",
       "      <td>A1</td>\n",
       "      <td>A1</td>\n",
       "      <td>A1</td>\n",
       "      <td>...</td>\n",
       "      <td>Espace</td>\n",
       "      <td>Espace</td>\n",
       "      <td>Espace</td>\n",
       "      <td>Espace</td>\n",
       "      <td>Espace</td>\n",
       "      <td>Espace</td>\n",
       "      <td>Espace</td>\n",
       "      <td>Espace</td>\n",
       "      <td>Espace</td>\n",
       "      <td>Espace</td>\n",
       "    </tr>\n",
       "    <tr>\n",
       "      <th>Offer Number</th>\n",
       "      <td>LR-062483</td>\n",
       "      <td>NaN</td>\n",
       "      <td>AM-95365</td>\n",
       "      <td>NaN</td>\n",
       "      <td>C1626</td>\n",
       "      <td>JV03654</td>\n",
       "      <td>200-19</td>\n",
       "      <td>18381A-Q2</td>\n",
       "      <td>11540324</td>\n",
       "      <td>NaN</td>\n",
       "      <td>...</td>\n",
       "      <td>1-15447</td>\n",
       "      <td>1720LR8</td>\n",
       "      <td>VB1_12468</td>\n",
       "      <td>10988276</td>\n",
       "      <td>NW9766</td>\n",
       "      <td>10988301</td>\n",
       "      <td>507370_3223</td>\n",
       "      <td>Espace16</td>\n",
       "      <td>2691331</td>\n",
       "      <td>Re_30000008029</td>\n",
       "    </tr>\n",
       "    <tr>\n",
       "      <th>First Registration</th>\n",
       "      <td>2016</td>\n",
       "      <td>2017</td>\n",
       "      <td>2016</td>\n",
       "      <td>2016</td>\n",
       "      <td>2016</td>\n",
       "      <td>2016</td>\n",
       "      <td>2016</td>\n",
       "      <td>2016</td>\n",
       "      <td>2016</td>\n",
       "      <td>2017</td>\n",
       "      <td>...</td>\n",
       "      <td>2019</td>\n",
       "      <td>2019</td>\n",
       "      <td>2019</td>\n",
       "      <td>NaN</td>\n",
       "      <td>2019</td>\n",
       "      <td>NaN</td>\n",
       "      <td>2019</td>\n",
       "      <td>2019</td>\n",
       "      <td>2019</td>\n",
       "      <td>2019</td>\n",
       "    </tr>\n",
       "    <tr>\n",
       "      <th>Body Color</th>\n",
       "      <td>Black</td>\n",
       "      <td>Red</td>\n",
       "      <td>Black</td>\n",
       "      <td>Brown</td>\n",
       "      <td>Black</td>\n",
       "      <td>White</td>\n",
       "      <td>White</td>\n",
       "      <td>Red</td>\n",
       "      <td>Grey</td>\n",
       "      <td>White</td>\n",
       "      <td>...</td>\n",
       "      <td>Black</td>\n",
       "      <td>Blue</td>\n",
       "      <td>White</td>\n",
       "      <td>Black</td>\n",
       "      <td>White</td>\n",
       "      <td>Grey</td>\n",
       "      <td>Grey</td>\n",
       "      <td>White</td>\n",
       "      <td>Grey</td>\n",
       "      <td>Grey</td>\n",
       "    </tr>\n",
       "    <tr>\n",
       "      <th>Paint Type</th>\n",
       "      <td>Metallic</td>\n",
       "      <td>NaN</td>\n",
       "      <td>Metallic</td>\n",
       "      <td>Metallic</td>\n",
       "      <td>Metallic</td>\n",
       "      <td>Metallic</td>\n",
       "      <td>Metallic</td>\n",
       "      <td>Metallic</td>\n",
       "      <td>Metallic</td>\n",
       "      <td>NaN</td>\n",
       "      <td>...</td>\n",
       "      <td>Metallic</td>\n",
       "      <td>Metallic</td>\n",
       "      <td>Metallic</td>\n",
       "      <td>Metallic</td>\n",
       "      <td>Metallic</td>\n",
       "      <td>Metallic</td>\n",
       "      <td>Metallic</td>\n",
       "      <td>NaN</td>\n",
       "      <td>NaN</td>\n",
       "      <td>Metallic</td>\n",
       "    </tr>\n",
       "    <tr>\n",
       "      <th>Body Color Original</th>\n",
       "      <td>Mythosschwarz</td>\n",
       "      <td>NaN</td>\n",
       "      <td>mythosschwarz metallic</td>\n",
       "      <td>NaN</td>\n",
       "      <td>Mythosschwarz Metallic</td>\n",
       "      <td>NaN</td>\n",
       "      <td>Gletscherweiss</td>\n",
       "      <td>Misanorot Perleffekt</td>\n",
       "      <td>Grigio</td>\n",
       "      <td>Blanc</td>\n",
       "      <td>...</td>\n",
       "      <td>Black-Pearl</td>\n",
       "      <td>Kosmos-Blau</td>\n",
       "      <td>Perlmutt-Weiß Metallic (Weiß)</td>\n",
       "      <td>Nero</td>\n",
       "      <td>perlmutt-weiss</td>\n",
       "      <td>Grigio scuro</td>\n",
       "      <td>Stahl-Grau Metallic</td>\n",
       "      <td>arktis-weiß</td>\n",
       "      <td>Grigio</td>\n",
       "      <td>Titanium-Grau Metallic</td>\n",
       "    </tr>\n",
       "    <tr>\n",
       "      <th>Upholstery</th>\n",
       "      <td>Cloth,Black</td>\n",
       "      <td>Cloth,Grey</td>\n",
       "      <td>Cloth,Black</td>\n",
       "      <td>NaN</td>\n",
       "      <td>Cloth,Black</td>\n",
       "      <td>Part leather,Black</td>\n",
       "      <td>Part leather,Black</td>\n",
       "      <td>Cloth,Black</td>\n",
       "      <td>Cloth,Grey</td>\n",
       "      <td>NaN</td>\n",
       "      <td>...</td>\n",
       "      <td>NaN</td>\n",
       "      <td>Full leather,Other</td>\n",
       "      <td>Full leather,Grey</td>\n",
       "      <td>NaN</td>\n",
       "      <td>Full leather,Brown</td>\n",
       "      <td>NaN</td>\n",
       "      <td>Cloth</td>\n",
       "      <td>Full leather,Black</td>\n",
       "      <td>Part leather</td>\n",
       "      <td>Full leather,Brown</td>\n",
       "    </tr>\n",
       "    <tr>\n",
       "      <th>Nr. of Doors</th>\n",
       "      <td>5</td>\n",
       "      <td>3</td>\n",
       "      <td>4</td>\n",
       "      <td>3</td>\n",
       "      <td>5</td>\n",
       "      <td>4</td>\n",
       "      <td>4</td>\n",
       "      <td>5</td>\n",
       "      <td>5</td>\n",
       "      <td>5</td>\n",
       "      <td>...</td>\n",
       "      <td>5</td>\n",
       "      <td>5</td>\n",
       "      <td>5</td>\n",
       "      <td>5</td>\n",
       "      <td>5</td>\n",
       "      <td>5</td>\n",
       "      <td>5</td>\n",
       "      <td>5</td>\n",
       "      <td>5</td>\n",
       "      <td>5</td>\n",
       "    </tr>\n",
       "    <tr>\n",
       "      <th>Nr. of Seats</th>\n",
       "      <td>5</td>\n",
       "      <td>4</td>\n",
       "      <td>4</td>\n",
       "      <td>4</td>\n",
       "      <td>5</td>\n",
       "      <td>5</td>\n",
       "      <td>5</td>\n",
       "      <td>5</td>\n",
       "      <td>4</td>\n",
       "      <td>4</td>\n",
       "      <td>...</td>\n",
       "      <td>5</td>\n",
       "      <td>5</td>\n",
       "      <td>7</td>\n",
       "      <td>5</td>\n",
       "      <td>7</td>\n",
       "      <td>5</td>\n",
       "      <td>5</td>\n",
       "      <td>7</td>\n",
       "      <td>7</td>\n",
       "      <td>5</td>\n",
       "    </tr>\n",
       "    <tr>\n",
       "      <th>Model Code</th>\n",
       "      <td>0588/BDF</td>\n",
       "      <td>0588/BCY</td>\n",
       "      <td>NaN</td>\n",
       "      <td>NaN</td>\n",
       "      <td>0588/BDF</td>\n",
       "      <td>NaN</td>\n",
       "      <td>NaN</td>\n",
       "      <td>0588/BDF</td>\n",
       "      <td>NaN</td>\n",
       "      <td>NaN</td>\n",
       "      <td>...</td>\n",
       "      <td>NaN</td>\n",
       "      <td>3333/BHJ</td>\n",
       "      <td>3333/BDQ</td>\n",
       "      <td>NaN</td>\n",
       "      <td>NaN</td>\n",
       "      <td>NaN</td>\n",
       "      <td>0000/000</td>\n",
       "      <td>NaN</td>\n",
       "      <td>NaN</td>\n",
       "      <td>3333/BHJ</td>\n",
       "    </tr>\n",
       "    <tr>\n",
       "      <th>Gearing Type</th>\n",
       "      <td>Automatic</td>\n",
       "      <td>Automatic</td>\n",
       "      <td>Automatic</td>\n",
       "      <td>Automatic</td>\n",
       "      <td>Automatic</td>\n",
       "      <td>Automatic</td>\n",
       "      <td>Automatic</td>\n",
       "      <td>Automatic</td>\n",
       "      <td>Automatic</td>\n",
       "      <td>Automatic</td>\n",
       "      <td>...</td>\n",
       "      <td>Automatic</td>\n",
       "      <td>Automatic</td>\n",
       "      <td>Automatic</td>\n",
       "      <td>Automatic</td>\n",
       "      <td>Automatic</td>\n",
       "      <td>Automatic</td>\n",
       "      <td>Automatic</td>\n",
       "      <td>Automatic</td>\n",
       "      <td>Automatic</td>\n",
       "      <td>Automatic</td>\n",
       "    </tr>\n",
       "    <tr>\n",
       "      <th>Displacement(cc)</th>\n",
       "      <td>1.422</td>\n",
       "      <td>1.798</td>\n",
       "      <td>1.598</td>\n",
       "      <td>1.422</td>\n",
       "      <td>1.422</td>\n",
       "      <td>1.598</td>\n",
       "      <td>1.598</td>\n",
       "      <td>1.422</td>\n",
       "      <td>1.598</td>\n",
       "      <td>999</td>\n",
       "      <td>...</td>\n",
       "      <td>1.997</td>\n",
       "      <td>1.798</td>\n",
       "      <td>1.598</td>\n",
       "      <td>1.997</td>\n",
       "      <td>1.798</td>\n",
       "      <td>1.997</td>\n",
       "      <td>1.798</td>\n",
       "      <td>1.997</td>\n",
       "      <td>1.997</td>\n",
       "      <td>1.798</td>\n",
       "    </tr>\n",
       "    <tr>\n",
       "      <th>Cylinders</th>\n",
       "      <td>3</td>\n",
       "      <td>4</td>\n",
       "      <td>NaN</td>\n",
       "      <td>3</td>\n",
       "      <td>3</td>\n",
       "      <td>NaN</td>\n",
       "      <td>4</td>\n",
       "      <td>NaN</td>\n",
       "      <td>4</td>\n",
       "      <td>NaN</td>\n",
       "      <td>...</td>\n",
       "      <td>NaN</td>\n",
       "      <td>4</td>\n",
       "      <td>4</td>\n",
       "      <td>4</td>\n",
       "      <td>4</td>\n",
       "      <td>4</td>\n",
       "      <td>4</td>\n",
       "      <td>4</td>\n",
       "      <td>4</td>\n",
       "      <td>4</td>\n",
       "    </tr>\n",
       "    <tr>\n",
       "      <th>Weight(kg)</th>\n",
       "      <td>1.220</td>\n",
       "      <td>1.255</td>\n",
       "      <td>NaN</td>\n",
       "      <td>1.195</td>\n",
       "      <td>NaN</td>\n",
       "      <td>NaN</td>\n",
       "      <td>NaN</td>\n",
       "      <td>NaN</td>\n",
       "      <td>1.275</td>\n",
       "      <td>NaN</td>\n",
       "      <td>...</td>\n",
       "      <td>1.779</td>\n",
       "      <td>NaN</td>\n",
       "      <td>1.734</td>\n",
       "      <td>1.758</td>\n",
       "      <td>NaN</td>\n",
       "      <td>1.758</td>\n",
       "      <td>1.708</td>\n",
       "      <td>NaN</td>\n",
       "      <td>1.758</td>\n",
       "      <td>1.685</td>\n",
       "    </tr>\n",
       "    <tr>\n",
       "      <th>Drive chain</th>\n",
       "      <td>front</td>\n",
       "      <td>front</td>\n",
       "      <td>front</td>\n",
       "      <td>NaN</td>\n",
       "      <td>front</td>\n",
       "      <td>NaN</td>\n",
       "      <td>front</td>\n",
       "      <td>front</td>\n",
       "      <td>front</td>\n",
       "      <td>NaN</td>\n",
       "      <td>...</td>\n",
       "      <td>NaN</td>\n",
       "      <td>front</td>\n",
       "      <td>NaN</td>\n",
       "      <td>front</td>\n",
       "      <td>front</td>\n",
       "      <td>front</td>\n",
       "      <td>front</td>\n",
       "      <td>front</td>\n",
       "      <td>front</td>\n",
       "      <td>4WD</td>\n",
       "    </tr>\n",
       "    <tr>\n",
       "      <th>Fuel</th>\n",
       "      <td>Diesel (Particulate Filter)</td>\n",
       "      <td>Gasoline</td>\n",
       "      <td>Diesel (Particulate Filter)</td>\n",
       "      <td>Diesel (Particulate Filter)</td>\n",
       "      <td>Diesel (Particulate Filter)</td>\n",
       "      <td>Diesel (Particulate Filter)</td>\n",
       "      <td>Diesel (Particulate Filter)</td>\n",
       "      <td>Diesel (Particulate Filter)</td>\n",
       "      <td>Diesel (Particulate Filter)</td>\n",
       "      <td>Gasoline</td>\n",
       "      <td>...</td>\n",
       "      <td>Diesel (Particulate Filter)</td>\n",
       "      <td>Regular</td>\n",
       "      <td>Diesel (Particulate Filter)</td>\n",
       "      <td>Diesel (Particulate Filter)</td>\n",
       "      <td>Super</td>\n",
       "      <td>Diesel (Particulate Filter)</td>\n",
       "      <td>Super</td>\n",
       "      <td>Diesel</td>\n",
       "      <td>Diesel</td>\n",
       "      <td>Super</td>\n",
       "    </tr>\n",
       "    <tr>\n",
       "      <th>CO2 Emission</th>\n",
       "      <td>99</td>\n",
       "      <td>129</td>\n",
       "      <td>99</td>\n",
       "      <td>99</td>\n",
       "      <td>109</td>\n",
       "      <td>92</td>\n",
       "      <td>98</td>\n",
       "      <td>97</td>\n",
       "      <td>97</td>\n",
       "      <td>NaN</td>\n",
       "      <td>...</td>\n",
       "      <td>NaN</td>\n",
       "      <td>153</td>\n",
       "      <td>123</td>\n",
       "      <td>139</td>\n",
       "      <td>153</td>\n",
       "      <td>139</td>\n",
       "      <td>168</td>\n",
       "      <td>139</td>\n",
       "      <td>139</td>\n",
       "      <td>153</td>\n",
       "    </tr>\n",
       "    <tr>\n",
       "      <th>Emission Class</th>\n",
       "      <td>Euro 6</td>\n",
       "      <td>Euro 6</td>\n",
       "      <td>Euro 6</td>\n",
       "      <td>Euro 6</td>\n",
       "      <td>Euro 6</td>\n",
       "      <td>Euro 6</td>\n",
       "      <td>Euro 6</td>\n",
       "      <td>Euro 6</td>\n",
       "      <td>Euro 6</td>\n",
       "      <td>NaN</td>\n",
       "      <td>...</td>\n",
       "      <td>NaN</td>\n",
       "      <td>Euro 6</td>\n",
       "      <td>Euro 6</td>\n",
       "      <td>NaN</td>\n",
       "      <td>Euro 6</td>\n",
       "      <td>NaN</td>\n",
       "      <td>NaN</td>\n",
       "      <td>Euro 6</td>\n",
       "      <td>Euro 6</td>\n",
       "      <td>Euro 6</td>\n",
       "    </tr>\n",
       "    <tr>\n",
       "      <th>Comfort &amp; Convenience</th>\n",
       "      <td>'Air conditioning', 'Armrest', 'Automatic clim...</td>\n",
       "      <td>'Air conditioning', 'Automatic climate control...</td>\n",
       "      <td>'Air conditioning', 'Cruise control', 'Electri...</td>\n",
       "      <td>'Air suspension', 'Armrest', 'Auxiliary heatin...</td>\n",
       "      <td>'Air conditioning', 'Armrest', 'Automatic clim...</td>\n",
       "      <td>'Air conditioning', 'Armrest', 'Automatic clim...</td>\n",
       "      <td>'Air conditioning', 'Armrest', 'Automatic clim...</td>\n",
       "      <td>'Air conditioning', 'Armrest', 'Electrical sid...</td>\n",
       "      <td>'Air conditioning', 'Power windows'</td>\n",
       "      <td>NaN</td>\n",
       "      <td>...</td>\n",
       "      <td>'Air conditioning', 'Automatic climate control...</td>\n",
       "      <td>'Air conditioning', 'Automatic climate control...</td>\n",
       "      <td>'Air conditioning', 'Armrest', 'Automatic clim...</td>\n",
       "      <td>'Air conditioning', 'Automatic climate control...</td>\n",
       "      <td>'Air conditioning', 'Armrest', 'Automatic clim...</td>\n",
       "      <td>'Air conditioning', 'Automatic climate control...</td>\n",
       "      <td>'Air conditioning', 'Automatic climate control...</td>\n",
       "      <td>'Air conditioning', 'Armrest', 'Automatic clim...</td>\n",
       "      <td>'Air conditioning', 'Automatic climate control...</td>\n",
       "      <td>'Air conditioning', 'Automatic climate control...</td>\n",
       "    </tr>\n",
       "    <tr>\n",
       "      <th>Entertainment &amp; Media</th>\n",
       "      <td>'Bluetooth', 'Hands-free equipment', 'On-board...</td>\n",
       "      <td>'Bluetooth', 'Hands-free equipment', 'On-board...</td>\n",
       "      <td>'MP3', 'On-board computer'</td>\n",
       "      <td>'Bluetooth', 'CD player', 'Hands-free equipmen...</td>\n",
       "      <td>'Bluetooth', 'CD player', 'Hands-free equipmen...</td>\n",
       "      <td>'Bluetooth', 'Hands-free equipment', 'On-board...</td>\n",
       "      <td>'Bluetooth', 'CD player', 'Hands-free equipmen...</td>\n",
       "      <td>'CD player', 'MP3', 'Radio'</td>\n",
       "      <td>'Radio'</td>\n",
       "      <td>NaN</td>\n",
       "      <td>...</td>\n",
       "      <td>'Bluetooth', 'Hands-free equipment', 'On-board...</td>\n",
       "      <td>'Bluetooth', 'Hands-free equipment', 'On-board...</td>\n",
       "      <td>'Bluetooth', 'Digital radio', 'Hands-free equi...</td>\n",
       "      <td>'Bluetooth', 'Digital radio', 'Hands-free equi...</td>\n",
       "      <td>'Bluetooth', 'Digital radio', 'Hands-free equi...</td>\n",
       "      <td>'Bluetooth', 'Digital radio', 'Hands-free equi...</td>\n",
       "      <td>'Bluetooth', 'Digital radio', 'Hands-free equi...</td>\n",
       "      <td>'Bluetooth', 'Hands-free equipment', 'On-board...</td>\n",
       "      <td>'Bluetooth', 'Digital radio', 'Radio', 'USB'</td>\n",
       "      <td>'USB'</td>\n",
       "    </tr>\n",
       "    <tr>\n",
       "      <th>Extras</th>\n",
       "      <td>'Alloy wheels', 'Catalytic Converter', 'Voice ...</td>\n",
       "      <td>'Alloy wheels', 'Sport seats', 'Sport suspensi...</td>\n",
       "      <td>'Alloy wheels', 'Voice Control'</td>\n",
       "      <td>'Alloy wheels', 'Sport seats', 'Voice Control'</td>\n",
       "      <td>'Alloy wheels', 'Sport package', 'Sport suspen...</td>\n",
       "      <td>'Alloy wheels', 'Sport package', 'Sport seats'...</td>\n",
       "      <td>'Alloy wheels', 'Sport package', 'Sport seats'...</td>\n",
       "      <td>'Alloy wheels'</td>\n",
       "      <td>'Alloy wheels'</td>\n",
       "      <td>NaN</td>\n",
       "      <td>...</td>\n",
       "      <td>'Alloy wheels', 'Touch screen'</td>\n",
       "      <td>'Alloy wheels'</td>\n",
       "      <td>'Alloy wheels', 'Touch screen', 'Voice Control'</td>\n",
       "      <td>'Alloy wheels', 'Touch screen'</td>\n",
       "      <td>'Alloy wheels', 'Catalytic Converter', 'Sport ...</td>\n",
       "      <td>'Alloy wheels', 'Touch screen'</td>\n",
       "      <td>'Alloy wheels', 'Touch screen', 'Voice Control'</td>\n",
       "      <td>'Alloy wheels'</td>\n",
       "      <td>'Alloy wheels', 'Touch screen'</td>\n",
       "      <td>'Alloy wheels', 'Touch screen'</td>\n",
       "    </tr>\n",
       "    <tr>\n",
       "      <th>Safety &amp; Security</th>\n",
       "      <td>'ABS', 'Central door lock', 'Daytime running l...</td>\n",
       "      <td>'ABS', 'Central door lock', 'Central door lock...</td>\n",
       "      <td>'ABS', 'Central door lock', 'Daytime running l...</td>\n",
       "      <td>'ABS', 'Alarm system', 'Central door lock with...</td>\n",
       "      <td>'ABS', 'Central door lock', 'Driver-side airba...</td>\n",
       "      <td>'ABS', 'Central door lock', 'Daytime running l...</td>\n",
       "      <td>'ABS', 'Central door lock', 'Daytime running l...</td>\n",
       "      <td>'ABS', 'Central door lock', 'Daytime running l...</td>\n",
       "      <td>'ABS', 'Central door lock', 'Driver-side airba...</td>\n",
       "      <td>NaN</td>\n",
       "      <td>...</td>\n",
       "      <td>'ABS', 'Blind spot monitor', 'Central door loc...</td>\n",
       "      <td>'ABS', 'Adaptive headlights', 'Central door lo...</td>\n",
       "      <td>'ABS', 'Adaptive Cruise Control', 'Central doo...</td>\n",
       "      <td>'ABS', 'Central door lock', 'Central door lock...</td>\n",
       "      <td>'ABS', 'Adaptive Cruise Control', 'Blind spot ...</td>\n",
       "      <td>'ABS', 'Central door lock', 'Central door lock...</td>\n",
       "      <td>'ABS', 'Adaptive Cruise Control', 'Blind spot ...</td>\n",
       "      <td>'ABS', 'Adaptive Cruise Control', 'Blind spot ...</td>\n",
       "      <td>'ABS', 'Blind spot monitor', 'Driver-side airb...</td>\n",
       "      <td>'ABS', 'Blind spot monitor', 'Daytime running ...</td>\n",
       "    </tr>\n",
       "    <tr>\n",
       "      <th>description</th>\n",
       "      <td>'', 'Sicherheit:', ' ', 'Deaktivierung für Bei...</td>\n",
       "      <td>'Langstreckenfahrzeug daher die hohe Kilometer...</td>\n",
       "      <td>'', 'Fahrzeug-Nummer: AM-95365', ' ', 'Ehem. U...</td>\n",
       "      <td>'Audi A1: ', '- 1e eigenaar ', '- Perfecte sta...</td>\n",
       "      <td>'', 'Technik &amp; Sicherheit:', 'Xenon plus', 'Kl...</td>\n",
       "      <td>'Sichern Sie sich diesen Audi A1 1.6 TDI Sport...</td>\n",
       "      <td>'REDUZIERT !!!', 'MwSt. ausweisbar', 'Nettopre...</td>\n",
       "      <td>'', 'Ausstattungspakete:', ' Ausstattungspaket...</td>\n",
       "      <td>'Auto in ottime condizioni. Unico proprietario...</td>\n",
       "      <td>'Clim automatique,Ecran multifonction couleur,...</td>\n",
       "      <td>...</td>\n",
       "      <td>'Hallo!', 'Das Beratungsteam der Fa. Sonnleitn...</td>\n",
       "      <td>'', 'Warum ist dieses Auto das Richtige für mi...</td>\n",
       "      <td>'', 'Komfort:', ' ', 'abgedunkelte Scheiben im...</td>\n",
       "      <td>'Vettura visionabile nella sede in Via Roma 14...</td>\n",
       "      <td>'Fahrzeug-Nr.: NW9766.', 'Ausstattungslinie/ -...</td>\n",
       "      <td>'Vettura visionabile nella sede in Via Roma 14...</td>\n",
       "      <td>'Dach: Panorama-Glas-Schiebedach, Lackierung: ...</td>\n",
       "      <td>'', 'Getriebe:', ' Automatik', 'Technik:', ' B...</td>\n",
       "      <td>'DEK:2691331', 'Renault Espace Blue dCi 200CV ...</td>\n",
       "      <td>'', 'Sicherheit Airbags:', ' ', 'Seitenairbag'...</td>\n",
       "    </tr>\n",
       "    <tr>\n",
       "      <th>Emission Label</th>\n",
       "      <td>NaN</td>\n",
       "      <td>Green</td>\n",
       "      <td>Green</td>\n",
       "      <td>NaN</td>\n",
       "      <td>NaN</td>\n",
       "      <td>Green</td>\n",
       "      <td>NaN</td>\n",
       "      <td>NaN</td>\n",
       "      <td>NaN</td>\n",
       "      <td>NaN</td>\n",
       "      <td>...</td>\n",
       "      <td>NaN</td>\n",
       "      <td>Green</td>\n",
       "      <td>Green</td>\n",
       "      <td>NaN</td>\n",
       "      <td>Green</td>\n",
       "      <td>NaN</td>\n",
       "      <td>NaN</td>\n",
       "      <td>NaN</td>\n",
       "      <td>NaN</td>\n",
       "      <td>Green</td>\n",
       "    </tr>\n",
       "    <tr>\n",
       "      <th>Gears</th>\n",
       "      <td>NaN</td>\n",
       "      <td>7</td>\n",
       "      <td>NaN</td>\n",
       "      <td>6</td>\n",
       "      <td>NaN</td>\n",
       "      <td>NaN</td>\n",
       "      <td>NaN</td>\n",
       "      <td>7</td>\n",
       "      <td>7</td>\n",
       "      <td>7</td>\n",
       "      <td>...</td>\n",
       "      <td>7</td>\n",
       "      <td>7</td>\n",
       "      <td>NaN</td>\n",
       "      <td>6</td>\n",
       "      <td>NaN</td>\n",
       "      <td>6</td>\n",
       "      <td>7</td>\n",
       "      <td>6</td>\n",
       "      <td>6</td>\n",
       "      <td>NaN</td>\n",
       "    </tr>\n",
       "    <tr>\n",
       "      <th>Country version</th>\n",
       "      <td>NaN</td>\n",
       "      <td>NaN</td>\n",
       "      <td>NaN</td>\n",
       "      <td>NaN</td>\n",
       "      <td>Germany</td>\n",
       "      <td>Germany</td>\n",
       "      <td>Germany</td>\n",
       "      <td>NaN</td>\n",
       "      <td>NaN</td>\n",
       "      <td>NaN</td>\n",
       "      <td>...</td>\n",
       "      <td>Austria</td>\n",
       "      <td>NaN</td>\n",
       "      <td>Germany</td>\n",
       "      <td>NaN</td>\n",
       "      <td>NaN</td>\n",
       "      <td>NaN</td>\n",
       "      <td>Germany</td>\n",
       "      <td>Austria</td>\n",
       "      <td>NaN</td>\n",
       "      <td>Germany</td>\n",
       "    </tr>\n",
       "    <tr>\n",
       "      <th>Combined Fuel</th>\n",
       "      <td>3.8</td>\n",
       "      <td>5.6</td>\n",
       "      <td>3.8</td>\n",
       "      <td>3.8</td>\n",
       "      <td>4.1</td>\n",
       "      <td>3.5</td>\n",
       "      <td>3.7</td>\n",
       "      <td>3.7</td>\n",
       "      <td>3.7</td>\n",
       "      <td>NaN</td>\n",
       "      <td>...</td>\n",
       "      <td>NaN</td>\n",
       "      <td>6</td>\n",
       "      <td>4.7</td>\n",
       "      <td>5.3</td>\n",
       "      <td>6.8</td>\n",
       "      <td>5.3</td>\n",
       "      <td>7.4</td>\n",
       "      <td>5.3</td>\n",
       "      <td>5.3</td>\n",
       "      <td>6.8</td>\n",
       "    </tr>\n",
       "    <tr>\n",
       "      <th>City Fuel</th>\n",
       "      <td>4.3</td>\n",
       "      <td>7.1</td>\n",
       "      <td>4.4</td>\n",
       "      <td>4.3</td>\n",
       "      <td>4.6</td>\n",
       "      <td>4.3</td>\n",
       "      <td>4.3</td>\n",
       "      <td>4.2</td>\n",
       "      <td>4.3</td>\n",
       "      <td>NaN</td>\n",
       "      <td>...</td>\n",
       "      <td>NaN</td>\n",
       "      <td>8</td>\n",
       "      <td>5.1</td>\n",
       "      <td>6.2</td>\n",
       "      <td>8.7</td>\n",
       "      <td>6.2</td>\n",
       "      <td>9.2</td>\n",
       "      <td>6.2</td>\n",
       "      <td>6.2</td>\n",
       "      <td>8.7</td>\n",
       "    </tr>\n",
       "    <tr>\n",
       "      <th>Country Fuel</th>\n",
       "      <td>3.5</td>\n",
       "      <td>4.7</td>\n",
       "      <td>3.4</td>\n",
       "      <td>3.5</td>\n",
       "      <td>3.8</td>\n",
       "      <td>3.1</td>\n",
       "      <td>3.4</td>\n",
       "      <td>3.4</td>\n",
       "      <td>3.4</td>\n",
       "      <td>NaN</td>\n",
       "      <td>...</td>\n",
       "      <td>NaN</td>\n",
       "      <td>5</td>\n",
       "      <td>4.4</td>\n",
       "      <td>4.7</td>\n",
       "      <td>5.7</td>\n",
       "      <td>4.7</td>\n",
       "      <td>6.3</td>\n",
       "      <td>4.7</td>\n",
       "      <td>4.7</td>\n",
       "      <td>5.7</td>\n",
       "    </tr>\n",
       "  </tbody>\n",
       "</table>\n",
       "<p>42 rows × 15919 columns</p>\n",
       "</div>"
      ],
      "text/plain": [
       "                                                                   0      \\\n",
       "Brand_Model                                                      Audi A1   \n",
       "short_description            Sportback 1.4 TDI S-tronic Xenon Navi Klima   \n",
       "body_type                                                         Sedans   \n",
       "price                                                              15770   \n",
       "vat                                                       VAT deductible   \n",
       "km                                                               56.013    \n",
       "registration                                                     01/2016   \n",
       "prev_owner                                                             2   \n",
       "hp                                                                   66    \n",
       "Type                                                                Used   \n",
       "Next Inspection                                                  06-2021   \n",
       "Inspection new                                                       Yes   \n",
       "Brand                                                               Audi   \n",
       "Model                                                                 A1   \n",
       "Offer Number                                                   LR-062483   \n",
       "First Registration                                                  2016   \n",
       "Body Color                                                         Black   \n",
       "Paint Type                                                      Metallic   \n",
       "Body Color Original                                        Mythosschwarz   \n",
       "Upholstery                                                   Cloth,Black   \n",
       "Nr. of Doors                                                           5   \n",
       "Nr. of Seats                                                           5   \n",
       "Model Code                                                      0588/BDF   \n",
       "Gearing Type                                                   Automatic   \n",
       "Displacement(cc)                                                   1.422   \n",
       "Cylinders                                                              3   \n",
       "Weight(kg)                                                         1.220   \n",
       "Drive chain                                                        front   \n",
       "Fuel                                         Diesel (Particulate Filter)   \n",
       "CO2 Emission                                                          99   \n",
       "Emission Class                                                    Euro 6   \n",
       "Comfort & Convenience  'Air conditioning', 'Armrest', 'Automatic clim...   \n",
       "Entertainment & Media  'Bluetooth', 'Hands-free equipment', 'On-board...   \n",
       "Extras                 'Alloy wheels', 'Catalytic Converter', 'Voice ...   \n",
       "Safety & Security      'ABS', 'Central door lock', 'Daytime running l...   \n",
       "description            '', 'Sicherheit:', ' ', 'Deaktivierung für Bei...   \n",
       "Emission Label                                                       NaN   \n",
       "Gears                                                                NaN   \n",
       "Country version                                                      NaN   \n",
       "Combined Fuel                                                        3.8   \n",
       "City Fuel                                                            4.3   \n",
       "Country Fuel                                                         3.5   \n",
       "\n",
       "                                                                   1      \\\n",
       "Brand_Model                                                      Audi A1   \n",
       "short_description                                         1.8 TFSI sport   \n",
       "body_type                                                         Sedans   \n",
       "price                                                              14500   \n",
       "vat                                                     Price negotiable   \n",
       "km                                                               80.000    \n",
       "registration                                                     03/2017   \n",
       "prev_owner                                                           NaN   \n",
       "hp                                                                  141    \n",
       "Type                                                                Used   \n",
       "Next Inspection                                                      NaN   \n",
       "Inspection new                                                       NaN   \n",
       "Brand                                                               Audi   \n",
       "Model                                                                 A1   \n",
       "Offer Number                                                         NaN   \n",
       "First Registration                                                  2017   \n",
       "Body Color                                                           Red   \n",
       "Paint Type                                                           NaN   \n",
       "Body Color Original                                                  NaN   \n",
       "Upholstery                                                    Cloth,Grey   \n",
       "Nr. of Doors                                                           3   \n",
       "Nr. of Seats                                                           4   \n",
       "Model Code                                                      0588/BCY   \n",
       "Gearing Type                                                   Automatic   \n",
       "Displacement(cc)                                                   1.798   \n",
       "Cylinders                                                              4   \n",
       "Weight(kg)                                                         1.255   \n",
       "Drive chain                                                        front   \n",
       "Fuel                                                            Gasoline   \n",
       "CO2 Emission                                                         129   \n",
       "Emission Class                                                    Euro 6   \n",
       "Comfort & Convenience  'Air conditioning', 'Automatic climate control...   \n",
       "Entertainment & Media  'Bluetooth', 'Hands-free equipment', 'On-board...   \n",
       "Extras                 'Alloy wheels', 'Sport seats', 'Sport suspensi...   \n",
       "Safety & Security      'ABS', 'Central door lock', 'Central door lock...   \n",
       "description            'Langstreckenfahrzeug daher die hohe Kilometer...   \n",
       "Emission Label                                                     Green   \n",
       "Gears                                                                  7   \n",
       "Country version                                                      NaN   \n",
       "Combined Fuel                                                        5.6   \n",
       "City Fuel                                                            7.1   \n",
       "Country Fuel                                                         4.7   \n",
       "\n",
       "                                                                   2      \\\n",
       "Brand_Model                                                      Audi A1   \n",
       "short_description      Sportback 1.6 TDI S tronic Einparkhilfe plus+m...   \n",
       "body_type                                                         Sedans   \n",
       "price                                                              14640   \n",
       "vat                                                       VAT deductible   \n",
       "km                                                               83.450    \n",
       "registration                                                     02/2016   \n",
       "prev_owner                                                             1   \n",
       "hp                                                                   85    \n",
       "Type                                                                Used   \n",
       "Next Inspection                                                      NaN   \n",
       "Inspection new                                                       NaN   \n",
       "Brand                                                               Audi   \n",
       "Model                                                                 A1   \n",
       "Offer Number                                                    AM-95365   \n",
       "First Registration                                                  2016   \n",
       "Body Color                                                         Black   \n",
       "Paint Type                                                      Metallic   \n",
       "Body Color Original                               mythosschwarz metallic   \n",
       "Upholstery                                                   Cloth,Black   \n",
       "Nr. of Doors                                                           4   \n",
       "Nr. of Seats                                                           4   \n",
       "Model Code                                                           NaN   \n",
       "Gearing Type                                                   Automatic   \n",
       "Displacement(cc)                                                   1.598   \n",
       "Cylinders                                                            NaN   \n",
       "Weight(kg)                                                           NaN   \n",
       "Drive chain                                                        front   \n",
       "Fuel                                         Diesel (Particulate Filter)   \n",
       "CO2 Emission                                                          99   \n",
       "Emission Class                                                    Euro 6   \n",
       "Comfort & Convenience  'Air conditioning', 'Cruise control', 'Electri...   \n",
       "Entertainment & Media                         'MP3', 'On-board computer'   \n",
       "Extras                                   'Alloy wheels', 'Voice Control'   \n",
       "Safety & Security      'ABS', 'Central door lock', 'Daytime running l...   \n",
       "description            '', 'Fahrzeug-Nummer: AM-95365', ' ', 'Ehem. U...   \n",
       "Emission Label                                                     Green   \n",
       "Gears                                                                NaN   \n",
       "Country version                                                      NaN   \n",
       "Combined Fuel                                                        3.8   \n",
       "City Fuel                                                            4.4   \n",
       "Country Fuel                                                         3.4   \n",
       "\n",
       "                                                                   3      \\\n",
       "Brand_Model                                                      Audi A1   \n",
       "short_description                                1.4 TDi Design S tronic   \n",
       "body_type                                                         Sedans   \n",
       "price                                                              14500   \n",
       "vat                                                                 None   \n",
       "km                                                               73.000    \n",
       "registration                                                     08/2016   \n",
       "prev_owner                                                             1   \n",
       "hp                                                                   66    \n",
       "Type                                                                Used   \n",
       "Next Inspection                                                      NaN   \n",
       "Inspection new                                                       NaN   \n",
       "Brand                                                               Audi   \n",
       "Model                                                                 A1   \n",
       "Offer Number                                                         NaN   \n",
       "First Registration                                                  2016   \n",
       "Body Color                                                         Brown   \n",
       "Paint Type                                                      Metallic   \n",
       "Body Color Original                                                  NaN   \n",
       "Upholstery                                                           NaN   \n",
       "Nr. of Doors                                                           3   \n",
       "Nr. of Seats                                                           4   \n",
       "Model Code                                                           NaN   \n",
       "Gearing Type                                                   Automatic   \n",
       "Displacement(cc)                                                   1.422   \n",
       "Cylinders                                                              3   \n",
       "Weight(kg)                                                         1.195   \n",
       "Drive chain                                                          NaN   \n",
       "Fuel                                         Diesel (Particulate Filter)   \n",
       "CO2 Emission                                                          99   \n",
       "Emission Class                                                    Euro 6   \n",
       "Comfort & Convenience  'Air suspension', 'Armrest', 'Auxiliary heatin...   \n",
       "Entertainment & Media  'Bluetooth', 'CD player', 'Hands-free equipmen...   \n",
       "Extras                    'Alloy wheels', 'Sport seats', 'Voice Control'   \n",
       "Safety & Security      'ABS', 'Alarm system', 'Central door lock with...   \n",
       "description            'Audi A1: ', '- 1e eigenaar ', '- Perfecte sta...   \n",
       "Emission Label                                                       NaN   \n",
       "Gears                                                                  6   \n",
       "Country version                                                      NaN   \n",
       "Combined Fuel                                                        3.8   \n",
       "City Fuel                                                            4.3   \n",
       "Country Fuel                                                         3.5   \n",
       "\n",
       "                                                                   4      \\\n",
       "Brand_Model                                                      Audi A1   \n",
       "short_description      Sportback 1.4 TDI S-Tronic S-Line Ext. admired...   \n",
       "body_type                                                         Sedans   \n",
       "price                                                              16790   \n",
       "vat                                                                 None   \n",
       "km                                                               16.200    \n",
       "registration                                                     05/2016   \n",
       "prev_owner                                                             1   \n",
       "hp                                                                   66    \n",
       "Type                                                                Used   \n",
       "Next Inspection                                                      NaN   \n",
       "Inspection new                                                       Yes   \n",
       "Brand                                                               Audi   \n",
       "Model                                                                 A1   \n",
       "Offer Number                                                       C1626   \n",
       "First Registration                                                  2016   \n",
       "Body Color                                                         Black   \n",
       "Paint Type                                                      Metallic   \n",
       "Body Color Original                               Mythosschwarz Metallic   \n",
       "Upholstery                                                   Cloth,Black   \n",
       "Nr. of Doors                                                           5   \n",
       "Nr. of Seats                                                           5   \n",
       "Model Code                                                      0588/BDF   \n",
       "Gearing Type                                                   Automatic   \n",
       "Displacement(cc)                                                   1.422   \n",
       "Cylinders                                                              3   \n",
       "Weight(kg)                                                           NaN   \n",
       "Drive chain                                                        front   \n",
       "Fuel                                         Diesel (Particulate Filter)   \n",
       "CO2 Emission                                                         109   \n",
       "Emission Class                                                    Euro 6   \n",
       "Comfort & Convenience  'Air conditioning', 'Armrest', 'Automatic clim...   \n",
       "Entertainment & Media  'Bluetooth', 'CD player', 'Hands-free equipmen...   \n",
       "Extras                 'Alloy wheels', 'Sport package', 'Sport suspen...   \n",
       "Safety & Security      'ABS', 'Central door lock', 'Driver-side airba...   \n",
       "description            '', 'Technik & Sicherheit:', 'Xenon plus', 'Kl...   \n",
       "Emission Label                                                       NaN   \n",
       "Gears                                                                NaN   \n",
       "Country version                                                  Germany   \n",
       "Combined Fuel                                                        4.1   \n",
       "City Fuel                                                            4.6   \n",
       "Country Fuel                                                         3.8   \n",
       "\n",
       "                                                                   5      \\\n",
       "Brand_Model                                                      Audi A1   \n",
       "short_description            1.6 TDI Sport DSG *SHZ*Xenon*Navi*Bose*PDC*   \n",
       "body_type                                                         Sedans   \n",
       "price                                                              15090   \n",
       "vat                                                                 None   \n",
       "km                                                               63.668    \n",
       "registration                                                     02/2016   \n",
       "prev_owner                                                             1   \n",
       "hp                                                                   85    \n",
       "Type                                                                Used   \n",
       "Next Inspection                                                      NaN   \n",
       "Inspection new                                                       NaN   \n",
       "Brand                                                               Audi   \n",
       "Model                                                                 A1   \n",
       "Offer Number                                                     JV03654   \n",
       "First Registration                                                  2016   \n",
       "Body Color                                                         White   \n",
       "Paint Type                                                      Metallic   \n",
       "Body Color Original                                                  NaN   \n",
       "Upholstery                                            Part leather,Black   \n",
       "Nr. of Doors                                                           4   \n",
       "Nr. of Seats                                                           5   \n",
       "Model Code                                                           NaN   \n",
       "Gearing Type                                                   Automatic   \n",
       "Displacement(cc)                                                   1.598   \n",
       "Cylinders                                                            NaN   \n",
       "Weight(kg)                                                           NaN   \n",
       "Drive chain                                                          NaN   \n",
       "Fuel                                         Diesel (Particulate Filter)   \n",
       "CO2 Emission                                                          92   \n",
       "Emission Class                                                    Euro 6   \n",
       "Comfort & Convenience  'Air conditioning', 'Armrest', 'Automatic clim...   \n",
       "Entertainment & Media  'Bluetooth', 'Hands-free equipment', 'On-board...   \n",
       "Extras                 'Alloy wheels', 'Sport package', 'Sport seats'...   \n",
       "Safety & Security      'ABS', 'Central door lock', 'Daytime running l...   \n",
       "description            'Sichern Sie sich diesen Audi A1 1.6 TDI Sport...   \n",
       "Emission Label                                                     Green   \n",
       "Gears                                                                NaN   \n",
       "Country version                                                  Germany   \n",
       "Combined Fuel                                                        3.5   \n",
       "City Fuel                                                            4.3   \n",
       "Country Fuel                                                         3.1   \n",
       "\n",
       "                                                                   6      \\\n",
       "Brand_Model                                                      Audi A1   \n",
       "short_description          Sportback 1.6 TDI S-TRONIC S-LINE*NAVI|XENON*   \n",
       "body_type                                                  Station wagon   \n",
       "price                                                              16422   \n",
       "vat                                                       VAT deductible   \n",
       "km                                                               62.111    \n",
       "registration                                                     03/2016   \n",
       "prev_owner                                                             1   \n",
       "hp                                                                   85    \n",
       "Type                                                                Used   \n",
       "Next Inspection                                                      NaN   \n",
       "Inspection new                                                       Yes   \n",
       "Brand                                                               Audi   \n",
       "Model                                                                 A1   \n",
       "Offer Number                                                      200-19   \n",
       "First Registration                                                  2016   \n",
       "Body Color                                                         White   \n",
       "Paint Type                                                      Metallic   \n",
       "Body Color Original                                       Gletscherweiss   \n",
       "Upholstery                                            Part leather,Black   \n",
       "Nr. of Doors                                                           4   \n",
       "Nr. of Seats                                                           5   \n",
       "Model Code                                                           NaN   \n",
       "Gearing Type                                                   Automatic   \n",
       "Displacement(cc)                                                   1.598   \n",
       "Cylinders                                                              4   \n",
       "Weight(kg)                                                           NaN   \n",
       "Drive chain                                                        front   \n",
       "Fuel                                         Diesel (Particulate Filter)   \n",
       "CO2 Emission                                                          98   \n",
       "Emission Class                                                    Euro 6   \n",
       "Comfort & Convenience  'Air conditioning', 'Armrest', 'Automatic clim...   \n",
       "Entertainment & Media  'Bluetooth', 'CD player', 'Hands-free equipmen...   \n",
       "Extras                 'Alloy wheels', 'Sport package', 'Sport seats'...   \n",
       "Safety & Security      'ABS', 'Central door lock', 'Daytime running l...   \n",
       "description            'REDUZIERT !!!', 'MwSt. ausweisbar', 'Nettopre...   \n",
       "Emission Label                                                       NaN   \n",
       "Gears                                                                NaN   \n",
       "Country version                                                  Germany   \n",
       "Combined Fuel                                                        3.7   \n",
       "City Fuel                                                            4.3   \n",
       "Country Fuel                                                         3.4   \n",
       "\n",
       "                                                                   7      \\\n",
       "Brand_Model                                                      Audi A1   \n",
       "short_description                     Sportback 1.4 TDI admired S tronic   \n",
       "body_type                                                        Compact   \n",
       "price                                                              14480   \n",
       "vat                                                       VAT deductible   \n",
       "km                                                               14.986    \n",
       "registration                                                     02/2016   \n",
       "prev_owner                                                             1   \n",
       "hp                                                                   66    \n",
       "Type                                                                Used   \n",
       "Next Inspection                                                      NaN   \n",
       "Inspection new                                                       Yes   \n",
       "Brand                                                               Audi   \n",
       "Model                                                                 A1   \n",
       "Offer Number                                                   18381A-Q2   \n",
       "First Registration                                                  2016   \n",
       "Body Color                                                           Red   \n",
       "Paint Type                                                      Metallic   \n",
       "Body Color Original                                 Misanorot Perleffekt   \n",
       "Upholstery                                                   Cloth,Black   \n",
       "Nr. of Doors                                                           5   \n",
       "Nr. of Seats                                                           5   \n",
       "Model Code                                                      0588/BDF   \n",
       "Gearing Type                                                   Automatic   \n",
       "Displacement(cc)                                                   1.422   \n",
       "Cylinders                                                            NaN   \n",
       "Weight(kg)                                                           NaN   \n",
       "Drive chain                                                        front   \n",
       "Fuel                                         Diesel (Particulate Filter)   \n",
       "CO2 Emission                                                          97   \n",
       "Emission Class                                                    Euro 6   \n",
       "Comfort & Convenience  'Air conditioning', 'Armrest', 'Electrical sid...   \n",
       "Entertainment & Media                        'CD player', 'MP3', 'Radio'   \n",
       "Extras                                                    'Alloy wheels'   \n",
       "Safety & Security      'ABS', 'Central door lock', 'Daytime running l...   \n",
       "description            '', 'Ausstattungspakete:', ' Ausstattungspaket...   \n",
       "Emission Label                                                       NaN   \n",
       "Gears                                                                  7   \n",
       "Country version                                                      NaN   \n",
       "Combined Fuel                                                        3.7   \n",
       "City Fuel                                                            4.2   \n",
       "Country Fuel                                                         3.4   \n",
       "\n",
       "                                                                   8      \\\n",
       "Brand_Model                                                      Audi A1   \n",
       "short_description                 SPB 1.6 TDI S-tronic Metal plus + Xeno   \n",
       "body_type                                                         Sedans   \n",
       "price                                                              16700   \n",
       "vat                                                                 None   \n",
       "km                                                               57.000    \n",
       "registration                                                     02/2016   \n",
       "prev_owner                                                             1   \n",
       "hp                                                                   85    \n",
       "Type                                                                Used   \n",
       "Next Inspection                                                  02-2020   \n",
       "Inspection new                                                       NaN   \n",
       "Brand                                                               Audi   \n",
       "Model                                                                 A1   \n",
       "Offer Number                                                    11540324   \n",
       "First Registration                                                  2016   \n",
       "Body Color                                                          Grey   \n",
       "Paint Type                                                      Metallic   \n",
       "Body Color Original                                               Grigio   \n",
       "Upholstery                                                    Cloth,Grey   \n",
       "Nr. of Doors                                                           5   \n",
       "Nr. of Seats                                                           4   \n",
       "Model Code                                                           NaN   \n",
       "Gearing Type                                                   Automatic   \n",
       "Displacement(cc)                                                   1.598   \n",
       "Cylinders                                                              4   \n",
       "Weight(kg)                                                         1.275   \n",
       "Drive chain                                                        front   \n",
       "Fuel                                         Diesel (Particulate Filter)   \n",
       "CO2 Emission                                                          97   \n",
       "Emission Class                                                    Euro 6   \n",
       "Comfort & Convenience                'Air conditioning', 'Power windows'   \n",
       "Entertainment & Media                                            'Radio'   \n",
       "Extras                                                    'Alloy wheels'   \n",
       "Safety & Security      'ABS', 'Central door lock', 'Driver-side airba...   \n",
       "description            'Auto in ottime condizioni. Unico proprietario...   \n",
       "Emission Label                                                       NaN   \n",
       "Gears                                                                  7   \n",
       "Country version                                                      NaN   \n",
       "Combined Fuel                                                        3.7   \n",
       "City Fuel                                                            4.3   \n",
       "Country Fuel                                                         3.4   \n",
       "\n",
       "                                                                   9      ...  \\\n",
       "Brand_Model                                                      Audi A1  ...   \n",
       "short_description                  SPORTBACK TFSI ULTRA 95 S-TRONIC AMB.  ...   \n",
       "body_type                                                         Sedans  ...   \n",
       "price                                                              17990  ...   \n",
       "vat                                                                 None  ...   \n",
       "km                                                               16.103   ...   \n",
       "registration                                                     06/2017  ...   \n",
       "prev_owner                                                           NaN  ...   \n",
       "hp                                                                   70   ...   \n",
       "Type                                                                Used  ...   \n",
       "Next Inspection                                                      NaN  ...   \n",
       "Inspection new                                                       NaN  ...   \n",
       "Brand                                                               Audi  ...   \n",
       "Model                                                                 A1  ...   \n",
       "Offer Number                                                         NaN  ...   \n",
       "First Registration                                                  2017  ...   \n",
       "Body Color                                                         White  ...   \n",
       "Paint Type                                                           NaN  ...   \n",
       "Body Color Original                                                Blanc  ...   \n",
       "Upholstery                                                           NaN  ...   \n",
       "Nr. of Doors                                                           5  ...   \n",
       "Nr. of Seats                                                           4  ...   \n",
       "Model Code                                                           NaN  ...   \n",
       "Gearing Type                                                   Automatic  ...   \n",
       "Displacement(cc)                                                     999  ...   \n",
       "Cylinders                                                            NaN  ...   \n",
       "Weight(kg)                                                           NaN  ...   \n",
       "Drive chain                                                          NaN  ...   \n",
       "Fuel                                                            Gasoline  ...   \n",
       "CO2 Emission                                                         NaN  ...   \n",
       "Emission Class                                                       NaN  ...   \n",
       "Comfort & Convenience                                                NaN  ...   \n",
       "Entertainment & Media                                                NaN  ...   \n",
       "Extras                                                               NaN  ...   \n",
       "Safety & Security                                                    NaN  ...   \n",
       "description            'Clim automatique,Ecran multifonction couleur,...  ...   \n",
       "Emission Label                                                       NaN  ...   \n",
       "Gears                                                                  7  ...   \n",
       "Country version                                                      NaN  ...   \n",
       "Combined Fuel                                                        NaN  ...   \n",
       "City Fuel                                                            NaN  ...   \n",
       "Country Fuel                                                         NaN  ...   \n",
       "\n",
       "                                                                   15909  \\\n",
       "Brand_Model                                               Renault Espace   \n",
       "short_description                               Limited Blue dCi 200 EDC   \n",
       "body_type                                                            Van   \n",
       "price                                                              39990   \n",
       "vat                                                       VAT deductible   \n",
       "km                                                                3.500    \n",
       "registration                                                     05/2019   \n",
       "prev_owner                                                           NaN   \n",
       "hp                                                                  147    \n",
       "Type                                                       Demonstration   \n",
       "Next Inspection                                                      NaN   \n",
       "Inspection new                                                       NaN   \n",
       "Brand                                                            Renault   \n",
       "Model                                                             Espace   \n",
       "Offer Number                                                     1-15447   \n",
       "First Registration                                                  2019   \n",
       "Body Color                                                         Black   \n",
       "Paint Type                                                      Metallic   \n",
       "Body Color Original                                          Black-Pearl   \n",
       "Upholstery                                                           NaN   \n",
       "Nr. of Doors                                                           5   \n",
       "Nr. of Seats                                                           5   \n",
       "Model Code                                                           NaN   \n",
       "Gearing Type                                                   Automatic   \n",
       "Displacement(cc)                                                   1.997   \n",
       "Cylinders                                                            NaN   \n",
       "Weight(kg)                                                         1.779   \n",
       "Drive chain                                                          NaN   \n",
       "Fuel                                         Diesel (Particulate Filter)   \n",
       "CO2 Emission                                                         NaN   \n",
       "Emission Class                                                       NaN   \n",
       "Comfort & Convenience  'Air conditioning', 'Automatic climate control...   \n",
       "Entertainment & Media  'Bluetooth', 'Hands-free equipment', 'On-board...   \n",
       "Extras                                    'Alloy wheels', 'Touch screen'   \n",
       "Safety & Security      'ABS', 'Blind spot monitor', 'Central door loc...   \n",
       "description            'Hallo!', 'Das Beratungsteam der Fa. Sonnleitn...   \n",
       "Emission Label                                                       NaN   \n",
       "Gears                                                                  7   \n",
       "Country version                                                  Austria   \n",
       "Combined Fuel                                                        NaN   \n",
       "City Fuel                                                            NaN   \n",
       "Country Fuel                                                         NaN   \n",
       "\n",
       "                                                                   15910  \\\n",
       "Brand_Model                                               Renault Espace   \n",
       "short_description                TCe 225 EDC INITIALE PDC SHZ BOSE KLIMA   \n",
       "body_type                                                            Van   \n",
       "price                                                              39980   \n",
       "vat                                                       VAT deductible   \n",
       "km                                                                8.500    \n",
       "registration                                                     02/2019   \n",
       "prev_owner                                                             1   \n",
       "hp                                                                  165    \n",
       "Type                                                       Demonstration   \n",
       "Next Inspection                                                      NaN   \n",
       "Inspection new                                                       NaN   \n",
       "Brand                                                            Renault   \n",
       "Model                                                             Espace   \n",
       "Offer Number                                                     1720LR8   \n",
       "First Registration                                                  2019   \n",
       "Body Color                                                          Blue   \n",
       "Paint Type                                                      Metallic   \n",
       "Body Color Original                                          Kosmos-Blau   \n",
       "Upholstery                                            Full leather,Other   \n",
       "Nr. of Doors                                                           5   \n",
       "Nr. of Seats                                                           5   \n",
       "Model Code                                                      3333/BHJ   \n",
       "Gearing Type                                                   Automatic   \n",
       "Displacement(cc)                                                   1.798   \n",
       "Cylinders                                                              4   \n",
       "Weight(kg)                                                           NaN   \n",
       "Drive chain                                                        front   \n",
       "Fuel                                                             Regular   \n",
       "CO2 Emission                                                         153   \n",
       "Emission Class                                                    Euro 6   \n",
       "Comfort & Convenience  'Air conditioning', 'Automatic climate control...   \n",
       "Entertainment & Media  'Bluetooth', 'Hands-free equipment', 'On-board...   \n",
       "Extras                                                    'Alloy wheels'   \n",
       "Safety & Security      'ABS', 'Adaptive headlights', 'Central door lo...   \n",
       "description            '', 'Warum ist dieses Auto das Richtige für mi...   \n",
       "Emission Label                                                     Green   \n",
       "Gears                                                                  7   \n",
       "Country version                                                      NaN   \n",
       "Combined Fuel                                                          6   \n",
       "City Fuel                                                              8   \n",
       "Country Fuel                                                           5   \n",
       "\n",
       "                                                                   15911  \\\n",
       "Brand_Model                                               Renault Espace   \n",
       "short_description                              ELYSEE ENERGY dCi 160 EDC   \n",
       "body_type                                                            Van   \n",
       "price                                                              39980   \n",
       "vat                                                       VAT deductible   \n",
       "km                                                                  100    \n",
       "registration                                                     02/2019   \n",
       "prev_owner                                                             1   \n",
       "hp                                                                  118    \n",
       "Type                                                      Pre-registered   \n",
       "Next Inspection                                                      NaN   \n",
       "Inspection new                                                       NaN   \n",
       "Brand                                                            Renault   \n",
       "Model                                                             Espace   \n",
       "Offer Number                                                   VB1_12468   \n",
       "First Registration                                                  2019   \n",
       "Body Color                                                         White   \n",
       "Paint Type                                                      Metallic   \n",
       "Body Color Original                        Perlmutt-Weiß Metallic (Weiß)   \n",
       "Upholstery                                             Full leather,Grey   \n",
       "Nr. of Doors                                                           5   \n",
       "Nr. of Seats                                                           7   \n",
       "Model Code                                                      3333/BDQ   \n",
       "Gearing Type                                                   Automatic   \n",
       "Displacement(cc)                                                   1.598   \n",
       "Cylinders                                                              4   \n",
       "Weight(kg)                                                         1.734   \n",
       "Drive chain                                                          NaN   \n",
       "Fuel                                         Diesel (Particulate Filter)   \n",
       "CO2 Emission                                                         123   \n",
       "Emission Class                                                    Euro 6   \n",
       "Comfort & Convenience  'Air conditioning', 'Armrest', 'Automatic clim...   \n",
       "Entertainment & Media  'Bluetooth', 'Digital radio', 'Hands-free equi...   \n",
       "Extras                   'Alloy wheels', 'Touch screen', 'Voice Control'   \n",
       "Safety & Security      'ABS', 'Adaptive Cruise Control', 'Central doo...   \n",
       "description            '', 'Komfort:', ' ', 'abgedunkelte Scheiben im...   \n",
       "Emission Label                                                     Green   \n",
       "Gears                                                                NaN   \n",
       "Country version                                                  Germany   \n",
       "Combined Fuel                                                        4.7   \n",
       "City Fuel                                                            5.1   \n",
       "Country Fuel                                                         4.4   \n",
       "\n",
       "                                                                   15912  \\\n",
       "Brand_Model                                               Renault Espace   \n",
       "short_description                  Blue dCi 200CV EDC Executive 4Control   \n",
       "body_type                                                            Van   \n",
       "price                                                              39950   \n",
       "vat                                                       VAT deductible   \n",
       "km                                                                    -    \n",
       "registration                                                         -/-   \n",
       "prev_owner                                                           NaN   \n",
       "hp                                                                  147    \n",
       "Type                                                                 New   \n",
       "Next Inspection                                                      NaN   \n",
       "Inspection new                                                       NaN   \n",
       "Brand                                                            Renault   \n",
       "Model                                                             Espace   \n",
       "Offer Number                                                    10988276   \n",
       "First Registration                                                   NaN   \n",
       "Body Color                                                         Black   \n",
       "Paint Type                                                      Metallic   \n",
       "Body Color Original                                                 Nero   \n",
       "Upholstery                                                           NaN   \n",
       "Nr. of Doors                                                           5   \n",
       "Nr. of Seats                                                           5   \n",
       "Model Code                                                           NaN   \n",
       "Gearing Type                                                   Automatic   \n",
       "Displacement(cc)                                                   1.997   \n",
       "Cylinders                                                              4   \n",
       "Weight(kg)                                                         1.758   \n",
       "Drive chain                                                        front   \n",
       "Fuel                                         Diesel (Particulate Filter)   \n",
       "CO2 Emission                                                         139   \n",
       "Emission Class                                                       NaN   \n",
       "Comfort & Convenience  'Air conditioning', 'Automatic climate control...   \n",
       "Entertainment & Media  'Bluetooth', 'Digital radio', 'Hands-free equi...   \n",
       "Extras                                    'Alloy wheels', 'Touch screen'   \n",
       "Safety & Security      'ABS', 'Central door lock', 'Central door lock...   \n",
       "description            'Vettura visionabile nella sede in Via Roma 14...   \n",
       "Emission Label                                                       NaN   \n",
       "Gears                                                                  6   \n",
       "Country version                                                      NaN   \n",
       "Combined Fuel                                                        5.3   \n",
       "City Fuel                                                            6.2   \n",
       "Country Fuel                                                         4.7   \n",
       "\n",
       "                                                                   15913  \\\n",
       "Brand_Model                                               Renault Espace   \n",
       "short_description                 INITIALE Paris TCe 225 EDC GPF ACC EU6   \n",
       "body_type                                                            Van   \n",
       "price                                                              39950   \n",
       "vat                                                       VAT deductible   \n",
       "km                                                                1.000    \n",
       "registration                                                     04/2019   \n",
       "prev_owner                                                           NaN   \n",
       "hp                                                                  165    \n",
       "Type                                                       Demonstration   \n",
       "Next Inspection                                                      NaN   \n",
       "Inspection new                                                       NaN   \n",
       "Brand                                                            Renault   \n",
       "Model                                                             Espace   \n",
       "Offer Number                                                      NW9766   \n",
       "First Registration                                                  2019   \n",
       "Body Color                                                         White   \n",
       "Paint Type                                                      Metallic   \n",
       "Body Color Original                                       perlmutt-weiss   \n",
       "Upholstery                                            Full leather,Brown   \n",
       "Nr. of Doors                                                           5   \n",
       "Nr. of Seats                                                           7   \n",
       "Model Code                                                           NaN   \n",
       "Gearing Type                                                   Automatic   \n",
       "Displacement(cc)                                                   1.798   \n",
       "Cylinders                                                              4   \n",
       "Weight(kg)                                                           NaN   \n",
       "Drive chain                                                        front   \n",
       "Fuel                                                              Super    \n",
       "CO2 Emission                                                         153   \n",
       "Emission Class                                                    Euro 6   \n",
       "Comfort & Convenience  'Air conditioning', 'Armrest', 'Automatic clim...   \n",
       "Entertainment & Media  'Bluetooth', 'Digital radio', 'Hands-free equi...   \n",
       "Extras                 'Alloy wheels', 'Catalytic Converter', 'Sport ...   \n",
       "Safety & Security      'ABS', 'Adaptive Cruise Control', 'Blind spot ...   \n",
       "description            'Fahrzeug-Nr.: NW9766.', 'Ausstattungslinie/ -...   \n",
       "Emission Label                                                     Green   \n",
       "Gears                                                                NaN   \n",
       "Country version                                                      NaN   \n",
       "Combined Fuel                                                        6.8   \n",
       "City Fuel                                                            8.7   \n",
       "Country Fuel                                                         5.7   \n",
       "\n",
       "                                                                   15914  \\\n",
       "Brand_Model                                               Renault Espace   \n",
       "short_description                  Blue dCi 200CV EDC Executive 4Control   \n",
       "body_type                                                            Van   \n",
       "price                                                              39950   \n",
       "vat                                                       VAT deductible   \n",
       "km                                                                    -    \n",
       "registration                                                         -/-   \n",
       "prev_owner                                                           NaN   \n",
       "hp                                                                  147    \n",
       "Type                                                                 New   \n",
       "Next Inspection                                                      NaN   \n",
       "Inspection new                                                       NaN   \n",
       "Brand                                                            Renault   \n",
       "Model                                                             Espace   \n",
       "Offer Number                                                    10988301   \n",
       "First Registration                                                   NaN   \n",
       "Body Color                                                          Grey   \n",
       "Paint Type                                                      Metallic   \n",
       "Body Color Original                                         Grigio scuro   \n",
       "Upholstery                                                           NaN   \n",
       "Nr. of Doors                                                           5   \n",
       "Nr. of Seats                                                           5   \n",
       "Model Code                                                           NaN   \n",
       "Gearing Type                                                   Automatic   \n",
       "Displacement(cc)                                                   1.997   \n",
       "Cylinders                                                              4   \n",
       "Weight(kg)                                                         1.758   \n",
       "Drive chain                                                        front   \n",
       "Fuel                                         Diesel (Particulate Filter)   \n",
       "CO2 Emission                                                         139   \n",
       "Emission Class                                                       NaN   \n",
       "Comfort & Convenience  'Air conditioning', 'Automatic climate control...   \n",
       "Entertainment & Media  'Bluetooth', 'Digital radio', 'Hands-free equi...   \n",
       "Extras                                    'Alloy wheels', 'Touch screen'   \n",
       "Safety & Security      'ABS', 'Central door lock', 'Central door lock...   \n",
       "description            'Vettura visionabile nella sede in Via Roma 14...   \n",
       "Emission Label                                                       NaN   \n",
       "Gears                                                                  6   \n",
       "Country version                                                      NaN   \n",
       "Combined Fuel                                                        5.3   \n",
       "City Fuel                                                            6.2   \n",
       "Country Fuel                                                         4.7   \n",
       "\n",
       "                                                                   15915  \\\n",
       "Brand_Model                                               Renault Espace   \n",
       "short_description                    TCe 225 EDC GPF LIM Deluxe Pano,RFK   \n",
       "body_type                                                            Van   \n",
       "price                                                              39885   \n",
       "vat                                                       VAT deductible   \n",
       "km                                                                9.900    \n",
       "registration                                                     01/2019   \n",
       "prev_owner                                                             1   \n",
       "hp                                                                  165    \n",
       "Type                                                                Used   \n",
       "Next Inspection                                                  01-2022   \n",
       "Inspection new                                                       NaN   \n",
       "Brand                                                            Renault   \n",
       "Model                                                             Espace   \n",
       "Offer Number                                                 507370_3223   \n",
       "First Registration                                                  2019   \n",
       "Body Color                                                          Grey   \n",
       "Paint Type                                                      Metallic   \n",
       "Body Color Original                                  Stahl-Grau Metallic   \n",
       "Upholstery                                                         Cloth   \n",
       "Nr. of Doors                                                           5   \n",
       "Nr. of Seats                                                           5   \n",
       "Model Code                                                      0000/000   \n",
       "Gearing Type                                                   Automatic   \n",
       "Displacement(cc)                                                   1.798   \n",
       "Cylinders                                                              4   \n",
       "Weight(kg)                                                         1.708   \n",
       "Drive chain                                                        front   \n",
       "Fuel                                                              Super    \n",
       "CO2 Emission                                                         168   \n",
       "Emission Class                                                       NaN   \n",
       "Comfort & Convenience  'Air conditioning', 'Automatic climate control...   \n",
       "Entertainment & Media  'Bluetooth', 'Digital radio', 'Hands-free equi...   \n",
       "Extras                   'Alloy wheels', 'Touch screen', 'Voice Control'   \n",
       "Safety & Security      'ABS', 'Adaptive Cruise Control', 'Blind spot ...   \n",
       "description            'Dach: Panorama-Glas-Schiebedach, Lackierung: ...   \n",
       "Emission Label                                                       NaN   \n",
       "Gears                                                                  7   \n",
       "Country version                                                  Germany   \n",
       "Combined Fuel                                                        7.4   \n",
       "City Fuel                                                            9.2   \n",
       "Country Fuel                                                         6.3   \n",
       "\n",
       "                                                                   15916  \\\n",
       "Brand_Model                                               Renault Espace   \n",
       "short_description      Blue dCi 200 EDC Initiale Paris Leder LED Navi...   \n",
       "body_type                                                            Van   \n",
       "price                                                              39875   \n",
       "vat                                                       VAT deductible   \n",
       "km                                                                   15    \n",
       "registration                                                     03/2019   \n",
       "prev_owner                                                             1   \n",
       "hp                                                                  146    \n",
       "Type                                                      Pre-registered   \n",
       "Next Inspection                                                      NaN   \n",
       "Inspection new                                                       Yes   \n",
       "Brand                                                            Renault   \n",
       "Model                                                             Espace   \n",
       "Offer Number                                                    Espace16   \n",
       "First Registration                                                  2019   \n",
       "Body Color                                                         White   \n",
       "Paint Type                                                           NaN   \n",
       "Body Color Original                                          arktis-weiß   \n",
       "Upholstery                                            Full leather,Black   \n",
       "Nr. of Doors                                                           5   \n",
       "Nr. of Seats                                                           7   \n",
       "Model Code                                                           NaN   \n",
       "Gearing Type                                                   Automatic   \n",
       "Displacement(cc)                                                   1.997   \n",
       "Cylinders                                                              4   \n",
       "Weight(kg)                                                           NaN   \n",
       "Drive chain                                                        front   \n",
       "Fuel                                                              Diesel   \n",
       "CO2 Emission                                                         139   \n",
       "Emission Class                                                    Euro 6   \n",
       "Comfort & Convenience  'Air conditioning', 'Armrest', 'Automatic clim...   \n",
       "Entertainment & Media  'Bluetooth', 'Hands-free equipment', 'On-board...   \n",
       "Extras                                                    'Alloy wheels'   \n",
       "Safety & Security      'ABS', 'Adaptive Cruise Control', 'Blind spot ...   \n",
       "description            '', 'Getriebe:', ' Automatik', 'Technik:', ' B...   \n",
       "Emission Label                                                       NaN   \n",
       "Gears                                                                  6   \n",
       "Country version                                                  Austria   \n",
       "Combined Fuel                                                        5.3   \n",
       "City Fuel                                                            6.2   \n",
       "Country Fuel                                                         4.7   \n",
       "\n",
       "                                                                   15917  \\\n",
       "Brand_Model                                               Renault Espace   \n",
       "short_description      Blue dCi 200CV EDC Business , NUOVA DA IMMATRI...   \n",
       "body_type                                                            Van   \n",
       "price                                                              39700   \n",
       "vat                                                       VAT deductible   \n",
       "km                                                                   10    \n",
       "registration                                                     06/2019   \n",
       "prev_owner                                                           NaN   \n",
       "hp                                                                  147    \n",
       "Type                                                      Pre-registered   \n",
       "Next Inspection                                                      NaN   \n",
       "Inspection new                                                       NaN   \n",
       "Brand                                                            Renault   \n",
       "Model                                                             Espace   \n",
       "Offer Number                                                     2691331   \n",
       "First Registration                                                  2019   \n",
       "Body Color                                                          Grey   \n",
       "Paint Type                                                           NaN   \n",
       "Body Color Original                                               Grigio   \n",
       "Upholstery                                                  Part leather   \n",
       "Nr. of Doors                                                           5   \n",
       "Nr. of Seats                                                           7   \n",
       "Model Code                                                           NaN   \n",
       "Gearing Type                                                   Automatic   \n",
       "Displacement(cc)                                                   1.997   \n",
       "Cylinders                                                              4   \n",
       "Weight(kg)                                                         1.758   \n",
       "Drive chain                                                        front   \n",
       "Fuel                                                              Diesel   \n",
       "CO2 Emission                                                         139   \n",
       "Emission Class                                                    Euro 6   \n",
       "Comfort & Convenience  'Air conditioning', 'Automatic climate control...   \n",
       "Entertainment & Media       'Bluetooth', 'Digital radio', 'Radio', 'USB'   \n",
       "Extras                                    'Alloy wheels', 'Touch screen'   \n",
       "Safety & Security      'ABS', 'Blind spot monitor', 'Driver-side airb...   \n",
       "description            'DEK:2691331', 'Renault Espace Blue dCi 200CV ...   \n",
       "Emission Label                                                       NaN   \n",
       "Gears                                                                  6   \n",
       "Country version                                                      NaN   \n",
       "Combined Fuel                                                        5.3   \n",
       "City Fuel                                                            6.2   \n",
       "Country Fuel                                                         4.7   \n",
       "\n",
       "                                                                   15918  \n",
       "Brand_Model                                               Renault Espace  \n",
       "short_description            INITIALE PARIS TCe 225 EDC GPF NAVI SHZ AUX  \n",
       "body_type                                                            Van  \n",
       "price                                                              40999  \n",
       "vat                                                       VAT deductible  \n",
       "km                                                                    -   \n",
       "registration                                                     01/2019  \n",
       "prev_owner                                                             1  \n",
       "hp                                                                  165   \n",
       "Type                                                       Demonstration  \n",
       "Next Inspection                                                      NaN  \n",
       "Inspection new                                                       Yes  \n",
       "Brand                                                            Renault  \n",
       "Model                                                             Espace  \n",
       "Offer Number                                              Re_30000008029  \n",
       "First Registration                                                  2019  \n",
       "Body Color                                                          Grey  \n",
       "Paint Type                                                      Metallic  \n",
       "Body Color Original                               Titanium-Grau Metallic  \n",
       "Upholstery                                            Full leather,Brown  \n",
       "Nr. of Doors                                                           5  \n",
       "Nr. of Seats                                                           5  \n",
       "Model Code                                                      3333/BHJ  \n",
       "Gearing Type                                                   Automatic  \n",
       "Displacement(cc)                                                   1.798  \n",
       "Cylinders                                                              4  \n",
       "Weight(kg)                                                         1.685  \n",
       "Drive chain                                                          4WD  \n",
       "Fuel                                                              Super   \n",
       "CO2 Emission                                                         153  \n",
       "Emission Class                                                    Euro 6  \n",
       "Comfort & Convenience  'Air conditioning', 'Automatic climate control...  \n",
       "Entertainment & Media                                              'USB'  \n",
       "Extras                                    'Alloy wheels', 'Touch screen'  \n",
       "Safety & Security      'ABS', 'Blind spot monitor', 'Daytime running ...  \n",
       "description            '', 'Sicherheit Airbags:', ' ', 'Seitenairbag'...  \n",
       "Emission Label                                                     Green  \n",
       "Gears                                                                NaN  \n",
       "Country version                                                  Germany  \n",
       "Combined Fuel                                                        6.8  \n",
       "City Fuel                                                            8.7  \n",
       "Country Fuel                                                         5.7  \n",
       "\n",
       "[42 rows x 15919 columns]"
      ]
     },
     "execution_count": 260,
     "metadata": {},
     "output_type": "execute_result"
    }
   ],
   "source": [
    "scout_car.T"
   ]
  },
  {
   "cell_type": "code",
   "execution_count": 261,
   "id": "4168fefa",
   "metadata": {},
   "outputs": [
    {
     "name": "stdout",
     "output_type": "stream",
     "text": [
      "<class 'pandas.core.frame.DataFrame'>\n",
      "RangeIndex: 15919 entries, 0 to 15918\n",
      "Data columns (total 42 columns):\n",
      " #   Column                 Non-Null Count  Dtype \n",
      "---  ------                 --------------  ----- \n",
      " 0   Brand_Model            15919 non-null  object\n",
      " 1   short_description      15873 non-null  object\n",
      " 2   body_type              15859 non-null  object\n",
      " 3   price                  15919 non-null  int64 \n",
      " 4   vat                    11406 non-null  object\n",
      " 5   km                     15919 non-null  object\n",
      " 6   registration           15919 non-null  object\n",
      " 7   prev_owner             9091 non-null   object\n",
      " 8   hp                     15919 non-null  object\n",
      " 9   Type                   15919 non-null  object\n",
      " 10  Next Inspection        3535 non-null   object\n",
      " 11  Inspection new         3932 non-null   object\n",
      " 12  Brand                  15919 non-null  object\n",
      " 13  Model                  15919 non-null  object\n",
      " 14  Offer Number           12744 non-null  object\n",
      " 15  First Registration     14322 non-null  object\n",
      " 16  Body Color             15322 non-null  object\n",
      " 17  Paint Type             10147 non-null  object\n",
      " 18  Body Color Original    12160 non-null  object\n",
      " 19  Upholstery             12199 non-null  object\n",
      " 20  Nr. of Doors           15707 non-null  object\n",
      " 21  Nr. of Seats           14942 non-null  object\n",
      " 22  Model Code             4978 non-null   object\n",
      " 23  Gearing Type           15919 non-null  object\n",
      " 24  Displacement(cc)       15423 non-null  object\n",
      " 25  Cylinders              10239 non-null  object\n",
      " 26  Weight(kg)             8945 non-null   object\n",
      " 27  Drive chain            9061 non-null   object\n",
      " 28  Fuel                   15919 non-null  object\n",
      " 29  CO2 Emission           13483 non-null  object\n",
      " 30  Emission Class         12898 non-null  object\n",
      " 31  Comfort & Convenience  14999 non-null  object\n",
      " 32  Entertainment & Media  14545 non-null  object\n",
      " 33  Extras                 12957 non-null  object\n",
      " 34  Safety & Security      14937 non-null  object\n",
      " 35  description            15919 non-null  object\n",
      " 36  Emission Label         3945 non-null   object\n",
      " 37  Gears                  11207 non-null  object\n",
      " 38  Country version        7586 non-null   object\n",
      " 39  Combined Fuel          14013 non-null  object\n",
      " 40  City Fuel              14013 non-null  object\n",
      " 41  Country Fuel           14013 non-null  object\n",
      "dtypes: int64(1), object(41)\n",
      "memory usage: 5.1+ MB\n"
     ]
    }
   ],
   "source": [
    "scout_car.info()"
   ]
  },
  {
   "cell_type": "code",
   "execution_count": 262,
   "id": "b44dd2ef",
   "metadata": {},
   "outputs": [
    {
     "data": {
      "text/plain": [
       "(15919, 42)"
      ]
     },
     "execution_count": 262,
     "metadata": {},
     "output_type": "execute_result"
    }
   ],
   "source": [
    "scout_car.shape"
   ]
  },
  {
   "cell_type": "code",
   "execution_count": null,
   "id": "7d478924",
   "metadata": {},
   "outputs": [],
   "source": []
  },
  {
   "cell_type": "code",
   "execution_count": null,
   "id": "b43af397",
   "metadata": {},
   "outputs": [],
   "source": []
  }
 ],
 "metadata": {
  "kernelspec": {
   "display_name": "Python 3 (ipykernel)",
   "language": "python",
   "name": "python3"
  },
  "language_info": {
   "codemirror_mode": {
    "name": "ipython",
    "version": 3
   },
   "file_extension": ".py",
   "mimetype": "text/x-python",
   "name": "python",
   "nbconvert_exporter": "python",
   "pygments_lexer": "ipython3",
   "version": "3.9.12"
  }
 },
 "nbformat": 4,
 "nbformat_minor": 5
}
